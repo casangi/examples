{
  "nbformat": 4,
  "nbformat_minor": 0,
  "metadata": {
    "colab": {
      "name": "CNGI_overview.ipynb",
      "provenance": [],
      "collapsed_sections": []
    },
    "kernelspec": {
      "name": "python3",
      "display_name": "Python 3"
    }
  },
  "cells": [
    {
      "cell_type": "markdown",
      "metadata": {
        "id": "xr_RX4CA876u",
        "colab_type": "text"
      },
      "source": [
        "# Installation\n",
        "CNGI documentation is located here:\n",
        "[https://cngi-prototype.readthedocs.io/en/latest/index.html](https://cngi-prototype.readthedocs.io/en/latest/index.html)\n",
        "\n",
        "Google Colab requires specific older versions of some packages such as Pandas and Dask, so we will install CNGI without its normal dependencies and then manually install each dependency afterwards.\n",
        "\n",
        "Normally, you would want to leave out the --no-dependencies option"
      ]
    },
    {
      "cell_type": "code",
      "metadata": {
        "id": "IIr5sp0VgR2m",
        "colab_type": "code",
        "outputId": "7243ad8c-7877-452c-c6ca-3b595c3efdda",
        "colab": {
          "base_uri": "https://localhost:8080/",
          "height": 68
        }
      },
      "source": [
        "import os\n",
        "\n",
        "print(\"installing cngi (takes a few minutes)...\")\n",
        "os.system(\"apt-get install libgfortran3\")\n",
        "os.system(\"pip install --extra-index-url https://casa-pip.nrao.edu/repository/pypi-group/simple casatools\")\n",
        "os.system(\"pip install cngi-prototype==0.0.9 --no-dependencies\")\n",
        "os.system(\"pip install --upgrade dask\")\n",
        "os.system(\"pip install --upgrade xarray\")\n",
        "os.system(\"pip install --upgrade zarr\")\n",
        "\n",
        "print(\"downloading MeasurementSet from CASAguide First Look at Imaging...\")\n",
        "os.system(\"wget https://bulk.cv.nrao.edu/almadata/public/working/sis14_twhya_calibrated_flagged.ms.tar\")\n",
        "os.system(\"tar -xvf sis14_twhya_calibrated_flagged.ms.tar\")\n",
        "\n",
        "print('complete')"
      ],
      "execution_count": 1,
      "outputs": [
        {
          "output_type": "stream",
          "text": [
            "installing cngi (takes a few minutes)...\n",
            "downloading MeasurementSet from CASAguide First Look at Imaging...\n",
            "complete\n"
          ],
          "name": "stdout"
        }
      ]
    },
    {
      "cell_type": "markdown",
      "metadata": {
        "id": "1GEO-8JoUqbr",
        "colab_type": "text"
      },
      "source": [
        "# Initialize the Processing Environment\n",
        "This is a bit limited with Colab, and the bokeh dashboard doesn't work"
      ]
    },
    {
      "cell_type": "code",
      "metadata": {
        "id": "dQxr3E24L-4d",
        "colab_type": "code",
        "outputId": "c2ae7475-a3b3-477e-a138-578bf4b2cc6b",
        "colab": {
          "base_uri": "https://localhost:8080/",
          "height": 262
        }
      },
      "source": [
        "from cngi.direct import InitializeFramework\n",
        "client = InitializeFramework(2,'6GB',False)\n",
        "client"
      ],
      "execution_count": 2,
      "outputs": [
        {
          "output_type": "stream",
          "text": [
            "/usr/local/lib/python3.6/dist-packages/distributed/bokeh/core.py:57: UserWarning: \n",
            "Failed to start diagnostics server on port 8787. [Errno 99] Cannot assign requested address\n",
            "  warnings.warn('\\n' + msg)\n",
            "/usr/local/lib/python3.6/dist-packages/distributed/deploy/local.py:197: UserWarning: \n",
            "Could not launch service 'bokeh' on port 8787. Got the following message:\n",
            "\n",
            "[Errno 99] Cannot assign requested address\n",
            "  self.scheduler.start(scheduler_address)\n"
          ],
          "name": "stderr"
        },
        {
          "output_type": "execute_result",
          "data": {
            "text/html": [
              "<table style=\"border: 2px solid white;\">\n",
              "<tr>\n",
              "<td style=\"vertical-align: top; border: 0px solid white\">\n",
              "<h3>Client</h3>\n",
              "<ul>\n",
              "  <li><b>Scheduler: </b>inproc://172.28.0.2/125/1\n",
              "</ul>\n",
              "</td>\n",
              "<td style=\"vertical-align: top; border: 0px solid white\">\n",
              "<h3>Cluster</h3>\n",
              "<ul>\n",
              "  <li><b>Workers: </b>2</li>\n",
              "  <li><b>Cores: </b>2</li>\n",
              "  <li><b>Memory: </b>12.00 GB</li>\n",
              "</ul>\n",
              "</td>\n",
              "</tr>\n",
              "</table>"
            ],
            "text/plain": [
              "<Client: scheduler='inproc://172.28.0.2/125/1' processes=2 cores=2>"
            ]
          },
          "metadata": {
            "tags": []
          },
          "execution_count": 2
        }
      ]
    },
    {
      "cell_type": "markdown",
      "metadata": {
        "id": "WxuECb4D8su0",
        "colab_type": "text"
      },
      "source": [
        "# Convert an MS to xarray zarr\n",
        "Takes some time\n"
      ]
    },
    {
      "cell_type": "code",
      "metadata": {
        "id": "S0B_KBb09ORJ",
        "colab_type": "code",
        "outputId": "f4bbfc48-de59-44d0-9bf1-3b7b5c3cc75c",
        "colab": {
          "base_uri": "https://localhost:8080/",
          "height": 68
        }
      },
      "source": [
        "from cngi.conversion import ms_to_zarr\n",
        "\n",
        "ms_to_zarr('sis14_twhya_calibrated_flagged.ms')"
      ],
      "execution_count": 5,
      "outputs": [
        {
          "output_type": "stream",
          "text": [
            "processing ddi 0: chunks=1, size=53717\n",
            "completed ddi 0\n",
            "Complete.\n"
          ],
          "name": "stdout"
        }
      ]
    },
    {
      "cell_type": "markdown",
      "metadata": {
        "id": "edNHuvlX7OnU",
        "colab_type": "text"
      },
      "source": [
        "# Open an xarray zarr based MS\n",
        "\n",
        "(todo) Retrieve a summary of the xarray zarr MS file. \n",
        "\n",
        "Then create a new xarray Dataset from it.\n",
        "\n",
        "This Dataset is the common data structure passed around to most other CNGI functions."
      ]
    },
    {
      "cell_type": "code",
      "metadata": {
        "id": "R6KsW1NvgsQs",
        "colab_type": "code",
        "outputId": "738dd294-906b-4ac0-bf32-b33c0b687248",
        "colab": {
          "base_uri": "https://localhost:8080/",
          "height": 493
        }
      },
      "source": [
        "from cngi.ms import summarizeFile\n",
        "from cngi.dio import read_zarr\n",
        "\n",
        "# returns summary as a pandas dataframe\n",
        "#mssummary = summarizeFile('sis14_twhya_calibrated_flagged.pq')\n",
        "#print(mssummary[['ddi','row_count_estimate','col_count','size_GB']])\n",
        "\n",
        "# there is only one ddi in the MS, but pretend there are more and one is chosen\n",
        "ddi = 0 #mssummary.ddi.values[0]\n",
        "\n",
        "# here we create the dask dataframe for use in other CNGI functions\n",
        "xds = read_zarr('sis14_twhya_calibrated_flagged.zarr',ddi=ddi)\n",
        "\n",
        "# examine the start of the dataframe \n",
        "# note that the column selection should be made in to a convenience function\n",
        "#cols = [col for col in ddf.columns.values if col not in list(ddf.columns.values[ddf.columns.str.match('(FLAG\\d)|(R|IDATA\\d)')])]\n",
        "#ddf[cols].head()\n",
        "xds"
      ],
      "execution_count": 7,
      "outputs": [
        {
          "output_type": "execute_result",
          "data": {
            "text/plain": [
              "<xarray.Dataset>\n",
              "Dimensions:         (chans: 384, pols: 2, rows: 80563, uvw: 3)\n",
              "Coordinates:\n",
              "    ANTENNA1        (rows) int32 dask.array<chunksize=(53717,), meta=np.ndarray>\n",
              "    ANTENNA2        (rows) int32 dask.array<chunksize=(53717,), meta=np.ndarray>\n",
              "    ARRAY_ID        (rows) int32 dask.array<chunksize=(53717,), meta=np.ndarray>\n",
              "    EXPOSURE        (rows) float64 dask.array<chunksize=(53717,), meta=np.ndarray>\n",
              "    FEED1           (rows) int32 dask.array<chunksize=(53717,), meta=np.ndarray>\n",
              "    FEED2           (rows) int32 dask.array<chunksize=(53717,), meta=np.ndarray>\n",
              "    FIELD_ID        (rows) int32 dask.array<chunksize=(53717,), meta=np.ndarray>\n",
              "    FLAG_ROW        (rows) int64 dask.array<chunksize=(53717,), meta=np.ndarray>\n",
              "    INTERVAL        (rows) float64 dask.array<chunksize=(53717,), meta=np.ndarray>\n",
              "    OBSERVATION_ID  (rows) int32 dask.array<chunksize=(53717,), meta=np.ndarray>\n",
              "    PROCESSOR_ID    (rows) int32 dask.array<chunksize=(53717,), meta=np.ndarray>\n",
              "    SCAN_NUMBER     (rows) int32 dask.array<chunksize=(53717,), meta=np.ndarray>\n",
              "    STATE_ID        (rows) int32 dask.array<chunksize=(53717,), meta=np.ndarray>\n",
              "    TIME            (rows) float64 dask.array<chunksize=(53717,), meta=np.ndarray>\n",
              "    TIME_CENTROID   (rows) float64 dask.array<chunksize=(53717,), meta=np.ndarray>\n",
              "  * chans           (chans) int64 0 1 2 3 4 5 6 ... 377 378 379 380 381 382 383\n",
              "  * pols            (pols) int64 0 1\n",
              "  * rows            (rows) int64 0 1 2 3 4 5 ... 80558 80559 80560 80561 80562\n",
              "  * uvw             (uvw) int64 0 1 2\n",
              "Data variables:\n",
              "    DATA            (rows, chans, pols) complex128 dask.array<chunksize=(53717, 384, 2), meta=np.ndarray>\n",
              "    FLAG            (rows, chans, pols) int64 dask.array<chunksize=(53717, 384, 2), meta=np.ndarray>\n",
              "    SIGMA           (rows, pols) float64 dask.array<chunksize=(53717, 2), meta=np.ndarray>\n",
              "    UVW             (rows, uvw) float64 dask.array<chunksize=(53717, 3), meta=np.ndarray>\n",
              "    WEIGHT          (rows, pols) float64 dask.array<chunksize=(53717, 2), meta=np.ndarray>"
            ]
          },
          "metadata": {
            "tags": []
          },
          "execution_count": 7
        }
      ]
    },
    {
      "cell_type": "code",
      "metadata": {
        "id": "2Q_4VAisyEPt",
        "colab_type": "code",
        "colab": {}
      },
      "source": [
        ""
      ],
      "execution_count": 0,
      "outputs": []
    }
  ]
}