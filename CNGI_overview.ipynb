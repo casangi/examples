{
  "nbformat": 4,
  "nbformat_minor": 0,
  "metadata": {
    "colab": {
      "name": "CNGI_overview.ipynb",
      "provenance": [],
      "collapsed_sections": []
    },
    "kernelspec": {
      "name": "python3",
      "display_name": "Python 3"
    }
  },
  "cells": [
    {
      "cell_type": "markdown",
      "metadata": {
        "id": "xr_RX4CA876u",
        "colab_type": "text"
      },
      "source": [
        "# Installation\n",
        "CNGI documentation is located here:\n",
        "[https://cngi-prototype.readthedocs.io/en/latest/index.html](https://cngi-prototype.readthedocs.io/en/latest/index.html)\n",
        "\n",
        "Google Colab requires specific older versions of some packages such as Pandas and Dask, so we will install CNGI without its normal dependencies and then manually install each dependency afterwards.\n",
        "\n",
        "Normally, you would want to leave out the --no-dependencies option"
      ]
    },
    {
      "cell_type": "code",
      "metadata": {
        "id": "IIr5sp0VgR2m",
        "colab_type": "code",
        "outputId": "df206f67-3f1e-47ed-8e63-8cb3aef38e16",
        "colab": {
          "base_uri": "https://localhost:8080/",
          "height": 68
        }
      },
      "source": [
        "import os\n",
        "\n",
        "print(\"installing cngi (takes a few minutes)...\")\n",
        "os.system(\"apt-get install libgfortran3\")\n",
        "os.system(\"pip install --extra-index-url https://casa-pip.nrao.edu/repository/pypi-group/simple casatools\")\n",
        "os.system(\"pip install cngi-prototype==0.0.5 --no-dependencies\")\n",
        "os.system(\"pip install --upgrade dask\")\n",
        "\n",
        "print(\"downloading MeasurementSet from CASAguide First Look at Imaging...\")\n",
        "os.system(\"wget https://bulk.cv.nrao.edu/almadata/public/working/sis14_twhya_calibrated_flagged.ms.tar\")\n",
        "os.system(\"tar -xvf sis14_twhya_calibrated_flagged.ms.tar\")\n",
        "\n",
        "print('complete')"
      ],
      "execution_count": 0,
      "outputs": [
        {
          "output_type": "stream",
          "text": [
            "installing cngi (takes a few minutes)...\n",
            "downloading MeasurementSet from CASAguide First Look at Imaging...\n",
            "complete\n"
          ],
          "name": "stdout"
        }
      ]
    },
    {
      "cell_type": "markdown",
      "metadata": {
        "id": "1GEO-8JoUqbr",
        "colab_type": "text"
      },
      "source": [
        "# Initialize the Processing Environment\n",
        "This is a bit limited with Colab, and the bokeh dashboard doesn't work"
      ]
    },
    {
      "cell_type": "code",
      "metadata": {
        "id": "dQxr3E24L-4d",
        "colab_type": "code",
        "outputId": "55e1f367-6f75-40c5-94aa-ef121d1e8e65",
        "colab": {
          "base_uri": "https://localhost:8080/",
          "height": 262
        }
      },
      "source": [
        "from cngi.direct import InitializeFramework\n",
        "client = InitializeFramework(2,'6GB',False)\n",
        "client"
      ],
      "execution_count": 0,
      "outputs": [
        {
          "output_type": "stream",
          "text": [
            "/usr/local/lib/python3.6/dist-packages/distributed/bokeh/core.py:57: UserWarning: \n",
            "Failed to start diagnostics server on port 8787. [Errno 99] Cannot assign requested address\n",
            "  warnings.warn('\\n' + msg)\n",
            "/usr/local/lib/python3.6/dist-packages/distributed/deploy/local.py:197: UserWarning: \n",
            "Could not launch service 'bokeh' on port 8787. Got the following message:\n",
            "\n",
            "[Errno 99] Cannot assign requested address\n",
            "  self.scheduler.start(scheduler_address)\n"
          ],
          "name": "stderr"
        },
        {
          "output_type": "execute_result",
          "data": {
            "text/html": [
              "<table style=\"border: 2px solid white;\">\n",
              "<tr>\n",
              "<td style=\"vertical-align: top; border: 0px solid white\">\n",
              "<h3>Client</h3>\n",
              "<ul>\n",
              "  <li><b>Scheduler: </b>inproc://172.28.0.2/120/1\n",
              "</ul>\n",
              "</td>\n",
              "<td style=\"vertical-align: top; border: 0px solid white\">\n",
              "<h3>Cluster</h3>\n",
              "<ul>\n",
              "  <li><b>Workers: </b>2</li>\n",
              "  <li><b>Cores: </b>2</li>\n",
              "  <li><b>Memory: </b>12.00 GB</li>\n",
              "</ul>\n",
              "</td>\n",
              "</tr>\n",
              "</table>"
            ],
            "text/plain": [
              "<Client: scheduler='inproc://172.28.0.2/120/1' processes=2 cores=2>"
            ]
          },
          "metadata": {
            "tags": []
          },
          "execution_count": 2
        }
      ]
    },
    {
      "cell_type": "markdown",
      "metadata": {
        "id": "WxuECb4D8su0",
        "colab_type": "text"
      },
      "source": [
        "# Convert an MS to Apache Parquet\n",
        "Takes some time\n"
      ]
    },
    {
      "cell_type": "code",
      "metadata": {
        "id": "S0B_KBb09ORJ",
        "colab_type": "code",
        "outputId": "b9e8f7c5-0aab-4641-c74d-3cd316e843d3",
        "colab": {
          "base_uri": "https://localhost:8080/",
          "height": 68
        }
      },
      "source": [
        "from cngi.conversion import ms_to_pq\n",
        "\n",
        "ms_to_pq('sis14_twhya_calibrated_flagged.ms')"
      ],
      "execution_count": 0,
      "outputs": [
        {
          "output_type": "stream",
          "text": [
            "processing ddi 0: chunks=0, size=214868\n",
            "completed ddi 0\n",
            "Complete.\n"
          ],
          "name": "stdout"
        }
      ]
    },
    {
      "cell_type": "markdown",
      "metadata": {
        "id": "edNHuvlX7OnU",
        "colab_type": "text"
      },
      "source": [
        "# Open an Apache Parquet based MS"
      ]
    },
    {
      "cell_type": "code",
      "metadata": {
        "id": "R6KsW1NvgsQs",
        "colab_type": "code",
        "colab": {}
      },
      "source": [
        "from cngi.dio import read_pq\n",
        "\n",
        "ddf = read_pq('sis14_twhya_calibrated_flagged.pq',ddi=0)\n",
        "cols = [col for col in ddf.columns.values if col not in list(ddf.columns.values[ddf.columns.str.match('(FLAG\\d)|(R|IDATA\\d)')])]\n",
        "ddf[cols].head()"
      ],
      "execution_count": 0,
      "outputs": []
    }
  ]
}