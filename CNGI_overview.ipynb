{
  "nbformat": 4,
  "nbformat_minor": 0,
  "metadata": {
    "colab": {
      "name": "CNGI_overview.ipynb",
      "provenance": [],
      "collapsed_sections": []
    },
    "kernelspec": {
      "name": "python3",
      "display_name": "Python 3"
    }
  },
  "cells": [
    {
      "cell_type": "markdown",
      "metadata": {
        "id": "xr_RX4CA876u",
        "colab_type": "text"
      },
      "source": [
        "# Installation\n",
        "CNGI documentation is located here:\n",
        "[https://cngi-prototype.readthedocs.io/en/latest/index.html](https://cngi-prototype.readthedocs.io/en/latest/index.html)\n",
        "\n",
        "Google Colab requires specific older versions of some packages such as Pandas and Dask, so we will install CNGI without its normal dependencies and then manually install each dependency afterwards.\n",
        "\n",
        "Normally, you would want to leave out the --no-dependencies option"
      ]
    },
    {
      "cell_type": "code",
      "metadata": {
        "id": "IIr5sp0VgR2m",
        "colab_type": "code",
        "outputId": "4f552bb8-00a5-4589-8347-e35dff981f7b",
        "colab": {
          "base_uri": "https://localhost:8080/",
          "height": 68
        }
      },
      "source": [
        "import os\n",
        "\n",
        "print(\"installing cngi (takes a few minutes)...\")\n",
        "os.system(\"apt-get install libgfortran3\")\n",
        "os.system(\"pip install --extra-index-url https://casa-pip.nrao.edu/repository/pypi-group/simple casatools\")\n",
        "os.system(\"pip install cngi-prototype==0.0.6 --no-dependencies\")\n",
        "os.system(\"pip install --upgrade dask\")\n",
        "\n",
        "print(\"downloading MeasurementSet from CASAguide First Look at Imaging...\")\n",
        "os.system(\"wget https://bulk.cv.nrao.edu/almadata/public/working/sis14_twhya_calibrated_flagged.ms.tar\")\n",
        "os.system(\"tar -xvf sis14_twhya_calibrated_flagged.ms.tar\")\n",
        "\n",
        "print('complete')"
      ],
      "execution_count": 1,
      "outputs": [
        {
          "output_type": "stream",
          "text": [
            "installing cngi (takes a few minutes)...\n",
            "downloading MeasurementSet from CASAguide First Look at Imaging...\n",
            "complete\n"
          ],
          "name": "stdout"
        }
      ]
    },
    {
      "cell_type": "markdown",
      "metadata": {
        "id": "1GEO-8JoUqbr",
        "colab_type": "text"
      },
      "source": [
        "# Initialize the Processing Environment\n",
        "This is a bit limited with Colab, and the bokeh dashboard doesn't work"
      ]
    },
    {
      "cell_type": "code",
      "metadata": {
        "id": "dQxr3E24L-4d",
        "colab_type": "code",
        "outputId": "593167a9-643c-4870-9a49-c33bc370783a",
        "colab": {
          "base_uri": "https://localhost:8080/",
          "height": 262
        }
      },
      "source": [
        "from cngi.direct import InitializeFramework\n",
        "client = InitializeFramework(2,'6GB',False)\n",
        "client"
      ],
      "execution_count": 2,
      "outputs": [
        {
          "output_type": "stream",
          "text": [
            "/usr/local/lib/python3.6/dist-packages/distributed/bokeh/core.py:57: UserWarning: \n",
            "Failed to start diagnostics server on port 8787. [Errno 99] Cannot assign requested address\n",
            "  warnings.warn('\\n' + msg)\n",
            "/usr/local/lib/python3.6/dist-packages/distributed/deploy/local.py:197: UserWarning: \n",
            "Could not launch service 'bokeh' on port 8787. Got the following message:\n",
            "\n",
            "[Errno 99] Cannot assign requested address\n",
            "  self.scheduler.start(scheduler_address)\n"
          ],
          "name": "stderr"
        },
        {
          "output_type": "execute_result",
          "data": {
            "text/html": [
              "<table style=\"border: 2px solid white;\">\n",
              "<tr>\n",
              "<td style=\"vertical-align: top; border: 0px solid white\">\n",
              "<h3>Client</h3>\n",
              "<ul>\n",
              "  <li><b>Scheduler: </b>inproc://172.28.0.2/126/1\n",
              "</ul>\n",
              "</td>\n",
              "<td style=\"vertical-align: top; border: 0px solid white\">\n",
              "<h3>Cluster</h3>\n",
              "<ul>\n",
              "  <li><b>Workers: </b>2</li>\n",
              "  <li><b>Cores: </b>2</li>\n",
              "  <li><b>Memory: </b>12.00 GB</li>\n",
              "</ul>\n",
              "</td>\n",
              "</tr>\n",
              "</table>"
            ],
            "text/plain": [
              "<Client: scheduler='inproc://172.28.0.2/126/1' processes=2 cores=2>"
            ]
          },
          "metadata": {
            "tags": []
          },
          "execution_count": 2
        }
      ]
    },
    {
      "cell_type": "markdown",
      "metadata": {
        "id": "WxuECb4D8su0",
        "colab_type": "text"
      },
      "source": [
        "# Convert an MS to Apache Parquet\n",
        "Takes some time\n"
      ]
    },
    {
      "cell_type": "code",
      "metadata": {
        "id": "S0B_KBb09ORJ",
        "colab_type": "code",
        "outputId": "fea8643d-86d9-4cba-8228-6d1970fde04b",
        "colab": {
          "base_uri": "https://localhost:8080/",
          "height": 68
        }
      },
      "source": [
        "from cngi.conversion import ms_to_pq\n",
        "\n",
        "ms_to_pq('sis14_twhya_calibrated_flagged.ms')"
      ],
      "execution_count": 3,
      "outputs": [
        {
          "output_type": "stream",
          "text": [
            "processing ddi 0: chunks=0, size=214868\n",
            "completed ddi 0\n",
            "Complete.\n"
          ],
          "name": "stdout"
        }
      ]
    },
    {
      "cell_type": "markdown",
      "metadata": {
        "id": "edNHuvlX7OnU",
        "colab_type": "text"
      },
      "source": [
        "# Open an Apache Parquet based MS\n",
        "\n",
        "Retrieve a summary of the Apache Parquet MS file. \n",
        "\n",
        "Then create a new Dataframe from it.\n",
        "\n",
        "This Dataframe is the common data structure passed around to most other CNGI functions."
      ]
    },
    {
      "cell_type": "code",
      "metadata": {
        "id": "R6KsW1NvgsQs",
        "colab_type": "code",
        "colab": {
          "base_uri": "https://localhost:8080/",
          "height": 258
        },
        "outputId": "851f41df-f234-4a8a-e33a-726396b05cd0"
      },
      "source": [
        "from cngi.ms import summarizeFile\n",
        "from cngi.dio import read_pq\n",
        "\n",
        "# returns summary as a pandas dataframe\n",
        "mssummary = summarizeFile('sis14_twhya_calibrated_flagged.pq')\n",
        "print(mssummary[['ddi','row_count_estimate','col_count','size_GB']])\n",
        "\n",
        "# there is only one ddi in the MS, but pretend there are more and one is chosen\n",
        "ddi = mssummary.ddi.values[0]\n",
        "\n",
        "# here we create the dask dataframe for use in other CNGI functions\n",
        "ddf = read_pq('sis14_twhya_calibrated_flagged.pq',ddi=ddi)\n",
        "\n",
        "# examine the start of the dataframe \n",
        "# note that the column selection should be made in to a convenience function\n",
        "cols = [col for col in ddf.columns.values if col not in list(ddf.columns.values[ddf.columns.str.match('(FLAG\\d)|(R|IDATA\\d)')])]\n",
        "ddf[cols].head()"
      ],
      "execution_count": 16,
      "outputs": [
        {
          "output_type": "stream",
          "text": [
            "   ddi  row_count_estimate  col_count  size_GB\n",
            "0    0               80563       2327     0.96\n"
          ],
          "name": "stdout"
        },
        {
          "output_type": "execute_result",
          "data": {
            "text/html": [
              "<div>\n",
              "<style scoped>\n",
              "    .dataframe tbody tr th:only-of-type {\n",
              "        vertical-align: middle;\n",
              "    }\n",
              "\n",
              "    .dataframe tbody tr th {\n",
              "        vertical-align: top;\n",
              "    }\n",
              "\n",
              "    .dataframe thead th {\n",
              "        text-align: right;\n",
              "    }\n",
              "</style>\n",
              "<table border=\"1\" class=\"dataframe\">\n",
              "  <thead>\n",
              "    <tr style=\"text-align: right;\">\n",
              "      <th></th>\n",
              "      <th>UVW0</th>\n",
              "      <th>UVW1</th>\n",
              "      <th>UVW2</th>\n",
              "      <th>WEIGHT0</th>\n",
              "      <th>WEIGHT1</th>\n",
              "      <th>SIGMA0</th>\n",
              "      <th>SIGMA1</th>\n",
              "      <th>ANTENNA1</th>\n",
              "      <th>ANTENNA2</th>\n",
              "      <th>ARRAY_ID</th>\n",
              "      <th>DATA_DESC_ID</th>\n",
              "      <th>EXPOSURE</th>\n",
              "      <th>FEED1</th>\n",
              "      <th>FEED2</th>\n",
              "      <th>FIELD_ID</th>\n",
              "      <th>FLAG_ROW</th>\n",
              "      <th>INTERVAL</th>\n",
              "      <th>OBSERVATION_ID</th>\n",
              "      <th>PROCESSOR_ID</th>\n",
              "      <th>SCAN_NUMBER</th>\n",
              "      <th>STATE_ID</th>\n",
              "      <th>TIME</th>\n",
              "      <th>TIME_CENTROID</th>\n",
              "    </tr>\n",
              "  </thead>\n",
              "  <tbody>\n",
              "    <tr>\n",
              "      <th>0</th>\n",
              "      <td>95.583330</td>\n",
              "      <td>-138.672313</td>\n",
              "      <td>-13.694759</td>\n",
              "      <td>20.415682</td>\n",
              "      <td>26.796448</td>\n",
              "      <td>0.221319</td>\n",
              "      <td>0.193180</td>\n",
              "      <td>1</td>\n",
              "      <td>2</td>\n",
              "      <td>0</td>\n",
              "      <td>0</td>\n",
              "      <td>6.048</td>\n",
              "      <td>0</td>\n",
              "      <td>0</td>\n",
              "      <td>0</td>\n",
              "      <td>False</td>\n",
              "      <td>6.048</td>\n",
              "      <td>0</td>\n",
              "      <td>2</td>\n",
              "      <td>4</td>\n",
              "      <td>0</td>\n",
              "      <td>4.860027e+09</td>\n",
              "      <td>4.860027e+09</td>\n",
              "    </tr>\n",
              "    <tr>\n",
              "      <th>1</th>\n",
              "      <td>-111.767122</td>\n",
              "      <td>28.948793</td>\n",
              "      <td>42.888321</td>\n",
              "      <td>19.593037</td>\n",
              "      <td>33.047886</td>\n",
              "      <td>0.225917</td>\n",
              "      <td>0.173951</td>\n",
              "      <td>1</td>\n",
              "      <td>3</td>\n",
              "      <td>0</td>\n",
              "      <td>0</td>\n",
              "      <td>6.048</td>\n",
              "      <td>0</td>\n",
              "      <td>0</td>\n",
              "      <td>0</td>\n",
              "      <td>False</td>\n",
              "      <td>6.048</td>\n",
              "      <td>0</td>\n",
              "      <td>2</td>\n",
              "      <td>4</td>\n",
              "      <td>0</td>\n",
              "      <td>4.860027e+09</td>\n",
              "      <td>4.860027e+09</td>\n",
              "    </tr>\n",
              "    <tr>\n",
              "      <th>2</th>\n",
              "      <td>-100.502448</td>\n",
              "      <td>-38.534069</td>\n",
              "      <td>51.759413</td>\n",
              "      <td>22.515686</td>\n",
              "      <td>32.499786</td>\n",
              "      <td>0.210745</td>\n",
              "      <td>0.175412</td>\n",
              "      <td>1</td>\n",
              "      <td>4</td>\n",
              "      <td>0</td>\n",
              "      <td>0</td>\n",
              "      <td>6.048</td>\n",
              "      <td>0</td>\n",
              "      <td>0</td>\n",
              "      <td>0</td>\n",
              "      <td>False</td>\n",
              "      <td>6.048</td>\n",
              "      <td>0</td>\n",
              "      <td>2</td>\n",
              "      <td>4</td>\n",
              "      <td>0</td>\n",
              "      <td>4.860027e+09</td>\n",
              "      <td>4.860027e+09</td>\n",
              "    </tr>\n",
              "    <tr>\n",
              "      <th>3</th>\n",
              "      <td>19.341554</td>\n",
              "      <td>-7.336952</td>\n",
              "      <td>-6.608505</td>\n",
              "      <td>24.278385</td>\n",
              "      <td>34.531357</td>\n",
              "      <td>0.202950</td>\n",
              "      <td>0.170174</td>\n",
              "      <td>1</td>\n",
              "      <td>5</td>\n",
              "      <td>0</td>\n",
              "      <td>0</td>\n",
              "      <td>6.048</td>\n",
              "      <td>0</td>\n",
              "      <td>0</td>\n",
              "      <td>0</td>\n",
              "      <td>False</td>\n",
              "      <td>6.048</td>\n",
              "      <td>0</td>\n",
              "      <td>2</td>\n",
              "      <td>4</td>\n",
              "      <td>0</td>\n",
              "      <td>4.860027e+09</td>\n",
              "      <td>4.860027e+09</td>\n",
              "    </tr>\n",
              "    <tr>\n",
              "      <th>4</th>\n",
              "      <td>33.538773</td>\n",
              "      <td>-117.010647</td>\n",
              "      <td>9.465506</td>\n",
              "      <td>23.798300</td>\n",
              "      <td>32.714806</td>\n",
              "      <td>0.204987</td>\n",
              "      <td>0.174835</td>\n",
              "      <td>1</td>\n",
              "      <td>6</td>\n",
              "      <td>0</td>\n",
              "      <td>0</td>\n",
              "      <td>6.048</td>\n",
              "      <td>0</td>\n",
              "      <td>0</td>\n",
              "      <td>0</td>\n",
              "      <td>False</td>\n",
              "      <td>6.048</td>\n",
              "      <td>0</td>\n",
              "      <td>2</td>\n",
              "      <td>4</td>\n",
              "      <td>0</td>\n",
              "      <td>4.860027e+09</td>\n",
              "      <td>4.860027e+09</td>\n",
              "    </tr>\n",
              "  </tbody>\n",
              "</table>\n",
              "</div>"
            ],
            "text/plain": [
              "         UVW0        UVW1       UVW2  ...  STATE_ID          TIME  TIME_CENTROID\n",
              "0   95.583330 -138.672313 -13.694759  ...         0  4.860027e+09   4.860027e+09\n",
              "1 -111.767122   28.948793  42.888321  ...         0  4.860027e+09   4.860027e+09\n",
              "2 -100.502448  -38.534069  51.759413  ...         0  4.860027e+09   4.860027e+09\n",
              "3   19.341554   -7.336952  -6.608505  ...         0  4.860027e+09   4.860027e+09\n",
              "4   33.538773 -117.010647   9.465506  ...         0  4.860027e+09   4.860027e+09\n",
              "\n",
              "[5 rows x 23 columns]"
            ]
          },
          "metadata": {
            "tags": []
          },
          "execution_count": 16
        }
      ]
    }
  ]
}