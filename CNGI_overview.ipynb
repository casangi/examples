{
  "nbformat": 4,
  "nbformat_minor": 0,
  "metadata": {
    "colab": {
      "name": "CNGI_overview.ipynb",
      "provenance": [],
      "collapsed_sections": []
    },
    "kernelspec": {
      "name": "python3",
      "display_name": "Python 3"
    }
  },
  "cells": [
    {
      "cell_type": "markdown",
      "metadata": {
        "id": "xr_RX4CA876u",
        "colab_type": "text"
      },
      "source": [
        "# Installation\n",
        "CNGI documentation is located here:\n",
        "[https://cngi-prototype.readthedocs.io/en/latest/index.html](https://cngi-prototype.readthedocs.io/en/latest/index.html)\n",
        "\n",
        "Google Colab requires specific older versions of some packages such as Pandas and Dask, so we will install CNGI without its normal dependencies and then manually install each dependency afterwards.\n",
        "\n",
        "Normally, you would want to leave out the --no-dependencies option"
      ]
    },
    {
      "cell_type": "code",
      "metadata": {
        "id": "IIr5sp0VgR2m",
        "colab_type": "code",
        "outputId": "11d6293a-40bd-4935-e414-2b02fb05d252",
        "colab": {
          "base_uri": "https://localhost:8080/",
          "height": 68
        }
      },
      "source": [
        "import os\n",
        "\n",
        "print(\"installing cngi (takes a few minutes)...\")\n",
        "os.system(\"apt-get install libgfortran3\")\n",
        "os.system(\"pip install --extra-index-url https://casa-pip.nrao.edu/repository/pypi-group/simple casatools\")\n",
        "os.system(\"pip install cngi-prototype==0.0.8 --no-dependencies\")\n",
        "os.system(\"pip install --upgrade dask\")\n",
        "os.system(\"pip install --upgrade xarray\")\n",
        "\n",
        "print(\"downloading MeasurementSet from CASAguide First Look at Imaging...\")\n",
        "os.system(\"wget https://bulk.cv.nrao.edu/almadata/public/working/sis14_twhya_calibrated_flagged.ms.tar\")\n",
        "os.system(\"tar -xvf sis14_twhya_calibrated_flagged.ms.tar\")\n",
        "\n",
        "print('complete')"
      ],
      "execution_count": 1,
      "outputs": [
        {
          "output_type": "stream",
          "text": [
            "installing cngi (takes a few minutes)...\n",
            "downloading MeasurementSet from CASAguide First Look at Imaging...\n",
            "complete\n"
          ],
          "name": "stdout"
        }
      ]
    },
    {
      "cell_type": "markdown",
      "metadata": {
        "id": "1GEO-8JoUqbr",
        "colab_type": "text"
      },
      "source": [
        "# Initialize the Processing Environment\n",
        "This is a bit limited with Colab, and the bokeh dashboard doesn't work"
      ]
    },
    {
      "cell_type": "code",
      "metadata": {
        "id": "dQxr3E24L-4d",
        "colab_type": "code",
        "outputId": "69151fde-7f91-4d82-db0b-68362aa7491e",
        "colab": {
          "base_uri": "https://localhost:8080/",
          "height": 262
        }
      },
      "source": [
        "from cngi.direct import InitializeFramework\n",
        "client = InitializeFramework(2,'6GB',False)\n",
        "client"
      ],
      "execution_count": 5,
      "outputs": [
        {
          "output_type": "stream",
          "text": [
            "/usr/local/lib/python3.6/dist-packages/distributed/bokeh/core.py:57: UserWarning: \n",
            "Failed to start diagnostics server on port 8787. [Errno 99] Cannot assign requested address\n",
            "  warnings.warn('\\n' + msg)\n",
            "/usr/local/lib/python3.6/dist-packages/distributed/deploy/local.py:197: UserWarning: \n",
            "Could not launch service 'bokeh' on port 8787. Got the following message:\n",
            "\n",
            "[Errno 99] Cannot assign requested address\n",
            "  self.scheduler.start(scheduler_address)\n"
          ],
          "name": "stderr"
        },
        {
          "output_type": "execute_result",
          "data": {
            "text/html": [
              "<table style=\"border: 2px solid white;\">\n",
              "<tr>\n",
              "<td style=\"vertical-align: top; border: 0px solid white\">\n",
              "<h3>Client</h3>\n",
              "<ul>\n",
              "  <li><b>Scheduler: </b>inproc://172.28.0.2/124/1\n",
              "</ul>\n",
              "</td>\n",
              "<td style=\"vertical-align: top; border: 0px solid white\">\n",
              "<h3>Cluster</h3>\n",
              "<ul>\n",
              "  <li><b>Workers: </b>2</li>\n",
              "  <li><b>Cores: </b>2</li>\n",
              "  <li><b>Memory: </b>12.00 GB</li>\n",
              "</ul>\n",
              "</td>\n",
              "</tr>\n",
              "</table>"
            ],
            "text/plain": [
              "<Client: scheduler='inproc://172.28.0.2/124/1' processes=2 cores=2>"
            ]
          },
          "metadata": {
            "tags": []
          },
          "execution_count": 5
        }
      ]
    },
    {
      "cell_type": "markdown",
      "metadata": {
        "id": "WxuECb4D8su0",
        "colab_type": "text"
      },
      "source": [
        "# Convert an MS to xarray NetCDF\n",
        "Takes some time\n"
      ]
    },
    {
      "cell_type": "code",
      "metadata": {
        "id": "S0B_KBb09ORJ",
        "colab_type": "code",
        "outputId": "b9291758-7933-42da-d85f-5518df858e22",
        "colab": {
          "base_uri": "https://localhost:8080/",
          "height": 68
        }
      },
      "source": [
        "from cngi.conversion import ms_to_ncdf\n",
        "\n",
        "ms_to_ncdf('sis14_twhya_calibrated_flagged.ms')"
      ],
      "execution_count": 6,
      "outputs": [
        {
          "output_type": "stream",
          "text": [
            "processing ddi 0: chunks=1, size=53717\n",
            "completed ddi 0\n",
            "Complete.\n"
          ],
          "name": "stdout"
        }
      ]
    },
    {
      "cell_type": "markdown",
      "metadata": {
        "id": "edNHuvlX7OnU",
        "colab_type": "text"
      },
      "source": [
        "# Open an xarray NetCDF based MS\n",
        "\n",
        "(todo) Retrieve a summary of the xarray NetCDF MS file. \n",
        "\n",
        "Then create a new xarray Dataset from it.\n",
        "\n",
        "This Dataset is the common data structure passed around to most other CNGI functions."
      ]
    },
    {
      "cell_type": "code",
      "metadata": {
        "id": "R6KsW1NvgsQs",
        "colab_type": "code",
        "outputId": "88cd8b60-8ec3-4a28-97ca-f18e5140207b",
        "colab": {
          "base_uri": "https://localhost:8080/",
          "height": 527
        }
      },
      "source": [
        "from cngi.ms import summarizeFile\n",
        "from cngi.dio import read_ncdf\n",
        "\n",
        "# returns summary as a pandas dataframe\n",
        "#mssummary = summarizeFile('sis14_twhya_calibrated_flagged.pq')\n",
        "#print(mssummary[['ddi','row_count_estimate','col_count','size_GB']])\n",
        "\n",
        "# there is only one ddi in the MS, but pretend there are more and one is chosen\n",
        "ddi = 0 #mssummary.ddi.values[0]\n",
        "\n",
        "# here we create the dask dataframe for use in other CNGI functions\n",
        "xds = read_ncdf('sis14_twhya_calibrated_flagged.ncdf',ddi=ddi)\n",
        "\n",
        "# examine the start of the dataframe \n",
        "# note that the column selection should be made in to a convenience function\n",
        "#cols = [col for col in ddf.columns.values if col not in list(ddf.columns.values[ddf.columns.str.match('(FLAG\\d)|(R|IDATA\\d)')])]\n",
        "#ddf[cols].head()\n",
        "xds"
      ],
      "execution_count": 7,
      "outputs": [
        {
          "output_type": "execute_result",
          "data": {
            "text/plain": [
              "<xarray.Dataset>\n",
              "Dimensions:         (chans: 384, pols: 2, rows: 80563, uvw: 3)\n",
              "Coordinates:\n",
              "  * uvw             (uvw) int32 0 1 2\n",
              "  * chans           (chans) int32 0 1 2 3 4 5 6 ... 377 378 379 380 381 382 383\n",
              "  * pols            (pols) int32 0 1\n",
              "  * rows            (rows) int64 0 1 2 3 4 5 ... 80558 80559 80560 80561 80562\n",
              "Data variables:\n",
              "    ANTENNA1        (rows) int32 dask.array<chunksize=(53717,), meta=np.ndarray>\n",
              "    ANTENNA2        (rows) int32 dask.array<chunksize=(53717,), meta=np.ndarray>\n",
              "    ARRAY_ID        (rows) int32 dask.array<chunksize=(53717,), meta=np.ndarray>\n",
              "    DATA_DESC_ID    (rows) int32 dask.array<chunksize=(53717,), meta=np.ndarray>\n",
              "    EXPOSURE        (rows) float64 dask.array<chunksize=(53717,), meta=np.ndarray>\n",
              "    FEED1           (rows) int32 dask.array<chunksize=(53717,), meta=np.ndarray>\n",
              "    FEED2           (rows) int32 dask.array<chunksize=(53717,), meta=np.ndarray>\n",
              "    FIELD_ID        (rows) int32 dask.array<chunksize=(53717,), meta=np.ndarray>\n",
              "    FLAG_ROW        (rows) bool dask.array<chunksize=(53717,), meta=np.ndarray>\n",
              "    INTERVAL        (rows) float64 dask.array<chunksize=(53717,), meta=np.ndarray>\n",
              "    OBSERVATION_ID  (rows) int32 dask.array<chunksize=(53717,), meta=np.ndarray>\n",
              "    PROCESSOR_ID    (rows) int32 dask.array<chunksize=(53717,), meta=np.ndarray>\n",
              "    SCAN_NUMBER     (rows) int32 dask.array<chunksize=(53717,), meta=np.ndarray>\n",
              "    STATE_ID        (rows) int32 dask.array<chunksize=(53717,), meta=np.ndarray>\n",
              "    TIME            (rows) float64 dask.array<chunksize=(53717,), meta=np.ndarray>\n",
              "    TIME_CENTROID   (rows) float64 dask.array<chunksize=(53717,), meta=np.ndarray>\n",
              "    UVW             (uvw, rows) float64 dask.array<chunksize=(3, 53717), meta=np.ndarray>\n",
              "    WEIGHT          (pols, rows) float64 dask.array<chunksize=(2, 53717), meta=np.ndarray>\n",
              "    SIGMA           (pols, rows) float64 dask.array<chunksize=(2, 53717), meta=np.ndarray>\n",
              "    FLAG            (pols, chans, rows) bool dask.array<chunksize=(2, 384, 53717), meta=np.ndarray>\n",
              "    RDATA           (pols, chans, rows) float64 dask.array<chunksize=(2, 384, 53717), meta=np.ndarray>\n",
              "    IDATA           (pols, chans, rows) float64 dask.array<chunksize=(2, 384, 53717), meta=np.ndarray>"
            ]
          },
          "metadata": {
            "tags": []
          },
          "execution_count": 7
        }
      ]
    },
    {
      "cell_type": "code",
      "metadata": {
        "id": "2Q_4VAisyEPt",
        "colab_type": "code",
        "colab": {}
      },
      "source": [
        ""
      ],
      "execution_count": 0,
      "outputs": []
    }
  ]
}