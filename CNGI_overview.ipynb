{
  "nbformat": 4,
  "nbformat_minor": 0,
  "metadata": {
    "colab": {
      "name": "CNGI_overview.ipynb",
      "provenance": [],
      "collapsed_sections": []
    },
    "kernelspec": {
      "name": "python3",
      "display_name": "Python 3"
    }
  },
  "cells": [
    {
      "cell_type": "markdown",
      "metadata": {
        "id": "xr_RX4CA876u",
        "colab_type": "text"
      },
      "source": [
        "# Installation\n",
        "CNGI documentation is located here:\n",
        "[https://cngi-prototype.readthedocs.io/en/latest/index.html](https://cngi-prototype.readthedocs.io/en/latest/index.html)\n",
        "\n",
        "Google Colab requires specific older versions of some packages such as Pandas and Dask, so we will install CNGI without its normal dependencies and then manually install each dependency afterwards.\n",
        "\n",
        "Normally, you would want to leave out the --no-dependencies option\n",
        "\n",
        "For this demonstration we will use the data from the ALMA First Look at Imaging CASAguide"
      ]
    },
    {
      "cell_type": "code",
      "metadata": {
        "id": "IIr5sp0VgR2m",
        "colab_type": "code",
        "outputId": "401ad25d-9f3c-4d29-ac56-a09b7abc27fd",
        "colab": {
          "base_uri": "https://localhost:8080/",
          "height": 68
        }
      },
      "source": [
        "import os\n",
        "import logging\n",
        "logging.getLogger('distributed.utils_perf').setLevel(logging.ERROR) # dask is noisy\n",
        "logging.getLogger('distributed.utils_perf').setLevel(logging.ERROR)\n",
        "\n",
        "print(\"installing cngi (takes a few minutes)...\")\n",
        "os.system(\"apt-get install libgfortran3\")\n",
        "os.system(\"pip install --extra-index-url https://casa-pip.nrao.edu/repository/pypi-group/simple casatools\")\n",
        "os.system(\"pip install cngi-prototype==0.0.13 --no-dependencies\")\n",
        "os.system(\"pip install --upgrade dask\")\n",
        "os.system(\"pip install --upgrade xarray\")\n",
        "os.system(\"pip install --upgrade zarr\")\n",
        "\n",
        "print(\"downloading MeasurementSet from CASAguide First Look at Imaging...\")\n",
        "os.system(\"wget https://bulk.cv.nrao.edu/almadata/public/working/sis14_twhya_calibrated_flagged.ms.tar\")\n",
        "os.system(\"tar -xvf sis14_twhya_calibrated_flagged.ms.tar\")\n",
        "\n",
        "print('complete')"
      ],
      "execution_count": 1,
      "outputs": [
        {
          "output_type": "stream",
          "text": [
            "installing cngi (takes a few minutes)...\n",
            "downloading MeasurementSet from CASAguide First Look at Imaging...\n",
            "complete\n"
          ],
          "name": "stdout"
        }
      ]
    },
    {
      "cell_type": "markdown",
      "metadata": {
        "id": "1GEO-8JoUqbr",
        "colab_type": "text"
      },
      "source": [
        "# Initialize the Processing Environment\n",
        "This is a bit limited with Colab and produces some warnings, but will still work\n",
        "\n",
        "InitializeFramework instantiates a client object (does not need to be returned and saved by caller). Once this object exists, all Dask objects automatically know to use it for parallel execution.\n",
        "\n",
        "Omitting this step will cause the data conversion routines to run in serial and the subsequent Dask dataframe operations to use the default built-in scheduler for parallel execution (which can actually be faster on local machines anyway)"
      ]
    },
    {
      "cell_type": "code",
      "metadata": {
        "id": "dQxr3E24L-4d",
        "colab_type": "code",
        "outputId": "9bcfdc5c-162b-4474-8432-74ddefe222f2",
        "colab": {
          "base_uri": "https://localhost:8080/",
          "height": 262
        }
      },
      "source": [
        "from cngi.direct import InitializeFramework\n",
        "client = InitializeFramework(2,'6GB',False)\n",
        "client"
      ],
      "execution_count": 1,
      "outputs": [
        {
          "output_type": "stream",
          "text": [
            "/usr/local/lib/python3.6/dist-packages/distributed/bokeh/core.py:57: UserWarning: \n",
            "Failed to start diagnostics server on port 8787. [Errno 99] Cannot assign requested address\n",
            "  warnings.warn('\\n' + msg)\n",
            "/usr/local/lib/python3.6/dist-packages/distributed/deploy/local.py:197: UserWarning: \n",
            "Could not launch service 'bokeh' on port 8787. Got the following message:\n",
            "\n",
            "[Errno 99] Cannot assign requested address\n",
            "  self.scheduler.start(scheduler_address)\n"
          ],
          "name": "stderr"
        },
        {
          "output_type": "execute_result",
          "data": {
            "text/html": [
              "<table style=\"border: 2px solid white;\">\n",
              "<tr>\n",
              "<td style=\"vertical-align: top; border: 0px solid white\">\n",
              "<h3>Client</h3>\n",
              "<ul>\n",
              "  <li><b>Scheduler: </b>inproc://172.28.0.2/1476/1\n",
              "</ul>\n",
              "</td>\n",
              "<td style=\"vertical-align: top; border: 0px solid white\">\n",
              "<h3>Cluster</h3>\n",
              "<ul>\n",
              "  <li><b>Workers: </b>2</li>\n",
              "  <li><b>Cores: </b>2</li>\n",
              "  <li><b>Memory: </b>12.00 GB</li>\n",
              "</ul>\n",
              "</td>\n",
              "</tr>\n",
              "</table>"
            ],
            "text/plain": [
              "<Client: scheduler='inproc://172.28.0.2/1476/1' processes=2 cores=2>"
            ]
          },
          "metadata": {
            "tags": []
          },
          "execution_count": 1
        }
      ]
    },
    {
      "cell_type": "markdown",
      "metadata": {
        "id": "WxuECb4D8su0",
        "colab_type": "text"
      },
      "source": [
        "# Convert an MS to Apache Parquet\n",
        "Convert the current custom MS format to a new off-the-shelf Apache Parquet format. This new format can be read natively by a variety of parallel processing frameworks, including Dask\n"
      ]
    },
    {
      "cell_type": "code",
      "metadata": {
        "id": "S0B_KBb09ORJ",
        "colab_type": "code",
        "outputId": "0dac7342-6b15-4b8b-c01f-6c1cd8353944",
        "colab": {
          "base_uri": "https://localhost:8080/",
          "height": 68
        }
      },
      "source": [
        "from cngi.conversion import ms_to_pq\n",
        "\n",
        "ms_to_pq('sis14_twhya_calibrated_flagged.ms')"
      ],
      "execution_count": 3,
      "outputs": [
        {
          "output_type": "stream",
          "text": [
            "processing ddi 0: chunks=13, size=5812\n",
            "completed ddi 0\n",
            "Complete.\n"
          ],
          "name": "stdout"
        }
      ]
    },
    {
      "cell_type": "markdown",
      "metadata": {
        "id": "edNHuvlX7OnU",
        "colab_type": "text"
      },
      "source": [
        "# Open an Apache Parquet based MS\n",
        "\n",
        "Retrieve a summary of the Parquet MS file, then create a new Dask Dataframe from it.\n",
        "\n",
        "This Dataframe is the common data structure passed around to most other CNGI functions."
      ]
    },
    {
      "cell_type": "code",
      "metadata": {
        "id": "R6KsW1NvgsQs",
        "colab_type": "code",
        "outputId": "08d1702b-db9a-41d8-f619-eef04707d913",
        "colab": {
          "base_uri": "https://localhost:8080/",
          "height": 258
        }
      },
      "source": [
        "from cngi.ms import summarizeFile\n",
        "from cngi.dio import read_ms\n",
        "\n",
        "# returns summary as a pandas dataframe\n",
        "mssummary = summarizeFile('sis14_twhya_calibrated_flagged.pq')\n",
        "print(mssummary[['ddi','row_count_estimate','col_count','size_GB']])\n",
        "\n",
        "# there is only one ddi in the MS, but pretend there are more and one is chosen\n",
        "ddi = mssummary.ddi.values[0]\n",
        "\n",
        "# here we create the dask dataframe for use in other CNGI functions\n",
        "ddf = read_ms('sis14_twhya_calibrated_flagged.pq',ddi=ddi)\n",
        "\n",
        "# examine the start of the dataframe \n",
        "ddf.head()\n"
      ],
      "execution_count": 2,
      "outputs": [
        {
          "output_type": "stream",
          "text": [
            "   ddi  row_count_estimate  col_count  size_GB\n",
            "0    0            31245312         30     0.62\n"
          ],
          "name": "stdout"
        },
        {
          "output_type": "execute_result",
          "data": {
            "text/html": [
              "<div>\n",
              "<style scoped>\n",
              "    .dataframe tbody tr th:only-of-type {\n",
              "        vertical-align: middle;\n",
              "    }\n",
              "\n",
              "    .dataframe tbody tr th {\n",
              "        vertical-align: top;\n",
              "    }\n",
              "\n",
              "    .dataframe thead th {\n",
              "        text-align: right;\n",
              "    }\n",
              "</style>\n",
              "<table border=\"1\" class=\"dataframe\">\n",
              "  <thead>\n",
              "    <tr style=\"text-align: right;\">\n",
              "      <th></th>\n",
              "      <th>SAMPLE</th>\n",
              "      <th>U</th>\n",
              "      <th>V</th>\n",
              "      <th>W</th>\n",
              "      <th>CHAN</th>\n",
              "      <th>FLAG0</th>\n",
              "      <th>FLAG1</th>\n",
              "      <th>WEIGHT0</th>\n",
              "      <th>WEIGHT1</th>\n",
              "      <th>SIGMA0</th>\n",
              "      <th>SIGMA1</th>\n",
              "      <th>ANTENNA1</th>\n",
              "      <th>ANTENNA2</th>\n",
              "      <th>ARRAY_ID</th>\n",
              "      <th>EXPOSURE</th>\n",
              "      <th>FEED1</th>\n",
              "      <th>FEED2</th>\n",
              "      <th>FIELD_ID</th>\n",
              "      <th>FLAG_ROW</th>\n",
              "      <th>INTERVAL</th>\n",
              "      <th>OBSERVATION_ID</th>\n",
              "      <th>PROCESSOR_ID</th>\n",
              "      <th>SCAN_NUMBER</th>\n",
              "      <th>STATE_ID</th>\n",
              "      <th>TIME</th>\n",
              "      <th>TIME_CENTROID</th>\n",
              "      <th>RDATA0</th>\n",
              "      <th>RDATA1</th>\n",
              "      <th>IDATA0</th>\n",
              "      <th>IDATA1</th>\n",
              "    </tr>\n",
              "  </thead>\n",
              "  <tbody>\n",
              "    <tr>\n",
              "      <th>0</th>\n",
              "      <td>75556</td>\n",
              "      <td>108.911681</td>\n",
              "      <td>74.072225</td>\n",
              "      <td>64.578269</td>\n",
              "      <td>0</td>\n",
              "      <td>False</td>\n",
              "      <td>False</td>\n",
              "      <td>13.294930</td>\n",
              "      <td>30.169891</td>\n",
              "      <td>0.274257</td>\n",
              "      <td>0.182059</td>\n",
              "      <td>1</td>\n",
              "      <td>18</td>\n",
              "      <td>0</td>\n",
              "      <td>6.048</td>\n",
              "      <td>0</td>\n",
              "      <td>0</td>\n",
              "      <td>5</td>\n",
              "      <td>False</td>\n",
              "      <td>6.048</td>\n",
              "      <td>0</td>\n",
              "      <td>2</td>\n",
              "      <td>36</td>\n",
              "      <td>11</td>\n",
              "      <td>4.860033e+09</td>\n",
              "      <td>4.860033e+09</td>\n",
              "      <td>11.443210</td>\n",
              "      <td>-1.203292</td>\n",
              "      <td>7.259833</td>\n",
              "      <td>2.884868</td>\n",
              "    </tr>\n",
              "    <tr>\n",
              "      <th>1</th>\n",
              "      <td>75557</td>\n",
              "      <td>-15.991147</td>\n",
              "      <td>153.503851</td>\n",
              "      <td>-34.659882</td>\n",
              "      <td>0</td>\n",
              "      <td>False</td>\n",
              "      <td>False</td>\n",
              "      <td>14.039468</td>\n",
              "      <td>32.917461</td>\n",
              "      <td>0.266885</td>\n",
              "      <td>0.174296</td>\n",
              "      <td>1</td>\n",
              "      <td>19</td>\n",
              "      <td>0</td>\n",
              "      <td>6.048</td>\n",
              "      <td>0</td>\n",
              "      <td>0</td>\n",
              "      <td>5</td>\n",
              "      <td>False</td>\n",
              "      <td>6.048</td>\n",
              "      <td>0</td>\n",
              "      <td>2</td>\n",
              "      <td>36</td>\n",
              "      <td>11</td>\n",
              "      <td>4.860033e+09</td>\n",
              "      <td>4.860033e+09</td>\n",
              "      <td>1.052067</td>\n",
              "      <td>-10.315617</td>\n",
              "      <td>3.238399</td>\n",
              "      <td>-1.604173</td>\n",
              "    </tr>\n",
              "    <tr>\n",
              "      <th>2</th>\n",
              "      <td>75558</td>\n",
              "      <td>10.224405</td>\n",
              "      <td>64.715724</td>\n",
              "      <td>-0.762791</td>\n",
              "      <td>0</td>\n",
              "      <td>False</td>\n",
              "      <td>False</td>\n",
              "      <td>12.467411</td>\n",
              "      <td>23.671272</td>\n",
              "      <td>0.283212</td>\n",
              "      <td>0.205537</td>\n",
              "      <td>1</td>\n",
              "      <td>20</td>\n",
              "      <td>0</td>\n",
              "      <td>6.048</td>\n",
              "      <td>0</td>\n",
              "      <td>0</td>\n",
              "      <td>5</td>\n",
              "      <td>False</td>\n",
              "      <td>6.048</td>\n",
              "      <td>0</td>\n",
              "      <td>2</td>\n",
              "      <td>36</td>\n",
              "      <td>11</td>\n",
              "      <td>4.860033e+09</td>\n",
              "      <td>4.860033e+09</td>\n",
              "      <td>-6.775506</td>\n",
              "      <td>1.619354</td>\n",
              "      <td>-3.813576</td>\n",
              "      <td>4.095835</td>\n",
              "    </tr>\n",
              "    <tr>\n",
              "      <th>3</th>\n",
              "      <td>75559</td>\n",
              "      <td>-0.856532</td>\n",
              "      <td>-80.586742</td>\n",
              "      <td>8.917520</td>\n",
              "      <td>0</td>\n",
              "      <td>False</td>\n",
              "      <td>False</td>\n",
              "      <td>9.679947</td>\n",
              "      <td>16.227785</td>\n",
              "      <td>0.321413</td>\n",
              "      <td>0.248239</td>\n",
              "      <td>1</td>\n",
              "      <td>21</td>\n",
              "      <td>0</td>\n",
              "      <td>6.048</td>\n",
              "      <td>0</td>\n",
              "      <td>0</td>\n",
              "      <td>5</td>\n",
              "      <td>False</td>\n",
              "      <td>6.048</td>\n",
              "      <td>0</td>\n",
              "      <td>2</td>\n",
              "      <td>36</td>\n",
              "      <td>11</td>\n",
              "      <td>4.860033e+09</td>\n",
              "      <td>4.860033e+09</td>\n",
              "      <td>4.964679</td>\n",
              "      <td>-10.779112</td>\n",
              "      <td>-8.047998</td>\n",
              "      <td>-8.235955</td>\n",
              "    </tr>\n",
              "    <tr>\n",
              "      <th>4</th>\n",
              "      <td>75560</td>\n",
              "      <td>46.462558</td>\n",
              "      <td>-22.534799</td>\n",
              "      <td>34.272327</td>\n",
              "      <td>0</td>\n",
              "      <td>False</td>\n",
              "      <td>False</td>\n",
              "      <td>114.275970</td>\n",
              "      <td>176.929153</td>\n",
              "      <td>0.093545</td>\n",
              "      <td>0.075180</td>\n",
              "      <td>1</td>\n",
              "      <td>22</td>\n",
              "      <td>0</td>\n",
              "      <td>6.048</td>\n",
              "      <td>0</td>\n",
              "      <td>0</td>\n",
              "      <td>5</td>\n",
              "      <td>False</td>\n",
              "      <td>6.048</td>\n",
              "      <td>0</td>\n",
              "      <td>2</td>\n",
              "      <td>36</td>\n",
              "      <td>11</td>\n",
              "      <td>4.860033e+09</td>\n",
              "      <td>4.860033e+09</td>\n",
              "      <td>-4.927227</td>\n",
              "      <td>-1.419401</td>\n",
              "      <td>1.463856</td>\n",
              "      <td>5.506431</td>\n",
              "    </tr>\n",
              "  </tbody>\n",
              "</table>\n",
              "</div>"
            ],
            "text/plain": [
              "   SAMPLE           U           V  ...     RDATA1    IDATA0    IDATA1\n",
              "0   75556  108.911681   74.072225  ...  -1.203292  7.259833  2.884868\n",
              "1   75557  -15.991147  153.503851  ... -10.315617  3.238399 -1.604173\n",
              "2   75558   10.224405   64.715724  ...   1.619354 -3.813576  4.095835\n",
              "3   75559   -0.856532  -80.586742  ... -10.779112 -8.047998 -8.235955\n",
              "4   75560   46.462558  -22.534799  ...  -1.419401  1.463856  5.506431\n",
              "\n",
              "[5 rows x 30 columns]"
            ]
          },
          "metadata": {
            "tags": []
          },
          "execution_count": 2
        }
      ]
    },
    {
      "cell_type": "markdown",
      "metadata": {
        "id": "aqgU0LYyG2BI",
        "colab_type": "text"
      },
      "source": [
        "# Now we have a Dask Dataframe (ddf) MeasurementSet object\n",
        "\n",
        "We can pass around the ddf object to the various CNGI MS functions.  These functions all return new Dataframe objects and build up an execution graph without actually processing any data.  \n",
        "\n",
        "We can also use any of the standard Dataframe operations from Dask, or slice it to Dask arrays and use any of those operations.  See [https://docs.dask.org/en/latest/dataframe-api.html](https://docs.dask.org/en/latest/dataframe-api.html)\n",
        "\n",
        "Processing does not begin until explicitly called for (ie ddf.compute()) or an operation than needs to know the results of the previous operations first (ie ddf.shape())."
      ]
    },
    {
      "cell_type": "code",
      "metadata": {
        "id": "2Q_4VAisyEPt",
        "colab_type": "code",
        "colab": {}
      },
      "source": [
        "# todo: need new sorted/indexed parquet conversion first\n",
        "\n",
        "# example: time average each antenna baseline\n",
        "#ddf['DATA0'] = ddf.RDATA0 + ddf.IDATA0  # create complex vis from real and imaginary parts\n",
        "#newdf = ddf[['ANTENNA1','ANTENNA2','DATA0']].set_index('ANTENNA1', sorted=True)  # drop stuff we don't need and index\n",
        "#timeGroups = newdf.groupby(['ANTENNA1','ANTENNA2'])['DATA0'].mean()  # group rows by baselines\n",
        "#time_averages = timeGroups.compute() # this triggers the execution of the first three lines\n",
        "#print(time_averages)"
      ],
      "execution_count": 0,
      "outputs": []
    }
  ]
}