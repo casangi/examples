{
  "nbformat": 4,
  "nbformat_minor": 0,
  "metadata": {
    "colab": {
      "name": "cngi_s3_read.ipynb",
      "provenance": [],
      "collapsed_sections": [],
      "toc_visible": true
    },
    "kernelspec": {
      "name": "python3",
      "display_name": "Python 3"
    },
    "accelerator": "GPU"
  },
  "cells": [
    {
      "cell_type": "markdown",
      "metadata": {
        "id": "61JNmh7-nT10",
        "colab_type": "text"
      },
      "source": [
        "# Coordinate frame conversions\n",
        "\n",
        "Here are the most prominently-featured sources of documentation on the subject:\n",
        "\n",
        "*   https://casa.nrao.edu/casadocs/latest/memo-series/reference-material/spectral-frames\n",
        "*   https://help.almascience.org/index.php?/Knowledgebase/Article/View/86\n",
        "*   https://casa.nrao.edu/docs/TaskRef/mstransform-task.html\n",
        "*   https://casa.nrao.edu/casadocs/latest/calibration-and-visibility-data/uv-manipulation/manipulating-visibilities-with-mstransform\n",
        "*   https://casa.nrao.edu/docs/TaskRef/cvel-task.html\n",
        "*   http://www.gb.nrao.edu/~fghigo/gbtdoc/doppler.html\n",
        "\n"
      ]
    },
    {
      "cell_type": "markdown",
      "metadata": {
        "id": "CpwKMMVBn-q2",
        "colab_type": "text"
      },
      "source": [
        "The goal of this notebook is to demonstrate conversion of visibility and image data converted between spectral, spatial, and temporal reference frames using the next generation CASA infrastructure."
      ]
    },
    {
      "cell_type": "markdown",
      "metadata": {
        "id": "5xAxbeSkCwg6",
        "colab_type": "text"
      },
      "source": [
        "# Setting up\n"
      ]
    },
    {
      "cell_type": "code",
      "metadata": {
        "id": "50o-JqkvXTTS",
        "colab_type": "code",
        "outputId": "47bac8f6-7fb5-46f8-fa70-60d412395956",
        "colab": {
          "base_uri": "https://localhost:8080/",
          "height": 86
        }
      },
      "source": [
        "import os, time\n",
        "\n",
        "start = time.time()\n",
        "print(\"Installing fortran and CASA6 dependencies\")\n",
        "os.system(\"apt-get install libgfortran3\")\n",
        "os.system(\"pip install --extra-index-url https://casa-pip.nrao.edu/repository/pypi-casa-release/simple casatools==6.0.0.27\")\n",
        "print(f\"completed after {round(time.time() - start, 2)} seconds\")\n",
        "print(\"Installing ZINC\")\n",
        "os.system(\"pip install cngi-prototype==0.0.36\")\n",
        "print(f\"completed after {round(time.time() - start, 2)} seconds\")"
      ],
      "execution_count": 1,
      "outputs": [
        {
          "output_type": "stream",
          "text": [
            "Installing fortran and CASA6 dependencies\n",
            "completed after 115.84 seconds\n",
            "Installing ZINC\n",
            "completed after 217.83 seconds\n"
          ],
          "name": "stdout"
        }
      ]
    },
    {
      "cell_type": "code",
      "metadata": {
        "id": "QeOAVQUuyKjz",
        "colab_type": "code",
        "colab": {}
      },
      "source": [
        "import numpy as np\n",
        "import xarray as xr\n",
        "import zarr\n",
        "import cngi.dio\n",
        "import cngi.vis\n",
        "import cngi.image\n",
        "from graphviz import Digraph"
      ],
      "execution_count": 0,
      "outputs": []
    },
    {
      "cell_type": "markdown",
      "metadata": {
        "id": "NCRF_6v9RgBk",
        "colab_type": "text"
      },
      "source": [
        "Note that we have not completely installed CASA6, so no tasks are available for use in this notebook."
      ]
    },
    {
      "cell_type": "markdown",
      "metadata": {
        "id": "o26xHtz0omjt",
        "colab_type": "text"
      },
      "source": [
        "## Data access"
      ]
    },
    {
      "cell_type": "markdown",
      "metadata": {
        "id": "3UzSuS2MopY3",
        "colab_type": "text"
      },
      "source": [
        "We don't need to download or convert any data if we use what's been previously converted and made available for download. We're going to accomplish that through the use of Simple Storage Service (S3) provided by Amazon Web Services.\n",
        "\n",
        "This service provides a means of uploading and storing arbitrary data in the form of objects, accessible via web interface. `boto3` is the SDK provided by AWS to manage authentication and object access/manipulation."
      ]
    },
    {
      "cell_type": "code",
      "metadata": {
        "id": "pZX90fbCDElh",
        "colab_type": "code",
        "colab": {}
      },
      "source": [
        "import s3fs\n",
        "s3 = s3fs.S3FileSystem(anon=True, requester_pays=False)"
      ],
      "execution_count": 0,
      "outputs": []
    },
    {
      "cell_type": "markdown",
      "metadata": {
        "id": "DZ41E3_yUT8r",
        "colab_type": "text"
      },
      "source": [
        "This library allows us to register an object bucket in S3 with our python process as if it were a file system. This can be convenient for certain operations, and will allow us to treat the remotely-stored object data as if they were locally hosted file data.\n"
      ]
    },
    {
      "cell_type": "code",
      "metadata": {
        "id": "Lf8QMrrWDTii",
        "colab_type": "code",
        "outputId": "d6ff86ed-4887-4372-f0ef-6d9e886fbb0e",
        "colab": {
          "base_uri": "https://localhost:8080/",
          "height": 72
        }
      },
      "source": [
        "# Specify AWS S3 path\n",
        "bucket = 'cngi-prototype-test-data/'\n",
        "\n",
        "#ous, ddi = 'uid___A002_Xcad526_X4b6e', '27/'\n",
        "#ous, ddi = 'uid___A002_Xcbc47c_Xe556', '5/'\n",
        "ous, ddi = 'uid___A002_Xcfc232_X2eda', '16/'\n",
        "\n",
        "dimension = 'chan'\n",
        "#dimension = 'time'\n",
        "\n",
        "contents = s3.listdir(bucket+ous+'_'+dimension+'_chunks.vis.zarr/'+ddi)\n",
        "exists = s3.isdir(bucket+ous+'_'+dimension+'_chunks.vis.zarr/global/')\n",
        "\n",
        "print(f\"It is {exists} that these data can be accessed like files\")\n",
        "print(f\"Here is an example object: {contents[0]}\")"
      ],
      "execution_count": 4,
      "outputs": [
        {
          "output_type": "stream",
          "text": [
            "It is True that these data can be accessed like files\n",
            "Here is an example object: {'Key': 'cngi-prototype-test-data/uid___A002_Xcfc232_X2eda_chan_chunks.vis.zarr/16/.zattrs', 'LastModified': datetime.datetime(2020, 1, 29, 18, 51, 20, tzinfo=tzlocal()), 'ETag': '\"8e8e8993b89675494f89a2f7536106e1\"', 'Size': 495, 'StorageClass': 'STANDARD', 'type': 'file', 'size': 495, 'name': 'cngi-prototype-test-data/uid___A002_Xcfc232_X2eda_chan_chunks.vis.zarr/16/.zattrs'}\n"
          ],
          "name": "stdout"
        }
      ]
    },
    {
      "cell_type": "markdown",
      "metadata": {
        "id": "W_ZPmA43Xbsk",
        "colab_type": "text"
      },
      "source": [
        "Most of the objects we have uploaded to this bucket (so far) are zarr groups. [Zarr](https://zarr.readthedocs.io/en/stable/index.html) has been identified as a promising candidate library for managing the I/O component of our infrastructure in part because it was designed with features that allow it to reliably serve as a self-documenting, cloud-optimized array storage format. Access to this library's methods is exposed via the python standard libary's [MutableMapping](https://docs.python.org/3/library/collections.abc.html#collections.abc.MutableMapping) interface.\n",
        "\n",
        "Let's open a zarr file that contains some calibrated visibility data."
      ]
    },
    {
      "cell_type": "code",
      "metadata": {
        "id": "-ToM5jPlDtIl",
        "colab_type": "code",
        "colab": {}
      },
      "source": [
        "s3_path = bucket+'test_data/sis14_twhya_field5_mstrans_lsrk.vis.zarr/'\n",
        "ddi = \"0\"\n",
        "s3_vis = s3_path+ddi\n",
        "s3_md = s3_path+\"global\"\n",
        "\n",
        "# Convert object stores to our desired MutableMapping interface\n",
        "store_vis = s3fs.S3Map(root=s3_vis, s3=s3, check=False)\n",
        "store_md = s3fs.S3Map(root=s3_md, s3=s3, check=False)"
      ],
      "execution_count": 0,
      "outputs": []
    },
    {
      "cell_type": "code",
      "metadata": {
        "id": "EGjDOLQyZEXZ",
        "colab_type": "code",
        "outputId": "35401d82-565c-47d7-a705-ba83b20b5356",
        "colab": {
          "base_uri": "https://localhost:8080/",
          "height": 34
        }
      },
      "source": [
        "# We haven't opened anything, just created a big container of key-value pairs\n",
        "print(store_md)"
      ],
      "execution_count": 7,
      "outputs": [
        {
          "output_type": "stream",
          "text": [
            "<fsspec.mapping.FSMap object at 0x7f794e7162e8>\n"
          ],
          "name": "stdout"
        }
      ]
    },
    {
      "cell_type": "code",
      "metadata": {
        "id": "Ema_Pv_CDuap",
        "colab_type": "code",
        "colab": {}
      },
      "source": [
        "# Now we actually pass the mappings as input to xarray's zarr interface\n",
        "vis_xds = xr.open_zarr(store=store_vis, consolidated=False)\n",
        "global_xds = xr.open_zarr(store=store_md, consolidated=False)"
      ],
      "execution_count": 0,
      "outputs": []
    },
    {
      "cell_type": "markdown",
      "metadata": {
        "id": "qo9e0HyV2sLL",
        "colab_type": "text"
      },
      "source": [
        "And just like that we have a lazily-evaluated representation of our visibility group, which we can represent as an xarray *Dataset*.\n",
        "\n",
        "We also have image data on S3 that were produced using the ngCASA gridder. Let's get those too."
      ]
    },
    {
      "cell_type": "code",
      "metadata": {
        "id": "ffLjEgwr3XsP",
        "colab_type": "code",
        "colab": {}
      },
      "source": [
        "s3_img = bucket+'test_data/cube_twhya_standard_gridder.img.zarr/'\n",
        "\n",
        "# Convert object stores to our desired MutableMapping interface\n",
        "store_img = s3fs.S3Map(root=s3_img, s3=s3, check=False)\n",
        "img_xds = xr.open_zarr(store=store_img, consolidated=False)"
      ],
      "execution_count": 0,
      "outputs": []
    },
    {
      "cell_type": "markdown",
      "metadata": {
        "id": "Vr2zD1qljdW4",
        "colab_type": "text"
      },
      "source": [
        "#### To do\n",
        "\n",
        "Extend cngi.dio.read_vis and cngi.dio.read_image to recognize s3 URLs and open up fsspec.mapping.FSMap objects, ideally handling this for us under the covers."
      ]
    },
    {
      "cell_type": "markdown",
      "metadata": {
        "id": "9zR_r3nTCslv",
        "colab_type": "text"
      },
      "source": [
        "# Coordinate transformation\n",
        "\n",
        "Apart from data selection criteria, it is important to understand the key parameters of transformation from the terrestrial reference frame in which telescopes [such as ALMA](https://help.almascience.org/index.php?/Knowledgebase/Article/View/86) record their observations. \n",
        "\n",
        "The local observatory frame, with a fixed observing frequency (no Doppler tracking) is defined as the topocentric reference frame, TOPO.**bold text**"
      ]
    },
    {
      "cell_type": "markdown",
      "metadata": {
        "id": "BdvoQo5uqyWQ",
        "colab_type": "text"
      },
      "source": [
        "## Visibility data"
      ]
    },
    {
      "cell_type": "markdown",
      "metadata": {
        "id": "sKC4jBiyI5Ne",
        "colab_type": "text"
      },
      "source": [
        "### astropy\n",
        "\n",
        "Various spectral reference frames are currently supported by astronomical software libraries, including [Astropy](https://docs.astropy.org/en/stable/coordinates/index.html#class-inheritance-diagram) and [CASA](https://casa.nrao.edu/casadocs/latest/memo-series/reference-material/spectral-frames).\n",
        "\n",
        "astropy adopts a standard definition of the LSR following [Schönrich et al. 2010](https://ui.adsabs.harvard.edu/abs/2010MNRAS.403.1829S/abstract):\n",
        "\n",
        "> The LSR is the rest frame at the location of the Sun of a star that would be on a circular orbit in the gravitational potential one would obtain by azimuthally averaging away non-axisymmetric features in the actual Galactic potential."
      ]
    },
    {
      "cell_type": "markdown",
      "metadata": {
        "id": "u-NGQ12KHC51",
        "colab_type": "text"
      },
      "source": [
        "###### To do\n",
        "*   Open issue/PR on astropy to get the broken links from their class inheritance diagram fixed\n",
        "*   Determine mathematical conventions for all relevant spectral, spatial, temporal transformations for comparison and adaption"
      ]
    },
    {
      "cell_type": "markdown",
      "metadata": {
        "id": "7lq0mROqf_2M",
        "colab_type": "text"
      },
      "source": [
        "### casa(core)\n",
        "\n",
        "CASA differentiates between the Dynamical and Kinematic LSR following the conventions of [Delhaye, 1965](https://ui.adsabs.harvard.edu/abs/1965gast.book...61D/abstract) and [Gordon, 1975](https://www.sciencedirect.com/science/article/pii/S0076695X08607139) respectively.\n",
        "\n",
        "> Dynamical LSR: Solar peculiar velocity with respect to a frame in circular motion about the galactic center\n",
        "\n",
        "> Kinematic LSR:  Conventional Local Standard of Rest based on average velocity of stars in the Solar neighborhood \n",
        "\n",
        "Conversions (API functions) and Frames (Epoch, Position, Direction) \n",
        "\n",
        "##### To do\n",
        "\n",
        "There is a sequence of conversions that has to happen. Go to the relevant MC[Frame].cc file in casacore and find the doconvert method"
      ]
    },
    {
      "cell_type": "code",
      "metadata": {
        "id": "WqYg8TM51mbf",
        "colab_type": "code",
        "colab": {}
      },
      "source": [
        "from graphviz import Digraph"
      ],
      "execution_count": 0,
      "outputs": []
    },
    {
      "cell_type": "code",
      "metadata": {
        "id": "D7LB8Qgr1pPB",
        "colab_type": "code",
        "colab": {}
      },
      "source": [
        "dot = Digraph(filename=\"digraph.png\")\n",
        "\n",
        "dot.edge(\"measures\",\"epoch\")\n",
        "dot.edge(\"measures\",\"direction\")\n",
        "dot.edge(\"measures\",\"position\")\n",
        "dot.edge(\"measures\",\"frequency\")\n",
        "dot.edge(\"measures\",\"radial velocity\")\n",
        "dot.edge(\"measures\",\"baseline\")\n",
        "dot.edge(\"measures\",\"visibility coordinate (uvw)\")\n",
        "\n",
        "dot.edge(\"epoch\",\"quantity\")\n",
        "dot.edge(\"frequency\",\"quantity\")\n",
        "dot.edge(\"radial velocity\",\"quantity\")\n",
        "dot.edge(\"baseline\",\"quantity\")\n",
        "dot.edge(\"direction\",\"quantity\")\n",
        "dot.edge(\"position\",\"quantity\")\n",
        "dot.edge(\"visibility coordinate (uvw)\",\"quantity\")\n",
        "\n",
        "dot.edge(\"epoch\",\"frame\")\n",
        "dot.edge(\"frequency\",\"frame\")\n",
        "dot.edge(\"radial velocity\",\"frame\")\n",
        "dot.edge(\"baseline\",\"frame\")\n",
        "dot.edge(\"direction\",\"frame\")\n",
        "dot.edge(\"position\",\"frame\")\n",
        "dot.edge(\"visibility coordinate (uvw)\",\"frame\")\n",
        "\n",
        "dot.edge(\"epoch\",\"reference code\")\n",
        "dot.edge(\"frequency\",\"reference code\")\n",
        "dot.edge(\"radial velocity\",\"reference code\")\n",
        "dot.edge(\"baseline\",\"reference code\")\n",
        "dot.edge(\"direction\",\"reference code\")\n",
        "dot.edge(\"position\",\"reference code\")\n",
        "dot.edge(\"visibility coordinate (uvw)\",\"reference code\")\n",
        "\n",
        "dot.edge(\"quantity\", \"time\")\n",
        "dot.edge(\"quantity\", \"spectroscopy\")\n",
        "dot.edge(\"quantity\", \"angle\")\n",
        "dot.edge(\"quantity\", \"direction\")\n",
        "dot.edge(\"quantity\", \"position\")\n",
        "\n",
        "dot.edge(\"frame\", 'where am I?')\n",
        "dot.edge(\"frame\", 'what direction?')\n",
        "dot.edge(\"frame\", 'when is it?')\n",
        "dot.edge(\"frame\", 'how fast?')\n",
        "\n",
        "#dot.edge(\"reference code\", \"direction\")\n",
        "direction_codes = 'J2000 JMEAN-epoch JTRUE-epoch APP-epoch B1950 BMEAN-epoch BTRUE-epoch GALACTIC HADEC-epoch,position AZEL-epoch,position SUPERGALACTIC ECLIPTIC MECLIPTIC-epoch TECLIPTIC-epoch PLANET-epoch,[position]'\n",
        "for code in direction_codes.split(' '):\n",
        "  dot.edge(\"reference code\", code)\n",
        "\n",
        "#dot.edge(\"reference code\", \"position\")\n",
        "dot.edge(\"reference code\", \"ITRF\")\n",
        "dot.edge(\"reference code\", \"WGS84\")\n",
        "\n",
        "#dot.edge(\"reference code\", \"epoch\")\n",
        "epoch_codes = 'UTC TAI LAST-position LMST-position GMST1 GAST UT1 UT2 TDT TCG TDB TCD'\n",
        "for code in epoch_codes.split(' '):\n",
        "  dot.edge('reference code', code)\n",
        "\n",
        "#dot.edge(\"reference code\", \"radial velocity\")\n",
        "radial_codes = 'LSRK-direction LSRD-direction BARY-direction GEO-direction,epoch TOPO-direction,epoch,position GALACTO-direction'\n",
        "for code in radial_codes.split(' '):\n",
        "  dot.edge('reference code', code)\n",
        "\n",
        "#dot.edge(\"reference code\", \"doppler\")\n",
        "#doppler_codes = 'RADIO OPTICAL Z RATIO RELATIVISTIC BETA GAMMA'\n",
        "#for code in doppler_codes.split(' '):\n",
        "#  dot.edge('reference', code)\n",
        "\n",
        "#dot.edge(\"reference code\", \"frequency\")\n",
        "frequency_codes = 'REST-direction,radialvelocity LSRK-direction LSRD-direction BARY-direction GEO-direction,epoch TOPO-direction,epoch,position GALACTO'\n",
        "for code in frequency_codes.split(' '):\n",
        "  dot.edge('reference code', code)\n"
      ],
      "execution_count": 0,
      "outputs": []
    },
    {
      "cell_type": "code",
      "metadata": {
        "id": "ilRGEhe_24tQ",
        "colab_type": "code",
        "outputId": "6ca811e5-069d-4f54-f8f5-b1000bd67869",
        "colab": {
          "base_uri": "https://localhost:8080/",
          "height": 581
        }
      },
      "source": [
        "dot"
      ],
      "execution_count": 13,
      "outputs": [
        {
          "output_type": "execute_result",
          "data": {
            "text/plain": [
              "<graphviz.dot.Digraph at 0x7f7945122438>"
            ],
            "image/svg+xml": "<?xml version=\"1.0\" encoding=\"UTF-8\" standalone=\"no\"?>\n<!DOCTYPE svg PUBLIC \"-//W3C//DTD SVG 1.1//EN\"\n \"http://www.w3.org/Graphics/SVG/1.1/DTD/svg11.dtd\">\n<!-- Generated by graphviz version 2.40.1 (20161225.0304)\n -->\n<!-- Title: %3 Pages: 1 -->\n<svg width=\"5741pt\" height=\"404pt\"\n viewBox=\"0.00 0.00 5740.69 404.00\" xmlns=\"http://www.w3.org/2000/svg\" xmlns:xlink=\"http://www.w3.org/1999/xlink\">\n<g id=\"graph0\" class=\"graph\" transform=\"scale(1 1) rotate(0) translate(4 400)\">\n<title>%3</title>\n<polygon fill=\"#ffffff\" stroke=\"transparent\" points=\"-4,4 -4,-400 5736.692,-400 5736.692,4 -4,4\"/>\n<!-- measures -->\n<g id=\"node1\" class=\"node\">\n<title>measures</title>\n<ellipse fill=\"none\" stroke=\"#000000\" cx=\"3570.797\" cy=\"-378\" rx=\"44.393\" ry=\"18\"/>\n<text text-anchor=\"middle\" x=\"3570.797\" y=\"-374.3\" font-family=\"Times,serif\" font-size=\"14.00\" fill=\"#000000\">measures</text>\n</g>\n<!-- epoch -->\n<g id=\"node2\" class=\"node\">\n<title>epoch</title>\n<ellipse fill=\"none\" stroke=\"#000000\" cx=\"3939.797\" cy=\"-306\" rx=\"33.2948\" ry=\"18\"/>\n<text text-anchor=\"middle\" x=\"3939.797\" y=\"-302.3\" font-family=\"Times,serif\" font-size=\"14.00\" fill=\"#000000\">epoch</text>\n</g>\n<!-- measures&#45;&gt;epoch -->\n<g id=\"edge1\" class=\"edge\">\n<title>measures&#45;&gt;epoch</title>\n<path fill=\"none\" stroke=\"#000000\" d=\"M3614.1235,-374.2022C3677.4426,-367.9026 3798.5205,-353.0076 3897.797,-324 3900.2623,-323.2797 3902.7757,-322.4537 3905.2857,-321.5602\"/>\n<polygon fill=\"#000000\" stroke=\"#000000\" points=\"3906.7787,-324.7354 3914.8405,-317.8609 3904.2513,-318.2076 3906.7787,-324.7354\"/>\n</g>\n<!-- direction -->\n<g id=\"node3\" class=\"node\">\n<title>direction</title>\n<ellipse fill=\"none\" stroke=\"#000000\" cx=\"3404.797\" cy=\"-162\" rx=\"43.5923\" ry=\"18\"/>\n<text text-anchor=\"middle\" x=\"3404.797\" y=\"-158.3\" font-family=\"Times,serif\" font-size=\"14.00\" fill=\"#000000\">direction</text>\n</g>\n<!-- measures&#45;&gt;direction -->\n<g id=\"edge2\" class=\"edge\">\n<title>measures&#45;&gt;direction</title>\n<path fill=\"none\" stroke=\"#000000\" d=\"M3554.4027,-360.9237C3544.6342,-350.5097 3532.1603,-336.7843 3521.797,-324 3484.2546,-277.6873 3444.3942,-220.5542 3422.2443,-187.9957\"/>\n<polygon fill=\"#000000\" stroke=\"#000000\" points=\"3424.9902,-185.8087 3416.4831,-179.4936 3419.1953,-189.7354 3424.9902,-185.8087\"/>\n</g>\n<!-- position -->\n<g id=\"node4\" class=\"node\">\n<title>position</title>\n<ellipse fill=\"none\" stroke=\"#000000\" cx=\"3794.797\" cy=\"-162\" rx=\"40.8928\" ry=\"18\"/>\n<text text-anchor=\"middle\" x=\"3794.797\" y=\"-158.3\" font-family=\"Times,serif\" font-size=\"14.00\" fill=\"#000000\">position</text>\n</g>\n<!-- measures&#45;&gt;position -->\n<g id=\"edge3\" class=\"edge\">\n<title>measures&#45;&gt;position</title>\n<path fill=\"none\" stroke=\"#000000\" d=\"M3587.0036,-361.2136C3604.6928,-342.9856 3633.9486,-313.1124 3659.797,-288 3697.2595,-251.6042 3741.7153,-210.5025 3769.0908,-185.4249\"/>\n<polygon fill=\"#000000\" stroke=\"#000000\" points=\"3771.6592,-187.819 3776.6753,-178.4869 3766.9344,-182.6541 3771.6592,-187.819\"/>\n</g>\n<!-- frequency -->\n<g id=\"node5\" class=\"node\">\n<title>frequency</title>\n<ellipse fill=\"none\" stroke=\"#000000\" cx=\"3259.797\" cy=\"-306\" rx=\"48.1917\" ry=\"18\"/>\n<text text-anchor=\"middle\" x=\"3259.797\" y=\"-302.3\" font-family=\"Times,serif\" font-size=\"14.00\" fill=\"#000000\">frequency</text>\n</g>\n<!-- measures&#45;&gt;frequency -->\n<g id=\"edge4\" class=\"edge\">\n<title>measures&#45;&gt;frequency</title>\n<path fill=\"none\" stroke=\"#000000\" d=\"M3531.1198,-369.6937C3482.9166,-359.4848 3399.1818,-341.3722 3327.797,-324 3321.6453,-322.5029 3315.1964,-320.874 3308.823,-319.228\"/>\n<polygon fill=\"#000000\" stroke=\"#000000\" points=\"3309.483,-315.7831 3298.9232,-316.6439 3307.715,-322.5561 3309.483,-315.7831\"/>\n</g>\n<!-- radial velocity -->\n<g id=\"node6\" class=\"node\">\n<title>radial velocity</title>\n<ellipse fill=\"none\" stroke=\"#000000\" cx=\"3400.797\" cy=\"-306\" rx=\"63.8893\" ry=\"18\"/>\n<text text-anchor=\"middle\" x=\"3400.797\" y=\"-302.3\" font-family=\"Times,serif\" font-size=\"14.00\" fill=\"#000000\">radial velocity</text>\n</g>\n<!-- measures&#45;&gt;radial velocity -->\n<g id=\"edge5\" class=\"edge\">\n<title>measures&#45;&gt;radial velocity</title>\n<path fill=\"none\" stroke=\"#000000\" d=\"M3540.0113,-364.9613C3513.6781,-353.8085 3475.4304,-337.6094 3445.6856,-325.0117\"/>\n<polygon fill=\"#000000\" stroke=\"#000000\" points=\"3446.9261,-321.7361 3436.3529,-321.059 3444.1961,-328.1818 3446.9261,-321.7361\"/>\n</g>\n<!-- baseline -->\n<g id=\"node7\" class=\"node\">\n<title>baseline</title>\n<ellipse fill=\"none\" stroke=\"#000000\" cx=\"3570.797\" cy=\"-306\" rx=\"40.0939\" ry=\"18\"/>\n<text text-anchor=\"middle\" x=\"3570.797\" y=\"-302.3\" font-family=\"Times,serif\" font-size=\"14.00\" fill=\"#000000\">baseline</text>\n</g>\n<!-- measures&#45;&gt;baseline -->\n<g id=\"edge6\" class=\"edge\">\n<title>measures&#45;&gt;baseline</title>\n<path fill=\"none\" stroke=\"#000000\" d=\"M3570.797,-359.8314C3570.797,-352.131 3570.797,-342.9743 3570.797,-334.4166\"/>\n<polygon fill=\"#000000\" stroke=\"#000000\" points=\"3574.2971,-334.4132 3570.797,-324.4133 3567.2971,-334.4133 3574.2971,-334.4132\"/>\n</g>\n<!-- visibility coordinate (uvw) -->\n<g id=\"node8\" class=\"node\">\n<title>visibility coordinate (uvw)</title>\n<ellipse fill=\"none\" stroke=\"#000000\" cx=\"3778.797\" cy=\"-306\" rx=\"109.6807\" ry=\"18\"/>\n<text text-anchor=\"middle\" x=\"3778.797\" y=\"-302.3\" font-family=\"Times,serif\" font-size=\"14.00\" fill=\"#000000\">visibility coordinate (uvw)</text>\n</g>\n<!-- measures&#45;&gt;visibility coordinate (uvw) -->\n<g id=\"edge7\" class=\"edge\">\n<title>measures&#45;&gt;visibility coordinate (uvw)</title>\n<path fill=\"none\" stroke=\"#000000\" d=\"M3604.6787,-366.2717C3636.3805,-355.298 3684.3529,-338.6922 3721.9212,-325.6878\"/>\n<polygon fill=\"#000000\" stroke=\"#000000\" points=\"3723.4195,-328.873 3731.7245,-322.2943 3721.1297,-322.2581 3723.4195,-328.873\"/>\n</g>\n<!-- quantity -->\n<g id=\"node9\" class=\"node\">\n<title>quantity</title>\n<ellipse fill=\"none\" stroke=\"#000000\" cx=\"3570.797\" cy=\"-234\" rx=\"41.6928\" ry=\"18\"/>\n<text text-anchor=\"middle\" x=\"3570.797\" y=\"-230.3\" font-family=\"Times,serif\" font-size=\"14.00\" fill=\"#000000\">quantity</text>\n</g>\n<!-- epoch&#45;&gt;quantity -->\n<g id=\"edge8\" class=\"edge\">\n<title>epoch&#45;&gt;quantity</title>\n<path fill=\"none\" stroke=\"#000000\" d=\"M3914.8405,-294.1391C3909.3185,-291.8451 3903.4319,-289.6465 3897.797,-288 3802.3823,-260.1208 3686.8293,-245.2776 3621.7703,-238.5723\"/>\n<polygon fill=\"#000000\" stroke=\"#000000\" points=\"3622.0735,-235.0853 3611.773,-237.5653 3621.3719,-242.05 3622.0735,-235.0853\"/>\n</g>\n<!-- frame -->\n<g id=\"node10\" class=\"node\">\n<title>frame</title>\n<ellipse fill=\"none\" stroke=\"#000000\" cx=\"3977.797\" cy=\"-90\" rx=\"31.6951\" ry=\"18\"/>\n<text text-anchor=\"middle\" x=\"3977.797\" y=\"-86.3\" font-family=\"Times,serif\" font-size=\"14.00\" fill=\"#000000\">frame</text>\n</g>\n<!-- epoch&#45;&gt;frame -->\n<g id=\"edge15\" class=\"edge\">\n<title>epoch&#45;&gt;frame</title>\n<path fill=\"none\" stroke=\"#000000\" d=\"M3960.0568,-291.4801C3971.7481,-281.7924 3985.3726,-267.9334 3991.797,-252 4009.7053,-207.5852 3997.7318,-150.8972 3987.6155,-117.7052\"/>\n<polygon fill=\"#000000\" stroke=\"#000000\" points=\"3990.8249,-116.2517 3984.4365,-107.7995 3984.1597,-118.3907 3990.8249,-116.2517\"/>\n</g>\n<!-- reference code -->\n<g id=\"node11\" class=\"node\">\n<title>reference code</title>\n<ellipse fill=\"none\" stroke=\"#000000\" cx=\"3218.797\" cy=\"-90\" rx=\"63.8893\" ry=\"18\"/>\n<text text-anchor=\"middle\" x=\"3218.797\" y=\"-86.3\" font-family=\"Times,serif\" font-size=\"14.00\" fill=\"#000000\">reference code</text>\n</g>\n<!-- epoch&#45;&gt;reference code -->\n<g id=\"edge22\" class=\"edge\">\n<title>epoch&#45;&gt;reference code</title>\n<path fill=\"none\" stroke=\"#000000\" d=\"M3937.3565,-287.8929C3931.6427,-253.3369 3913.9418,-178.3706 3864.797,-144 3818.8001,-111.831 3452.1939,-97.0064 3292.5978,-92.0294\"/>\n<polygon fill=\"#000000\" stroke=\"#000000\" points=\"3292.4933,-88.5246 3282.3905,-91.7157 3292.2782,-95.5213 3292.4933,-88.5246\"/>\n</g>\n<!-- direction&#45;&gt;quantity -->\n<g id=\"edge12\" class=\"edge\">\n<title>direction&#45;&gt;quantity</title>\n<path fill=\"none\" stroke=\"#000000\" d=\"M3437.4743,-173.9297C3465.5866,-185.3423 3505.8912,-202.7113 3534.8838,-215.8419\"/>\n<polygon fill=\"#000000\" stroke=\"#000000\" points=\"3533.6982,-219.1481 3544.2485,-220.1177 3536.6056,-212.7804 3533.6982,-219.1481\"/>\n</g>\n<!-- direction&#45;&gt;frame -->\n<g id=\"edge19\" class=\"edge\">\n<title>direction&#45;&gt;frame</title>\n<path fill=\"none\" stroke=\"#000000\" d=\"M3436.9853,-149.7886C3443.7794,-147.5739 3450.9621,-145.4957 3457.797,-144 3632.4603,-105.7778 3846.2248,-94.4045 3935.4901,-91.1922\"/>\n<polygon fill=\"#000000\" stroke=\"#000000\" points=\"3935.8741,-94.6812 3945.748,-90.8397 3935.6336,-87.6853 3935.8741,-94.6812\"/>\n</g>\n<!-- direction&#45;&gt;reference code -->\n<g id=\"edge26\" class=\"edge\">\n<title>direction&#45;&gt;reference code</title>\n<path fill=\"none\" stroke=\"#000000\" d=\"M3372.8225,-149.6228C3343.4219,-138.2419 3299.4528,-121.2216 3266.0097,-108.2759\"/>\n<polygon fill=\"#000000\" stroke=\"#000000\" points=\"3267.0269,-104.9166 3256.4378,-104.5706 3264.4999,-111.4446 3267.0269,-104.9166\"/>\n</g>\n<!-- position&#45;&gt;quantity -->\n<g id=\"edge13\" class=\"edge\">\n<title>position&#45;&gt;quantity</title>\n<path fill=\"none\" stroke=\"#000000\" d=\"M3767.6925,-175.5101C3763.4026,-177.0617 3759.0082,-178.5908 3754.797,-180 3702.3967,-197.5341 3688.5461,-199.545 3635.797,-216 3629.7192,-217.896 3623.2805,-219.936 3616.8871,-221.9375\"/>\n<polygon fill=\"#000000\" stroke=\"#000000\" points=\"3615.4499,-218.7187 3606.9361,-225.0247 3617.5241,-225.4044 3615.4499,-218.7187\"/>\n</g>\n<!-- position&#45;&gt;frame -->\n<g id=\"edge20\" class=\"edge\">\n<title>position&#45;&gt;frame</title>\n<path fill=\"none\" stroke=\"#000000\" d=\"M3825.4271,-149.9488C3857.562,-137.3056 3908.0287,-117.4498 3941.9842,-104.0903\"/>\n<polygon fill=\"#000000\" stroke=\"#000000\" points=\"3943.4994,-107.2554 3951.5236,-100.3371 3940.9364,-100.7414 3943.4994,-107.2554\"/>\n</g>\n<!-- position&#45;&gt;reference code -->\n<g id=\"edge27\" class=\"edge\">\n<title>position&#45;&gt;reference code</title>\n<path fill=\"none\" stroke=\"#000000\" d=\"M3764.8357,-149.6552C3758.6273,-147.4783 3752.0664,-145.4486 3745.797,-144 3587.0371,-107.3165 3395.6178,-95.5443 3292.7792,-91.7725\"/>\n<polygon fill=\"#000000\" stroke=\"#000000\" points=\"3292.6188,-88.2648 3282.502,-91.4115 3292.373,-95.2605 3292.6188,-88.2648\"/>\n</g>\n<!-- frequency&#45;&gt;quantity -->\n<g id=\"edge9\" class=\"edge\">\n<title>frequency&#45;&gt;quantity</title>\n<path fill=\"none\" stroke=\"#000000\" d=\"M3298.9232,-295.3561C3308.3589,-292.8687 3318.423,-290.2813 3327.797,-288 3395.4215,-271.5429 3474.129,-254.4213 3523.2134,-243.9841\"/>\n<polygon fill=\"#000000\" stroke=\"#000000\" points=\"3524.167,-247.3598 3533.2232,-241.8611 3522.7146,-240.5121 3524.167,-247.3598\"/>\n</g>\n<!-- frequency&#45;&gt;frame -->\n<g id=\"edge16\" class=\"edge\">\n<title>frequency&#45;&gt;frame</title>\n<path fill=\"none\" stroke=\"#000000\" d=\"M3262.1248,-287.902C3267.6237,-253.3616 3284.8592,-178.4213 3333.797,-144 3382.8842,-109.4737 3799.7566,-94.94 3935.3627,-91.0974\"/>\n<polygon fill=\"#000000\" stroke=\"#000000\" points=\"3935.8493,-94.5853 3945.7481,-90.8085 3935.6547,-87.588 3935.8493,-94.5853\"/>\n</g>\n<!-- frequency&#45;&gt;reference code -->\n<g id=\"edge23\" class=\"edge\">\n<title>frequency&#45;&gt;reference code</title>\n<path fill=\"none\" stroke=\"#000000\" d=\"M3236.4145,-290.1677C3224.5337,-280.6603 3211.269,-267.4242 3204.797,-252 3186.2866,-207.8854 3198.4187,-151.1846 3208.7351,-117.8936\"/>\n<polygon fill=\"#000000\" stroke=\"#000000\" points=\"3212.0734,-118.9457 3211.8426,-108.3534 3205.4175,-116.7777 3212.0734,-118.9457\"/>\n</g>\n<!-- radial velocity&#45;&gt;quantity -->\n<g id=\"edge10\" class=\"edge\">\n<title>radial velocity&#45;&gt;quantity</title>\n<path fill=\"none\" stroke=\"#000000\" d=\"M3436.4346,-290.9064C3464.2513,-279.1253 3502.8615,-262.7727 3531.5578,-250.619\"/>\n<polygon fill=\"#000000\" stroke=\"#000000\" points=\"3533.0364,-253.7938 3540.8796,-246.6709 3530.3064,-247.348 3533.0364,-253.7938\"/>\n</g>\n<!-- radial velocity&#45;&gt;frame -->\n<g id=\"edge17\" class=\"edge\">\n<title>radial velocity&#45;&gt;frame</title>\n<path fill=\"none\" stroke=\"#000000\" d=\"M3385.9896,-288.4821C3360.2898,-255.9106 3313.6575,-185.5711 3351.797,-144 3391.1976,-101.0543 3801.0824,-92.1786 3935.4216,-90.4181\"/>\n<polygon fill=\"#000000\" stroke=\"#000000\" points=\"3935.7611,-93.9143 3945.7168,-90.2902 3935.674,-86.9148 3935.7611,-93.9143\"/>\n</g>\n<!-- radial velocity&#45;&gt;reference code -->\n<g id=\"edge24\" class=\"edge\">\n<title>radial velocity&#45;&gt;reference code</title>\n<path fill=\"none\" stroke=\"#000000\" d=\"M3352.9046,-293.9626C3328.5446,-285.6951 3300.089,-272.4311 3280.797,-252 3245.1036,-214.1991 3229.3552,-153.7072 3222.8837,-118.3202\"/>\n<polygon fill=\"#000000\" stroke=\"#000000\" points=\"3226.2891,-117.4681 3221.1613,-108.1969 3219.3883,-118.6423 3226.2891,-117.4681\"/>\n</g>\n<!-- baseline&#45;&gt;quantity -->\n<g id=\"edge11\" class=\"edge\">\n<title>baseline&#45;&gt;quantity</title>\n<path fill=\"none\" stroke=\"#000000\" d=\"M3570.797,-287.8314C3570.797,-280.131 3570.797,-270.9743 3570.797,-262.4166\"/>\n<polygon fill=\"#000000\" stroke=\"#000000\" points=\"3574.2971,-262.4132 3570.797,-252.4133 3567.2971,-262.4133 3574.2971,-262.4132\"/>\n</g>\n<!-- baseline&#45;&gt;frame -->\n<g id=\"edge18\" class=\"edge\">\n<title>baseline&#45;&gt;frame</title>\n<path fill=\"none\" stroke=\"#000000\" d=\"M3601.1906,-293.9459C3652.6085,-273.1338 3759.489,-228.0504 3844.797,-180 3882.7719,-158.6104 3923.9634,-129.783 3950.2822,-110.578\"/>\n<polygon fill=\"#000000\" stroke=\"#000000\" points=\"3952.6249,-113.1999 3958.6114,-104.4585 3948.4803,-107.5588 3952.6249,-113.1999\"/>\n</g>\n<!-- baseline&#45;&gt;reference code -->\n<g id=\"edge25\" class=\"edge\">\n<title>baseline&#45;&gt;reference code</title>\n<path fill=\"none\" stroke=\"#000000\" d=\"M3545.1508,-292.04C3503.8863,-269.402 3420.4298,-222.8861 3351.797,-180 3316.5946,-158.0033 3277.3522,-131.1506 3250.6761,-112.5305\"/>\n<polygon fill=\"#000000\" stroke=\"#000000\" points=\"3252.6769,-109.6588 3242.4776,-106.7909 3248.6623,-115.3932 3252.6769,-109.6588\"/>\n</g>\n<!-- visibility coordinate (uvw)&#45;&gt;quantity -->\n<g id=\"edge14\" class=\"edge\">\n<title>visibility coordinate (uvw)&#45;&gt;quantity</title>\n<path fill=\"none\" stroke=\"#000000\" d=\"M3731.5986,-289.6621C3696.0346,-277.3515 3647.6873,-260.6159 3613.3165,-248.7183\"/>\n<polygon fill=\"#000000\" stroke=\"#000000\" points=\"3614.1671,-245.309 3603.5724,-245.3453 3611.8773,-251.9239 3614.1671,-245.309\"/>\n</g>\n<!-- visibility coordinate (uvw)&#45;&gt;frame -->\n<g id=\"edge21\" class=\"edge\">\n<title>visibility coordinate (uvw)&#45;&gt;frame</title>\n<path fill=\"none\" stroke=\"#000000\" d=\"M3845.848,-291.7112C3870.4691,-283.5877 3896.9101,-271.0757 3915.797,-252 3952.472,-214.9584 3967.8965,-153.9456 3974.0405,-118.3122\"/>\n<polygon fill=\"#000000\" stroke=\"#000000\" points=\"3977.5468,-118.5489 3975.6625,-108.123 3970.6338,-117.4483 3977.5468,-118.5489\"/>\n</g>\n<!-- visibility coordinate (uvw)&#45;&gt;reference code -->\n<g id=\"edge28\" class=\"edge\">\n<title>visibility coordinate (uvw)&#45;&gt;reference code</title>\n<path fill=\"none\" stroke=\"#000000\" d=\"M3796.9853,-288.2385C3827.9712,-255.8834 3884.0112,-186.7425 3844.797,-144 3808.1078,-104.0096 3450.1703,-93.5615 3292.6105,-90.8914\"/>\n<polygon fill=\"#000000\" stroke=\"#000000\" points=\"3292.5835,-87.3906 3282.5276,-90.7266 3292.469,-94.3897 3292.5835,-87.3906\"/>\n</g>\n<!-- quantity&#45;&gt;direction -->\n<g id=\"edge32\" class=\"edge\">\n<title>quantity&#45;&gt;direction</title>\n<path fill=\"none\" stroke=\"#000000\" d=\"M3538.6161,-222.2717C3510.72,-210.9587 3470.5556,-193.6599 3441.4478,-180.492\"/>\n<polygon fill=\"#000000\" stroke=\"#000000\" points=\"3442.5849,-177.1638 3432.034,-176.1994 3439.6806,-183.5329 3442.5849,-177.1638\"/>\n</g>\n<!-- quantity&#45;&gt;position -->\n<g id=\"edge33\" class=\"edge\">\n<title>quantity&#45;&gt;position</title>\n<path fill=\"none\" stroke=\"#000000\" d=\"M3600.7306,-221.4221C3606.3817,-219.5873 3612.2402,-217.7334 3617.797,-216 3670.5461,-199.545 3684.3967,-197.5341 3736.797,-180 3741.2876,-178.4974 3745.9863,-176.8583 3750.6976,-175.2011\"/>\n<polygon fill=\"#000000\" stroke=\"#000000\" points=\"3752.0535,-178.4343 3760.3234,-171.8117 3749.7286,-171.8317 3752.0535,-178.4343\"/>\n</g>\n<!-- time -->\n<g id=\"node12\" class=\"node\">\n<title>time</title>\n<ellipse fill=\"none\" stroke=\"#000000\" cx=\"3493.797\" cy=\"-162\" rx=\"27\" ry=\"18\"/>\n<text text-anchor=\"middle\" x=\"3493.797\" y=\"-158.3\" font-family=\"Times,serif\" font-size=\"14.00\" fill=\"#000000\">time</text>\n</g>\n<!-- quantity&#45;&gt;time -->\n<g id=\"edge29\" class=\"edge\">\n<title>quantity&#45;&gt;time</title>\n<path fill=\"none\" stroke=\"#000000\" d=\"M3553.3245,-217.6621C3542.6532,-207.6837 3528.8727,-194.7981 3517.2586,-183.9381\"/>\n<polygon fill=\"#000000\" stroke=\"#000000\" points=\"3519.3237,-181.0774 3509.6289,-176.8039 3514.5427,-186.1904 3519.3237,-181.0774\"/>\n</g>\n<!-- spectroscopy -->\n<g id=\"node13\" class=\"node\">\n<title>spectroscopy</title>\n<ellipse fill=\"none\" stroke=\"#000000\" cx=\"3597.797\" cy=\"-162\" rx=\"59.2899\" ry=\"18\"/>\n<text text-anchor=\"middle\" x=\"3597.797\" y=\"-158.3\" font-family=\"Times,serif\" font-size=\"14.00\" fill=\"#000000\">spectroscopy</text>\n</g>\n<!-- quantity&#45;&gt;spectroscopy -->\n<g id=\"edge30\" class=\"edge\">\n<title>quantity&#45;&gt;spectroscopy</title>\n<path fill=\"none\" stroke=\"#000000\" d=\"M3577.4712,-216.2022C3580.4665,-208.2146 3584.0703,-198.6045 3587.4062,-189.7087\"/>\n<polygon fill=\"#000000\" stroke=\"#000000\" points=\"3590.7779,-190.6854 3591.0121,-180.0931 3584.2236,-188.2275 3590.7779,-190.6854\"/>\n</g>\n<!-- angle -->\n<g id=\"node14\" class=\"node\">\n<title>angle</title>\n<ellipse fill=\"none\" stroke=\"#000000\" cx=\"3705.797\" cy=\"-162\" rx=\"30.5947\" ry=\"18\"/>\n<text text-anchor=\"middle\" x=\"3705.797\" y=\"-158.3\" font-family=\"Times,serif\" font-size=\"14.00\" fill=\"#000000\">angle</text>\n</g>\n<!-- quantity&#45;&gt;angle -->\n<g id=\"edge31\" class=\"edge\">\n<title>quantity&#45;&gt;angle</title>\n<path fill=\"none\" stroke=\"#000000\" d=\"M3597.1468,-219.9468C3619.2305,-208.1688 3650.8166,-191.3229 3674.245,-178.8277\"/>\n<polygon fill=\"#000000\" stroke=\"#000000\" points=\"3675.9259,-181.898 3683.1023,-174.1038 3672.6317,-175.7215 3675.9259,-181.898\"/>\n</g>\n<!-- where am I? -->\n<g id=\"node15\" class=\"node\">\n<title>where am I?</title>\n<ellipse fill=\"none\" stroke=\"#000000\" cx=\"5676.797\" cy=\"-18\" rx=\"55.7903\" ry=\"18\"/>\n<text text-anchor=\"middle\" x=\"5676.797\" y=\"-14.3\" font-family=\"Times,serif\" font-size=\"14.00\" fill=\"#000000\">where am I?</text>\n</g>\n<!-- frame&#45;&gt;where am I? -->\n<g id=\"edge34\" class=\"edge\">\n<title>frame&#45;&gt;where am I?</title>\n<path fill=\"none\" stroke=\"#000000\" d=\"M4009.6493,-89.4018C4223.6103,-85.3232 5448.0083,-61.0214 5611.797,-36 5616.8051,-35.2349 5621.9769,-34.2143 5627.1142,-33.0464\"/>\n<polygon fill=\"#000000\" stroke=\"#000000\" points=\"5628.0198,-36.4281 5636.8987,-30.6474 5626.3528,-29.6295 5628.0198,-36.4281\"/>\n</g>\n<!-- what direction? -->\n<g id=\"node16\" class=\"node\">\n<title>what direction?</title>\n<ellipse fill=\"none\" stroke=\"#000000\" cx=\"5305.797\" cy=\"-18\" rx=\"67.6881\" ry=\"18\"/>\n<text text-anchor=\"middle\" x=\"5305.797\" y=\"-14.3\" font-family=\"Times,serif\" font-size=\"14.00\" fill=\"#000000\">what direction?</text>\n</g>\n<!-- frame&#45;&gt;what direction? -->\n<g id=\"edge35\" class=\"edge\">\n<title>frame&#45;&gt;what direction?</title>\n<path fill=\"none\" stroke=\"#000000\" d=\"M4009.7914,-89.4417C4180.3172,-86.3411 4983.723,-70.1329 5229.797,-36 5235.6478,-35.1884 5241.7081,-34.1318 5247.7372,-32.9371\"/>\n<polygon fill=\"#000000\" stroke=\"#000000\" points=\"5248.7478,-36.3011 5257.8116,-30.815 5247.3049,-29.4515 5248.7478,-36.3011\"/>\n</g>\n<!-- when is it? -->\n<g id=\"node17\" class=\"node\">\n<title>when is it?</title>\n<ellipse fill=\"none\" stroke=\"#000000\" cx=\"5441.797\" cy=\"-18\" rx=\"50.8918\" ry=\"18\"/>\n<text text-anchor=\"middle\" x=\"5441.797\" y=\"-14.3\" font-family=\"Times,serif\" font-size=\"14.00\" fill=\"#000000\">when is it?</text>\n</g>\n<!-- frame&#45;&gt;when is it? -->\n<g id=\"edge36\" class=\"edge\">\n<title>frame&#45;&gt;when is it?</title>\n<path fill=\"none\" stroke=\"#000000\" d=\"M4009.7651,-89.8884C4192.4698,-89.0815 5105.9955,-82.7359 5382.797,-36 5387.0143,-35.2879 5391.3516,-34.36 5395.669,-33.3008\"/>\n<polygon fill=\"#000000\" stroke=\"#000000\" points=\"5396.886,-36.5983 5405.6406,-30.6311 5395.0756,-29.8365 5396.886,-36.5983\"/>\n</g>\n<!-- how fast? -->\n<g id=\"node18\" class=\"node\">\n<title>how fast?</title>\n<ellipse fill=\"none\" stroke=\"#000000\" cx=\"5556.797\" cy=\"-18\" rx=\"46.2923\" ry=\"18\"/>\n<text text-anchor=\"middle\" x=\"5556.797\" y=\"-14.3\" font-family=\"Times,serif\" font-size=\"14.00\" fill=\"#000000\">how fast?</text>\n</g>\n<!-- frame&#45;&gt;how fast? -->\n<g id=\"edge37\" class=\"edge\">\n<title>frame&#45;&gt;how fast?</title>\n<path fill=\"none\" stroke=\"#000000\" d=\"M4009.803,-89.4053C4215.716,-85.5079 5350.2032,-62.9363 5501.797,-36 5505.692,-35.3079 5509.6899,-34.4029 5513.6671,-33.3668\"/>\n<polygon fill=\"#000000\" stroke=\"#000000\" points=\"5514.7898,-36.6861 5523.4397,-30.5681 5512.8625,-29.9566 5514.7898,-36.6861\"/>\n</g>\n<!-- J2000 -->\n<g id=\"node19\" class=\"node\">\n<title>J2000</title>\n<ellipse fill=\"none\" stroke=\"#000000\" cx=\"33.797\" cy=\"-18\" rx=\"33.5952\" ry=\"18\"/>\n<text text-anchor=\"middle\" x=\"33.797\" y=\"-14.3\" font-family=\"Times,serif\" font-size=\"14.00\" fill=\"#000000\">J2000</text>\n</g>\n<!-- reference code&#45;&gt;J2000 -->\n<g id=\"edge38\" class=\"edge\">\n<title>reference code&#45;&gt;J2000</title>\n<path fill=\"none\" stroke=\"#000000\" d=\"M3154.8835,-89.6019C2721.9688,-86.8181 231.6761,-69.3933 75.797,-36 73.2856,-35.462 70.7378,-34.7722 68.2028,-33.9776\"/>\n<polygon fill=\"#000000\" stroke=\"#000000\" points=\"69.1879,-30.6119 58.5938,-30.4928 66.8014,-37.1925 69.1879,-30.6119\"/>\n</g>\n<!-- JMEAN&#45;epoch -->\n<g id=\"node20\" class=\"node\">\n<title>JMEAN&#45;epoch</title>\n<ellipse fill=\"none\" stroke=\"#000000\" cx=\"152.797\" cy=\"-18\" rx=\"67.6881\" ry=\"18\"/>\n<text text-anchor=\"middle\" x=\"152.797\" y=\"-14.3\" font-family=\"Times,serif\" font-size=\"14.00\" fill=\"#000000\">JMEAN&#45;epoch</text>\n</g>\n<!-- reference code&#45;&gt;JMEAN&#45;epoch -->\n<g id=\"edge39\" class=\"edge\">\n<title>reference code&#45;&gt;JMEAN&#45;epoch</title>\n<path fill=\"none\" stroke=\"#000000\" d=\"M3155.1,-89.6587C2748.9898,-87.3755 529.0793,-73.2578 229.797,-36 223.5388,-35.2209 217.0472,-34.1418 210.6075,-32.8955\"/>\n<polygon fill=\"#000000\" stroke=\"#000000\" points=\"211.0734,-29.4178 200.5716,-30.8184 209.6547,-36.2726 211.0734,-29.4178\"/>\n</g>\n<!-- JTRUE&#45;epoch -->\n<g id=\"node21\" class=\"node\">\n<title>JTRUE&#45;epoch</title>\n<ellipse fill=\"none\" stroke=\"#000000\" cx=\"302.797\" cy=\"-18\" rx=\"64.189\" ry=\"18\"/>\n<text text-anchor=\"middle\" x=\"302.797\" y=\"-14.3\" font-family=\"Times,serif\" font-size=\"14.00\" fill=\"#000000\">JTRUE&#45;epoch</text>\n</g>\n<!-- reference code&#45;&gt;JTRUE&#45;epoch -->\n<g id=\"edge40\" class=\"edge\">\n<title>reference code&#45;&gt;JTRUE&#45;epoch</title>\n<path fill=\"none\" stroke=\"#000000\" d=\"M3155.0518,-89.641C2760.5522,-87.3062 659.4636,-73.1932 375.797,-36 369.9931,-35.239 363.9826,-34.1923 358.0159,-32.9833\"/>\n<polygon fill=\"#000000\" stroke=\"#000000\" points=\"358.5755,-29.5233 348.06,-30.8173 357.0874,-36.3633 358.5755,-29.5233\"/>\n</g>\n<!-- APP&#45;epoch -->\n<g id=\"node22\" class=\"node\">\n<title>APP&#45;epoch</title>\n<ellipse fill=\"none\" stroke=\"#000000\" cx=\"438.797\" cy=\"-18\" rx=\"53.8905\" ry=\"18\"/>\n<text text-anchor=\"middle\" x=\"438.797\" y=\"-14.3\" font-family=\"Times,serif\" font-size=\"14.00\" fill=\"#000000\">APP&#45;epoch</text>\n</g>\n<!-- reference code&#45;&gt;APP&#45;epoch -->\n<g id=\"edge41\" class=\"edge\">\n<title>reference code&#45;&gt;APP&#45;epoch</title>\n<path fill=\"none\" stroke=\"#000000\" d=\"M3155.0839,-89.7194C2770.9902,-87.897 771.5276,-76.5137 501.797,-36 497.0548,-35.2877 492.1661,-34.3219 487.3077,-33.2054\"/>\n<polygon fill=\"#000000\" stroke=\"#000000\" points=\"487.9849,-29.767 477.4343,-30.7349 486.2856,-36.5577 487.9849,-29.767\"/>\n</g>\n<!-- B1950 -->\n<g id=\"node23\" class=\"node\">\n<title>B1950</title>\n<ellipse fill=\"none\" stroke=\"#000000\" cx=\"546.797\" cy=\"-18\" rx=\"36.2938\" ry=\"18\"/>\n<text text-anchor=\"middle\" x=\"546.797\" y=\"-14.3\" font-family=\"Times,serif\" font-size=\"14.00\" fill=\"#000000\">B1950</text>\n</g>\n<!-- reference code&#45;&gt;B1950 -->\n<g id=\"edge42\" class=\"edge\">\n<title>reference code&#45;&gt;B1950</title>\n<path fill=\"none\" stroke=\"#000000\" d=\"M3155.1165,-89.3232C2766.0887,-85.1091 722.2403,-61.805 592.797,-36 589.6011,-35.3629 586.3404,-34.5183 583.1046,-33.5419\"/>\n<polygon fill=\"#000000\" stroke=\"#000000\" points=\"584.156,-30.2026 573.5616,-30.2928 581.8999,-36.8291 584.156,-30.2026\"/>\n</g>\n<!-- BMEAN&#45;epoch -->\n<g id=\"node24\" class=\"node\">\n<title>BMEAN&#45;epoch</title>\n<ellipse fill=\"none\" stroke=\"#000000\" cx=\"671.797\" cy=\"-18\" rx=\"70.3881\" ry=\"18\"/>\n<text text-anchor=\"middle\" x=\"671.797\" y=\"-14.3\" font-family=\"Times,serif\" font-size=\"14.00\" fill=\"#000000\">BMEAN&#45;epoch</text>\n</g>\n<!-- reference code&#45;&gt;BMEAN&#45;epoch -->\n<g id=\"edge43\" class=\"edge\">\n<title>reference code&#45;&gt;BMEAN&#45;epoch</title>\n<path fill=\"none\" stroke=\"#000000\" d=\"M3154.8685,-89.3744C2791.6435,-85.7166 995.3008,-66.2142 750.797,-36 744.4755,-35.2188 737.9186,-34.1508 731.4074,-32.922\"/>\n<polygon fill=\"#000000\" stroke=\"#000000\" points=\"731.7479,-29.4203 721.2536,-30.8765 730.3655,-36.2824 731.7479,-29.4203\"/>\n</g>\n<!-- BTRUE&#45;epoch -->\n<g id=\"node25\" class=\"node\">\n<title>BTRUE&#45;epoch</title>\n<ellipse fill=\"none\" stroke=\"#000000\" cx=\"827.797\" cy=\"-18\" rx=\"67.6881\" ry=\"18\"/>\n<text text-anchor=\"middle\" x=\"827.797\" y=\"-14.3\" font-family=\"Times,serif\" font-size=\"14.00\" fill=\"#000000\">BTRUE&#45;epoch</text>\n</g>\n<!-- reference code&#45;&gt;BTRUE&#45;epoch -->\n<g id=\"edge44\" class=\"edge\">\n<title>reference code&#45;&gt;BTRUE&#45;epoch</title>\n<path fill=\"none\" stroke=\"#000000\" d=\"M3154.9083,-89.2964C2805.4802,-85.3429 1133.0779,-65.0296 904.797,-36 898.5409,-35.2044 892.0506,-34.1148 885.6116,-32.8622\"/>\n<polygon fill=\"#000000\" stroke=\"#000000\" points=\"886.0793,-29.3847 875.5766,-30.7786 884.6562,-36.2386 886.0793,-29.3847\"/>\n</g>\n<!-- GALACTIC -->\n<g id=\"node26\" class=\"node\">\n<title>GALACTIC</title>\n<ellipse fill=\"none\" stroke=\"#000000\" cx=\"971.797\" cy=\"-18\" rx=\"58.4896\" ry=\"18\"/>\n<text text-anchor=\"middle\" x=\"971.797\" y=\"-14.3\" font-family=\"Times,serif\" font-size=\"14.00\" fill=\"#000000\">GALACTIC</text>\n</g>\n<!-- reference code&#45;&gt;GALACTIC -->\n<g id=\"edge45\" class=\"edge\">\n<title>reference code&#45;&gt;GALACTIC</title>\n<path fill=\"none\" stroke=\"#000000\" d=\"M3155.072,-89.3096C2818.3442,-85.5422 1253.5634,-66.5112 1039.797,-36 1034.4322,-35.2343 1028.8841,-34.1932 1023.3775,-32.9952\"/>\n<polygon fill=\"#000000\" stroke=\"#000000\" points=\"1024.0935,-29.5682 1013.5588,-30.6949 1022.4968,-36.3837 1024.0935,-29.5682\"/>\n</g>\n<!-- HADEC&#45;epoch,position -->\n<g id=\"node27\" class=\"node\">\n<title>HADEC&#45;epoch,position</title>\n<ellipse fill=\"none\" stroke=\"#000000\" cx=\"1149.797\" cy=\"-18\" rx=\"101.2821\" ry=\"18\"/>\n<text text-anchor=\"middle\" x=\"1149.797\" y=\"-14.3\" font-family=\"Times,serif\" font-size=\"14.00\" fill=\"#000000\">HADEC&#45;epoch,position</text>\n</g>\n<!-- reference code&#45;&gt;HADEC&#45;epoch,position -->\n<g id=\"edge46\" class=\"edge\">\n<title>reference code&#45;&gt;HADEC&#45;epoch,position</title>\n<path fill=\"none\" stroke=\"#000000\" d=\"M3154.8753,-89.3968C2861.2818,-86.4483 1640.2029,-72.201 1259.797,-36 1250.2891,-35.0952 1240.3586,-33.8702 1230.522,-32.4821\"/>\n<polygon fill=\"#000000\" stroke=\"#000000\" points=\"1230.7295,-28.9751 1220.3268,-30.9832 1229.7112,-35.9006 1230.7295,-28.9751\"/>\n</g>\n<!-- AZEL&#45;epoch,position -->\n<g id=\"node28\" class=\"node\">\n<title>AZEL&#45;epoch,position</title>\n<ellipse fill=\"none\" stroke=\"#000000\" cx=\"1361.797\" cy=\"-18\" rx=\"92.8835\" ry=\"18\"/>\n<text text-anchor=\"middle\" x=\"1361.797\" y=\"-14.3\" font-family=\"Times,serif\" font-size=\"14.00\" fill=\"#000000\">AZEL&#45;epoch,position</text>\n</g>\n<!-- reference code&#45;&gt;AZEL&#45;epoch,position -->\n<g id=\"edge47\" class=\"edge\">\n<title>reference code&#45;&gt;AZEL&#45;epoch,position</title>\n<path fill=\"none\" stroke=\"#000000\" d=\"M3154.7609,-89.2655C2880.2416,-85.9264 1801.5139,-70.8114 1463.797,-36 1455.0896,-35.1025 1446.0055,-33.8954 1437.0028,-32.529\"/>\n<polygon fill=\"#000000\" stroke=\"#000000\" points=\"1437.3222,-29.036 1426.8975,-30.9266 1436.2259,-35.9496 1437.3222,-29.036\"/>\n</g>\n<!-- SUPERGALACTIC -->\n<g id=\"node29\" class=\"node\">\n<title>SUPERGALACTIC</title>\n<ellipse fill=\"none\" stroke=\"#000000\" cx=\"1560.797\" cy=\"-18\" rx=\"88.2844\" ry=\"18\"/>\n<text text-anchor=\"middle\" x=\"1560.797\" y=\"-14.3\" font-family=\"Times,serif\" font-size=\"14.00\" fill=\"#000000\">SUPERGALACTIC</text>\n</g>\n<!-- reference code&#45;&gt;SUPERGALACTIC -->\n<g id=\"edge48\" class=\"edge\">\n<title>reference code&#45;&gt;SUPERGALACTIC</title>\n<path fill=\"none\" stroke=\"#000000\" d=\"M3155.0812,-89.0629C2900.4446,-85.1217 1955.3226,-68.5683 1657.797,-36 1649.5979,-35.1025 1641.0511,-33.9057 1632.5774,-32.554\"/>\n<polygon fill=\"#000000\" stroke=\"#000000\" points=\"1633.1286,-29.0977 1622.689,-30.9047 1631.9769,-36.0023 1633.1286,-29.0977\"/>\n</g>\n<!-- ECLIPTIC -->\n<g id=\"node30\" class=\"node\">\n<title>ECLIPTIC</title>\n<ellipse fill=\"none\" stroke=\"#000000\" cx=\"1718.797\" cy=\"-18\" rx=\"51.9908\" ry=\"18\"/>\n<text text-anchor=\"middle\" x=\"1718.797\" y=\"-14.3\" font-family=\"Times,serif\" font-size=\"14.00\" fill=\"#000000\">ECLIPTIC</text>\n</g>\n<!-- reference code&#45;&gt;ECLIPTIC -->\n<g id=\"edge49\" class=\"edge\">\n<title>reference code&#45;&gt;ECLIPTIC</title>\n<path fill=\"none\" stroke=\"#000000\" d=\"M3155.068,-89.7177C2912.955,-88.3178 2050.2636,-80.2651 1779.797,-36 1775.3242,-35.268 1770.7175,-34.3079 1766.1349,-33.2118\"/>\n<polygon fill=\"#000000\" stroke=\"#000000\" points=\"1766.7612,-29.7584 1756.2023,-30.6306 1765.0005,-36.5334 1766.7612,-29.7584\"/>\n</g>\n<!-- MECLIPTIC&#45;epoch -->\n<g id=\"node31\" class=\"node\">\n<title>MECLIPTIC&#45;epoch</title>\n<ellipse fill=\"none\" stroke=\"#000000\" cx=\"1874.797\" cy=\"-18\" rx=\"85.5853\" ry=\"18\"/>\n<text text-anchor=\"middle\" x=\"1874.797\" y=\"-14.3\" font-family=\"Times,serif\" font-size=\"14.00\" fill=\"#000000\">MECLIPTIC&#45;epoch</text>\n</g>\n<!-- reference code&#45;&gt;MECLIPTIC&#45;epoch -->\n<g id=\"edge50\" class=\"edge\">\n<title>reference code&#45;&gt;MECLIPTIC&#45;epoch</title>\n<path fill=\"none\" stroke=\"#000000\" d=\"M3155.0537,-88.4597C2934.2769,-82.9347 2203.053,-62.9979 1969.797,-36 1961.8541,-35.0807 1953.5781,-33.8803 1945.3679,-32.5353\"/>\n<polygon fill=\"#000000\" stroke=\"#000000\" points=\"1945.8598,-29.0686 1935.4127,-30.832 1944.6793,-35.9684 1945.8598,-29.0686\"/>\n</g>\n<!-- TECLIPTIC&#45;epoch -->\n<g id=\"node32\" class=\"node\">\n<title>TECLIPTIC&#45;epoch</title>\n<ellipse fill=\"none\" stroke=\"#000000\" cx=\"2061.797\" cy=\"-18\" rx=\"83.3857\" ry=\"18\"/>\n<text text-anchor=\"middle\" x=\"2061.797\" y=\"-14.3\" font-family=\"Times,serif\" font-size=\"14.00\" fill=\"#000000\">TECLIPTIC&#45;epoch</text>\n</g>\n<!-- reference code&#45;&gt;TECLIPTIC&#45;epoch -->\n<g id=\"edge51\" class=\"edge\">\n<title>reference code&#45;&gt;TECLIPTIC&#45;epoch</title>\n<path fill=\"none\" stroke=\"#000000\" d=\"M3155.375,-87.9528C2957.069,-81.3669 2350.3404,-59.7663 2154.797,-36 2147.1062,-35.0653 2139.0967,-33.865 2131.1461,-32.5286\"/>\n<polygon fill=\"#000000\" stroke=\"#000000\" points=\"2131.5896,-29.053 2121.1353,-30.7727 2130.3802,-35.9478 2131.5896,-29.053\"/>\n</g>\n<!-- PLANET&#45;epoch,[position] -->\n<g id=\"node33\" class=\"node\">\n<title>PLANET&#45;epoch,[position]</title>\n<ellipse fill=\"none\" stroke=\"#000000\" cx=\"2273.797\" cy=\"-18\" rx=\"110.4804\" ry=\"18\"/>\n<text text-anchor=\"middle\" x=\"2273.797\" y=\"-14.3\" font-family=\"Times,serif\" font-size=\"14.00\" fill=\"#000000\">PLANET&#45;epoch,[position]</text>\n</g>\n<!-- reference code&#45;&gt;PLANET&#45;epoch,[position] -->\n<g id=\"edge52\" class=\"edge\">\n<title>reference code&#45;&gt;PLANET&#45;epoch,[position]</title>\n<path fill=\"none\" stroke=\"#000000\" d=\"M3155.5063,-87.6616C3017.0692,-82.1513 2677.082,-66.4637 2393.797,-36 2383.559,-34.899 2372.8559,-33.5623 2362.2385,-32.1199\"/>\n<polygon fill=\"#000000\" stroke=\"#000000\" points=\"2362.4903,-28.6213 2352.1032,-30.709 2361.5251,-35.5545 2362.4903,-28.6213\"/>\n</g>\n<!-- ITRF -->\n<g id=\"node34\" class=\"node\">\n<title>ITRF</title>\n<ellipse fill=\"none\" stroke=\"#000000\" cx=\"2433.797\" cy=\"-18\" rx=\"31.3957\" ry=\"18\"/>\n<text text-anchor=\"middle\" x=\"2433.797\" y=\"-14.3\" font-family=\"Times,serif\" font-size=\"14.00\" fill=\"#000000\">ITRF</text>\n</g>\n<!-- reference code&#45;&gt;ITRF -->\n<g id=\"edge53\" class=\"edge\">\n<title>reference code&#45;&gt;ITRF</title>\n<path fill=\"none\" stroke=\"#000000\" d=\"M3155.2287,-88.2425C2999.463,-83.4787 2602.1147,-68.4378 2473.797,-36 2471.3422,-35.3794 2468.8502,-34.6164 2466.3723,-33.7584\"/>\n<polygon fill=\"#000000\" stroke=\"#000000\" points=\"2467.5795,-30.4724 2456.992,-30.0789 2465.0233,-36.989 2467.5795,-30.4724\"/>\n</g>\n<!-- WGS84 -->\n<g id=\"node35\" class=\"node\">\n<title>WGS84</title>\n<ellipse fill=\"none\" stroke=\"#000000\" cx=\"2524.797\" cy=\"-18\" rx=\"41.6928\" ry=\"18\"/>\n<text text-anchor=\"middle\" x=\"2524.797\" y=\"-14.3\" font-family=\"Times,serif\" font-size=\"14.00\" fill=\"#000000\">WGS84</text>\n</g>\n<!-- reference code&#45;&gt;WGS84 -->\n<g id=\"edge54\" class=\"edge\">\n<title>reference code&#45;&gt;WGS84</title>\n<path fill=\"none\" stroke=\"#000000\" d=\"M3156.0902,-86.8363C3016.6528,-79.4613 2684.5582,-59.9237 2574.797,-36 2571.5519,-35.2927 2568.2306,-34.4283 2564.9189,-33.4651\"/>\n<polygon fill=\"#000000\" stroke=\"#000000\" points=\"2565.6884,-30.037 2555.0978,-30.337 2563.564,-36.7069 2565.6884,-30.037\"/>\n</g>\n<!-- UTC -->\n<g id=\"node36\" class=\"node\">\n<title>UTC</title>\n<ellipse fill=\"none\" stroke=\"#000000\" cx=\"2613.797\" cy=\"-18\" rx=\"29.795\" ry=\"18\"/>\n<text text-anchor=\"middle\" x=\"2613.797\" y=\"-14.3\" font-family=\"Times,serif\" font-size=\"14.00\" fill=\"#000000\">UTC</text>\n</g>\n<!-- reference code&#45;&gt;UTC -->\n<g id=\"edge55\" class=\"edge\">\n<title>reference code&#45;&gt;UTC</title>\n<path fill=\"none\" stroke=\"#000000\" d=\"M3155.9731,-86.6751C3029.0727,-79.5225 2746.3065,-61.2527 2652.797,-36 2650.4887,-35.3766 2648.1469,-34.6271 2645.8161,-33.7927\"/>\n<polygon fill=\"#000000\" stroke=\"#000000\" points=\"2646.994,-30.4937 2636.4111,-29.9912 2644.3707,-36.9836 2646.994,-30.4937\"/>\n</g>\n<!-- TAI -->\n<g id=\"node37\" class=\"node\">\n<title>TAI</title>\n<ellipse fill=\"none\" stroke=\"#000000\" cx=\"2688.797\" cy=\"-18\" rx=\"27\" ry=\"18\"/>\n<text text-anchor=\"middle\" x=\"2688.797\" y=\"-14.3\" font-family=\"Times,serif\" font-size=\"14.00\" fill=\"#000000\">TAI</text>\n</g>\n<!-- reference code&#45;&gt;TAI -->\n<g id=\"edge56\" class=\"edge\">\n<title>reference code&#45;&gt;TAI</title>\n<path fill=\"none\" stroke=\"#000000\" d=\"M3156.507,-85.9475C3042.3987,-78.0685 2804.2503,-59.3869 2724.797,-36 2722.6729,-35.3748 2720.523,-34.6285 2718.3864,-33.8008\"/>\n<polygon fill=\"#000000\" stroke=\"#000000\" points=\"2719.787,-30.5933 2709.224,-29.773 2716.9699,-37.0015 2719.787,-30.5933\"/>\n</g>\n<!-- LAST&#45;position -->\n<g id=\"node38\" class=\"node\">\n<title>LAST&#45;position</title>\n<ellipse fill=\"none\" stroke=\"#000000\" cx=\"2800.797\" cy=\"-18\" rx=\"66.8882\" ry=\"18\"/>\n<text text-anchor=\"middle\" x=\"2800.797\" y=\"-14.3\" font-family=\"Times,serif\" font-size=\"14.00\" fill=\"#000000\">LAST&#45;position</text>\n</g>\n<!-- reference code&#45;&gt;LAST&#45;position -->\n<g id=\"edge57\" class=\"edge\">\n<title>reference code&#45;&gt;LAST&#45;position</title>\n<path fill=\"none\" stroke=\"#000000\" d=\"M3161.0753,-82.2506C3092.8942,-72.7821 2976.172,-55.5841 2876.797,-36 2871.3924,-34.9349 2865.7893,-33.7546 2860.1866,-32.5224\"/>\n<polygon fill=\"#000000\" stroke=\"#000000\" points=\"2860.6701,-29.0437 2850.1455,-30.2621 2859.1328,-35.8728 2860.6701,-29.0437\"/>\n</g>\n<!-- LMST&#45;position -->\n<g id=\"node39\" class=\"node\">\n<title>LMST&#45;position</title>\n<ellipse fill=\"none\" stroke=\"#000000\" cx=\"2953.797\" cy=\"-18\" rx=\"68.4888\" ry=\"18\"/>\n<text text-anchor=\"middle\" x=\"2953.797\" y=\"-14.3\" font-family=\"Times,serif\" font-size=\"14.00\" fill=\"#000000\">LMST&#45;position</text>\n</g>\n<!-- reference code&#45;&gt;LMST&#45;position -->\n<g id=\"edge58\" class=\"edge\">\n<title>reference code&#45;&gt;LMST&#45;position</title>\n<path fill=\"none\" stroke=\"#000000\" d=\"M3172.6375,-77.4586C3127.8271,-65.2837 3059.6811,-46.7685 3011.3538,-33.6381\"/>\n<polygon fill=\"#000000\" stroke=\"#000000\" points=\"3012.2297,-30.2492 3001.6618,-31.0048 3010.3943,-37.0043 3012.2297,-30.2492\"/>\n</g>\n<!-- GMST1 -->\n<g id=\"node40\" class=\"node\">\n<title>GMST1</title>\n<ellipse fill=\"none\" stroke=\"#000000\" cx=\"3081.797\" cy=\"-18\" rx=\"42.4939\" ry=\"18\"/>\n<text text-anchor=\"middle\" x=\"3081.797\" y=\"-14.3\" font-family=\"Times,serif\" font-size=\"14.00\" fill=\"#000000\">GMST1</text>\n</g>\n<!-- reference code&#45;&gt;GMST1 -->\n<g id=\"edge59\" class=\"edge\">\n<title>reference code&#45;&gt;GMST1</title>\n<path fill=\"none\" stroke=\"#000000\" d=\"M3188.3923,-74.0209C3167.4233,-63.0007 3139.471,-48.3104 3117.4512,-36.738\"/>\n<polygon fill=\"#000000\" stroke=\"#000000\" points=\"3118.8953,-33.5431 3108.4151,-31.9891 3115.6388,-39.7395 3118.8953,-33.5431\"/>\n</g>\n<!-- GAST -->\n<g id=\"node41\" class=\"node\">\n<title>GAST</title>\n<ellipse fill=\"none\" stroke=\"#000000\" cx=\"3177.797\" cy=\"-18\" rx=\"35.9954\" ry=\"18\"/>\n<text text-anchor=\"middle\" x=\"3177.797\" y=\"-14.3\" font-family=\"Times,serif\" font-size=\"14.00\" fill=\"#000000\">GAST</text>\n</g>\n<!-- reference code&#45;&gt;GAST -->\n<g id=\"edge60\" class=\"edge\">\n<title>reference code&#45;&gt;GAST</title>\n<path fill=\"none\" stroke=\"#000000\" d=\"M3208.6622,-72.2022C3203.8602,-63.7695 3198.0285,-53.5285 3192.7328,-44.2288\"/>\n<polygon fill=\"#000000\" stroke=\"#000000\" points=\"3195.6637,-42.3025 3187.6738,-35.3446 3189.5808,-45.7664 3195.6637,-42.3025\"/>\n</g>\n<!-- UT1 -->\n<g id=\"node42\" class=\"node\">\n<title>UT1</title>\n<ellipse fill=\"none\" stroke=\"#000000\" cx=\"3259.797\" cy=\"-18\" rx=\"28.6953\" ry=\"18\"/>\n<text text-anchor=\"middle\" x=\"3259.797\" y=\"-14.3\" font-family=\"Times,serif\" font-size=\"14.00\" fill=\"#000000\">UT1</text>\n</g>\n<!-- reference code&#45;&gt;UT1 -->\n<g id=\"edge61\" class=\"edge\">\n<title>reference code&#45;&gt;UT1</title>\n<path fill=\"none\" stroke=\"#000000\" d=\"M3228.9318,-72.2022C3233.7694,-63.7071 3239.6519,-53.3767 3244.9788,-44.0223\"/>\n<polygon fill=\"#000000\" stroke=\"#000000\" points=\"3248.1541,-45.519 3250.0611,-35.0972 3242.0712,-42.0551 3248.1541,-45.519\"/>\n</g>\n<!-- UT2 -->\n<g id=\"node43\" class=\"node\">\n<title>UT2</title>\n<ellipse fill=\"none\" stroke=\"#000000\" cx=\"3334.797\" cy=\"-18\" rx=\"28.6953\" ry=\"18\"/>\n<text text-anchor=\"middle\" x=\"3334.797\" y=\"-14.3\" font-family=\"Times,serif\" font-size=\"14.00\" fill=\"#000000\">UT2</text>\n</g>\n<!-- reference code&#45;&gt;UT2 -->\n<g id=\"edge62\" class=\"edge\">\n<title>reference code&#45;&gt;UT2</title>\n<path fill=\"none\" stroke=\"#000000\" d=\"M3245.4097,-73.4817C3263.3444,-62.3499 3287.0087,-47.6617 3305.4832,-36.1948\"/>\n<polygon fill=\"#000000\" stroke=\"#000000\" points=\"3307.4372,-39.1014 3314.0878,-30.854 3303.7456,-33.1539 3307.4372,-39.1014\"/>\n</g>\n<!-- TDT -->\n<g id=\"node44\" class=\"node\">\n<title>TDT</title>\n<ellipse fill=\"none\" stroke=\"#000000\" cx=\"3410.797\" cy=\"-18\" rx=\"29.4969\" ry=\"18\"/>\n<text text-anchor=\"middle\" x=\"3410.797\" y=\"-14.3\" font-family=\"Times,serif\" font-size=\"14.00\" fill=\"#000000\">TDT</text>\n</g>\n<!-- reference code&#45;&gt;TDT -->\n<g id=\"edge63\" class=\"edge\">\n<title>reference code&#45;&gt;TDT</title>\n<path fill=\"none\" stroke=\"#000000\" d=\"M3261.0759,-76.5074C3292.2713,-66.2311 3335.5835,-51.2887 3372.797,-36 3374.6201,-35.251 3376.4814,-34.4598 3378.3524,-33.6435\"/>\n<polygon fill=\"#000000\" stroke=\"#000000\" points=\"3379.9898,-36.7444 3387.6584,-29.4339 3377.1047,-30.3666 3379.9898,-36.7444\"/>\n</g>\n<!-- TCG -->\n<g id=\"node45\" class=\"node\">\n<title>TCG</title>\n<ellipse fill=\"none\" stroke=\"#000000\" cx=\"3487.797\" cy=\"-18\" rx=\"29.795\" ry=\"18\"/>\n<text text-anchor=\"middle\" x=\"3487.797\" y=\"-14.3\" font-family=\"Times,serif\" font-size=\"14.00\" fill=\"#000000\">TCG</text>\n</g>\n<!-- reference code&#45;&gt;TCG -->\n<g id=\"edge64\" class=\"edge\">\n<title>reference code&#45;&gt;TCG</title>\n<path fill=\"none\" stroke=\"#000000\" d=\"M3273.1112,-80.462C3320.2765,-71.4235 3390.0406,-56.2245 3448.797,-36 3450.9168,-35.2704 3453.0765,-34.4639 3455.2376,-33.6086\"/>\n<polygon fill=\"#000000\" stroke=\"#000000\" points=\"3456.7636,-36.7632 3464.6011,-29.6341 3454.0284,-30.3196 3456.7636,-36.7632\"/>\n</g>\n<!-- TDB -->\n<g id=\"node46\" class=\"node\">\n<title>TDB</title>\n<ellipse fill=\"none\" stroke=\"#000000\" cx=\"3565.797\" cy=\"-18\" rx=\"29.795\" ry=\"18\"/>\n<text text-anchor=\"middle\" x=\"3565.797\" y=\"-14.3\" font-family=\"Times,serif\" font-size=\"14.00\" fill=\"#000000\">TDB</text>\n</g>\n<!-- reference code&#45;&gt;TDB -->\n<g id=\"edge65\" class=\"edge\">\n<title>reference code&#45;&gt;TDB</title>\n<path fill=\"none\" stroke=\"#000000\" d=\"M3279.2199,-84.0851C3342.126,-76.8495 3442.9862,-62.2 3526.797,-36 3528.9367,-35.3311 3531.1117,-34.5711 3533.2842,-33.7506\"/>\n<polygon fill=\"#000000\" stroke=\"#000000\" points=\"3534.7759,-36.9211 3542.6755,-29.8608 3532.0973,-30.4539 3534.7759,-36.9211\"/>\n</g>\n<!-- TCD -->\n<g id=\"node47\" class=\"node\">\n<title>TCD</title>\n<ellipse fill=\"none\" stroke=\"#000000\" cx=\"3643.797\" cy=\"-18\" rx=\"29.795\" ry=\"18\"/>\n<text text-anchor=\"middle\" x=\"3643.797\" y=\"-14.3\" font-family=\"Times,serif\" font-size=\"14.00\" fill=\"#000000\">TCD</text>\n</g>\n<!-- reference code&#45;&gt;TCD -->\n<g id=\"edge66\" class=\"edge\">\n<title>reference code&#45;&gt;TCD</title>\n<path fill=\"none\" stroke=\"#000000\" d=\"M3281.8234,-86.8565C3359.2414,-81.7108 3493.94,-68.5628 3604.797,-36 3607.091,-35.3262 3609.4222,-34.5387 3611.7452,-33.6768\"/>\n<polygon fill=\"#000000\" stroke=\"#000000\" points=\"3613.2172,-36.8559 3621.1329,-29.8137 3610.5533,-30.3826 3613.2172,-36.8559\"/>\n</g>\n<!-- LSRK&#45;direction -->\n<g id=\"node48\" class=\"node\">\n<title>LSRK&#45;direction</title>\n<ellipse fill=\"none\" stroke=\"#000000\" cx=\"3762.797\" cy=\"-18\" rx=\"70.6878\" ry=\"18\"/>\n<text text-anchor=\"middle\" x=\"3762.797\" y=\"-14.3\" font-family=\"Times,serif\" font-size=\"14.00\" fill=\"#000000\">LSRK&#45;direction</text>\n</g>\n<!-- reference code&#45;&gt;LSRK&#45;direction -->\n<g id=\"edge67\" class=\"edge\">\n<title>reference code&#45;&gt;LSRK&#45;direction</title>\n<path fill=\"none\" stroke=\"#000000\" d=\"M3279.4878,-84.4578C3367.0131,-76.4447 3533.2858,-59.9153 3673.797,-36 3681.3953,-34.7068 3689.3578,-33.1555 3697.2758,-31.5131\"/>\n<polygon fill=\"#000000\" stroke=\"#000000\" points=\"3698.1949,-34.896 3707.2507,-29.3966 3696.742,-28.0485 3698.1949,-34.896\"/>\n</g>\n<!-- reference code&#45;&gt;LSRK&#45;direction -->\n<g id=\"edge74\" class=\"edge\">\n<title>reference code&#45;&gt;LSRK&#45;direction</title>\n<path fill=\"none\" stroke=\"#000000\" d=\"M3280.4903,-85.4059C3371.2512,-77.7959 3545.4894,-60.9018 3691.797,-36 3696.2595,-35.2405 3700.8476,-34.3919 3705.444,-33.4882\"/>\n<polygon fill=\"#000000\" stroke=\"#000000\" points=\"3706.3795,-36.8694 3715.4743,-31.4348 3704.9755,-30.0116 3706.3795,-36.8694\"/>\n</g>\n<!-- LSRD&#45;direction -->\n<g id=\"node49\" class=\"node\">\n<title>LSRD&#45;direction</title>\n<ellipse fill=\"none\" stroke=\"#000000\" cx=\"3922.797\" cy=\"-18\" rx=\"70.6878\" ry=\"18\"/>\n<text text-anchor=\"middle\" x=\"3922.797\" y=\"-14.3\" font-family=\"Times,serif\" font-size=\"14.00\" fill=\"#000000\">LSRD&#45;direction</text>\n</g>\n<!-- reference code&#45;&gt;LSRD&#45;direction -->\n<g id=\"edge68\" class=\"edge\">\n<title>reference code&#45;&gt;LSRD&#45;direction</title>\n<path fill=\"none\" stroke=\"#000000\" d=\"M3281.9673,-87.0912C3393.8061,-81.5303 3633.3946,-67.0711 3833.797,-36 3841.5982,-34.7905 3849.7734,-33.2604 3857.886,-31.6053\"/>\n<polygon fill=\"#000000\" stroke=\"#000000\" points=\"3858.6552,-35.0202 3867.7213,-29.5377 3857.2151,-28.1699 3858.6552,-35.0202\"/>\n</g>\n<!-- reference code&#45;&gt;LSRD&#45;direction -->\n<g id=\"edge75\" class=\"edge\">\n<title>reference code&#45;&gt;LSRD&#45;direction</title>\n<path fill=\"none\" stroke=\"#000000\" d=\"M3282.3687,-87.5804C3396.9953,-82.4061 3645.216,-68.0291 3851.797,-36 3856.4746,-35.2748 3861.2867,-34.4343 3866.0997,-33.5207\"/>\n<polygon fill=\"#000000\" stroke=\"#000000\" points=\"3866.8165,-36.9467 3875.9376,-31.5563 3865.4458,-30.0822 3866.8165,-36.9467\"/>\n</g>\n<!-- BARY&#45;direction -->\n<g id=\"node50\" class=\"node\">\n<title>BARY&#45;direction</title>\n<ellipse fill=\"none\" stroke=\"#000000\" cx=\"4082.797\" cy=\"-18\" rx=\"71.4873\" ry=\"18\"/>\n<text text-anchor=\"middle\" x=\"4082.797\" y=\"-14.3\" font-family=\"Times,serif\" font-size=\"14.00\" fill=\"#000000\">BARY&#45;direction</text>\n</g>\n<!-- reference code&#45;&gt;BARY&#45;direction -->\n<g id=\"edge69\" class=\"edge\">\n<title>reference code&#45;&gt;BARY&#45;direction</title>\n<path fill=\"none\" stroke=\"#000000\" d=\"M3282.5388,-88.7823C3415.4841,-85.5846 3731.3888,-74.3293 3993.797,-36 4001.6085,-34.859 4009.7895,-33.3677 4017.905,-31.7315\"/>\n<polygon fill=\"#000000\" stroke=\"#000000\" points=\"4018.6688,-35.1475 4027.7423,-29.6775 4017.238,-28.2953 4018.6688,-35.1475\"/>\n</g>\n<!-- reference code&#45;&gt;BARY&#45;direction -->\n<g id=\"edge76\" class=\"edge\">\n<title>reference code&#45;&gt;BARY&#45;direction</title>\n<path fill=\"none\" stroke=\"#000000\" d=\"M3282.3979,-89.008C3417.6045,-86.1321 3742.8075,-75.2906 4011.797,-36 4016.4808,-35.3158 4021.2975,-34.5058 4026.1138,-33.614\"/>\n<polygon fill=\"#000000\" stroke=\"#000000\" points=\"4026.8175,-37.0427 4035.9567,-31.683 4025.4699,-30.1737 4026.8175,-37.0427\"/>\n</g>\n<!-- GEO&#45;direction,epoch -->\n<g id=\"node51\" class=\"node\">\n<title>GEO&#45;direction,epoch</title>\n<ellipse fill=\"none\" stroke=\"#000000\" cx=\"4262.797\" cy=\"-18\" rx=\"90.9839\" ry=\"18\"/>\n<text text-anchor=\"middle\" x=\"4262.797\" y=\"-14.3\" font-family=\"Times,serif\" font-size=\"14.00\" fill=\"#000000\">GEO&#45;direction,epoch</text>\n</g>\n<!-- reference code&#45;&gt;GEO&#45;direction,epoch -->\n<g id=\"edge70\" class=\"edge\">\n<title>reference code&#45;&gt;GEO&#45;direction,epoch</title>\n<path fill=\"none\" stroke=\"#000000\" d=\"M3282.4675,-88.9207C3433.9983,-85.8424 3827.3441,-74.5745 4153.797,-36 4163.7537,-34.8235 4174.2183,-33.2822 4184.5732,-31.596\"/>\n<polygon fill=\"#000000\" stroke=\"#000000\" points=\"4185.1628,-35.0461 4194.4472,-29.9421 4184.0064,-28.1422 4185.1628,-35.0461\"/>\n</g>\n<!-- reference code&#45;&gt;GEO&#45;direction,epoch -->\n<g id=\"edge77\" class=\"edge\">\n<title>reference code&#45;&gt;GEO&#45;direction,epoch</title>\n<path fill=\"none\" stroke=\"#000000\" d=\"M3282.5369,-89.0956C3436.2574,-86.2817 3838.8232,-75.345 4171.797,-36 4178.5648,-35.2003 4185.5673,-34.232 4192.5486,-33.1643\"/>\n<polygon fill=\"#000000\" stroke=\"#000000\" points=\"4193.4098,-36.5712 4202.7321,-31.5368 4192.3051,-29.6589 4193.4098,-36.5712\"/>\n</g>\n<!-- TOPO&#45;direction,epoch,position -->\n<g id=\"node52\" class=\"node\">\n<title>TOPO&#45;direction,epoch,position</title>\n<ellipse fill=\"none\" stroke=\"#000000\" cx=\"4500.797\" cy=\"-18\" rx=\"128.8774\" ry=\"18\"/>\n<text text-anchor=\"middle\" x=\"4500.797\" y=\"-14.3\" font-family=\"Times,serif\" font-size=\"14.00\" fill=\"#000000\">TOPO&#45;direction,epoch,position</text>\n</g>\n<!-- reference code&#45;&gt;TOPO&#45;direction,epoch,position -->\n<g id=\"edge71\" class=\"edge\">\n<title>reference code&#45;&gt;TOPO&#45;direction,epoch,position</title>\n<path fill=\"none\" stroke=\"#000000\" d=\"M3282.6112,-88.7447C3455.4508,-85.0501 3946.5459,-72.1095 4353.797,-36 4367.4502,-34.7894 4381.8292,-33.2314 4396.0397,-31.5395\"/>\n<polygon fill=\"#000000\" stroke=\"#000000\" points=\"4396.84,-34.968 4406.3445,-30.2868 4395.9952,-28.0192 4396.84,-34.968\"/>\n</g>\n<!-- reference code&#45;&gt;TOPO&#45;direction,epoch,position -->\n<g id=\"edge78\" class=\"edge\">\n<title>reference code&#45;&gt;TOPO&#45;direction,epoch,position</title>\n<path fill=\"none\" stroke=\"#000000\" d=\"M3282.5649,-88.9192C3457.3071,-85.4686 3957.8615,-72.7022 4371.797,-36 4382.4842,-35.0524 4393.616,-33.892 4404.6697,-32.621\"/>\n<polygon fill=\"#000000\" stroke=\"#000000\" points=\"4405.264,-36.0752 4414.7841,-31.4257 4404.4424,-29.1236 4405.264,-36.0752\"/>\n</g>\n<!-- GALACTO&#45;direction -->\n<g id=\"node53\" class=\"node\">\n<title>GALACTO&#45;direction</title>\n<ellipse fill=\"none\" stroke=\"#000000\" cx=\"4738.797\" cy=\"-18\" rx=\"91.784\" ry=\"18\"/>\n<text text-anchor=\"middle\" x=\"4738.797\" y=\"-14.3\" font-family=\"Times,serif\" font-size=\"14.00\" fill=\"#000000\">GALACTO&#45;direction</text>\n</g>\n<!-- reference code&#45;&gt;GALACTO&#45;direction -->\n<g id=\"edge72\" class=\"edge\">\n<title>reference code&#45;&gt;GALACTO&#45;direction</title>\n<path fill=\"none\" stroke=\"#000000\" d=\"M3282.3804,-88.7677C3521.9701,-83.9398 4370.2294,-65.1326 4638.797,-36 4647.1793,-35.0907 4655.9174,-33.8935 4664.5863,-32.5476\"/>\n<polygon fill=\"#000000\" stroke=\"#000000\" points=\"4665.3944,-35.9624 4674.7057,-30.9077 4664.2745,-29.0526 4665.3944,-35.9624\"/>\n</g>\n<!-- REST&#45;direction,radialvelocity -->\n<g id=\"node54\" class=\"node\">\n<title>REST&#45;direction,radialvelocity</title>\n<ellipse fill=\"none\" stroke=\"#000000\" cx=\"4969.797\" cy=\"-18\" rx=\"121.5784\" ry=\"18\"/>\n<text text-anchor=\"middle\" x=\"4969.797\" y=\"-14.3\" font-family=\"Times,serif\" font-size=\"14.00\" fill=\"#000000\">REST&#45;direction,radialvelocity</text>\n</g>\n<!-- reference code&#45;&gt;REST&#45;direction,radialvelocity -->\n<g id=\"edge73\" class=\"edge\">\n<title>reference code&#45;&gt;REST&#45;direction,radialvelocity</title>\n<path fill=\"none\" stroke=\"#000000\" d=\"M3282.4899,-88.2721C3563.1997,-80.6034 4682.9506,-49.4342 4839.797,-36 4851.3252,-35.0126 4863.3951,-33.7086 4875.3382,-32.2526\"/>\n<polygon fill=\"#000000\" stroke=\"#000000\" points=\"4875.8404,-35.7171 4885.3259,-30.9973 4874.9675,-28.7717 4875.8404,-35.7171\"/>\n</g>\n<!-- GALACTO -->\n<g id=\"node55\" class=\"node\">\n<title>GALACTO</title>\n<ellipse fill=\"none\" stroke=\"#000000\" cx=\"5164.797\" cy=\"-18\" rx=\"55.7903\" ry=\"18\"/>\n<text text-anchor=\"middle\" x=\"5164.797\" y=\"-14.3\" font-family=\"Times,serif\" font-size=\"14.00\" fill=\"#000000\">GALACTO</text>\n</g>\n<!-- reference code&#45;&gt;GALACTO -->\n<g id=\"edge79\" class=\"edge\">\n<title>reference code&#45;&gt;GALACTO</title>\n<path fill=\"none\" stroke=\"#000000\" d=\"M3282.4038,-88.3883C3605.8743,-80.166 5054.8772,-43.0071 5100.797,-36 5105.5393,-35.2763 5110.4288,-34.3132 5115.2925,-33.2074\"/>\n<polygon fill=\"#000000\" stroke=\"#000000\" points=\"5116.3133,-36.5606 5125.1846,-30.7684 5114.6374,-29.7642 5116.3133,-36.5606\"/>\n</g>\n</g>\n</svg>\n"
          },
          "metadata": {
            "tags": []
          },
          "execution_count": 13
        }
      ]
    },
    {
      "cell_type": "markdown",
      "metadata": {
        "id": "AbzIdZqgkfoT",
        "colab_type": "text"
      },
      "source": [
        "### ZINC\n",
        "\n",
        "MutableMapping corresponds to all the coordinate transformations\n",
        "\n"
      ]
    },
    {
      "cell_type": "code",
      "metadata": {
        "id": "9PkslJCP_erC",
        "colab_type": "code",
        "colab": {}
      },
      "source": [
        "import cngi.vis\n",
        "import cngi.image"
      ],
      "execution_count": 0,
      "outputs": []
    },
    {
      "cell_type": "code",
      "metadata": {
        "id": "9rX7iigL2ybN",
        "colab_type": "code",
        "outputId": "5353771c-4896-486a-92ae-275b31020f19",
        "colab": {
          "base_uri": "https://localhost:8080/",
          "height": 851
        }
      },
      "source": [
        "print(vis_xds)"
      ],
      "execution_count": 15,
      "outputs": [
        {
          "output_type": "stream",
          "text": [
            "<xarray.Dataset>\n",
            "Dimensions:        (baseline: 210, chan: 384, pair: 2, pol: 2, receptor: 2, spw: 1, time: 270, uvw_index: 3)\n",
            "Coordinates:\n",
            "    antennas       (baseline, pair) int32 dask.array<chunksize=(210, 2), meta=np.ndarray>\n",
            "  * baseline       (baseline) int64 0 1 2 3 4 5 6 ... 204 205 206 207 208 209\n",
            "  * chan           (chan) float64 3.725e+11 3.725e+11 ... 3.728e+11 3.728e+11\n",
            "    chan_width     (chan) float64 dask.array<chunksize=(384,), meta=np.ndarray>\n",
            "    corr_product   (receptor, pol) int32 dask.array<chunksize=(2, 2), meta=np.ndarray>\n",
            "    effective_bw   (chan) float64 dask.array<chunksize=(384,), meta=np.ndarray>\n",
            "    field          (time) <U6 dask.array<chunksize=(270,), meta=np.ndarray>\n",
            "    interval       (time) float64 dask.array<chunksize=(270,), meta=np.ndarray>\n",
            "    observation    (time) <U22 dask.array<chunksize=(270,), meta=np.ndarray>\n",
            "  * pol            (pol) int32 9 12\n",
            "    processor      (time) <U14 dask.array<chunksize=(270,), meta=np.ndarray>\n",
            "    resolution     (chan) float64 dask.array<chunksize=(384,), meta=np.ndarray>\n",
            "    scan           (time) int32 dask.array<chunksize=(270,), meta=np.ndarray>\n",
            "  * spw            (spw) int32 0\n",
            "    state          (time) <U82 dask.array<chunksize=(270,), meta=np.ndarray>\n",
            "  * time           (time) float64 4.86e+09 4.86e+09 ... 4.86e+09 4.86e+09\n",
            "  * uvw_index      (uvw_index) <U2 'uu' 'vv' 'ww'\n",
            "Dimensions without coordinates: pair, receptor\n",
            "Data variables:\n",
            "    ANTENNA1       (time, baseline) int32 dask.array<chunksize=(270, 210), meta=np.ndarray>\n",
            "    ANTENNA2       (time, baseline) int32 dask.array<chunksize=(270, 210), meta=np.ndarray>\n",
            "    ARRAY_ID       (time, baseline) int32 dask.array<chunksize=(270, 210), meta=np.ndarray>\n",
            "    DATA           (time, baseline, chan, pol) complex128 dask.array<chunksize=(270, 210, 12, 2), meta=np.ndarray>\n",
            "    EXPOSURE       (time, baseline) float64 dask.array<chunksize=(270, 210), meta=np.ndarray>\n",
            "    FEED1          (time, baseline) int32 dask.array<chunksize=(270, 210), meta=np.ndarray>\n",
            "    FEED2          (time, baseline) int32 dask.array<chunksize=(270, 210), meta=np.ndarray>\n",
            "    FLAG           (time, baseline, chan, pol) bool dask.array<chunksize=(270, 210, 12, 2), meta=np.ndarray>\n",
            "    FLAG_ROW       (time, baseline) bool dask.array<chunksize=(270, 210), meta=np.ndarray>\n",
            "    SIGMA          (time, baseline, pol) float64 dask.array<chunksize=(270, 210, 2), meta=np.ndarray>\n",
            "    TIME_CENTROID  (time, baseline) float64 dask.array<chunksize=(270, 210), meta=np.ndarray>\n",
            "    UVW            (time, baseline, uvw_index) float64 dask.array<chunksize=(270, 210, 3), meta=np.ndarray>\n",
            "    WEIGHT         (time, baseline, pol) float64 dask.array<chunksize=(270, 210, 2), meta=np.ndarray>\n",
            "Attributes:\n",
            "    AUTO_CORRELATIONS:  0\n",
            "    BBC_NO:             2\n",
            "    DDI:                0\n",
            "    FREQ_GROUP:         0\n",
            "    FREQ_GROUP_NAME:    \n",
            "    IF_CONV_CHAIN:      0\n",
            "    MEAS_FREQ_REF:      1\n",
            "    NAME:               ALMA_RB_07#BB_2#SW-01#FULL_RES\n",
            "    NET_SIDEBAND:       2\n",
            "    NUM_CHAN:           384\n",
            "    REF_FREQUENCY:      372520022603.63745\n",
            "    TOTAL_BANDWIDTH:    234366781.0546875\n"
          ],
          "name": "stdout"
        }
      ]
    },
    {
      "cell_type": "code",
      "metadata": {
        "id": "i62EN5_a3L_j",
        "colab_type": "code",
        "outputId": "50e36532-338f-47ae-985d-d251461e9f08",
        "colab": {
          "base_uri": "https://localhost:8080/",
          "height": 296
        }
      },
      "source": [
        "cngi.vis.visualize(vis_xds.chan, 'chan_width')"
      ],
      "execution_count": 16,
      "outputs": [
        {
          "output_type": "display_data",
          "data": {
            "image/png": "[encoded data removed]",
            "text/plain": [
              "<Figure size 432x288 with 1 Axes>"
            ]
          },
          "metadata": {
            "tags": []
          }
        }
      ]
    },
    {
      "cell_type": "code",
      "metadata": {
        "id": "XyWdBjsFH2la",
        "colab_type": "code",
        "colab": {}
      },
      "source": [
        "#vis_xds.attrs['unit_map':{}]"
      ],
      "execution_count": 0,
      "outputs": []
    },
    {
      "cell_type": "markdown",
      "metadata": {
        "id": "txOOIGTo24YN",
        "colab_type": "text"
      },
      "source": [
        "We also have access to the global properties of the observation"
      ]
    },
    {
      "cell_type": "code",
      "metadata": {
        "id": "zo1y9t1I23ET",
        "colab_type": "code",
        "outputId": "ed58a266-4c34-42c5-ec5f-8a4c082944d7",
        "colab": {
          "base_uri": "https://localhost:8080/",
          "height": 1000
        }
      },
      "source": [
        "print(global_xds)"
      ],
      "execution_count": 18,
      "outputs": [
        {
          "output_type": "stream",
          "text": [
            "<xarray.Dataset>\n",
            "Dimensions:                 (antenna: 26, d1: 1, d2: 2, d3: 3, feed: 1, field: 1, observation: 1, processor: 3, receptors: 3, source: 1, spw: 1, state: 20, time_fcmd: 5067, time_hist: 1137)\n",
            "Coordinates:\n",
            "  * antenna                 (antenna) int64 0 1 2 3 4 5 6 ... 20 21 22 23 24 25\n",
            "  * feed                    (feed) int64 0\n",
            "  * field                   (field) <U6 'TW Hya'\n",
            "  * observation             (observation) <U22 'uid://A002/X327408/X6f'\n",
            "  * processor               (processor) <U14 'CORRELATOR (0)' ... 'CORRELATOR (2)'\n",
            "  * receptors               (receptors) int64 0 1 2\n",
            "  * source                  (source) int32 0\n",
            "  * spw                     (spw) int64 0\n",
            "  * state                   (state) <U82 'CALIBRATE_BANDPASS#ON_SOURCE,CALIBRATE_PHASE#ON_SOURCE,CALIBRATE_WVR#ON_SOURCE (0)' ... 'OBSERVE_TARGET#ON_SOURCE (19)'\n",
            "  * time_fcmd               (time_fcmd) float64 4.86e+09 4.86e+09 ... 4.86e+09\n",
            "  * time_hist               (time_hist) float64 4.861e+09 ... 5.077e+09\n",
            "Dimensions without coordinates: d1, d2, d3\n",
            "Data variables:\n",
            "    ANT_DISH_DIAMETER       (antenna) float64 dask.array<chunksize=(26,), meta=np.ndarray>\n",
            "    ANT_FLAG_ROW            (antenna) bool dask.array<chunksize=(26,), meta=np.ndarray>\n",
            "    ANT_MOUNT               (antenna) <U16 dask.array<chunksize=(26,), meta=np.ndarray>\n",
            "    ANT_NAME                (antenna) <U16 dask.array<chunksize=(26,), meta=np.ndarray>\n",
            "    ANT_OFFSET              (antenna, d3) float64 dask.array<chunksize=(26, 3), meta=np.ndarray>\n",
            "    ANT_POSITION            (antenna, d3) float64 dask.array<chunksize=(26, 3), meta=np.ndarray>\n",
            "    ANT_STATION             (antenna) <U16 dask.array<chunksize=(26,), meta=np.ndarray>\n",
            "    ANT_TYPE                (antenna) <U16 dask.array<chunksize=(26,), meta=np.ndarray>\n",
            "    FCMD_APPLICATION        (time_hist) <U16 dask.array<chunksize=(1137,), meta=np.ndarray>\n",
            "    FCMD_APPLIED            (time_fcmd) bool dask.array<chunksize=(5067,), meta=np.ndarray>\n",
            "    FCMD_COMMAND            (time_fcmd) <U75 dask.array<chunksize=(1267,), meta=np.ndarray>\n",
            "    FCMD_INTERVAL           (time_fcmd) float64 dask.array<chunksize=(5067,), meta=np.ndarray>\n",
            "    FCMD_LEVEL              (time_fcmd) int32 dask.array<chunksize=(5067,), meta=np.ndarray>\n",
            "    FCMD_MESSAGE            (time_hist) <U188 dask.array<chunksize=(285,), meta=np.ndarray>\n",
            "    FCMD_OBJECT_ID          (time_hist) int32 dask.array<chunksize=(1137,), meta=np.ndarray>\n",
            "    FCMD_OBSERVATION_ID     (time_hist) int32 dask.array<chunksize=(1137,), meta=np.ndarray>\n",
            "    FCMD_ORIGIN             (time_hist) <U24 dask.array<chunksize=(1137,), meta=np.ndarray>\n",
            "    FCMD_PRIORITY           (time_hist) <U16 dask.array<chunksize=(1137,), meta=np.ndarray>\n",
            "    FCMD_REASON             (time_fcmd) <U47 dask.array<chunksize=(1267,), meta=np.ndarray>\n",
            "    FCMD_SEVERITY           (time_fcmd) int32 dask.array<chunksize=(5067,), meta=np.ndarray>\n",
            "    FCMD_TYPE               (time_fcmd) <U16 dask.array<chunksize=(2534,), meta=np.ndarray>\n",
            "    FEED_BEAM_ID            (spw, antenna, feed) int32 dask.array<chunksize=(1, 26, 1), meta=np.ndarray>\n",
            "    FEED_BEAM_OFFSET        (spw, antenna, feed, d2, receptors) float64 dask.array<chunksize=(1, 26, 1, 2, 3), meta=np.ndarray>\n",
            "    FEED_INTERVAL           (spw, antenna, feed) float64 dask.array<chunksize=(1, 26, 1), meta=np.ndarray>\n",
            "    FEED_NUM_RECEPTORS      (spw, antenna, feed) int32 dask.array<chunksize=(1, 26, 1), meta=np.ndarray>\n",
            "    FEED_POLARIZATION_TYPE  (spw, antenna, feed, receptors) <U16 dask.array<chunksize=(1, 26, 1, 3), meta=np.ndarray>\n",
            "    FEED_POL_RESPONSE       (spw, antenna, feed, receptors, receptors) complex128 dask.array<chunksize=(1, 26, 1, 3, 3), meta=np.ndarray>\n",
            "    FEED_POSITION           (spw, antenna, feed, d3) float64 dask.array<chunksize=(1, 26, 1, 3), meta=np.ndarray>\n",
            "    FEED_RECEPTOR_ANGLE     (spw, antenna, feed, receptors) float64 dask.array<chunksize=(1, 26, 1, 3), meta=np.ndarray>\n",
            "    FEED_TIME               (spw, antenna, feed) float64 dask.array<chunksize=(1, 26, 1), meta=np.ndarray>\n",
            "    FIELD_CODE              (field) <U16 dask.array<chunksize=(1,), meta=np.ndarray>\n",
            "    FIELD_DELAY_DIR         (field, d2, d1) float64 dask.array<chunksize=(1, 2, 1), meta=np.ndarray>\n",
            "    FIELD_DelayDir_Ref      (field) int32 dask.array<chunksize=(1,), meta=np.ndarray>\n",
            "    FIELD_FLAG_ROW          (field) bool dask.array<chunksize=(1,), meta=np.ndarray>\n",
            "    FIELD_NUM_POLY          (field) int32 dask.array<chunksize=(1,), meta=np.ndarray>\n",
            "    FIELD_PHASE_DIR         (field, d2, d1) float64 dask.array<chunksize=(1, 2, 1), meta=np.ndarray>\n",
            "    FIELD_PhaseDir_Ref      (field) int32 dask.array<chunksize=(1,), meta=np.ndarray>\n",
            "    FIELD_REFERENCE_DIR     (field, d2, d1) float64 dask.array<chunksize=(1, 2, 1), meta=np.ndarray>\n",
            "    FIELD_RefDir_Ref        (field) int32 dask.array<chunksize=(1,), meta=np.ndarray>\n",
            "    FIELD_SOURCE_ID         (field) int32 dask.array<chunksize=(1,), meta=np.ndarray>\n",
            "    FIELD_TIME              (field) float64 dask.array<chunksize=(1,), meta=np.ndarray>\n",
            "    OBS_FLAG_ROW            (observation) bool dask.array<chunksize=(1,), meta=np.ndarray>\n",
            "    OBS_OBSERVER            (observation) <U16 dask.array<chunksize=(1,), meta=np.ndarray>\n",
            "    OBS_RELEASE_DATE        (observation) float64 dask.array<chunksize=(1,), meta=np.ndarray>\n",
            "    OBS_SCHEDULE_TYPE       (observation) <U16 dask.array<chunksize=(1,), meta=np.ndarray>\n",
            "    OBS_TELESCOPE_NAME      (observation) <U16 dask.array<chunksize=(1,), meta=np.ndarray>\n",
            "    OBS_TIME_RANGE          (observation, d2) float64 dask.array<chunksize=(1, 2), meta=np.ndarray>\n",
            "    PROC_FLAG_ROW           (processor) bool dask.array<chunksize=(3,), meta=np.ndarray>\n",
            "    PROC_MODE_ID            (processor) int32 dask.array<chunksize=(3,), meta=np.ndarray>\n",
            "    PROC_SUB_TYPE           (processor) <U21 dask.array<chunksize=(3,), meta=np.ndarray>\n",
            "    PROC_TYPE_ID            (processor) int32 dask.array<chunksize=(3,), meta=np.ndarray>\n",
            "    SRC_CALIBRATION_GROUP   (spw, source) int32 dask.array<chunksize=(1, 1), meta=np.ndarray>\n",
            "    SRC_CODE                (spw, source) <U16 dask.array<chunksize=(1, 1), meta=np.ndarray>\n",
            "    SRC_DIRECTION           (spw, source, d2) float64 dask.array<chunksize=(1, 1, 2), meta=np.ndarray>\n",
            "    SRC_INTERVAL            (spw, source) float64 dask.array<chunksize=(1, 1), meta=np.ndarray>\n",
            "    SRC_NAME                (spw, source) <U16 dask.array<chunksize=(1, 1), meta=np.ndarray>\n",
            "    SRC_NUM_LINES           (spw, source) int32 dask.array<chunksize=(1, 1), meta=np.ndarray>\n",
            "    SRC_PROPER_MOTION       (spw, source, d2) float64 dask.array<chunksize=(1, 1, 2), meta=np.ndarray>\n",
            "    SRC_TIME                (spw, source) float64 dask.array<chunksize=(1, 1), meta=np.ndarray>\n",
            "    STATE_CAL               (state) float64 dask.array<chunksize=(20,), meta=np.ndarray>\n",
            "    STATE_FLAG_ROW          (state) bool dask.array<chunksize=(20,), meta=np.ndarray>\n",
            "    STATE_LOAD              (state) float64 dask.array<chunksize=(20,), meta=np.ndarray>\n",
            "    STATE_REF               (state) bool dask.array<chunksize=(20,), meta=np.ndarray>\n",
            "    STATE_SIG               (state) bool dask.array<chunksize=(20,), meta=np.ndarray>\n",
            "    STATE_SUB_SCAN          (state) int32 dask.array<chunksize=(20,), meta=np.ndarray>\n",
            "Attributes:\n",
            "    ASDM_antennaId:               ['Antenna_0', 'Antenna_1', 'Antenna_2', 'An...\n",
            "    ASDM_antennaMake:             ['AEM_12', 'AEM_12', 'AEM_12', 'AEM_12', 'A...\n",
            "    ASDM_antennaName:             ['DA41', 'DA42', 'DA44', 'DA45', 'DA46', 'D...\n",
            "    ASDM_antennaType:             ['GROUND_BASED', 'GROUND_BASED', 'GROUND_BA...\n",
            "    ASDM_assocAntennaId:          ['', '', '', '', '', '', '', '', '', '', ''...\n",
            "    ASDM_calDataId:               ['CalData_0', 'CalData_0', 'CalData_0', 'Ca...\n",
            "    ASDM_calReductionId:          ['CalReduction_0', 'CalReduction_0', 'CalRe...\n",
            "    ASDM_chanFreq:                [[[184550000000.0], [186550000000.0], [1888...\n",
            "    ASDM_chanWidth:               [[[1500000000.0], [2500000000.0], [20000000...\n",
            "    ASDM_dishDiameter:            [12.0, 12.0, 12.0, 12.0, 12.0, 12.0, 12.0, ...\n",
            "    ASDM_dryPath:                 [[[1.5075339078903198]], [[1.50631928443908...\n",
            "    ASDM_endValidTime:            [4860030637.2595, 4860030637.2595, 48600306...\n",
            "    ASDM_freqLO:                  [[[97963275000.0]], [[97963275000.0], [9968...\n",
            "    ASDM_frequencyBand:           ['UNSPECIFIED', 'ALMA_RB_03', 'ALMA_RB_03',...\n",
            "    ASDM_inputAntennaNames:       [[['DA41']], [['DA42']], [['DA44']], [['DA4...\n",
            "    ASDM_name:                    ['DA41', 'DA42', 'DA44', 'DA45', 'DA46', 'D...\n",
            "    ASDM_numChan:                 [4, 4, 4, 4, 4, 4, 4, 4, 4, 4, 4, 4, 4, 4, ...\n",
            "    ASDM_numInputAntennas:        [1, 1, 1, 1, 1, 1, 1, 1, 1, 1, 1, 1, 1, 1, ...\n",
            "    ASDM_numLO:                   [1, 3, 3, 3, 3, 3, 3, 3, 3, 1, 3, 3, 3, 3, ...\n",
            "    ASDM_numPoly:                 [1, 1, 1, 1, 1, 1, 1, 1, 1, 1, 1, 1, 1, 1, ...\n",
            "    ASDM_offset:                  [[[0.0], [0.0], [0.0]], [[0.0], [0.0], [0.0...\n",
            "    ASDM_pathCoeff:               [[[[[5.696597872884013e-05]], [[2.828374090...\n",
            "    ASDM_polyFreqLimits:          [[[67000000000.0], [90000000000.0]], [[6700...\n",
            "    ASDM_position:                [[[9.9e-05], [-0.000115], [7.500033]], [[3....\n",
            "    ASDM_receiverId:              [0, 0, 0, 0, 0, 0, 0, 0, 0, 1, 0, 0, 0, 0, ...\n",
            "    ASDM_receiverSideband:        ['NOSB', 'TSB', 'TSB', 'TSB', 'TSB', 'TSB',...\n",
            "    ASDM_refTemp:                 [[[[119.45744705200195], [48.73897772568922...\n",
            "    ASDM_sidebandLO:              [[['DSB']], [['LSB'], ['LSB'], ['LSB']], [[...\n",
            "    ASDM_spectralWindowId:        ['SpectralWindow_0', 'SpectralWindow_27', '...\n",
            "    ASDM_startValidTime:          [4860026976.564501, 4860026976.564501, 4860...\n",
            "    ASDM_stationId:               ['Station_0', 'Station_1', 'Station_2', 'St...\n",
            "    ASDM_time:                    [4860026863.941999, 4860026863.941999, 4860...\n",
            "    ASDM_timeInterval:            [[[4860026863.941999], [4363345172.912776]]...\n",
            "    ASDM_type:                    ['ANTENNA_PAD', 'ANTENNA_PAD', 'ANTENNA_PAD...\n",
            "    ASDM_water:                   [0.00043721461364834303, 0.0004537176442467...\n",
            "    ASDM_wetPath:                 [[[0.003352516097947955]], [[0.003476256737...\n",
            "    ASDM_wvrMethod:               ['ATM_MODEL', 'ATM_MODEL', 'ATM_MODEL', 'AT...\n",
            "    CALD_ANTENNA_ID:              [0, 1, 2, 3, 4, 5, 6, 7, 8, 9, 10, 11, 12, ...\n",
            "    CALD_CAL_LOAD_NAMES:          [[['AMBIENT_LOAD'], ['HOT_LOAD']], [['AMBIE...\n",
            "    CALD_FEED_ID:                 [0, 0, 0, 0, 0, 0, 0, 0, 0, 0, 0, 0, 0, 0, ...\n",
            "    CALD_INTERVAL:                [4363345170.433152, 4363345169.85944, 43633...\n",
            "    CALD_NUM_CAL_LOAD:            [2, 2, 2, 2, 2, 2, 2, 2, 2, 2, 2, 2, 2, 2, ...\n",
            "    CALD_NUM_RECEPTOR:            [2, 2, 2, 2, 2, 2, 2, 2, 2, 2, 2, 2, 2, 2, ...\n",
            "    CALD_SPECTRAL_WINDOW_ID:      [0, 0, 0, 0, 0, 0, 0, 0, 0, 0, 0, 0, 0, 0, ...\n",
            "    CALD_TEMPERATURE_LOAD:        [[[16.850000381469727], [83.25000762939453]...\n",
            "    CALD_TIME:                    [7041699451.638201, 7041699451.925056, 7041...\n",
            "    WEAT_ANTENNA_ID:              [-1, -1, -1, -1, -1, -1, -1, -1, -1, -1, -1...\n",
            "    WEAT_DEW_POINT:               [0.0, 0.0, 0.0, 0.0, 0.0, 0.0, 0.0, 0.0, 0....\n",
            "    WEAT_DEW_POINT_FLAG:          [False, False, False, False, False, False, ...\n",
            "    WEAT_INTERVAL:                [0.048, 0.048, 0.048, 0.048, 0.048, 0.048, ...\n",
            "    WEAT_NS_WX_STATION_ID:        [26, 27, 26, 27, 26, 27, 26, 27, 26, 27, 26...\n",
            "    WEAT_NS_WX_STATION_POSITION:  [[2225262.12, -5440307.3, -2480962.57], [22...\n",
            "    WEAT_PRESSURE:                [555.3649291992188, 555.3472290039062, 555....\n",
            "    WEAT_PRESSURE_FLAG:           [False, False, False, False, False, False, ...\n",
            "    WEAT_REL_HUMIDITY:            [7.26800012588501, 7.462800025939941, 7.296...\n",
            "    WEAT_REL_HUMIDITY_FLAG:       [False, False, False, False, False, False, ...\n",
            "    WEAT_TEMPERATURE:             [269.92529296875, 269.8935852050781, 269.96...\n",
            "    WEAT_TEMPERATURE_FLAG:        [False, False, False, False, False, False, ...\n",
            "    WEAT_TIME:                    [4860026989.023999, 4860026989.023999, 4860...\n",
            "    WEAT_WIND_DIRECTION:          [2.96705961227417, 1.1519173383712769, 2.44...\n",
            "    WEAT_WIND_DIRECTION_FLAG:     [False, False, False, False, False, False, ...\n",
            "    WEAT_WIND_SPEED:              [1.5, 1.899999976158142, 2.700000047683716,...\n",
            "    WEAT_WIND_SPEED_FLAG:         [False, False, False, False, False, False, ...\n"
          ],
          "name": "stdout"
        }
      ]
    },
    {
      "cell_type": "code",
      "metadata": {
        "id": "AjRP2fyxC_7B",
        "colab_type": "code",
        "outputId": "4a6298ae-4c54-45c2-f3d3-094f19fb551d",
        "colab": {
          "base_uri": "https://localhost:8080/",
          "height": 469
        }
      },
      "source": [
        "print(global_xds.ANT_POSITION.values)"
      ],
      "execution_count": 19,
      "outputs": [
        {
          "output_type": "stream",
          "text": [
            "[[ 2225083.64619763 -5440070.40606462 -2481658.02670859]\n",
            " [ 2225079.88001574 -5440041.3775342  -2481724.59803141]\n",
            " [ 2224981.09778387 -5440131.25038739 -2481621.0663739 ]\n",
            " [ 2225193.4501669  -5439993.76415663 -2481722.5405336 ]\n",
            " [ 2225181.07053168 -5440026.29079042 -2481662.97510257]\n",
            " [ 2225060.20258009 -5440050.34443573 -2481722.59865136]\n",
            " [ 2225044.23958335 -5440102.02253539 -2481624.80840452]\n",
            " [ 2225032.05165178 -5440052.42601493 -2481745.66000331]\n",
            " [ 2225069.89852632 -5440066.75927329 -2481676.9364416 ]\n",
            " [ 2225255.25927201 -5440008.98786919 -2481623.35205242]\n",
            " [ 2225094.62284094 -5440051.99359209 -2481687.08159262]\n",
            " [ 2225287.59376558 -5439952.24367855 -2481718.60531402]\n",
            " [ 2225048.72928734 -5440061.08577674 -2481708.13913597]\n",
            " [ 2225119.37502846 -5440042.84999607 -2481684.9435547 ]\n",
            " [ 2225063.81471469 -5440077.94826116 -2481657.99257155]\n",
            " [ 2225011.14194474 -5440147.56093196 -2481557.85566338]\n",
            " [ 2225199.25437472 -5440058.16149446 -2481571.80369891]\n",
            " [ 2225176.48351397 -5439963.82045061 -2481800.5298416 ]\n",
            " [ 2224942.99317625 -5440088.42145939 -2481748.38485466]\n",
            " [ 2225036.2690252  -5439997.85300904 -2481870.26760683]\n",
            " [ 2225043.1116896  -5440031.88949706 -2481777.99586977]\n",
            " [ 2225113.70995487 -5440059.31054546 -2481653.12279652]\n",
            " [ 2225043.4190547  -5440073.73792931 -2481686.33357381]\n",
            " [ 2225118.95555941 -5440068.78823289 -2481627.80808837]\n",
            " [ 2225132.81023032 -5440031.1154051  -2481698.14358918]\n",
            " [ 2225117.80927584 -5440052.28000526 -2481665.79904862]]\n"
          ],
          "name": "stdout"
        }
      ]
    },
    {
      "cell_type": "code",
      "metadata": {
        "id": "IzrmiEI0cZse",
        "colab_type": "code",
        "outputId": "7ccbf76c-1aae-4cf2-b469-e9aa40e72a4e",
        "colab": {
          "base_uri": "https://localhost:8080/",
          "height": 121
        }
      },
      "source": [
        "print(global_xds.SRC_DIRECTION)"
      ],
      "execution_count": 20,
      "outputs": [
        {
          "output_type": "stream",
          "text": [
            "<xarray.DataArray 'SRC_DIRECTION' (spw: 1, source: 1, d2: 2)>\n",
            "dask.array<zarr, shape=(1, 1, 2), dtype=float64, chunksize=(1, 1, 2), chunktype=numpy.ndarray>\n",
            "Coordinates:\n",
            "  * source   (source) int32 0\n",
            "  * spw      (spw) int64 0\n",
            "Dimensions without coordinates: d2\n"
          ],
          "name": "stdout"
        }
      ]
    },
    {
      "cell_type": "code",
      "metadata": {
        "id": "aWfT6Jqm29FA",
        "colab_type": "code",
        "outputId": "fefcd39f-9f88-45eb-d7eb-60d8b1a2ddf7",
        "colab": {
          "base_uri": "https://localhost:8080/",
          "height": 139
        }
      },
      "source": [
        "np.unique(np.asarray(global_xds.ASDM_startValidTime))"
      ],
      "execution_count": 21,
      "outputs": [
        {
          "output_type": "execute_result",
          "data": {
            "text/plain": [
              "array([4.86002698e+09, 4.86002712e+09, 4.86002730e+09, 4.86002739e+09,\n",
              "       4.86002761e+09, 4.86002778e+09, 4.86002786e+09, 4.86002808e+09,\n",
              "       4.86002826e+09, 4.86002834e+09, 4.86002848e+09, 4.86002898e+09,\n",
              "       4.86002905e+09, 4.86002919e+09, 4.86002969e+09, 4.86002976e+09,\n",
              "       4.86002990e+09, 4.86003039e+09, 4.86003047e+09, 4.86003062e+09,\n",
              "       4.86003112e+09, 4.86003119e+09, 4.86003133e+09, 4.86003182e+09,\n",
              "       4.86003189e+09, 4.86003203e+09, 4.86003219e+09])"
            ]
          },
          "metadata": {
            "tags": []
          },
          "execution_count": 21
        }
      ]
    },
    {
      "cell_type": "markdown",
      "metadata": {
        "id": "dwlCRQ87dqGu",
        "colab_type": "text"
      },
      "source": [
        "## Image data"
      ]
    },
    {
      "cell_type": "markdown",
      "metadata": {
        "id": "eSqroB7Tdsb9",
        "colab_type": "text"
      },
      "source": [
        "#### astropy"
      ]
    },
    {
      "cell_type": "markdown",
      "metadata": {
        "id": "M0pa3HFkeqcK",
        "colab_type": "text"
      },
      "source": [
        "There are [official demos](http://learn.astropy.org/rst-tutorials/Coordinates-Transform.html) from astropy. This is an adaption to show how the concepts work for comparison with our other methods."
      ]
    },
    {
      "cell_type": "code",
      "metadata": {
        "id": "thq-xoMOd8sp",
        "colab_type": "code",
        "colab": {}
      },
      "source": [
        "from astropy import units as u\n",
        "from astropy.coordinates import EarthLocation\n",
        "from astropy.time import Time\n",
        "from astropy.coordinates import SkyCoord\n",
        "from astropy.coordinates import AltAz"
      ],
      "execution_count": 0,
      "outputs": []
    },
    {
      "cell_type": "markdown",
      "metadata": {
        "id": "qCxQ6TyZfM3h",
        "colab_type": "text"
      },
      "source": [
        "The units module allows us to create quanity objects for unit-aware computing."
      ]
    },
    {
      "cell_type": "code",
      "metadata": {
        "id": "M_m5AAWefL68",
        "colab_type": "code",
        "outputId": "3d77dbe5-e6ba-4cee-f5ed-a474eaa84817",
        "colab": {
          "base_uri": "https://localhost:8080/",
          "height": 34
        }
      },
      "source": [
        "VLA_lat = 34.1*u.degree\n",
        "VLA_lon = -107.6*u.degree\n",
        "VLA_alt = 2114.89*u.m\n",
        "print((VLA_lat, VLA_lon, VLA_alt))"
      ],
      "execution_count": 23,
      "outputs": [
        {
          "output_type": "stream",
          "text": [
            "(<Quantity 34.1 deg>, <Quantity -107.6 deg>, <Quantity 2114.89 m>)\n"
          ],
          "name": "stdout"
        }
      ]
    },
    {
      "cell_type": "markdown",
      "metadata": {
        "id": "63gq7i-rfz1D",
        "colab_type": "text"
      },
      "source": [
        "The coordinates module allows for straightforward conversion of quantities between the references frames in which they are represented."
      ]
    },
    {
      "cell_type": "code",
      "metadata": {
        "id": "DdALwVX3fGzk",
        "colab_type": "code",
        "outputId": "53dc26ca-30a6-438f-ab5c-7f2967f330d7",
        "colab": {
          "base_uri": "https://localhost:8080/",
          "height": 34
        }
      },
      "source": [
        "observing_location = EarthLocation(lat=VLA_lat, \n",
        "                                   lon=VLA_lon, \n",
        "                                   height=VLA_alt,\n",
        "                                   ellipsoid='WGS84')\n",
        "print(observing_location, type(observing_location))"
      ],
      "execution_count": 24,
      "outputs": [
        {
          "output_type": "stream",
          "text": [
            "(-1599173.52082635, -5041233.67723585, 3556822.79344969) m <class 'astropy.coordinates.earth.EarthLocation'>\n"
          ],
          "name": "stdout"
        }
      ]
    },
    {
      "cell_type": "code",
      "metadata": {
        "id": "SDpquq9Ijnes",
        "colab_type": "code",
        "outputId": "48e8e100-9bd2-46f7-f968-e21fb307d1d3",
        "colab": {
          "base_uri": "https://localhost:8080/",
          "height": 34
        }
      },
      "source": [
        "reference_time = Time(['2019-10-4T00:00:00'], \n",
        "                        format='isot',\n",
        "                        scale='utc', \n",
        "                        location=observing_location)\n",
        "print(reference_time, type(reference_time))"
      ],
      "execution_count": 25,
      "outputs": [
        {
          "output_type": "stream",
          "text": [
            "['2019-10-04T00:00:00.000'] <class 'astropy.time.core.Time'>\n"
          ],
          "name": "stdout"
        }
      ]
    },
    {
      "cell_type": "code",
      "metadata": {
        "id": "SU_U5JQKmH4c",
        "colab_type": "code",
        "outputId": "41fb0687-6f82-4772-e0b4-6684065cab9e",
        "colab": {
          "base_uri": "https://localhost:8080/",
          "height": 52
        }
      },
      "source": [
        "phase_center = SkyCoord(ra='19h59m28.5s', dec='+40d44m01.5s', frame='fk5')\n",
        "print(phase_center)"
      ],
      "execution_count": 26,
      "outputs": [
        {
          "output_type": "stream",
          "text": [
            "<SkyCoord (FK5: equinox=J2000.000): (ra, dec) in deg\n",
            "    (299.86875, 40.73375)>\n"
          ],
          "name": "stdout"
        }
      ]
    },
    {
      "cell_type": "markdown",
      "metadata": {
        "id": "VaAchhr5mS6s",
        "colab_type": "text"
      },
      "source": [
        "Since we can define locations, coordinates on the celestial sphere, and times, we can transform between these quantities."
      ]
    },
    {
      "cell_type": "code",
      "metadata": {
        "id": "1B1pOWqYmatx",
        "colab_type": "code",
        "outputId": "0a1c0860-07d1-4ee8-88c6-da11cd5e4ce5",
        "colab": {
          "base_uri": "https://localhost:8080/",
          "height": 54
        }
      },
      "source": [
        "alt_az_frame = AltAz(location=observing_location, obstime=reference_time)\n",
        "print(alt_az_frame)\n",
        "new_frame = phase_center.transform_to(alt_az_frame)"
      ],
      "execution_count": 27,
      "outputs": [
        {
          "output_type": "stream",
          "text": [
            "<AltAz Frame (obstime=['2019-10-04T00:00:00.000'], location=(-1599173.52082635, -5041233.67723585, 3556822.79344969) m, pressure=0.0 hPa, temperature=0.0 deg_C, relative_humidity=0.0, obswl=1.0 micron)>\n"
          ],
          "name": "stdout"
        }
      ]
    },
    {
      "cell_type": "code",
      "metadata": {
        "id": "0O5G3pCLmhnn",
        "colab_type": "code",
        "outputId": "6e53f4c6-358e-4f47-cafd-d352689182b8",
        "colab": {
          "base_uri": "https://localhost:8080/",
          "height": 34
        }
      },
      "source": [
        "# Converting the results between different units is as simple as\n",
        "print((new_frame.az.radian,\n",
        "       new_frame.alt.radian),\n",
        "      \"and\",\n",
        "      (new_frame.az.degree, \n",
        "       new_frame.alt.degree))"
      ],
      "execution_count": 28,
      "outputs": [
        {
          "output_type": "stream",
          "text": [
            "(array([1.1522305]), array([1.07222892])) and (array([66.01794453]), array([61.43419156]))\n"
          ],
          "name": "stdout"
        }
      ]
    },
    {
      "cell_type": "markdown",
      "metadata": {
        "id": "xVCCYS4j_rl9",
        "colab_type": "text"
      },
      "source": [
        "We should ensure we are making use of the [higher-precision mode](https://docs.astropy.org/en/latest/coordinates/velocities.html#precision-of-radial-velocity-correction) when we implement radial velocity (and possibly all) corrections."
      ]
    },
    {
      "cell_type": "markdown",
      "metadata": {
        "id": "M61IpJr8dvus",
        "colab_type": "text"
      },
      "source": [
        "#### casa(core)"
      ]
    },
    {
      "cell_type": "code",
      "metadata": {
        "id": "9cGVJzVfeVq5",
        "colab_type": "code",
        "colab": {}
      },
      "source": [
        "from casatools import measures"
      ],
      "execution_count": 0,
      "outputs": []
    },
    {
      "cell_type": "code",
      "metadata": {
        "id": "fiuF7sRAeUl4",
        "colab_type": "code",
        "outputId": "0e211a46-2a6c-47ac-cd1c-d03947aced59",
        "colab": {
          "base_uri": "https://localhost:8080/",
          "height": 54
        }
      },
      "source": [
        "me = measures()\n",
        "    \n",
        "observing_location = me.position('WGS84', '-107.6deg','34.1deg', '2114.89m')\n",
        "me.doframe(observing_location)\n",
        "print(observing_location)"
      ],
      "execution_count": 30,
      "outputs": [
        {
          "output_type": "stream",
          "text": [
            "{'m0': {'unit': 'rad', 'value': -1.8779742751458985}, 'm1': {'unit': 'rad', 'value': 0.5951572749300664}, 'm2': {'unit': 'm', 'value': 2114.89}, 'refer': 'WGS84', 'type': 'position'}\n"
          ],
          "name": "stdout"
        }
      ]
    },
    {
      "cell_type": "code",
      "metadata": {
        "colab_type": "code",
        "outputId": "efb55ba8-032e-4a72-8734-c6f76aba26bb",
        "id": "i9s2sJF20ZPI",
        "colab": {
          "base_uri": "https://localhost:8080/",
          "height": 34
        }
      },
      "source": [
        "# For comparison, astropy reports\n",
        "[dim.to(u.radian) for dim in (VLA_lat, VLA_lon, VLA_alt) if dim.unit == 'deg']"
      ],
      "execution_count": 31,
      "outputs": [
        {
          "output_type": "execute_result",
          "data": {
            "text/plain": [
              "[<Quantity 0.59515727 rad>, <Quantity -1.87797428 rad>]"
            ]
          },
          "metadata": {
            "tags": []
          },
          "execution_count": 31
        }
      ]
    },
    {
      "cell_type": "code",
      "metadata": {
        "id": "FS9csdLVkqCM",
        "colab_type": "code",
        "outputId": "0aa92883-9cca-463e-d058-6ece71bc867c",
        "colab": {
          "base_uri": "https://localhost:8080/",
          "height": 34
        }
      },
      "source": [
        "#set frame reference_time (epoch)\n",
        "reference_time = me.epoch('utc', '2019/10/4/0h0m00')\n",
        "me.doframe(reference_time)"
      ],
      "execution_count": 32,
      "outputs": [
        {
          "output_type": "execute_result",
          "data": {
            "text/plain": [
              "True"
            ]
          },
          "metadata": {
            "tags": []
          },
          "execution_count": 32
        }
      ]
    },
    {
      "cell_type": "code",
      "metadata": {
        "id": "Q8mNSpAdkwpQ",
        "colab_type": "code",
        "colab": {}
      },
      "source": [
        "#Phase Center\n",
        "phase_center = me.direction('J2000', '19h59m28.5', '40d44m01.5')"
      ],
      "execution_count": 0,
      "outputs": []
    },
    {
      "cell_type": "markdown",
      "metadata": {
        "id": "YvVrCxaVnle9",
        "colab_type": "text"
      },
      "source": [
        "This result is pretty close to what astropy reports, but the representation and interface are clearly different."
      ]
    },
    {
      "cell_type": "code",
      "metadata": {
        "id": "8PzIGQyTk3JS",
        "colab_type": "code",
        "outputId": "14b6acd3-cd49-4dd6-a6eb-ad545a563700",
        "colab": {
          "base_uri": "https://localhost:8080/",
          "height": 54
        }
      },
      "source": [
        "# Convert phase center to a new reference frame\n",
        "azelgeo=me.measure(phase_center, 'AZELGEO')\n",
        "print(azelgeo)\n",
        "#print(azelgeo['m0']['value'],azelgeo['m1']['value'])"
      ],
      "execution_count": 34,
      "outputs": [
        {
          "output_type": "stream",
          "text": [
            "{'m0': {'unit': 'rad', 'value': 1.1522291424864282}, 'm1': {'unit': 'rad', 'value': 1.0722309775454635}, 'refer': 'AZELGEO', 'type': 'direction'}\n"
          ],
          "name": "stdout"
        }
      ]
    },
    {
      "cell_type": "markdown",
      "metadata": {
        "id": "FWUljqrldv9m",
        "colab_type": "text"
      },
      "source": [
        "#### ZINC"
      ]
    },
    {
      "cell_type": "markdown",
      "metadata": {
        "id": "vSZOgqe4oHjz",
        "colab_type": "text"
      },
      "source": [
        "With the next-gen infrastructure for CASA, our fundamental intermediate representation for data access and manipulation is the [xarray _Dataset_](http://xarray.pydata.org/en/stable/generated/xarray.Dataset.html). Since at their core, these are just collections of [_DataArray_](http://xarray.pydata.org/en/stable/generated/xarray.DataArray.html#xarray.DataArray) objects which are essentially composed of `ndarray` objects, our data type is compatible with inputs to both unit and frame conversion methods - so long as we drop the relevant arrays out of our lazily-evaluated paradigm and into memory so that we can eagerly wrap them in the appropriate subclass.\n",
        "\n",
        "Ideally, we wouldn't have to do this. Xarray developers are actually already working on implementing a protocol that would allow us to access unit-aware computation directly through the xarray interface, by wrapping [pint](https://pint.readthedocs.io/en/latest/) Quantity objects around [dask arrays](https://docs.dask.org/en/latest/array.html) (see [NEP 18](https://numpy.org/neps/nep-0018-array-function-protocol.html) and [xarray GH#3594](https://github.com/pydata/xarray/issues/3594) for further details). It would then be possible to extend Pint to recognize [custom units](https://pint.readthedocs.io/en/latest/defining.html) where radio-astronomy-specific features are missing from their standard library, as well as add [contexts](https://pint.readthedocs.io/en/latest/contexts.html) to manage the conversion between quantity and frame types. After that, we could just use xarray to perform unit-aware lazily-evaluated computation."
      ]
    },
    {
      "cell_type": "code",
      "metadata": {
        "id": "vKGVOYmHdnDh",
        "colab_type": "code",
        "outputId": "e4572233-c67b-4a4e-c4cb-4202324060cc",
        "colab": {
          "base_uri": "https://localhost:8080/",
          "height": 555
        }
      },
      "source": [
        "print(img_xds)"
      ],
      "execution_count": 35,
      "outputs": [
        {
          "output_type": "stream",
          "text": [
            "<xarray.Dataset>\n",
            "Dimensions:          (chan: 384, d0: 200, d1: 400, pol: 1)\n",
            "Coordinates:\n",
            "  * chan             (chan) int64 0 1 2 3 4 5 6 ... 377 378 379 380 381 382 383\n",
            "    declination      (d0, d1) float64 dask.array<chunksize=(200, 400), meta=np.ndarray>\n",
            "  * pol              (pol) float64 9.0\n",
            "    right_ascension  (d0, d1) float64 dask.array<chunksize=(200, 400), meta=np.ndarray>\n",
            "Dimensions without coordinates: d0, d1\n",
            "Data variables:\n",
            "    image            (d0, d1, chan, pol) float64 dask.array<chunksize=(200, 400, 1, 1), meta=np.ndarray>\n",
            "    mask             (d0, d1, chan, pol) bool dask.array<chunksize=(200, 400, 1, 1), meta=np.ndarray>\n",
            "    model            (d0, d1, chan, pol) float64 dask.array<chunksize=(200, 400, 1, 1), meta=np.ndarray>\n",
            "    pb               (d0, d1, chan, pol) float64 dask.array<chunksize=(200, 400, 1, 1), meta=np.ndarray>\n",
            "    psf              (d0, d1, chan, pol) float64 dask.array<chunksize=(200, 400, 1, 1), meta=np.ndarray>\n",
            "    residual         (d0, d1, chan, pol) float64 dask.array<chunksize=(200, 400, 1, 1), meta=np.ndarray>\n",
            "    sumwt            (chan, pol) float64 dask.array<chunksize=(1, 1), meta=np.ndarray>\n",
            "Attributes:\n",
            "    axisunits:            ['rad', 'rad', '', 'Hz']\n",
            "    date_observation:     2012/11/19/07\n",
            "    direction_reference:  j2000\n",
            "    imagetype:            Intensity\n",
            "    object_name:          tw hya\n",
            "    observer:             cqi\n",
            "    perplanebeams:        [['nChannels', 384], ['nStokes', 1], ['beams.*0.*0....\n",
            "    pointing_center:      11\n",
            "    rest_frequency:       3.72637e+11 hz\n",
            "    spectral__reference:  lsrk\n",
            "    telescope:            alma\n",
            "    telescope_position:   [2.22514e+06m, -5.44031e+06m, -2.48103e+06m] (itrf)\n",
            "    unit:                 Jy/beam\n",
            "    velocity__type:       radio\n"
          ],
          "name": "stdout"
        }
      ]
    },
    {
      "cell_type": "code",
      "metadata": {
        "id": "IVbcRLiln-cK",
        "colab_type": "code",
        "outputId": "ebcafb60-25dc-43b4-90a6-1e31e4a0062b",
        "colab": {
          "base_uri": "https://localhost:8080/",
          "height": 241
        }
      },
      "source": [
        "cngi.image.preview(img_xds, variable='image', region=None, pol=0, channels=10, tsize=200)"
      ],
      "execution_count": 36,
      "outputs": [
        {
          "output_type": "display_data",
          "data": {
            "image/png": "[encoded data removed]",
            "text/plain": [
              "<Figure size 288x216 with 2 Axes>"
            ]
          },
          "metadata": {
            "tags": []
          }
        }
      ]
    },
    {
      "cell_type": "code",
      "metadata": {
        "id": "UbJO9-zj2DV0",
        "colab_type": "code",
        "outputId": "195e4c41-78a0-420f-84d8-68af84b3d6c7",
        "colab": {
          "base_uri": "https://localhost:8080/",
          "height": 121
        }
      },
      "source": [
        "img_xds.right_ascension"
      ],
      "execution_count": 37,
      "outputs": [
        {
          "output_type": "execute_result",
          "data": {
            "text/html": [
              "<pre>&lt;xarray.DataArray &#x27;right_ascension&#x27; (d0: 200, d1: 400)&gt;\n",
              "dask.array&lt;zarr, shape=(200, 400), dtype=float64, chunksize=(200, 400), chunktype=numpy.ndarray&gt;\n",
              "Coordinates:\n",
              "    declination      (d0, d1) float64 dask.array&lt;chunksize=(200, 400), meta=np.ndarray&gt;\n",
              "    right_ascension  (d0, d1) float64 dask.array&lt;chunksize=(200, 400), meta=np.ndarray&gt;\n",
              "Dimensions without coordinates: d0, d1</pre>"
            ],
            "text/plain": [
              "<xarray.DataArray 'right_ascension' (d0: 200, d1: 400)>\n",
              "dask.array<zarr, shape=(200, 400), dtype=float64, chunksize=(200, 400), chunktype=numpy.ndarray>\n",
              "Coordinates:\n",
              "    declination      (d0, d1) float64 dask.array<chunksize=(200, 400), meta=np.ndarray>\n",
              "    right_ascension  (d0, d1) float64 dask.array<chunksize=(200, 400), meta=np.ndarray>\n",
              "Dimensions without coordinates: d0, d1"
            ]
          },
          "metadata": {
            "tags": []
          },
          "execution_count": 37
        }
      ]
    },
    {
      "cell_type": "code",
      "metadata": {
        "id": "BB6NW--V2LbJ",
        "colab_type": "code",
        "colab": {}
      },
      "source": [
        "from astropy.coordinates import SkyCoord\n",
        "from astropy import units as u\n",
        "from astropy.time import Time\n",
        "import datetime"
      ],
      "execution_count": 0,
      "outputs": []
    },
    {
      "cell_type": "code",
      "metadata": {
        "id": "ODwClzEWrUc0",
        "colab_type": "code",
        "colab": {}
      },
      "source": [
        "# some parsing/conversion necessary due to kooky format in this case\n",
        "non_weird_time_list = [int(tt) for tt in img_xds.attrs['date_observation'].split('/')[:3]]\n",
        "obs_date = datetime.datetime(*non_weird_time_list) # parameter expansion"
      ],
      "execution_count": 0,
      "outputs": []
    },
    {
      "cell_type": "code",
      "metadata": {
        "id": "l2cMl5Ofssc7",
        "colab_type": "code",
        "colab": {
          "base_uri": "https://localhost:8080/",
          "height": 34
        },
        "outputId": "e0830fdb-930e-4c0b-c23c-a1fcf5b99ce7"
      },
      "source": [
        "reference_freq_and_unit = img_xds.attrs['rest_frequency'].split(' ')\n",
        "if 'hz' in reference_freq_and_unit:\n",
        "  reference_freq_and_unit.append(reference_freq_and_unit.pop().capitalize())\n",
        "print(' '.join(reference_freq_and_unit))"
      ],
      "execution_count": 67,
      "outputs": [
        {
          "output_type": "stream",
          "text": [
            "3.72637e+11 Hz\n"
          ],
          "name": "stdout"
        }
      ]
    },
    {
      "cell_type": "code",
      "metadata": {
        "id": "mznz-ZuMWdBM",
        "colab_type": "code",
        "colab": {}
      },
      "source": [
        "sc = SkyCoord(frame='icrs', \n",
        "         unit=tuple(img_xds.attrs['axisunits'][0:2]),\n",
        "         obstime=Time(obs_date),\n",
        "         equinox=img_xds.attrs['direction_reference'],\n",
        "         representation_type='spherical',\n",
        "         ra=img_xds.right_ascension.values, # eager __array_like__ objects\n",
        "         dec=img_xds.declination.values,\n",
        "         #radial_velocity=u.Quantity(' '.join(reference_freq_and_unit)),\n",
        ")"
      ],
      "execution_count": 0,
      "outputs": []
    },
    {
      "cell_type": "code",
      "metadata": {
        "id": "CEcPmE9X5aKI",
        "colab_type": "code",
        "colab": {
          "base_uri": "https://localhost:8080/",
          "height": 364
        },
        "outputId": "90651a3c-1690-4bc1-be7f-dcafee378d12"
      },
      "source": [
        "print(SkyCoord(img_xds.right_ascension.values, img_xds.declination.values, frame='icrs', unit=u.radian))"
      ],
      "execution_count": 73,
      "outputs": [
        {
          "output_type": "stream",
          "text": [
            "<SkyCoord (ICRS): (ra, dec) in deg\n",
            "    [[(165.46851993, -34.7092683 ), (165.46851993, -34.70924608),\n",
            "      (165.46851993, -34.70922386), ..., (165.46851964, -34.70044608),\n",
            "      (165.46851964, -34.70042386), (165.46851964, -34.70040164)],\n",
            "     [(165.4684929 , -34.7092683 ), (165.4684929 , -34.70924608),\n",
            "      (165.4684929 , -34.70922386), ..., (165.46849261, -34.70044608),\n",
            "      (165.46849261, -34.70042386), (165.46849261, -34.70040164)],\n",
            "     [(165.46846586, -34.7092683 ), (165.46846586, -34.70924608),\n",
            "      (165.46846586, -34.70922386), ..., (165.46846558, -34.70044608),\n",
            "      (165.46846558, -34.70042386), (165.46846558, -34.70040164)],\n",
            "     ...,\n",
            "     [(165.4631945 , -34.70926831), (165.4631945 , -34.70924608),\n",
            "      (165.4631945 , -34.70922386), ..., (165.46319478, -34.70044608),\n",
            "      (165.46319478, -34.70042386), (165.46319478, -34.70040164)],\n",
            "     [(165.46316747, -34.7092683 ), (165.46316747, -34.70924608),\n",
            "      (165.46316747, -34.70922386), ..., (165.46316775, -34.70044608),\n",
            "      (165.46316775, -34.70042386), (165.46316775, -34.70040164)],\n",
            "     [(165.46314044, -34.7092683 ), (165.46314044, -34.70924608),\n",
            "      (165.46314044, -34.70922386), ..., (165.46314072, -34.70044608),\n",
            "      (165.46314072, -34.70042386), (165.46314072, -34.70040164)]]>\n"
          ],
          "name": "stdout"
        }
      ]
    },
    {
      "cell_type": "code",
      "metadata": {
        "id": "VjY_fGSSvfLH",
        "colab_type": "code",
        "colab": {
          "base_uri": "https://localhost:8080/",
          "height": 34
        },
        "outputId": "78396625-fbbd-4544-9575-e5da4459165f"
      },
      "source": [
        "sc.is_transformable_to('FK5')"
      ],
      "execution_count": 84,
      "outputs": [
        {
          "output_type": "execute_result",
          "data": {
            "text/plain": [
              "False"
            ]
          },
          "metadata": {
            "tags": []
          },
          "execution_count": 84
        }
      ]
    },
    {
      "cell_type": "code",
      "metadata": {
        "id": "GPqaeFMy5bf1",
        "colab_type": "code",
        "colab": {
          "base_uri": "https://localhost:8080/",
          "height": 1000
        },
        "outputId": "6ea036b4-0650-4377-89c5-464182941ad7"
      },
      "source": [
        "img_xds.attrs"
      ],
      "execution_count": 74,
      "outputs": [
        {
          "output_type": "execute_result",
          "data": {
            "text/plain": [
              "{'axisunits': ['rad', 'rad', '', 'Hz'],\n",
              " 'date_observation': '2012/11/19/07',\n",
              " 'direction_reference': 'j2000',\n",
              " 'imagetype': 'Intensity',\n",
              " 'object_name': 'tw hya',\n",
              " 'observer': 'cqi',\n",
              " 'perplanebeams': [['nChannels', 384],\n",
              "  ['nStokes', 1],\n",
              "  ['beams.*0.*0.major.unit', 'arcsec'],\n",
              "  ['beams.*0.*0.major.value', 0.6534699201583862],\n",
              "  ['beams.*0.*0.minor.unit', 'arcsec'],\n",
              "  ['beams.*0.*0.minor.value', 0.5046054124832153],\n",
              "  ['beams.*0.*0.positionangle.unit', 'deg'],\n",
              "  ['beams.*0.*0.positionangle.value', -65.90599060058594],\n",
              "  ['beams.*1.*0.major.unit', 'arcsec'],\n",
              "  ['beams.*1.*0.major.value', 0.6534699201583862],\n",
              "  ['beams.*1.*0.minor.unit', 'arcsec'],\n",
              "  ['beams.*1.*0.minor.value', 0.5046054124832153],\n",
              "  ['beams.*1.*0.positionangle.unit', 'deg'],\n",
              "  ['beams.*1.*0.positionangle.value', -65.90599060058594],\n",
              "  ['beams.*10.*0.major.unit', 'arcsec'],\n",
              "  ['beams.*10.*0.major.value', 0.6534606218338013],\n",
              "  ['beams.*10.*0.minor.unit', 'arcsec'],\n",
              "  ['beams.*10.*0.minor.value', 0.5045977234840393],\n",
              "  ['beams.*10.*0.positionangle.unit', 'deg'],\n",
              "  ['beams.*10.*0.positionangle.value', -65.90589141845703],\n",
              "  ['beams.*100.*0.major.unit', 'arcsec'],\n",
              "  ['beams.*100.*0.major.value', 0.6533637046813965],\n",
              "  ['beams.*100.*0.minor.unit', 'arcsec'],\n",
              "  ['beams.*100.*0.minor.value', 0.504520058631897],\n",
              "  ['beams.*100.*0.positionangle.unit', 'deg'],\n",
              "  ['beams.*100.*0.positionangle.value', -65.9056396484375],\n",
              "  ['beams.*101.*0.major.unit', 'arcsec'],\n",
              "  ['beams.*101.*0.major.value', 0.6533627510070801],\n",
              "  ['beams.*101.*0.minor.unit', 'arcsec'],\n",
              "  ['beams.*101.*0.minor.value', 0.5045192241668701],\n",
              "  ['beams.*101.*0.positionangle.unit', 'deg'],\n",
              "  ['beams.*101.*0.positionangle.value', -65.90560150146484],\n",
              "  ['beams.*102.*0.major.unit', 'arcsec'],\n",
              "  ['beams.*102.*0.major.value', 0.6533616185188293],\n",
              "  ['beams.*102.*0.minor.unit', 'arcsec'],\n",
              "  ['beams.*102.*0.minor.value', 0.5045183897018433],\n",
              "  ['beams.*102.*0.positionangle.unit', 'deg'],\n",
              "  ['beams.*102.*0.positionangle.value', -65.90560913085938],\n",
              "  ['beams.*103.*0.major.unit', 'arcsec'],\n",
              "  ['beams.*103.*0.major.value', 0.6533605456352234],\n",
              "  ['beams.*103.*0.minor.unit', 'arcsec'],\n",
              "  ['beams.*103.*0.minor.value', 0.5045175552368164],\n",
              "  ['beams.*103.*0.positionangle.unit', 'deg'],\n",
              "  ['beams.*103.*0.positionangle.value', -65.90563201904297],\n",
              "  ['beams.*104.*0.major.unit', 'arcsec'],\n",
              "  ['beams.*104.*0.major.value', 0.6533593535423279],\n",
              "  ['beams.*104.*0.minor.unit', 'arcsec'],\n",
              "  ['beams.*104.*0.minor.value', 0.5045166015625],\n",
              "  ['beams.*104.*0.positionangle.unit', 'deg'],\n",
              "  ['beams.*104.*0.positionangle.value', -65.90554809570312],\n",
              "  ['beams.*105.*0.major.unit', 'arcsec'],\n",
              "  ['beams.*105.*0.major.value', 0.6533582210540771],\n",
              "  ['beams.*105.*0.minor.unit', 'arcsec'],\n",
              "  ['beams.*105.*0.minor.value', 0.5045157670974731],\n",
              "  ['beams.*105.*0.positionangle.unit', 'deg'],\n",
              "  ['beams.*105.*0.positionangle.value', -65.90560913085938],\n",
              "  ['beams.*106.*0.major.unit', 'arcsec'],\n",
              "  ['beams.*106.*0.major.value', 0.6533571481704712],\n",
              "  ['beams.*106.*0.minor.unit', 'arcsec'],\n",
              "  ['beams.*106.*0.minor.value', 0.5045146942138672],\n",
              "  ['beams.*106.*0.positionangle.unit', 'deg'],\n",
              "  ['beams.*106.*0.positionangle.value', -65.90560913085938],\n",
              "  ['beams.*107.*0.major.unit', 'arcsec'],\n",
              "  ['beams.*107.*0.major.value', 0.65335613489151],\n",
              "  ['beams.*107.*0.minor.unit', 'arcsec'],\n",
              "  ['beams.*107.*0.minor.value', 0.5045138597488403],\n",
              "  ['beams.*107.*0.positionangle.unit', 'deg'],\n",
              "  ['beams.*107.*0.positionangle.value', -65.90564727783203],\n",
              "  ['beams.*108.*0.major.unit', 'arcsec'],\n",
              "  ['beams.*108.*0.major.value', 0.6533548831939697],\n",
              "  ['beams.*108.*0.minor.unit', 'arcsec'],\n",
              "  ['beams.*108.*0.minor.value', 0.5045130848884583],\n",
              "  ['beams.*108.*0.positionangle.unit', 'deg'],\n",
              "  ['beams.*108.*0.positionangle.value', -65.9056167602539],\n",
              "  ['beams.*109.*0.major.unit', 'arcsec'],\n",
              "  ['beams.*109.*0.major.value', 0.653353750705719],\n",
              "  ['beams.*109.*0.minor.unit', 'arcsec'],\n",
              "  ['beams.*109.*0.minor.value', 0.5045123100280762],\n",
              "  ['beams.*109.*0.positionangle.unit', 'deg'],\n",
              "  ['beams.*109.*0.positionangle.value', -65.90560913085938],\n",
              "  ['beams.*11.*0.major.unit', 'arcsec'],\n",
              "  ['beams.*11.*0.major.value', 0.6534597277641296],\n",
              "  ['beams.*11.*0.minor.unit', 'arcsec'],\n",
              "  ['beams.*11.*0.minor.value', 0.5045967698097229],\n",
              "  ['beams.*11.*0.positionangle.unit', 'deg'],\n",
              "  ['beams.*11.*0.positionangle.value', -65.9059066772461],\n",
              "  ['beams.*110.*0.major.unit', 'arcsec'],\n",
              "  ['beams.*110.*0.major.value', 0.6533527374267578],\n",
              "  ['beams.*110.*0.minor.unit', 'arcsec'],\n",
              "  ['beams.*110.*0.minor.value', 0.5045115351676941],\n",
              "  ['beams.*110.*0.positionangle.unit', 'deg'],\n",
              "  ['beams.*110.*0.positionangle.value', -65.9056167602539],\n",
              "  ['beams.*111.*0.major.unit', 'arcsec'],\n",
              "  ['beams.*111.*0.major.value', 0.6533517241477966],\n",
              "  ['beams.*111.*0.minor.unit', 'arcsec'],\n",
              "  ['beams.*111.*0.minor.value', 0.5045107007026672],\n",
              "  ['beams.*111.*0.positionangle.unit', 'deg'],\n",
              "  ['beams.*111.*0.positionangle.value', -65.90563201904297],\n",
              "  ['beams.*112.*0.major.unit', 'arcsec'],\n",
              "  ['beams.*112.*0.major.value', 0.653350830078125],\n",
              "  ['beams.*112.*0.minor.unit', 'arcsec'],\n",
              "  ['beams.*112.*0.minor.value', 0.504509687423706],\n",
              "  ['beams.*112.*0.positionangle.unit', 'deg'],\n",
              "  ['beams.*112.*0.positionangle.value', -65.9056396484375],\n",
              "  ['beams.*113.*0.major.unit', 'arcsec'],\n",
              "  ['beams.*113.*0.major.value', 0.6533498764038086],\n",
              "  ['beams.*113.*0.minor.unit', 'arcsec'],\n",
              "  ['beams.*113.*0.minor.value', 0.5045087933540344],\n",
              "  ['beams.*113.*0.positionangle.unit', 'deg'],\n",
              "  ['beams.*113.*0.positionangle.value', -65.90564727783203],\n",
              "  ['beams.*114.*0.major.unit', 'arcsec'],\n",
              "  ['beams.*114.*0.major.value', 0.6533488631248474],\n",
              "  ['beams.*114.*0.minor.unit', 'arcsec'],\n",
              "  ['beams.*114.*0.minor.value', 0.5045080780982971],\n",
              "  ['beams.*114.*0.positionangle.unit', 'deg'],\n",
              "  ['beams.*114.*0.positionangle.value', -65.90560913085938],\n",
              "  ['beams.*115.*0.major.unit', 'arcsec'],\n",
              "  ['beams.*115.*0.major.value', 0.6533479690551758],\n",
              "  ['beams.*115.*0.minor.unit', 'arcsec'],\n",
              "  ['beams.*115.*0.minor.value', 0.5045072436332703],\n",
              "  ['beams.*115.*0.positionangle.unit', 'deg'],\n",
              "  ['beams.*115.*0.positionangle.value', -65.90558624267578],\n",
              "  ['beams.*116.*0.major.unit', 'arcsec'],\n",
              "  ['beams.*116.*0.major.value', 0.6533468961715698],\n",
              "  ['beams.*116.*0.minor.unit', 'arcsec'],\n",
              "  ['beams.*116.*0.minor.value', 0.5045063495635986],\n",
              "  ['beams.*116.*0.positionangle.unit', 'deg'],\n",
              "  ['beams.*116.*0.positionangle.value', -65.90557861328125],\n",
              "  ['beams.*117.*0.major.unit', 'arcsec'],\n",
              "  ['beams.*117.*0.major.value', 0.6533458828926086],\n",
              "  ['beams.*117.*0.minor.unit', 'arcsec'],\n",
              "  ['beams.*117.*0.minor.value', 0.5045055150985718],\n",
              "  ['beams.*117.*0.positionangle.unit', 'deg'],\n",
              "  ['beams.*117.*0.positionangle.value', -65.90560913085938],\n",
              "  ['beams.*118.*0.major.unit', 'arcsec'],\n",
              "  ['beams.*118.*0.major.value', 0.6533449292182922],\n",
              "  ['beams.*118.*0.minor.unit', 'arcsec'],\n",
              "  ['beams.*118.*0.minor.value', 0.5045047402381897],\n",
              "  ['beams.*118.*0.positionangle.unit', 'deg'],\n",
              "  ['beams.*118.*0.positionangle.value', -65.90560913085938],\n",
              "  ['beams.*119.*0.major.unit', 'arcsec'],\n",
              "  ['beams.*119.*0.major.value', 0.6533441543579102],\n",
              "  ['beams.*119.*0.minor.unit', 'arcsec'],\n",
              "  ['beams.*119.*0.minor.value', 0.5045039653778076],\n",
              "  ['beams.*119.*0.positionangle.unit', 'deg'],\n",
              "  ['beams.*119.*0.positionangle.value', -65.90564727783203],\n",
              "  ['beams.*12.*0.major.unit', 'arcsec'],\n",
              "  ['beams.*12.*0.major.value', 0.6534587144851685],\n",
              "  ['beams.*12.*0.minor.unit', 'arcsec'],\n",
              "  ['beams.*12.*0.minor.value', 0.5045958757400513],\n",
              "  ['beams.*12.*0.positionangle.unit', 'deg'],\n",
              "  ['beams.*12.*0.positionangle.value', -65.90589141845703],\n",
              "  ['beams.*120.*0.major.unit', 'arcsec'],\n",
              "  ['beams.*120.*0.major.value', 0.6533429026603699],\n",
              "  ['beams.*120.*0.minor.unit', 'arcsec'],\n",
              "  ['beams.*120.*0.minor.value', 0.5045031309127808],\n",
              "  ['beams.*120.*0.positionangle.unit', 'deg'],\n",
              "  ['beams.*120.*0.positionangle.value', -65.90562438964844],\n",
              "  ['beams.*121.*0.major.unit', 'arcsec'],\n",
              "  ['beams.*121.*0.major.value', 0.6533418893814087],\n",
              "  ['beams.*121.*0.minor.unit', 'arcsec'],\n",
              "  ['beams.*121.*0.minor.value', 0.5045021772384644],\n",
              "  ['beams.*121.*0.positionangle.unit', 'deg'],\n",
              "  ['beams.*121.*0.positionangle.value', -65.9056625366211],\n",
              "  ['beams.*122.*0.major.unit', 'arcsec'],\n",
              "  ['beams.*122.*0.major.value', 0.6533408164978027],\n",
              "  ['beams.*122.*0.minor.unit', 'arcsec'],\n",
              "  ['beams.*122.*0.minor.value', 0.5045013427734375],\n",
              "  ['beams.*122.*0.positionangle.unit', 'deg'],\n",
              "  ['beams.*122.*0.positionangle.value', -65.90570068359375],\n",
              "  ['beams.*123.*0.major.unit', 'arcsec'],\n",
              "  ['beams.*123.*0.major.value', 0.6533397436141968],\n",
              "  ['beams.*123.*0.minor.unit', 'arcsec'],\n",
              "  ['beams.*123.*0.minor.value', 0.5045005679130554],\n",
              "  ['beams.*123.*0.positionangle.unit', 'deg'],\n",
              "  ['beams.*123.*0.positionangle.value', -65.90570068359375],\n",
              "  ['beams.*124.*0.major.unit', 'arcsec'],\n",
              "  ['beams.*124.*0.major.value', 0.6533386707305908],\n",
              "  ['beams.*124.*0.minor.unit', 'arcsec'],\n",
              "  ['beams.*124.*0.minor.value', 0.5044997930526733],\n",
              "  ['beams.*124.*0.positionangle.unit', 'deg'],\n",
              "  ['beams.*124.*0.positionangle.value', -65.90565490722656],\n",
              "  ['beams.*125.*0.major.unit', 'arcsec'],\n",
              "  ['beams.*125.*0.major.value', 0.6533376574516296],\n",
              "  ['beams.*125.*0.minor.unit', 'arcsec'],\n",
              "  ['beams.*125.*0.minor.value', 0.5044989585876465],\n",
              "  ['beams.*125.*0.positionangle.unit', 'deg'],\n",
              "  ['beams.*125.*0.positionangle.value', -65.90565490722656],\n",
              "  ['beams.*126.*0.major.unit', 'arcsec'],\n",
              "  ['beams.*126.*0.major.value', 0.6533365845680237],\n",
              "  ['beams.*126.*0.minor.unit', 'arcsec'],\n",
              "  ['beams.*126.*0.minor.value', 0.5044979453086853],\n",
              "  ['beams.*126.*0.positionangle.unit', 'deg'],\n",
              "  ['beams.*126.*0.positionangle.value', -65.90563201904297],\n",
              "  ['beams.*127.*0.major.unit', 'arcsec'],\n",
              "  ['beams.*127.*0.major.value', 0.6533355116844177],\n",
              "  ['beams.*127.*0.minor.unit', 'arcsec'],\n",
              "  ['beams.*127.*0.minor.value', 0.5044970512390137],\n",
              "  ['beams.*127.*0.positionangle.unit', 'deg'],\n",
              "  ['beams.*127.*0.positionangle.value', -65.90563201904297],\n",
              "  ['beams.*128.*0.major.unit', 'arcsec'],\n",
              "  ['beams.*128.*0.major.value', 0.6533343195915222],\n",
              "  ['beams.*128.*0.minor.unit', 'arcsec'],\n",
              "  ['beams.*128.*0.minor.value', 0.5044962167739868],\n",
              "  ['beams.*128.*0.positionangle.unit', 'deg'],\n",
              "  ['beams.*128.*0.positionangle.value', -65.90557098388672],\n",
              "  ['beams.*129.*0.major.unit', 'arcsec'],\n",
              "  ['beams.*129.*0.major.value', 0.6533331274986267],\n",
              "  ['beams.*129.*0.minor.unit', 'arcsec'],\n",
              "  ['beams.*129.*0.minor.value', 0.5044953227043152],\n",
              "  ['beams.*129.*0.positionangle.unit', 'deg'],\n",
              "  ['beams.*129.*0.positionangle.value', -65.90557098388672],\n",
              "  ['beams.*13.*0.major.unit', 'arcsec'],\n",
              "  ['beams.*13.*0.major.value', 0.6534576416015625],\n",
              "  ['beams.*13.*0.minor.unit', 'arcsec'],\n",
              "  ['beams.*13.*0.minor.value', 0.5045951008796692],\n",
              "  ['beams.*13.*0.positionangle.unit', 'deg'],\n",
              "  ['beams.*13.*0.positionangle.value', -65.90589904785156],\n",
              "  ['beams.*130.*0.major.unit', 'arcsec'],\n",
              "  ['beams.*130.*0.major.value', 0.6533318161964417],\n",
              "  ['beams.*130.*0.minor.unit', 'arcsec'],\n",
              "  ['beams.*130.*0.minor.value', 0.5044944882392883],\n",
              "  ['beams.*130.*0.positionangle.unit', 'deg'],\n",
              "  ['beams.*130.*0.positionangle.value', -65.90554809570312],\n",
              "  ['beams.*131.*0.major.unit', 'arcsec'],\n",
              "  ['beams.*131.*0.major.value', 0.6533308625221252],\n",
              "  ['beams.*131.*0.minor.unit', 'arcsec'],\n",
              "  ['beams.*131.*0.minor.value', 0.5044935345649719],\n",
              "  ['beams.*131.*0.positionangle.unit', 'deg'],\n",
              "  ['beams.*131.*0.positionangle.value', -65.90557098388672],\n",
              "  ['beams.*132.*0.major.unit', 'arcsec'],\n",
              "  ['beams.*132.*0.major.value', 0.6533299088478088],\n",
              "  ['beams.*132.*0.minor.unit', 'arcsec'],\n",
              "  ['beams.*132.*0.minor.value', 0.5044927000999451],\n",
              "  ['beams.*132.*0.positionangle.unit', 'deg'],\n",
              "  ['beams.*132.*0.positionangle.value', -65.90557861328125],\n",
              "  ['beams.*133.*0.major.unit', 'arcsec'],\n",
              "  ['beams.*133.*0.major.value', 0.6533288955688477],\n",
              "  ['beams.*133.*0.minor.unit', 'arcsec'],\n",
              "  ['beams.*133.*0.minor.value', 0.504491925239563],\n",
              "  ['beams.*133.*0.positionangle.unit', 'deg'],\n",
              "  ['beams.*133.*0.positionangle.value', -65.90560150146484],\n",
              "  ['beams.*134.*0.major.unit', 'arcsec'],\n",
              "  ['beams.*134.*0.major.value', 0.6533278822898865],\n",
              "  ['beams.*134.*0.minor.unit', 'arcsec'],\n",
              "  ['beams.*134.*0.minor.value', 0.5044910907745361],\n",
              "  ['beams.*134.*0.positionangle.unit', 'deg'],\n",
              "  ['beams.*134.*0.positionangle.value', -65.90567779541016],\n",
              "  ['beams.*135.*0.major.unit', 'arcsec'],\n",
              "  ['beams.*135.*0.major.value', 0.6533269286155701],\n",
              "  ['beams.*135.*0.minor.unit', 'arcsec'],\n",
              "  ['beams.*135.*0.minor.value', 0.5044901371002197],\n",
              "  ['beams.*135.*0.positionangle.unit', 'deg'],\n",
              "  ['beams.*135.*0.positionangle.value', -65.9056396484375],\n",
              "  ['beams.*136.*0.major.unit', 'arcsec'],\n",
              "  ['beams.*136.*0.major.value', 0.6533258557319641],\n",
              "  ['beams.*136.*0.minor.unit', 'arcsec'],\n",
              "  ['beams.*136.*0.minor.value', 0.5044894218444824],\n",
              "  ['beams.*136.*0.positionangle.unit', 'deg'],\n",
              "  ['beams.*136.*0.positionangle.value', -65.90560913085938],\n",
              "  ['beams.*137.*0.major.unit', 'arcsec'],\n",
              "  ['beams.*137.*0.major.value', 0.6533247828483582],\n",
              "  ['beams.*137.*0.minor.unit', 'arcsec'],\n",
              "  ['beams.*137.*0.minor.value', 0.5044885277748108],\n",
              "  ['beams.*137.*0.positionangle.unit', 'deg'],\n",
              "  ['beams.*137.*0.positionangle.value', -65.90560913085938],\n",
              "  ['beams.*138.*0.major.unit', 'arcsec'],\n",
              "  ['beams.*138.*0.major.value', 0.6533240079879761],\n",
              "  ['beams.*138.*0.minor.unit', 'arcsec'],\n",
              "  ['beams.*138.*0.minor.value', 0.5044876933097839],\n",
              "  ['beams.*138.*0.positionangle.unit', 'deg'],\n",
              "  ['beams.*138.*0.positionangle.value', -65.90560150146484],\n",
              "  ['beams.*139.*0.major.unit', 'arcsec'],\n",
              "  ['beams.*139.*0.major.value', 0.6533230543136597],\n",
              "  ['beams.*139.*0.minor.unit', 'arcsec'],\n",
              "  ['beams.*139.*0.minor.value', 0.5044868588447571],\n",
              "  ['beams.*139.*0.positionangle.unit', 'deg'],\n",
              "  ['beams.*139.*0.positionangle.value', -65.90564727783203],\n",
              "  ['beams.*14.*0.major.unit', 'arcsec'],\n",
              "  ['beams.*14.*0.major.value', 0.6534566879272461],\n",
              "  ['beams.*14.*0.minor.unit', 'arcsec'],\n",
              "  ['beams.*14.*0.minor.value', 0.5045942068099976],\n",
              "  ['beams.*14.*0.positionangle.unit', 'deg'],\n",
              "  ['beams.*14.*0.positionangle.value', -65.90593719482422],\n",
              "  ['beams.*140.*0.major.unit', 'arcsec'],\n",
              "  ['beams.*140.*0.major.value', 0.653322160243988],\n",
              "  ['beams.*140.*0.minor.unit', 'arcsec'],\n",
              "  ['beams.*140.*0.minor.value', 0.5044860243797302],\n",
              "  ['beams.*140.*0.positionangle.unit', 'deg'],\n",
              "  ['beams.*140.*0.positionangle.value', -65.90565490722656],\n",
              "  ['beams.*141.*0.major.unit', 'arcsec'],\n",
              "  ['beams.*141.*0.major.value', 0.6533212065696716],\n",
              "  ['beams.*141.*0.minor.unit', 'arcsec'],\n",
              "  ['beams.*141.*0.minor.value', 0.5044851899147034],\n",
              "  ['beams.*141.*0.positionangle.unit', 'deg'],\n",
              "  ['beams.*141.*0.positionangle.value', -65.90567779541016],\n",
              "  ['beams.*142.*0.major.unit', 'arcsec'],\n",
              "  ['beams.*142.*0.major.value', 0.6533202528953552],\n",
              "  ['beams.*142.*0.minor.unit', 'arcsec'],\n",
              "  ['beams.*142.*0.minor.value', 0.5044842958450317],\n",
              "  ['beams.*142.*0.positionangle.unit', 'deg'],\n",
              "  ['beams.*142.*0.positionangle.value', -65.90565490722656],\n",
              "  ['beams.*143.*0.major.unit', 'arcsec'],\n",
              "  ['beams.*143.*0.major.value', 0.6533188223838806],\n",
              "  ['beams.*143.*0.minor.unit', 'arcsec'],\n",
              "  ['beams.*143.*0.minor.value', 0.5044835209846497],\n",
              "  ['beams.*143.*0.positionangle.unit', 'deg'],\n",
              "  ['beams.*143.*0.positionangle.value', -65.90562438964844],\n",
              "  ['beams.*144.*0.major.unit', 'arcsec'],\n",
              "  ['beams.*144.*0.major.value', 0.653317928314209],\n",
              "  ['beams.*144.*0.minor.unit', 'arcsec'],\n",
              "  ['beams.*144.*0.minor.value', 0.5044825077056885],\n",
              "  ['beams.*144.*0.positionangle.unit', 'deg'],\n",
              "  ['beams.*144.*0.positionangle.value', -65.90559387207031],\n",
              "  ['beams.*145.*0.major.unit', 'arcsec'],\n",
              "  ['beams.*145.*0.major.value', 0.6533167958259583],\n",
              "  ['beams.*145.*0.minor.unit', 'arcsec'],\n",
              "  ['beams.*145.*0.minor.value', 0.5044817328453064],\n",
              "  ['beams.*145.*0.positionangle.unit', 'deg'],\n",
              "  ['beams.*145.*0.positionangle.value', -65.90560150146484],\n",
              "  ['beams.*146.*0.major.unit', 'arcsec'],\n",
              "  ['beams.*146.*0.major.value', 0.6533159017562866],\n",
              "  ['beams.*146.*0.minor.unit', 'arcsec'],\n",
              "  ['beams.*146.*0.minor.value', 0.5044810771942139],\n",
              "  ['beams.*146.*0.positionangle.unit', 'deg'],\n",
              "  ['beams.*146.*0.positionangle.value', -65.90559387207031],\n",
              "  ['beams.*147.*0.major.unit', 'arcsec'],\n",
              "  ['beams.*147.*0.major.value', 0.6533148288726807],\n",
              "  ['beams.*147.*0.minor.unit', 'arcsec'],\n",
              "  ['beams.*147.*0.minor.value', 0.5044803023338318],\n",
              "  ['beams.*147.*0.positionangle.unit', 'deg'],\n",
              "  ['beams.*147.*0.positionangle.value', -65.90556335449219],\n",
              "  ['beams.*148.*0.major.unit', 'arcsec'],\n",
              "  ['beams.*148.*0.major.value', 0.6533138155937195],\n",
              "  ['beams.*148.*0.minor.unit', 'arcsec'],\n",
              "  ['beams.*148.*0.minor.value', 0.5044794082641602],\n",
              "  ['beams.*148.*0.positionangle.unit', 'deg'],\n",
              "  ['beams.*148.*0.positionangle.value', -65.90554809570312],\n",
              "  ['beams.*149.*0.major.unit', 'arcsec'],\n",
              "  ['beams.*149.*0.major.value', 0.6533126831054688],\n",
              "  ['beams.*149.*0.minor.unit', 'arcsec'],\n",
              "  ['beams.*149.*0.minor.value', 0.5044785141944885],\n",
              "  ['beams.*149.*0.positionangle.unit', 'deg'],\n",
              "  ['beams.*149.*0.positionangle.value', -65.90559387207031],\n",
              "  ['beams.*15.*0.major.unit', 'arcsec'],\n",
              "  ['beams.*15.*0.major.value', 0.6534556150436401],\n",
              "  ['beams.*15.*0.minor.unit', 'arcsec'],\n",
              "  ['beams.*15.*0.minor.value', 0.5045932531356812],\n",
              "  ['beams.*15.*0.positionangle.unit', 'deg'],\n",
              "  ['beams.*15.*0.positionangle.value', -65.90589904785156],\n",
              "  ['beams.*150.*0.major.unit', 'arcsec'],\n",
              "  ['beams.*150.*0.major.value', 0.6533114314079285],\n",
              "  ['beams.*150.*0.minor.unit', 'arcsec'],\n",
              "  ['beams.*150.*0.minor.value', 0.5044777393341064],\n",
              "  ['beams.*150.*0.positionangle.unit', 'deg'],\n",
              "  ['beams.*150.*0.positionangle.value', -65.90550994873047],\n",
              "  ['beams.*151.*0.major.unit', 'arcsec'],\n",
              "  ['beams.*151.*0.major.value', 0.6533105969429016],\n",
              "  ['beams.*151.*0.minor.unit', 'arcsec'],\n",
              "  ['beams.*151.*0.minor.value', 0.5044769048690796],\n",
              "  ['beams.*151.*0.positionangle.unit', 'deg'],\n",
              "  ['beams.*151.*0.positionangle.value', -65.905517578125],\n",
              "  ['beams.*152.*0.major.unit', 'arcsec'],\n",
              "  ['beams.*152.*0.major.value', 0.65330970287323],\n",
              "  ['beams.*152.*0.minor.unit', 'arcsec'],\n",
              "  ['beams.*152.*0.minor.value', 0.5044759511947632],\n",
              "  ['beams.*152.*0.positionangle.unit', 'deg'],\n",
              "  ['beams.*152.*0.positionangle.value', -65.90553283691406],\n",
              "  ['beams.*153.*0.major.unit', 'arcsec'],\n",
              "  ['beams.*153.*0.major.value', 0.6533089280128479],\n",
              "  ['beams.*153.*0.minor.unit', 'arcsec'],\n",
              "  ['beams.*153.*0.minor.value', 0.5044751763343811],\n",
              "  ['beams.*153.*0.positionangle.unit', 'deg'],\n",
              "  ['beams.*153.*0.positionangle.value', -65.90557861328125],\n",
              "  ['beams.*154.*0.major.unit', 'arcsec'],\n",
              "  ['beams.*154.*0.major.value', 0.6533076167106628],\n",
              "  ['beams.*154.*0.minor.unit', 'arcsec'],\n",
              "  ['beams.*154.*0.minor.value', 0.5044742822647095],\n",
              "  ['beams.*154.*0.positionangle.unit', 'deg'],\n",
              "  ['beams.*154.*0.positionangle.value', -65.90558624267578],\n",
              "  ['beams.*155.*0.major.unit', 'arcsec'],\n",
              "  ['beams.*155.*0.major.value', 0.6533064246177673],\n",
              "  ['beams.*155.*0.minor.unit', 'arcsec'],\n",
              "  ['beams.*155.*0.minor.value', 0.5044733285903931],\n",
              "  ['beams.*155.*0.positionangle.unit', 'deg'],\n",
              "  ['beams.*155.*0.positionangle.value', -65.90552520751953],\n",
              "  ['beams.*156.*0.major.unit', 'arcsec'],\n",
              "  ['beams.*156.*0.major.value', 0.6533052921295166],\n",
              "  ['beams.*156.*0.minor.unit', 'arcsec'],\n",
              "  ['beams.*156.*0.minor.value', 0.5044724941253662],\n",
              "  ['beams.*156.*0.positionangle.unit', 'deg'],\n",
              "  ['beams.*156.*0.positionangle.value', -65.90552520751953],\n",
              "  ['beams.*157.*0.major.unit', 'arcsec'],\n",
              "  ['beams.*157.*0.major.value', 0.6533039808273315],\n",
              "  ['beams.*157.*0.minor.unit', 'arcsec'],\n",
              "  ['beams.*157.*0.minor.value', 0.5044716000556946],\n",
              "  ['beams.*157.*0.positionangle.unit', 'deg'],\n",
              "  ['beams.*157.*0.positionangle.value', -65.90548706054688],\n",
              "  ['beams.*158.*0.major.unit', 'arcsec'],\n",
              "  ['beams.*158.*0.major.value', 0.6533029079437256],\n",
              "  ['beams.*158.*0.minor.unit', 'arcsec'],\n",
              "  ['beams.*158.*0.minor.value', 0.504470705986023],\n",
              "  ['beams.*158.*0.positionangle.unit', 'deg'],\n",
              "  ['beams.*158.*0.positionangle.value', -65.90547943115234],\n",
              "  ['beams.*159.*0.major.unit', 'arcsec'],\n",
              "  ['beams.*159.*0.major.value', 0.653301477432251],\n",
              "  ['beams.*159.*0.minor.unit', 'arcsec'],\n",
              "  ['beams.*159.*0.minor.value', 0.5044698119163513],\n",
              "  ['beams.*159.*0.positionangle.unit', 'deg'],\n",
              "  ['beams.*159.*0.positionangle.value', -65.90546417236328],\n",
              "  ['beams.*16.*0.major.unit', 'arcsec'],\n",
              "  ['beams.*16.*0.major.value', 0.653454601764679],\n",
              "  ['beams.*16.*0.minor.unit', 'arcsec'],\n",
              "  ['beams.*16.*0.minor.value', 0.5045922994613647],\n",
              "  ['beams.*16.*0.positionangle.unit', 'deg'],\n",
              "  ['beams.*16.*0.positionangle.value', -65.9059066772461],\n",
              "  ['beams.*160.*0.major.unit', 'arcsec'],\n",
              "  ['beams.*160.*0.major.value', 0.653300404548645],\n",
              "  ['beams.*160.*0.minor.unit', 'arcsec'],\n",
              "  ['beams.*160.*0.minor.value', 0.5044690370559692],\n",
              "  ['beams.*160.*0.positionangle.unit', 'deg'],\n",
              "  ['beams.*160.*0.positionangle.value', -65.90543365478516],\n",
              "  ['beams.*161.*0.major.unit', 'arcsec'],\n",
              "  ['beams.*161.*0.major.value', 0.6532992720603943],\n",
              "  ['beams.*161.*0.minor.unit', 'arcsec'],\n",
              "  ['beams.*161.*0.minor.value', 0.5044680833816528],\n",
              "  ['beams.*161.*0.positionangle.unit', 'deg'],\n",
              "  ['beams.*161.*0.positionangle.value', -65.90542602539062],\n",
              "  ['beams.*162.*0.major.unit', 'arcsec'],\n",
              "  ['beams.*162.*0.major.value', 0.6532983183860779],\n",
              "  ['beams.*162.*0.minor.unit', 'arcsec'],\n",
              "  ['beams.*162.*0.minor.value', 0.504467248916626],\n",
              "  ['beams.*162.*0.positionangle.unit', 'deg'],\n",
              "  ['beams.*162.*0.positionangle.value', -65.90544891357422],\n",
              "  ['beams.*163.*0.major.unit', 'arcsec'],\n",
              "  ['beams.*163.*0.major.value', 0.6532968282699585],\n",
              "  ['beams.*163.*0.minor.unit', 'arcsec'],\n",
              "  ['beams.*163.*0.minor.value', 0.5044663548469543],\n",
              "  ['beams.*163.*0.positionangle.unit', 'deg'],\n",
              "  ['beams.*163.*0.positionangle.value', -65.90542602539062],\n",
              "  ['beams.*164.*0.major.unit', 'arcsec'],\n",
              "  ['beams.*164.*0.major.value', 0.6532959342002869],\n",
              "  ['beams.*164.*0.minor.unit', 'arcsec'],\n",
              "  ['beams.*164.*0.minor.value', 0.5044655203819275],\n",
              "  ['beams.*164.*0.positionangle.unit', 'deg'],\n",
              "  ['beams.*164.*0.positionangle.value', -65.90540313720703],\n",
              "  ['beams.*165.*0.major.unit', 'arcsec'],\n",
              "  ['beams.*165.*0.major.value', 0.6532950401306152],\n",
              "  ['beams.*165.*0.minor.unit', 'arcsec'],\n",
              "  ['beams.*165.*0.minor.value', 0.5044646263122559],\n",
              "  ['beams.*165.*0.positionangle.unit', 'deg'],\n",
              "  ['beams.*165.*0.positionangle.value', -65.90540313720703],\n",
              "  ['beams.*166.*0.major.unit', 'arcsec'],\n",
              "  ['beams.*166.*0.major.value', 0.6532940864562988],\n",
              "  ['beams.*166.*0.minor.unit', 'arcsec'],\n",
              "  ['beams.*166.*0.minor.value', 0.5044637322425842],\n",
              "  ['beams.*166.*0.positionangle.unit', 'deg'],\n",
              "  ['beams.*166.*0.positionangle.value', -65.9054183959961],\n",
              "  ['beams.*167.*0.major.unit', 'arcsec'],\n",
              "  ['beams.*167.*0.major.value', 0.6532928943634033],\n",
              "  ['beams.*167.*0.minor.unit', 'arcsec'],\n",
              "  ['beams.*167.*0.minor.value', 0.5044628977775574],\n",
              "  ['beams.*167.*0.positionangle.unit', 'deg'],\n",
              "  ['beams.*167.*0.positionangle.value', -65.90543365478516],\n",
              "  ['beams.*168.*0.major.unit', 'arcsec'],\n",
              "  ['beams.*168.*0.major.value', 0.6532917618751526],\n",
              "  ['beams.*168.*0.minor.unit', 'arcsec'],\n",
              "  ['beams.*168.*0.minor.value', 0.5044621825218201],\n",
              "  ['beams.*168.*0.positionangle.unit', 'deg'],\n",
              "  ['beams.*168.*0.positionangle.value', -65.90543365478516],\n",
              "  ['beams.*169.*0.major.unit', 'arcsec'],\n",
              "  ['beams.*169.*0.major.value', 0.6532906293869019],\n",
              "  ['beams.*169.*0.minor.unit', 'arcsec'],\n",
              "  ['beams.*169.*0.minor.value', 0.5044612884521484],\n",
              "  ['beams.*169.*0.positionangle.unit', 'deg'],\n",
              "  ['beams.*169.*0.positionangle.value', -65.9054183959961],\n",
              "  ['beams.*17.*0.major.unit', 'arcsec'],\n",
              "  ['beams.*17.*0.major.value', 0.6534534692764282],\n",
              "  ['beams.*17.*0.minor.unit', 'arcsec'],\n",
              "  ['beams.*17.*0.minor.value', 0.5045914649963379],\n",
              "  ['beams.*17.*0.positionangle.unit', 'deg'],\n",
              "  ['beams.*17.*0.positionangle.value', -65.90585327148438],\n",
              "  ['beams.*170.*0.major.unit', 'arcsec'],\n",
              "  ['beams.*170.*0.major.value', 0.6532896757125854],\n",
              "  ['beams.*170.*0.minor.unit', 'arcsec'],\n",
              "  ['beams.*170.*0.minor.value', 0.5044605135917664],\n",
              "  ['beams.*170.*0.positionangle.unit', 'deg'],\n",
              "  ['beams.*170.*0.positionangle.value', -65.90550231933594],\n",
              "  ['beams.*171.*0.major.unit', 'arcsec'],\n",
              "  ['beams.*171.*0.major.value', 0.6532885432243347],\n",
              "  ['beams.*171.*0.minor.unit', 'arcsec'],\n",
              "  ['beams.*171.*0.minor.value', 0.5044596791267395],\n",
              "  ['beams.*171.*0.positionangle.unit', 'deg'],\n",
              "  ['beams.*171.*0.positionangle.value', -65.90547180175781],\n",
              "  ['beams.*172.*0.major.unit', 'arcsec'],\n",
              "  ['beams.*172.*0.major.value', 0.6532877683639526],\n",
              "  ['beams.*172.*0.minor.unit', 'arcsec'],\n",
              "  ['beams.*172.*0.minor.value', 0.5044589042663574],\n",
              "  ['beams.*172.*0.positionangle.unit', 'deg'],\n",
              "  ['beams.*172.*0.positionangle.value', -65.90550994873047],\n",
              "  ['beams.*173.*0.major.unit', 'arcsec'],\n",
              "  ['beams.*173.*0.major.value', 0.6532867550849915],\n",
              "  ['beams.*173.*0.minor.unit', 'arcsec'],\n",
              "  ['beams.*173.*0.minor.value', 0.5044581294059753],\n",
              "  ['beams.*173.*0.positionangle.unit', 'deg'],\n",
              "  ['beams.*173.*0.positionangle.value', -65.90545654296875],\n",
              "  ['beams.*174.*0.major.unit', 'arcsec'],\n",
              "  ['beams.*174.*0.major.value', 0.6532853841781616],\n",
              "  ['beams.*174.*0.minor.unit', 'arcsec'],\n",
              "  ['beams.*174.*0.minor.value', 0.5044571757316589],\n",
              "  ['beams.*174.*0.positionangle.unit', 'deg'],\n",
              "  ['beams.*174.*0.positionangle.value', -65.9053726196289],\n",
              "  ['beams.*175.*0.major.unit', 'arcsec'],\n",
              "  ['beams.*175.*0.major.value', 0.6532843112945557],\n",
              "  ['beams.*175.*0.minor.unit', 'arcsec'],\n",
              "  ['beams.*175.*0.minor.value', 0.5044562220573425],\n",
              "  ['beams.*175.*0.positionangle.unit', 'deg'],\n",
              "  ['beams.*175.*0.positionangle.value', -65.9053726196289],\n",
              "  ['beams.*176.*0.major.unit', 'arcsec'],\n",
              "  ['beams.*176.*0.major.value', 0.6532832384109497],\n",
              "  ['beams.*176.*0.minor.unit', 'arcsec'],\n",
              "  ['beams.*176.*0.minor.value', 0.5044553875923157],\n",
              "  ['beams.*176.*0.positionangle.unit', 'deg'],\n",
              "  ['beams.*176.*0.positionangle.value', -65.90536499023438],\n",
              "  ['beams.*177.*0.major.unit', 'arcsec'],\n",
              "  ['beams.*177.*0.major.value', 0.6532822251319885],\n",
              "  ['beams.*177.*0.minor.unit', 'arcsec'],\n",
              "  ['beams.*177.*0.minor.value', 0.5044546127319336],\n",
              "  ['beams.*177.*0.positionangle.unit', 'deg'],\n",
              "  ['beams.*177.*0.positionangle.value', -65.9053726196289],\n",
              "  ['beams.*178.*0.major.unit', 'arcsec'],\n",
              "  ['beams.*178.*0.major.value', 0.6532813310623169],\n",
              "  ['beams.*178.*0.minor.unit', 'arcsec'],\n",
              "  ['beams.*178.*0.minor.value', 0.5044538378715515],\n",
              "  ['beams.*178.*0.positionangle.unit', 'deg'],\n",
              "  ['beams.*178.*0.positionangle.value', -65.90536499023438],\n",
              "  ['beams.*179.*0.major.unit', 'arcsec'],\n",
              "  ['beams.*179.*0.major.value', 0.6532804369926453],\n",
              "  ['beams.*179.*0.minor.unit', 'arcsec'],\n",
              "  ['beams.*179.*0.minor.value', 0.5044529438018799],\n",
              "  ['beams.*179.*0.positionangle.unit', 'deg'],\n",
              "  ['beams.*179.*0.positionangle.value', -65.9053955078125],\n",
              "  ['beams.*18.*0.major.unit', 'arcsec'],\n",
              "  ['beams.*18.*0.major.value', 0.6534523963928223],\n",
              "  ['beams.*18.*0.minor.unit', 'arcsec'],\n",
              "  ['beams.*18.*0.minor.value', 0.504590630531311],\n",
              "  ['beams.*18.*0.positionangle.unit', 'deg'],\n",
              "  ['beams.*18.*0.positionangle.value', -65.90584564208984],\n",
              "  ['beams.*180.*0.major.unit', 'arcsec'],\n",
              "  ['beams.*180.*0.major.value', 0.6532794833183289],\n",
              "  ['beams.*180.*0.minor.unit', 'arcsec'],\n",
              "  ['beams.*180.*0.minor.value', 0.504452109336853],\n",
              "  ['beams.*180.*0.positionangle.unit', 'deg'],\n",
              "  ['beams.*180.*0.positionangle.value', -65.90541076660156],\n",
              "  ['beams.*181.*0.major.unit', 'arcsec'],\n",
              "  ['beams.*181.*0.major.value', 0.6532780528068542],\n",
              "  ['beams.*181.*0.minor.unit', 'arcsec'],\n",
              "  ['beams.*181.*0.minor.value', 0.5044510960578918],\n",
              "  ['beams.*181.*0.positionangle.unit', 'deg'],\n",
              "  ['beams.*181.*0.positionangle.value', -65.90538787841797],\n",
              "  ['beams.*182.*0.major.unit', 'arcsec'],\n",
              "  ['beams.*182.*0.major.value', 0.6532769799232483],\n",
              "  ['beams.*182.*0.minor.unit', 'arcsec'],\n",
              "  ['beams.*182.*0.minor.value', 0.5044503211975098],\n",
              "  ['beams.*182.*0.positionangle.unit', 'deg'],\n",
              "  ['beams.*182.*0.positionangle.value', -65.9053955078125],\n",
              "  ['beams.*183.*0.major.unit', 'arcsec'],\n",
              "  ['beams.*183.*0.major.value', 0.6532758474349976],\n",
              "  ['beams.*183.*0.minor.unit', 'arcsec'],\n",
              "  ['beams.*183.*0.minor.value', 0.5044493675231934],\n",
              "  ['beams.*183.*0.positionangle.unit', 'deg'],\n",
              "  ['beams.*183.*0.positionangle.value', -65.9053955078125],\n",
              "  ['beams.*184.*0.major.unit', 'arcsec'],\n",
              "  ['beams.*184.*0.major.value', 0.6532747745513916],\n",
              "  ['beams.*184.*0.minor.unit', 'arcsec'],\n",
              "  ['beams.*184.*0.minor.value', 0.5044484734535217],\n",
              "  ['beams.*184.*0.positionangle.unit', 'deg'],\n",
              "  ['beams.*184.*0.positionangle.value', -65.90541076660156],\n",
              "  ['beams.*185.*0.major.unit', 'arcsec'],\n",
              "  ['beams.*185.*0.major.value', 0.6532737016677856],\n",
              "  ['beams.*185.*0.minor.unit', 'arcsec'],\n",
              "  ['beams.*185.*0.minor.value', 0.5044475793838501],\n",
              "  ['beams.*185.*0.positionangle.unit', 'deg'],\n",
              "  ['beams.*185.*0.positionangle.value', -65.90544891357422],\n",
              "  ['beams.*186.*0.major.unit', 'arcsec'],\n",
              "  ['beams.*186.*0.major.value', 0.6532725691795349],\n",
              "  ['beams.*186.*0.minor.unit', 'arcsec'],\n",
              "  ['beams.*186.*0.minor.value', 0.5044468641281128],\n",
              "  ['beams.*186.*0.positionangle.unit', 'deg'],\n",
              "  ['beams.*186.*0.positionangle.value', -65.90545654296875],\n",
              "  ['beams.*187.*0.major.unit', 'arcsec'],\n",
              "  ['beams.*187.*0.major.value', 0.6532713174819946],\n",
              "  ['beams.*187.*0.minor.unit', 'arcsec'],\n",
              "  ['beams.*187.*0.minor.value', 0.5044460296630859],\n",
              "  ['beams.*187.*0.positionangle.unit', 'deg'],\n",
              "  ['beams.*187.*0.positionangle.value', -65.90544128417969],\n",
              "  ['beams.*188.*0.major.unit', 'arcsec'],\n",
              "  ['beams.*188.*0.major.value', 0.6532701253890991],\n",
              "  ['beams.*188.*0.minor.unit', 'arcsec'],\n",
              "  ['beams.*188.*0.minor.value', 0.5044451355934143],\n",
              "  ['beams.*188.*0.positionangle.unit', 'deg'],\n",
              "  ['beams.*188.*0.positionangle.value', -65.90547180175781],\n",
              "  ['beams.*189.*0.major.unit', 'arcsec'],\n",
              "  ['beams.*189.*0.major.value', 0.6532687544822693],\n",
              "  ['beams.*189.*0.minor.unit', 'arcsec'],\n",
              "  ['beams.*189.*0.minor.value', 0.5044441819190979],\n",
              "  ['beams.*189.*0.positionangle.unit', 'deg'],\n",
              "  ['beams.*189.*0.positionangle.value', -65.90544891357422],\n",
              "  ['beams.*19.*0.major.unit', 'arcsec'],\n",
              "  ['beams.*19.*0.major.value', 0.6534512639045715],\n",
              "  ['beams.*19.*0.minor.unit', 'arcsec'],\n",
              "  ['beams.*19.*0.minor.value', 0.5045896768569946],\n",
              "  ['beams.*19.*0.positionangle.unit', 'deg'],\n",
              "  ['beams.*19.*0.positionangle.value', -65.90583038330078],\n",
              "  ['beams.*190.*0.major.unit', 'arcsec'],\n",
              "  ['beams.*190.*0.major.value', 0.6532676815986633],\n",
              "  ['beams.*190.*0.minor.unit', 'arcsec'],\n",
              "  ['beams.*190.*0.minor.value', 0.5044435262680054],\n",
              "  ['beams.*190.*0.positionangle.unit', 'deg'],\n",
              "  ['beams.*190.*0.positionangle.value', -65.90545654296875],\n",
              "  ['beams.*191.*0.major.unit', 'arcsec'],\n",
              "  ['beams.*191.*0.major.value', 0.6532667875289917],\n",
              "  ['beams.*191.*0.minor.unit', 'arcsec'],\n",
              "  ['beams.*191.*0.minor.value', 0.5044426918029785],\n",
              "  ['beams.*191.*0.positionangle.unit', 'deg'],\n",
              "  ['beams.*191.*0.positionangle.value', -65.90550231933594],\n",
              "  ['beams.*192.*0.major.unit', 'arcsec'],\n",
              "  ['beams.*192.*0.major.value', 0.6532657146453857],\n",
              "  ['beams.*192.*0.minor.unit', 'arcsec'],\n",
              "  ['beams.*192.*0.minor.value', 0.5044419169425964],\n",
              "  ['beams.*192.*0.positionangle.unit', 'deg'],\n",
              "  ['beams.*192.*0.positionangle.value', -65.905517578125],\n",
              "  ['beams.*193.*0.major.unit', 'arcsec'],\n",
              "  ['beams.*193.*0.major.value', 0.6532647013664246],\n",
              "  ['beams.*193.*0.minor.unit', 'arcsec'],\n",
              "  ['beams.*193.*0.minor.value', 0.5044411420822144],\n",
              "  ['beams.*193.*0.positionangle.unit', 'deg'],\n",
              "  ['beams.*193.*0.positionangle.value', -65.90550231933594],\n",
              "  ['beams.*194.*0.major.unit', 'arcsec'],\n",
              "  ['beams.*194.*0.major.value', 0.6532638072967529],\n",
              "  ['beams.*194.*0.minor.unit', 'arcsec'],\n",
              "  ['beams.*194.*0.minor.value', 0.5044402480125427],\n",
              "  ['beams.*194.*0.positionangle.unit', 'deg'],\n",
              "  ['beams.*194.*0.positionangle.value', -65.90557098388672],\n",
              "  ['beams.*195.*0.major.unit', 'arcsec'],\n",
              "  ['beams.*195.*0.major.value', 0.653262734413147],\n",
              "  ['beams.*195.*0.minor.unit', 'arcsec'],\n",
              "  ['beams.*195.*0.minor.value', 0.5044394731521606],\n",
              "  ['beams.*195.*0.positionangle.unit', 'deg'],\n",
              "  ['beams.*195.*0.positionangle.value', -65.90555572509766],\n",
              "  ['beams.*196.*0.major.unit', 'arcsec'],\n",
              "  ['beams.*196.*0.major.value', 0.6532616019248962],\n",
              "  ['beams.*196.*0.minor.unit', 'arcsec'],\n",
              "  ['beams.*196.*0.minor.value', 0.5044385194778442],\n",
              "  ['beams.*196.*0.positionangle.unit', 'deg'],\n",
              "  ['beams.*196.*0.positionangle.value', -65.90557861328125],\n",
              "  ['beams.*197.*0.major.unit', 'arcsec'],\n",
              "  ['beams.*197.*0.major.value', 0.6532602906227112],\n",
              "  ['beams.*197.*0.minor.unit', 'arcsec'],\n",
              "  ['beams.*197.*0.minor.value', 0.5044376254081726],\n",
              "  ['beams.*197.*0.positionangle.unit', 'deg'],\n",
              "  ['beams.*197.*0.positionangle.value', -65.90555572509766],\n",
              "  ['beams.*198.*0.major.unit', 'arcsec'],\n",
              "  ['beams.*198.*0.major.value', 0.6532593965530396],\n",
              "  ['beams.*198.*0.minor.unit', 'arcsec'],\n",
              "  ['beams.*198.*0.minor.value', 0.5044368505477905],\n",
              "  ['beams.*198.*0.positionangle.unit', 'deg'],\n",
              "  ['beams.*198.*0.positionangle.value', -65.90557098388672],\n",
              "  ['beams.*199.*0.major.unit', 'arcsec'],\n",
              "  ['beams.*199.*0.major.value', 0.6532582640647888],\n",
              "  ['beams.*199.*0.minor.unit', 'arcsec'],\n",
              "  ['beams.*199.*0.minor.value', 0.5044359564781189],\n",
              "  ['beams.*199.*0.positionangle.unit', 'deg'],\n",
              "  ['beams.*199.*0.positionangle.value', -65.90559387207031],\n",
              "  ['beams.*2.*0.major.unit', 'arcsec'],\n",
              "  ['beams.*2.*0.major.value', 0.6534687876701355],\n",
              "  ['beams.*2.*0.minor.unit', 'arcsec'],\n",
              "  ['beams.*2.*0.minor.value', 0.5046045780181885],\n",
              "  ['beams.*2.*0.positionangle.unit', 'deg'],\n",
              "  ['beams.*2.*0.positionangle.value', -65.90594482421875],\n",
              "  ['beams.*20.*0.major.unit', 'arcsec'],\n",
              "  ['beams.*20.*0.major.value', 0.6534504294395447],\n",
              "  ['beams.*20.*0.minor.unit', 'arcsec'],\n",
              "  ['beams.*20.*0.minor.value', 0.5045888423919678],\n",
              "  ['beams.*20.*0.positionangle.unit', 'deg'],\n",
              "  ['beams.*20.*0.positionangle.value', -65.9058837890625],\n",
              "  ['beams.*200.*0.major.unit', 'arcsec'],\n",
              "  ['beams.*200.*0.major.value', 0.6532573103904724],\n",
              "  ['beams.*200.*0.minor.unit', 'arcsec'],\n",
              "  ['beams.*200.*0.minor.value', 0.5044351816177368],\n",
              "  ['beams.*200.*0.positionangle.unit', 'deg'],\n",
              "  ['beams.*200.*0.positionangle.value', -65.9056396484375],\n",
              "  ['beams.*201.*0.major.unit', 'arcsec'],\n",
              "  ['beams.*201.*0.major.value', 0.6532562971115112],\n",
              "  ['beams.*201.*0.minor.unit', 'arcsec'],\n",
              "  ['beams.*201.*0.minor.value', 0.5044342875480652],\n",
              "  ['beams.*201.*0.positionangle.unit', 'deg'],\n",
              "  ['beams.*201.*0.positionangle.value', -65.9056396484375],\n",
              "  ['beams.*202.*0.major.unit', 'arcsec'],\n",
              "  ['beams.*202.*0.major.value', 0.65325528383255],\n",
              "  ['beams.*202.*0.minor.unit', 'arcsec'],\n",
              "  ['beams.*202.*0.minor.value', 0.5044334530830383],\n",
              "  ['beams.*202.*0.positionangle.unit', 'deg'],\n",
              "  ['beams.*202.*0.positionangle.value', -65.9056396484375],\n",
              "  ['beams.*203.*0.major.unit', 'arcsec'],\n",
              "  ['beams.*203.*0.major.value', 0.6532541513442993],\n",
              "  ['beams.*203.*0.minor.unit', 'arcsec'],\n",
              "  ['beams.*203.*0.minor.value', 0.5044324994087219],\n",
              "  ['beams.*203.*0.positionangle.unit', 'deg'],\n",
              "  ['beams.*203.*0.positionangle.value', -65.90556335449219],\n",
              "  ['beams.*204.*0.major.unit', 'arcsec'],\n",
              "  ['beams.*204.*0.major.value', 0.6532531380653381],\n",
              "  ['beams.*204.*0.minor.unit', 'arcsec'],\n",
              "  ['beams.*204.*0.minor.value', 0.5044315457344055],\n",
              "  ['beams.*204.*0.positionangle.unit', 'deg'],\n",
              "  ['beams.*204.*0.positionangle.value', -65.90557098388672],\n",
              "  ['beams.*205.*0.major.unit', 'arcsec'],\n",
              "  ['beams.*205.*0.major.value', 0.6532524228096008],\n",
              "  ['beams.*205.*0.minor.unit', 'arcsec'],\n",
              "  ['beams.*205.*0.minor.value', 0.5044307112693787],\n",
              "  ['beams.*205.*0.positionangle.unit', 'deg'],\n",
              "  ['beams.*205.*0.positionangle.value', -65.90559387207031],\n",
              "  ['beams.*206.*0.major.unit', 'arcsec'],\n",
              "  ['beams.*206.*0.major.value', 0.6532515287399292],\n",
              "  ['beams.*206.*0.minor.unit', 'arcsec'],\n",
              "  ['beams.*206.*0.minor.value', 0.5044298768043518],\n",
              "  ['beams.*206.*0.positionangle.unit', 'deg'],\n",
              "  ['beams.*206.*0.positionangle.value', -65.9056167602539],\n",
              "  ['beams.*207.*0.major.unit', 'arcsec'],\n",
              "  ['beams.*207.*0.major.value', 0.6532506346702576],\n",
              "  ['beams.*207.*0.minor.unit', 'arcsec'],\n",
              "  ['beams.*207.*0.minor.value', 0.5044288635253906],\n",
              "  ['beams.*207.*0.positionangle.unit', 'deg'],\n",
              "  ['beams.*207.*0.positionangle.value', -65.9056396484375],\n",
              "  ['beams.*208.*0.major.unit', 'arcsec'],\n",
              "  ['beams.*208.*0.major.value', 0.6532496213912964],\n",
              "  ['beams.*208.*0.minor.unit', 'arcsec'],\n",
              "  ['beams.*208.*0.minor.value', 0.5044280290603638],\n",
              "  ['beams.*208.*0.positionangle.unit', 'deg'],\n",
              "  ['beams.*208.*0.positionangle.value', -65.90562438964844],\n",
              "  ['beams.*209.*0.major.unit', 'arcsec'],\n",
              "  ['beams.*209.*0.major.value', 0.6532487273216248],\n",
              "  ['beams.*209.*0.minor.unit', 'arcsec'],\n",
              "  ['beams.*209.*0.minor.value', 0.5044273138046265],\n",
              "  ['beams.*209.*0.positionangle.unit', 'deg'],\n",
              "  ['beams.*209.*0.positionangle.value', -65.9056396484375],\n",
              "  ['beams.*21.*0.major.unit', 'arcsec'],\n",
              "  ['beams.*21.*0.major.value', 0.6534491181373596],\n",
              "  ['beams.*21.*0.minor.unit', 'arcsec'],\n",
              "  ['beams.*21.*0.minor.value', 0.5045878887176514],\n",
              "  ['beams.*21.*0.positionangle.unit', 'deg'],\n",
              "  ['beams.*21.*0.positionangle.value', -65.90583801269531],\n",
              "  ['beams.*210.*0.major.unit', 'arcsec'],\n",
              "  ['beams.*210.*0.major.value', 0.6532476544380188],\n",
              "  ['beams.*210.*0.minor.unit', 'arcsec'],\n",
              "  ['beams.*210.*0.minor.value', 0.5044264197349548],\n",
              "  ['beams.*210.*0.positionangle.unit', 'deg'],\n",
              "  ['beams.*210.*0.positionangle.value', -65.9056167602539],\n",
              "  ['beams.*211.*0.major.unit', 'arcsec'],\n",
              "  ['beams.*211.*0.major.value', 0.6532466411590576],\n",
              "  ['beams.*211.*0.minor.unit', 'arcsec'],\n",
              "  ['beams.*211.*0.minor.value', 0.5044256448745728],\n",
              "  ['beams.*211.*0.positionangle.unit', 'deg'],\n",
              "  ['beams.*211.*0.positionangle.value', -65.9056396484375],\n",
              "  ['beams.*212.*0.major.unit', 'arcsec'],\n",
              "  ['beams.*212.*0.major.value', 0.6532456278800964],\n",
              "  ['beams.*212.*0.minor.unit', 'arcsec'],\n",
              "  ['beams.*212.*0.minor.value', 0.5044247508049011],\n",
              "  ['beams.*212.*0.positionangle.unit', 'deg'],\n",
              "  ['beams.*212.*0.positionangle.value', -65.9056396484375],\n",
              "  ['beams.*213.*0.major.unit', 'arcsec'],\n",
              "  ['beams.*213.*0.major.value', 0.6532445549964905],\n",
              "  ['beams.*213.*0.minor.unit', 'arcsec'],\n",
              "  ['beams.*213.*0.minor.value', 0.5044238567352295],\n",
              "  ['beams.*213.*0.positionangle.unit', 'deg'],\n",
              "  ['beams.*213.*0.positionangle.value', -65.90563201904297],\n",
              "  ['beams.*214.*0.major.unit', 'arcsec'],\n",
              "  ['beams.*214.*0.major.value', 0.6532433032989502],\n",
              "  ['beams.*214.*0.minor.unit', 'arcsec'],\n",
              "  ['beams.*214.*0.minor.value', 0.5044230818748474],\n",
              "  ['beams.*214.*0.positionangle.unit', 'deg'],\n",
              "  ['beams.*214.*0.positionangle.value', -65.90562438964844],\n",
              "  ['beams.*215.*0.major.unit', 'arcsec'],\n",
              "  ['beams.*215.*0.major.value', 0.653242290019989],\n",
              "  ['beams.*215.*0.minor.unit', 'arcsec'],\n",
              "  ['beams.*215.*0.minor.value', 0.504422128200531],\n",
              "  ['beams.*215.*0.positionangle.unit', 'deg'],\n",
              "  ['beams.*215.*0.positionangle.value', -65.90563201904297],\n",
              "  ['beams.*216.*0.major.unit', 'arcsec'],\n",
              "  ['beams.*216.*0.major.value', 0.6532409191131592],\n",
              "  ['beams.*216.*0.minor.unit', 'arcsec'],\n",
              "  ['beams.*216.*0.minor.value', 0.5044212937355042],\n",
              "  ['beams.*216.*0.positionangle.unit', 'deg'],\n",
              "  ['beams.*216.*0.positionangle.value', -65.90560913085938],\n",
              "  ['beams.*217.*0.major.unit', 'arcsec'],\n",
              "  ['beams.*217.*0.major.value', 0.6532397866249084],\n",
              "  ['beams.*217.*0.minor.unit', 'arcsec'],\n",
              "  ['beams.*217.*0.minor.value', 0.5044203400611877],\n",
              "  ['beams.*217.*0.positionangle.unit', 'deg'],\n",
              "  ['beams.*217.*0.positionangle.value', -65.90563201904297],\n",
              "  ['beams.*218.*0.major.unit', 'arcsec'],\n",
              "  ['beams.*218.*0.major.value', 0.653238832950592],\n",
              "  ['beams.*218.*0.minor.unit', 'arcsec'],\n",
              "  ['beams.*218.*0.minor.value', 0.5044195652008057],\n",
              "  ['beams.*218.*0.positionangle.unit', 'deg'],\n",
              "  ['beams.*218.*0.positionangle.value', -65.90565490722656],\n",
              "  ['beams.*219.*0.major.unit', 'arcsec'],\n",
              "  ['beams.*219.*0.major.value', 0.6532377600669861],\n",
              "  ['beams.*219.*0.minor.unit', 'arcsec'],\n",
              "  ['beams.*219.*0.minor.value', 0.5044187903404236],\n",
              "  ['beams.*219.*0.positionangle.unit', 'deg'],\n",
              "  ['beams.*219.*0.positionangle.value', -65.90564727783203],\n",
              "  ['beams.*22.*0.major.unit', 'arcsec'],\n",
              "  ['beams.*22.*0.major.value', 0.6534479260444641],\n",
              "  ['beams.*22.*0.minor.unit', 'arcsec'],\n",
              "  ['beams.*22.*0.minor.value', 0.5045869946479797],\n",
              "  ['beams.*22.*0.positionangle.unit', 'deg'],\n",
              "  ['beams.*22.*0.positionangle.value', -65.9057846069336],\n",
              "  ['beams.*220.*0.major.unit', 'arcsec'],\n",
              "  ['beams.*220.*0.major.value', 0.6532366871833801],\n",
              "  ['beams.*220.*0.minor.unit', 'arcsec'],\n",
              "  ['beams.*220.*0.minor.value', 0.5044180154800415],\n",
              "  ['beams.*220.*0.positionangle.unit', 'deg'],\n",
              "  ['beams.*220.*0.positionangle.value', -65.90567016601562],\n",
              "  ['beams.*221.*0.major.unit', 'arcsec'],\n",
              "  ['beams.*221.*0.major.value', 0.6532358527183533],\n",
              "  ['beams.*221.*0.minor.unit', 'arcsec'],\n",
              "  ['beams.*221.*0.minor.value', 0.5044171214103699],\n",
              "  ['beams.*221.*0.positionangle.unit', 'deg'],\n",
              "  ['beams.*221.*0.positionangle.value', -65.90571594238281],\n",
              "  ['beams.*222.*0.major.unit', 'arcsec'],\n",
              "  ['beams.*222.*0.major.value', 0.6532347798347473],\n",
              "  ['beams.*222.*0.minor.unit', 'arcsec'],\n",
              "  ['beams.*222.*0.minor.value', 0.504416286945343],\n",
              "  ['beams.*222.*0.positionangle.unit', 'deg'],\n",
              "  ['beams.*222.*0.positionangle.value', -65.90572357177734],\n",
              "  ['beams.*223.*0.major.unit', 'arcsec'],\n",
              "  ['beams.*223.*0.major.value', 0.6532336473464966],\n",
              "  ['beams.*223.*0.minor.unit', 'arcsec'],\n",
              "  ['beams.*223.*0.minor.value', 0.5044155716896057],\n",
              "  ['beams.*223.*0.positionangle.unit', 'deg'],\n",
              "  ['beams.*223.*0.positionangle.value', -65.9057388305664],\n",
              "  ['beams.*224.*0.major.unit', 'arcsec'],\n",
              "  ['beams.*224.*0.major.value', 0.6532325744628906],\n",
              "  ['beams.*224.*0.minor.unit', 'arcsec'],\n",
              "  ['beams.*224.*0.minor.value', 0.5044147968292236],\n",
              "  ['beams.*224.*0.positionangle.unit', 'deg'],\n",
              "  ['beams.*224.*0.positionangle.value', -65.90569305419922],\n",
              "  ['beams.*225.*0.major.unit', 'arcsec'],\n",
              "  ['beams.*225.*0.major.value', 0.6532316207885742],\n",
              "  ['beams.*225.*0.minor.unit', 'arcsec'],\n",
              "  ['beams.*225.*0.minor.value', 0.5044140219688416],\n",
              "  ['beams.*225.*0.positionangle.unit', 'deg'],\n",
              "  ['beams.*225.*0.positionangle.value', -65.90570068359375],\n",
              "  ['beams.*226.*0.major.unit', 'arcsec'],\n",
              "  ['beams.*226.*0.major.value', 0.6532306671142578],\n",
              "  ['beams.*226.*0.minor.unit', 'arcsec'],\n",
              "  ['beams.*226.*0.minor.value', 0.5044131875038147],\n",
              "  ['beams.*226.*0.positionangle.unit', 'deg'],\n",
              "  ['beams.*226.*0.positionangle.value', -65.90570068359375],\n",
              "  ['beams.*227.*0.major.unit', 'arcsec'],\n",
              "  ['beams.*227.*0.major.value', 0.6532295942306519],\n",
              "  ['beams.*227.*0.minor.unit', 'arcsec'],\n",
              "  ['beams.*227.*0.minor.value', 0.5044123530387878],\n",
              "  ['beams.*227.*0.positionangle.unit', 'deg'],\n",
              "  ['beams.*227.*0.positionangle.value', -65.90569305419922],\n",
              "  ['beams.*228.*0.major.unit', 'arcsec'],\n",
              "  ['beams.*228.*0.major.value', 0.6532282829284668],\n",
              "  ['beams.*228.*0.minor.unit', 'arcsec'],\n",
              "  ['beams.*228.*0.minor.value', 0.5044113993644714],\n",
              "  ['beams.*228.*0.positionangle.unit', 'deg'],\n",
              "  ['beams.*228.*0.positionangle.value', -65.90572357177734],\n",
              "  ['beams.*229.*0.major.unit', 'arcsec'],\n",
              "  ['beams.*229.*0.major.value', 0.6532269716262817],\n",
              "  ['beams.*229.*0.minor.unit', 'arcsec'],\n",
              "  ['beams.*229.*0.minor.value', 0.5044106245040894],\n",
              "  ['beams.*229.*0.positionangle.unit', 'deg'],\n",
              "  ['beams.*229.*0.positionangle.value', -65.90567779541016],\n",
              "  ['beams.*23.*0.major.unit', 'arcsec'],\n",
              "  ['beams.*23.*0.major.value', 0.6534466743469238],\n",
              "  ['beams.*23.*0.minor.unit', 'arcsec'],\n",
              "  ['beams.*23.*0.minor.value', 0.5045861601829529],\n",
              "  ['beams.*23.*0.positionangle.unit', 'deg'],\n",
              "  ['beams.*23.*0.positionangle.value', -65.9057846069336],\n",
              "  ['beams.*230.*0.major.unit', 'arcsec'],\n",
              "  ['beams.*230.*0.major.value', 0.6532259583473206],\n",
              "  ['beams.*230.*0.minor.unit', 'arcsec'],\n",
              "  ['beams.*230.*0.minor.value', 0.5044097900390625],\n",
              "  ['beams.*230.*0.positionangle.unit', 'deg'],\n",
              "  ['beams.*230.*0.positionangle.value', -65.90565490722656],\n",
              "  ['beams.*231.*0.major.unit', 'arcsec'],\n",
              "  ['beams.*231.*0.major.value', 0.6532248258590698],\n",
              "  ['beams.*231.*0.minor.unit', 'arcsec'],\n",
              "  ['beams.*231.*0.minor.value', 0.5044088363647461],\n",
              "  ['beams.*231.*0.positionangle.unit', 'deg'],\n",
              "  ['beams.*231.*0.positionangle.value', -65.90565490722656],\n",
              "  ['beams.*232.*0.major.unit', 'arcsec'],\n",
              "  ['beams.*232.*0.major.value', 0.6532235741615295],\n",
              "  ['beams.*232.*0.minor.unit', 'arcsec'],\n",
              "  ['beams.*232.*0.minor.value', 0.5044078230857849],\n",
              "  ['beams.*232.*0.positionangle.unit', 'deg'],\n",
              "  ['beams.*232.*0.positionangle.value', -65.90564727783203],\n",
              "  ['beams.*233.*0.major.unit', 'arcsec'],\n",
              "  ['beams.*233.*0.major.value', 0.6532224416732788],\n",
              "  ['beams.*233.*0.minor.unit', 'arcsec'],\n",
              "  ['beams.*233.*0.minor.value', 0.5044069886207581],\n",
              "  ['beams.*233.*0.positionangle.unit', 'deg'],\n",
              "  ['beams.*233.*0.positionangle.value', -65.90567779541016],\n",
              "  ['beams.*234.*0.major.unit', 'arcsec'],\n",
              "  ['beams.*234.*0.major.value', 0.6532214283943176],\n",
              "  ['beams.*234.*0.minor.unit', 'arcsec'],\n",
              "  ['beams.*234.*0.minor.value', 0.5044063329696655],\n",
              "  ['beams.*234.*0.positionangle.unit', 'deg'],\n",
              "  ['beams.*234.*0.positionangle.value', -65.90564727783203],\n",
              "  ['beams.*235.*0.major.unit', 'arcsec'],\n",
              "  ['beams.*235.*0.major.value', 0.6532203555107117],\n",
              "  ['beams.*235.*0.minor.unit', 'arcsec'],\n",
              "  ['beams.*235.*0.minor.value', 0.5044054985046387],\n",
              "  ['beams.*235.*0.positionangle.unit', 'deg'],\n",
              "  ['beams.*235.*0.positionangle.value', -65.90564727783203],\n",
              "  ['beams.*236.*0.major.unit', 'arcsec'],\n",
              "  ['beams.*236.*0.major.value', 0.6532193422317505],\n",
              "  ['beams.*236.*0.minor.unit', 'arcsec'],\n",
              "  ['beams.*236.*0.minor.value', 0.5044047236442566],\n",
              "  ['beams.*236.*0.positionangle.unit', 'deg'],\n",
              "  ['beams.*236.*0.positionangle.value', -65.90563201904297],\n",
              "  ['beams.*237.*0.major.unit', 'arcsec'],\n",
              "  ['beams.*237.*0.major.value', 0.653218150138855],\n",
              "  ['beams.*237.*0.minor.unit', 'arcsec'],\n",
              "  ['beams.*237.*0.minor.value', 0.5044037699699402],\n",
              "  ['beams.*237.*0.positionangle.unit', 'deg'],\n",
              "  ['beams.*237.*0.positionangle.value', -65.90560913085938],\n",
              "  ['beams.*238.*0.major.unit', 'arcsec'],\n",
              "  ['beams.*238.*0.major.value', 0.6532171368598938],\n",
              "  ['beams.*238.*0.minor.unit', 'arcsec'],\n",
              "  ['beams.*238.*0.minor.value', 0.5044029951095581],\n",
              "  ['beams.*238.*0.positionangle.unit', 'deg'],\n",
              "  ['beams.*238.*0.positionangle.value', -65.90557861328125],\n",
              "  ['beams.*239.*0.major.unit', 'arcsec'],\n",
              "  ['beams.*239.*0.major.value', 0.6532159447669983],\n",
              "  ['beams.*239.*0.minor.unit', 'arcsec'],\n",
              "  ['beams.*239.*0.minor.value', 0.5044021606445312],\n",
              "  ['beams.*239.*0.positionangle.unit', 'deg'],\n",
              "  ['beams.*239.*0.positionangle.value', -65.90560913085938],\n",
              "  ['beams.*24.*0.major.unit', 'arcsec'],\n",
              "  ['beams.*24.*0.major.value', 0.6534456610679626],\n",
              "  ['beams.*24.*0.minor.unit', 'arcsec'],\n",
              "  ['beams.*24.*0.minor.value', 0.504585325717926],\n",
              "  ['beams.*24.*0.positionangle.unit', 'deg'],\n",
              "  ['beams.*24.*0.positionangle.value', -65.90579986572266],\n",
              "  ['beams.*240.*0.major.unit', 'arcsec'],\n",
              "  ['beams.*240.*0.major.value', 0.6532147526741028],\n",
              "  ['beams.*240.*0.minor.unit', 'arcsec'],\n",
              "  ['beams.*240.*0.minor.value', 0.5044012665748596],\n",
              "  ['beams.*240.*0.positionangle.unit', 'deg'],\n",
              "  ['beams.*240.*0.positionangle.value', -65.90557861328125],\n",
              "  ['beams.*241.*0.major.unit', 'arcsec'],\n",
              "  ['beams.*241.*0.major.value', 0.653213381767273],\n",
              "  ['beams.*241.*0.minor.unit', 'arcsec'],\n",
              "  ['beams.*241.*0.minor.value', 0.5044001936912537],\n",
              "  ['beams.*241.*0.positionangle.unit', 'deg'],\n",
              "  ['beams.*241.*0.positionangle.value', -65.90555572509766],\n",
              "  ['beams.*242.*0.major.unit', 'arcsec'],\n",
              "  ['beams.*242.*0.major.value', 0.6532123684883118],\n",
              "  ['beams.*242.*0.minor.unit', 'arcsec'],\n",
              "  ['beams.*242.*0.minor.value', 0.5043993592262268],\n",
              "  ['beams.*242.*0.positionangle.unit', 'deg'],\n",
              "  ['beams.*242.*0.positionangle.value', -65.90554809570312],\n",
              "  ['beams.*243.*0.major.unit', 'arcsec'],\n",
              "  ['beams.*243.*0.major.value', 0.6532113552093506],\n",
              "  ['beams.*243.*0.minor.unit', 'arcsec'],\n",
              "  ['beams.*243.*0.minor.value', 0.5043985247612],\n",
              "  ['beams.*243.*0.positionangle.unit', 'deg'],\n",
              "  ['beams.*243.*0.positionangle.value', -65.90554809570312],\n",
              "  ['beams.*244.*0.major.unit', 'arcsec'],\n",
              "  ['beams.*244.*0.major.value', 0.6532101035118103],\n",
              "  ['beams.*244.*0.minor.unit', 'arcsec'],\n",
              "  ['beams.*244.*0.minor.value', 0.5043976902961731],\n",
              "  ['beams.*244.*0.positionangle.unit', 'deg'],\n",
              "  ['beams.*244.*0.positionangle.value', -65.90554809570312],\n",
              "  ['beams.*245.*0.major.unit', 'arcsec'],\n",
              "  ['beams.*245.*0.major.value', 0.6532087326049805],\n",
              "  ['beams.*245.*0.minor.unit', 'arcsec'],\n",
              "  ['beams.*245.*0.minor.value', 0.5043967962265015],\n",
              "  ['beams.*245.*0.positionangle.unit', 'deg'],\n",
              "  ['beams.*245.*0.positionangle.value', -65.90550231933594],\n",
              "  ['beams.*246.*0.major.unit', 'arcsec'],\n",
              "  ['beams.*246.*0.major.value', 0.6532071828842163],\n",
              "  ['beams.*246.*0.minor.unit', 'arcsec'],\n",
              "  ['beams.*246.*0.minor.value', 0.5043959021568298],\n",
              "  ['beams.*246.*0.positionangle.unit', 'deg'],\n",
              "  ['beams.*246.*0.positionangle.value', -65.90543365478516],\n",
              "  ['beams.*247.*0.major.unit', 'arcsec'],\n",
              "  ['beams.*247.*0.major.value', 0.6532061100006104],\n",
              "  ['beams.*247.*0.minor.unit', 'arcsec'],\n",
              "  ['beams.*247.*0.minor.value', 0.5043950080871582],\n",
              "  ['beams.*247.*0.positionangle.unit', 'deg'],\n",
              "  ['beams.*247.*0.positionangle.value', -65.90538024902344],\n",
              "  ['beams.*248.*0.major.unit', 'arcsec'],\n",
              "  ['beams.*248.*0.major.value', 0.653204619884491],\n",
              "  ...],\n",
              " 'pointing_center': '11',\n",
              " 'rest_frequency': '3.72637e+11 hz',\n",
              " 'spectral__reference': 'lsrk',\n",
              " 'telescope': 'alma',\n",
              " 'telescope_position': '[2.22514e+06m, -5.44031e+06m, -2.48103e+06m] (itrf)',\n",
              " 'unit': 'Jy/beam',\n",
              " 'velocity__type': 'radio'}"
            ]
          },
          "metadata": {
            "tags": []
          },
          "execution_count": 74
        }
      ]
    },
    {
      "cell_type": "code",
      "metadata": {
        "id": "Jvv3RptxvMg-",
        "colab_type": "code",
        "colab": {}
      },
      "source": [
        ""
      ],
      "execution_count": 0,
      "outputs": []
    }
  ]
}