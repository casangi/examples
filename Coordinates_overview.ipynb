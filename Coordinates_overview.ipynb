{
  "nbformat": 4,
  "nbformat_minor": 0,
  "metadata": {
    "colab": {
      "name": "cngi_s3_read.ipynb",
      "provenance": [],
      "collapsed_sections": []
    },
    "kernelspec": {
      "name": "python3",
      "display_name": "Python 3"
    },
    "accelerator": "GPU"
  },
  "cells": [
    {
      "cell_type": "markdown",
      "metadata": {
        "id": "61JNmh7-nT10",
        "colab_type": "text"
      },
      "source": [
        "# Coordinate frame conversions\n",
        "\n",
        "Here are the most prominently-featured sources of documentation on the subject:\n",
        "\n",
        "*   https://casa.nrao.edu/casadocs/casa-5.6.0/memo-series/reference-material/spectral-frames\n",
        "*   https://help.almascience.org/index.php?/Knowledgebase/Article/View/86\n",
        "*   https://casa.nrao.edu/docs/TaskRef/mstransform-task.html\n",
        "*   https://casa.nrao.edu/casadocs/casa-5.4.1/uv-manipulation/manipulating-visibilities-with-mstransform\n",
        "*   https://casa.nrao.edu/docs/TaskRef/cvel-task.html\n",
        "\n",
        "\n"
      ]
    },
    {
      "cell_type": "markdown",
      "metadata": {
        "id": "CpwKMMVBn-q2",
        "colab_type": "text"
      },
      "source": [
        "The goal of this notebook is to demonstrate conversion of visibility and image data converted between spectral, spatial, and temporal reference frames using the next generation CASA infrastructure."
      ]
    },
    {
      "cell_type": "markdown",
      "metadata": {
        "id": "5xAxbeSkCwg6",
        "colab_type": "text"
      },
      "source": [
        "# Setting up\n"
      ]
    },
    {
      "cell_type": "code",
      "metadata": {
        "id": "50o-JqkvXTTS",
        "colab_type": "code",
        "outputId": "04c5e396-576b-4f00-fe40-123c1141258e",
        "colab": {
          "base_uri": "https://localhost:8080/",
          "height": 86
        }
      },
      "source": [
        "import os, time\n",
        "\n",
        "start = time.time()\n",
        "print(\"Installing fortran and CASA6 dependencies\")\n",
        "os.system(\"apt-get install libgfortran3\")\n",
        "os.system(\"pip install --extra-index-url https://casa-pip.nrao.edu/repository/pypi-casa-release/simple casatools==6.0.0.27\")\n",
        "print(f\"completed after {round(time.time() - start, 2)} seconds\")\n",
        "print(\"Installing ZINC\")\n",
        "os.system(\"pip install cngi-prototype==0.0.35\")\n",
        "print(f\"completed after {round(time.time() - start, 2)} seconds\")"
      ],
      "execution_count": 13,
      "outputs": [
        {
          "output_type": "stream",
          "text": [
            "Installing fortran and CASA6 dependencies\n",
            "completed after 3.17 seconds\n",
            "Installing ZINC\n",
            "completed after 105.3 seconds\n"
          ],
          "name": "stdout"
        }
      ]
    },
    {
      "cell_type": "code",
      "metadata": {
        "id": "qz2UzHlqb48z",
        "colab_type": "code",
        "colab": {}
      },
      "source": [
        "import numpy as np\n",
        "import xarray as xr\n",
        "import zarr\n",
        "import cngi as zn"
      ],
      "execution_count": 0,
      "outputs": []
    },
    {
      "cell_type": "markdown",
      "metadata": {
        "id": "NCRF_6v9RgBk",
        "colab_type": "text"
      },
      "source": [
        "Note that we have not installed CASA6, so no tasks are available for use in this notebook."
      ]
    },
    {
      "cell_type": "markdown",
      "metadata": {
        "id": "o26xHtz0omjt",
        "colab_type": "text"
      },
      "source": [
        "## Data access"
      ]
    },
    {
      "cell_type": "markdown",
      "metadata": {
        "id": "3UzSuS2MopY3",
        "colab_type": "text"
      },
      "source": [
        "We don't need to download or convert any data if we use what's been previously converted and made available for download. We're going to accomplish that through the use of Simple Storage Service (S3) provided by Amazon Web Services.\n",
        "\n",
        "This service provides a means of uploading and storing arbitrary data in the form of objects, accessible via web interface. `boto3` is the SDK provided by AWS to manage authentication and object access/manipulation."
      ]
    },
    {
      "cell_type": "code",
      "metadata": {
        "id": "pZX90fbCDElh",
        "colab_type": "code",
        "colab": {}
      },
      "source": [
        "import s3fs"
      ],
      "execution_count": 0,
      "outputs": []
    },
    {
      "cell_type": "markdown",
      "metadata": {
        "id": "DZ41E3_yUT8r",
        "colab_type": "text"
      },
      "source": [
        "This library allows us to register an object bucket in S3 with our python process as if it were a file system. This can be convenient for certain operations, and will allow us to treat the remotely-stored object data as if they were locally hosted file data.\n"
      ]
    },
    {
      "cell_type": "code",
      "metadata": {
        "id": "NgnXQqnzT_62",
        "colab_type": "code",
        "colab": {}
      },
      "source": [
        "# Initialize the S3 \"file system\"\n",
        "s3 = s3fs.S3FileSystem(anon=True, requester_pays=False)"
      ],
      "execution_count": 0,
      "outputs": []
    },
    {
      "cell_type": "code",
      "metadata": {
        "id": "Lf8QMrrWDTii",
        "colab_type": "code",
        "colab": {
          "base_uri": "https://localhost:8080/",
          "height": 72
        },
        "outputId": "65104e9b-3b7b-4451-9be2-a647960e9925"
      },
      "source": [
        "# Specify AWS S3 path\n",
        "bucket = 'cngi-prototype-test-data/'\n",
        "\n",
        "#ous, ddi = 'uid___A002_Xcad526_X4b6e', '27/'\n",
        "#ous, ddi = 'uid___A002_Xcbc47c_Xe556', '5/'\n",
        "ous, ddi = 'uid___A002_Xcfc232_X2eda', '16/'\n",
        "\n",
        "dimension = 'chan'\n",
        "#dimension = 'time'\n",
        "\n",
        "contents = s3.listdir(bucket+ous+'_'+dimension+'_chunks.vis.zarr/'+ddi)\n",
        "exists = s3.isdir(bucket+ous+'_'+dimension+'_chunks.vis.zarr/global/')\n",
        "\n",
        "print(f\"It is {exists} that these data can be accessed like files\")\n",
        "print(f\"Here is an example object: {contents[0]}\")"
      ],
      "execution_count": 17,
      "outputs": [
        {
          "output_type": "stream",
          "text": [
            "It is True that these data can be accessed like files\n",
            "Here is an example object: {'Key': 'cngi-prototype-test-data/uid___A002_Xcfc232_X2eda_chan_chunks.vis.zarr/16/.zattrs', 'LastModified': datetime.datetime(2020, 1, 29, 18, 51, 20, tzinfo=tzlocal()), 'ETag': '\"8e8e8993b89675494f89a2f7536106e1\"', 'Size': 495, 'StorageClass': 'STANDARD', 'type': 'file', 'size': 495, 'name': 'cngi-prototype-test-data/uid___A002_Xcfc232_X2eda_chan_chunks.vis.zarr/16/.zattrs'}\n"
          ],
          "name": "stdout"
        }
      ]
    },
    {
      "cell_type": "markdown",
      "metadata": {
        "id": "W_ZPmA43Xbsk",
        "colab_type": "text"
      },
      "source": [
        "Most of the objects we have uploaded to this bucket (so far) are zarr groups. [Zarr](https://zarr.readthedocs.io/en/stable/index.html) has been identified as a promising candidate library for managing the I/O component of our infrastructure in part because it was designed with features that allow it to reliably serve as a self-documenting, cloud-optimized array storage format. Access to this library's methods is exposed via the python standard libary's [MutableMapping](https://docs.python.org/3/library/collections.abc.html#collections.abc.MutableMapping) interface.\n",
        "\n",
        "Let's open a zarr file that contains some calibrated visibility data."
      ]
    },
    {
      "cell_type": "code",
      "metadata": {
        "id": "-ToM5jPlDtIl",
        "colab_type": "code",
        "colab": {}
      },
      "source": [
        "s3_path = bucket+'test_data/sis14_twhya_field5_mstrans_lsrk.vis.zarr/'\n",
        "ddi = \"0\"\n",
        "s3_vis = s3_path+ddi\n",
        "s3_md = s3_path+\"global\"\n",
        "\n",
        "# Convert object stores to our desired MutableMapping interface\n",
        "store_vis = s3fs.S3Map(root=s3_vis, s3=s3, check=False)\n",
        "store_md = s3fs.S3Map(root=s3_md, s3=s3, check=False)"
      ],
      "execution_count": 0,
      "outputs": []
    },
    {
      "cell_type": "code",
      "metadata": {
        "id": "EGjDOLQyZEXZ",
        "colab_type": "code",
        "colab": {
          "base_uri": "https://localhost:8080/",
          "height": 34
        },
        "outputId": "7885df17-d284-430b-f6d4-42cdbef2fe00"
      },
      "source": [
        "# We haven't opened anything, just created a big container of key-value pairs\n",
        "print(store_md)"
      ],
      "execution_count": 19,
      "outputs": [
        {
          "output_type": "stream",
          "text": [
            "<fsspec.mapping.FSMap object at 0x7faccafbcb00>\n"
          ],
          "name": "stdout"
        }
      ]
    },
    {
      "cell_type": "code",
      "metadata": {
        "id": "Ema_Pv_CDuap",
        "colab_type": "code",
        "colab": {}
      },
      "source": [
        "# Now we actually pass the mappings as input to xarray's zarr interface\n",
        "vis_xds = xr.open_zarr(store=store_vis, consolidated=False)\n",
        "global_xds = xr.open_zarr(store=store_md, consolidated=False)"
      ],
      "execution_count": 0,
      "outputs": []
    },
    {
      "cell_type": "markdown",
      "metadata": {
        "id": "Vr2zD1qljdW4",
        "colab_type": "text"
      },
      "source": [
        "#### To do: Extend cngi.dio.read_vis to handle this for us under the covers (recognize s3 URL and open up fsspec.mapping.FSMap objects)"
      ]
    },
    {
      "cell_type": "markdown",
      "metadata": {
        "id": "r21Q9KVWjOct",
        "colab_type": "text"
      },
      "source": [
        "And just like that we have a lazily-evaluated representation of our visibility group, which we can represent as an xarray dataset"
      ]
    },
    {
      "cell_type": "code",
      "metadata": {
        "id": "shjy0MRZH6yh",
        "colab_type": "code",
        "outputId": "f27dab61-73f0-4d34-f244-80a819788eaf",
        "colab": {
          "base_uri": "https://localhost:8080/",
          "height": 851
        }
      },
      "source": [
        "print(vis_xds)"
      ],
      "execution_count": 33,
      "outputs": [
        {
          "output_type": "stream",
          "text": [
            "<xarray.Dataset>\n",
            "Dimensions:        (baseline: 210, chan: 384, pair: 2, pol: 2, receptor: 2, spw: 1, time: 270, uvw_index: 3)\n",
            "Coordinates:\n",
            "    antennas       (baseline, pair) int32 dask.array<chunksize=(210, 2), meta=np.ndarray>\n",
            "  * baseline       (baseline) int64 0 1 2 3 4 5 6 ... 204 205 206 207 208 209\n",
            "  * chan           (chan) float64 3.725e+11 3.725e+11 ... 3.728e+11 3.728e+11\n",
            "    chan_width     (chan) float64 dask.array<chunksize=(384,), meta=np.ndarray>\n",
            "    corr_product   (receptor, pol) int32 dask.array<chunksize=(2, 2), meta=np.ndarray>\n",
            "    effective_bw   (chan) float64 dask.array<chunksize=(384,), meta=np.ndarray>\n",
            "    field          (time) <U6 dask.array<chunksize=(270,), meta=np.ndarray>\n",
            "    interval       (time) float64 dask.array<chunksize=(270,), meta=np.ndarray>\n",
            "    observation    (time) <U22 dask.array<chunksize=(270,), meta=np.ndarray>\n",
            "  * pol            (pol) int32 9 12\n",
            "    processor      (time) <U14 dask.array<chunksize=(270,), meta=np.ndarray>\n",
            "    resolution     (chan) float64 dask.array<chunksize=(384,), meta=np.ndarray>\n",
            "    scan           (time) int32 dask.array<chunksize=(270,), meta=np.ndarray>\n",
            "  * spw            (spw) int32 0\n",
            "    state          (time) <U82 dask.array<chunksize=(270,), meta=np.ndarray>\n",
            "  * time           (time) float64 4.86e+09 4.86e+09 ... 4.86e+09 4.86e+09\n",
            "  * uvw_index      (uvw_index) <U2 'uu' 'vv' 'ww'\n",
            "Dimensions without coordinates: pair, receptor\n",
            "Data variables:\n",
            "    ANTENNA1       (time, baseline) int32 dask.array<chunksize=(270, 210), meta=np.ndarray>\n",
            "    ANTENNA2       (time, baseline) int32 dask.array<chunksize=(270, 210), meta=np.ndarray>\n",
            "    ARRAY_ID       (time, baseline) int32 dask.array<chunksize=(270, 210), meta=np.ndarray>\n",
            "    DATA           (time, baseline, chan, pol) complex128 dask.array<chunksize=(270, 210, 12, 2), meta=np.ndarray>\n",
            "    EXPOSURE       (time, baseline) float64 dask.array<chunksize=(270, 210), meta=np.ndarray>\n",
            "    FEED1          (time, baseline) int32 dask.array<chunksize=(270, 210), meta=np.ndarray>\n",
            "    FEED2          (time, baseline) int32 dask.array<chunksize=(270, 210), meta=np.ndarray>\n",
            "    FLAG           (time, baseline, chan, pol) bool dask.array<chunksize=(270, 210, 12, 2), meta=np.ndarray>\n",
            "    FLAG_ROW       (time, baseline) bool dask.array<chunksize=(270, 210), meta=np.ndarray>\n",
            "    SIGMA          (time, baseline, pol) float64 dask.array<chunksize=(270, 210, 2), meta=np.ndarray>\n",
            "    TIME_CENTROID  (time, baseline) float64 dask.array<chunksize=(270, 210), meta=np.ndarray>\n",
            "    UVW            (time, baseline, uvw_index) float64 dask.array<chunksize=(270, 210, 3), meta=np.ndarray>\n",
            "    WEIGHT         (time, baseline, pol) float64 dask.array<chunksize=(270, 210, 2), meta=np.ndarray>\n",
            "Attributes:\n",
            "    AUTO_CORRELATIONS:  0\n",
            "    BBC_NO:             2\n",
            "    DDI:                0\n",
            "    FREQ_GROUP:         0\n",
            "    FREQ_GROUP_NAME:    \n",
            "    IF_CONV_CHAIN:      0\n",
            "    MEAS_FREQ_REF:      1\n",
            "    NAME:               ALMA_RB_07#BB_2#SW-01#FULL_RES\n",
            "    NET_SIDEBAND:       2\n",
            "    NUM_CHAN:           384\n",
            "    REF_FREQUENCY:      372520022603.63745\n",
            "    TOTAL_BANDWIDTH:    234366781.0546875\n"
          ],
          "name": "stdout"
        }
      ]
    },
    {
      "cell_type": "markdown",
      "metadata": {
        "id": "qG1zgQhFj3_a",
        "colab_type": "text"
      },
      "source": [
        "We also have access to the global properties of the observation"
      ]
    },
    {
      "cell_type": "code",
      "metadata": {
        "id": "BeWaviiFkRFP",
        "colab_type": "code",
        "colab": {
          "base_uri": "https://localhost:8080/",
          "height": 1000
        },
        "outputId": "57a78f87-0f52-4691-80db-0000b2deb12e"
      },
      "source": [
        "print(global_xds)"
      ],
      "execution_count": 42,
      "outputs": [
        {
          "output_type": "stream",
          "text": [
            "<xarray.Dataset>\n",
            "Dimensions:                 (antenna: 26, d1: 1, d2: 2, d3: 3, feed: 1, field: 1, observation: 1, processor: 3, receptors: 3, source: 1, spw: 1, state: 20, time_fcmd: 5067, time_hist: 1137)\n",
            "Coordinates:\n",
            "  * antenna                 (antenna) int64 0 1 2 3 4 5 6 ... 20 21 22 23 24 25\n",
            "  * feed                    (feed) int64 0\n",
            "  * field                   (field) <U6 'TW Hya'\n",
            "  * observation             (observation) <U22 'uid://A002/X327408/X6f'\n",
            "  * processor               (processor) <U14 'CORRELATOR (0)' ... 'CORRELATOR (2)'\n",
            "  * receptors               (receptors) int64 0 1 2\n",
            "  * source                  (source) int32 0\n",
            "  * spw                     (spw) int64 0\n",
            "  * state                   (state) <U82 'CALIBRATE_BANDPASS#ON_SOURCE,CALIBRATE_PHASE#ON_SOURCE,CALIBRATE_WVR#ON_SOURCE (0)' ... 'OBSERVE_TARGET#ON_SOURCE (19)'\n",
            "  * time_fcmd               (time_fcmd) float64 4.86e+09 4.86e+09 ... 4.86e+09\n",
            "  * time_hist               (time_hist) float64 4.861e+09 ... 5.077e+09\n",
            "Dimensions without coordinates: d1, d2, d3\n",
            "Data variables:\n",
            "    ANT_DISH_DIAMETER       (antenna) float64 dask.array<chunksize=(26,), meta=np.ndarray>\n",
            "    ANT_FLAG_ROW            (antenna) bool dask.array<chunksize=(26,), meta=np.ndarray>\n",
            "    ANT_MOUNT               (antenna) <U16 dask.array<chunksize=(26,), meta=np.ndarray>\n",
            "    ANT_NAME                (antenna) <U16 dask.array<chunksize=(26,), meta=np.ndarray>\n",
            "    ANT_OFFSET              (antenna, d3) float64 dask.array<chunksize=(26, 3), meta=np.ndarray>\n",
            "    ANT_POSITION            (antenna, d3) float64 dask.array<chunksize=(26, 3), meta=np.ndarray>\n",
            "    ANT_STATION             (antenna) <U16 dask.array<chunksize=(26,), meta=np.ndarray>\n",
            "    ANT_TYPE                (antenna) <U16 dask.array<chunksize=(26,), meta=np.ndarray>\n",
            "    FCMD_APPLICATION        (time_hist) <U16 dask.array<chunksize=(1137,), meta=np.ndarray>\n",
            "    FCMD_APPLIED            (time_fcmd) bool dask.array<chunksize=(5067,), meta=np.ndarray>\n",
            "    FCMD_COMMAND            (time_fcmd) <U75 dask.array<chunksize=(1267,), meta=np.ndarray>\n",
            "    FCMD_INTERVAL           (time_fcmd) float64 dask.array<chunksize=(5067,), meta=np.ndarray>\n",
            "    FCMD_LEVEL              (time_fcmd) int32 dask.array<chunksize=(5067,), meta=np.ndarray>\n",
            "    FCMD_MESSAGE            (time_hist) <U188 dask.array<chunksize=(285,), meta=np.ndarray>\n",
            "    FCMD_OBJECT_ID          (time_hist) int32 dask.array<chunksize=(1137,), meta=np.ndarray>\n",
            "    FCMD_OBSERVATION_ID     (time_hist) int32 dask.array<chunksize=(1137,), meta=np.ndarray>\n",
            "    FCMD_ORIGIN             (time_hist) <U24 dask.array<chunksize=(1137,), meta=np.ndarray>\n",
            "    FCMD_PRIORITY           (time_hist) <U16 dask.array<chunksize=(1137,), meta=np.ndarray>\n",
            "    FCMD_REASON             (time_fcmd) <U47 dask.array<chunksize=(1267,), meta=np.ndarray>\n",
            "    FCMD_SEVERITY           (time_fcmd) int32 dask.array<chunksize=(5067,), meta=np.ndarray>\n",
            "    FCMD_TYPE               (time_fcmd) <U16 dask.array<chunksize=(2534,), meta=np.ndarray>\n",
            "    FEED_BEAM_ID            (spw, antenna, feed) int32 dask.array<chunksize=(1, 26, 1), meta=np.ndarray>\n",
            "    FEED_BEAM_OFFSET        (spw, antenna, feed, d2, receptors) float64 dask.array<chunksize=(1, 26, 1, 2, 3), meta=np.ndarray>\n",
            "    FEED_INTERVAL           (spw, antenna, feed) float64 dask.array<chunksize=(1, 26, 1), meta=np.ndarray>\n",
            "    FEED_NUM_RECEPTORS      (spw, antenna, feed) int32 dask.array<chunksize=(1, 26, 1), meta=np.ndarray>\n",
            "    FEED_POLARIZATION_TYPE  (spw, antenna, feed, receptors) <U16 dask.array<chunksize=(1, 26, 1, 3), meta=np.ndarray>\n",
            "    FEED_POL_RESPONSE       (spw, antenna, feed, receptors, receptors) complex128 dask.array<chunksize=(1, 26, 1, 3, 3), meta=np.ndarray>\n",
            "    FEED_POSITION           (spw, antenna, feed, d3) float64 dask.array<chunksize=(1, 26, 1, 3), meta=np.ndarray>\n",
            "    FEED_RECEPTOR_ANGLE     (spw, antenna, feed, receptors) float64 dask.array<chunksize=(1, 26, 1, 3), meta=np.ndarray>\n",
            "    FEED_TIME               (spw, antenna, feed) float64 dask.array<chunksize=(1, 26, 1), meta=np.ndarray>\n",
            "    FIELD_CODE              (field) <U16 dask.array<chunksize=(1,), meta=np.ndarray>\n",
            "    FIELD_DELAY_DIR         (field, d2, d1) float64 dask.array<chunksize=(1, 2, 1), meta=np.ndarray>\n",
            "    FIELD_DelayDir_Ref      (field) int32 dask.array<chunksize=(1,), meta=np.ndarray>\n",
            "    FIELD_FLAG_ROW          (field) bool dask.array<chunksize=(1,), meta=np.ndarray>\n",
            "    FIELD_NUM_POLY          (field) int32 dask.array<chunksize=(1,), meta=np.ndarray>\n",
            "    FIELD_PHASE_DIR         (field, d2, d1) float64 dask.array<chunksize=(1, 2, 1), meta=np.ndarray>\n",
            "    FIELD_PhaseDir_Ref      (field) int32 dask.array<chunksize=(1,), meta=np.ndarray>\n",
            "    FIELD_REFERENCE_DIR     (field, d2, d1) float64 dask.array<chunksize=(1, 2, 1), meta=np.ndarray>\n",
            "    FIELD_RefDir_Ref        (field) int32 dask.array<chunksize=(1,), meta=np.ndarray>\n",
            "    FIELD_SOURCE_ID         (field) int32 dask.array<chunksize=(1,), meta=np.ndarray>\n",
            "    FIELD_TIME              (field) float64 dask.array<chunksize=(1,), meta=np.ndarray>\n",
            "    OBS_FLAG_ROW            (observation) bool dask.array<chunksize=(1,), meta=np.ndarray>\n",
            "    OBS_OBSERVER            (observation) <U16 dask.array<chunksize=(1,), meta=np.ndarray>\n",
            "    OBS_RELEASE_DATE        (observation) float64 dask.array<chunksize=(1,), meta=np.ndarray>\n",
            "    OBS_SCHEDULE_TYPE       (observation) <U16 dask.array<chunksize=(1,), meta=np.ndarray>\n",
            "    OBS_TELESCOPE_NAME      (observation) <U16 dask.array<chunksize=(1,), meta=np.ndarray>\n",
            "    OBS_TIME_RANGE          (observation, d2) float64 dask.array<chunksize=(1, 2), meta=np.ndarray>\n",
            "    PROC_FLAG_ROW           (processor) bool dask.array<chunksize=(3,), meta=np.ndarray>\n",
            "    PROC_MODE_ID            (processor) int32 dask.array<chunksize=(3,), meta=np.ndarray>\n",
            "    PROC_SUB_TYPE           (processor) <U21 dask.array<chunksize=(3,), meta=np.ndarray>\n",
            "    PROC_TYPE_ID            (processor) int32 dask.array<chunksize=(3,), meta=np.ndarray>\n",
            "    SRC_CALIBRATION_GROUP   (spw, source) int32 dask.array<chunksize=(1, 1), meta=np.ndarray>\n",
            "    SRC_CODE                (spw, source) <U16 dask.array<chunksize=(1, 1), meta=np.ndarray>\n",
            "    SRC_DIRECTION           (spw, source, d2) float64 dask.array<chunksize=(1, 1, 2), meta=np.ndarray>\n",
            "    SRC_INTERVAL            (spw, source) float64 dask.array<chunksize=(1, 1), meta=np.ndarray>\n",
            "    SRC_NAME                (spw, source) <U16 dask.array<chunksize=(1, 1), meta=np.ndarray>\n",
            "    SRC_NUM_LINES           (spw, source) int32 dask.array<chunksize=(1, 1), meta=np.ndarray>\n",
            "    SRC_PROPER_MOTION       (spw, source, d2) float64 dask.array<chunksize=(1, 1, 2), meta=np.ndarray>\n",
            "    SRC_TIME                (spw, source) float64 dask.array<chunksize=(1, 1), meta=np.ndarray>\n",
            "    STATE_CAL               (state) float64 dask.array<chunksize=(20,), meta=np.ndarray>\n",
            "    STATE_FLAG_ROW          (state) bool dask.array<chunksize=(20,), meta=np.ndarray>\n",
            "    STATE_LOAD              (state) float64 dask.array<chunksize=(20,), meta=np.ndarray>\n",
            "    STATE_REF               (state) bool dask.array<chunksize=(20,), meta=np.ndarray>\n",
            "    STATE_SIG               (state) bool dask.array<chunksize=(20,), meta=np.ndarray>\n",
            "    STATE_SUB_SCAN          (state) int32 dask.array<chunksize=(20,), meta=np.ndarray>\n",
            "Attributes:\n",
            "    ASDM_antennaId:               ['Antenna_0', 'Antenna_1', 'Antenna_2', 'An...\n",
            "    ASDM_antennaMake:             ['AEM_12', 'AEM_12', 'AEM_12', 'AEM_12', 'A...\n",
            "    ASDM_antennaName:             ['DA41', 'DA42', 'DA44', 'DA45', 'DA46', 'D...\n",
            "    ASDM_antennaType:             ['GROUND_BASED', 'GROUND_BASED', 'GROUND_BA...\n",
            "    ASDM_assocAntennaId:          ['', '', '', '', '', '', '', '', '', '', ''...\n",
            "    ASDM_calDataId:               ['CalData_0', 'CalData_0', 'CalData_0', 'Ca...\n",
            "    ASDM_calReductionId:          ['CalReduction_0', 'CalReduction_0', 'CalRe...\n",
            "    ASDM_chanFreq:                [[[184550000000.0], [186550000000.0], [1888...\n",
            "    ASDM_chanWidth:               [[[1500000000.0], [2500000000.0], [20000000...\n",
            "    ASDM_dishDiameter:            [12.0, 12.0, 12.0, 12.0, 12.0, 12.0, 12.0, ...\n",
            "    ASDM_dryPath:                 [[[1.5075339078903198]], [[1.50631928443908...\n",
            "    ASDM_endValidTime:            [4860030637.2595, 4860030637.2595, 48600306...\n",
            "    ASDM_freqLO:                  [[[97963275000.0]], [[97963275000.0], [9968...\n",
            "    ASDM_frequencyBand:           ['UNSPECIFIED', 'ALMA_RB_03', 'ALMA_RB_03',...\n",
            "    ASDM_inputAntennaNames:       [[['DA41']], [['DA42']], [['DA44']], [['DA4...\n",
            "    ASDM_name:                    ['DA41', 'DA42', 'DA44', 'DA45', 'DA46', 'D...\n",
            "    ASDM_numChan:                 [4, 4, 4, 4, 4, 4, 4, 4, 4, 4, 4, 4, 4, 4, ...\n",
            "    ASDM_numInputAntennas:        [1, 1, 1, 1, 1, 1, 1, 1, 1, 1, 1, 1, 1, 1, ...\n",
            "    ASDM_numLO:                   [1, 3, 3, 3, 3, 3, 3, 3, 3, 1, 3, 3, 3, 3, ...\n",
            "    ASDM_numPoly:                 [1, 1, 1, 1, 1, 1, 1, 1, 1, 1, 1, 1, 1, 1, ...\n",
            "    ASDM_offset:                  [[[0.0], [0.0], [0.0]], [[0.0], [0.0], [0.0...\n",
            "    ASDM_pathCoeff:               [[[[[5.696597872884013e-05]], [[2.828374090...\n",
            "    ASDM_polyFreqLimits:          [[[67000000000.0], [90000000000.0]], [[6700...\n",
            "    ASDM_position:                [[[9.9e-05], [-0.000115], [7.500033]], [[3....\n",
            "    ASDM_receiverId:              [0, 0, 0, 0, 0, 0, 0, 0, 0, 1, 0, 0, 0, 0, ...\n",
            "    ASDM_receiverSideband:        ['NOSB', 'TSB', 'TSB', 'TSB', 'TSB', 'TSB',...\n",
            "    ASDM_refTemp:                 [[[[119.45744705200195], [48.73897772568922...\n",
            "    ASDM_sidebandLO:              [[['DSB']], [['LSB'], ['LSB'], ['LSB']], [[...\n",
            "    ASDM_spectralWindowId:        ['SpectralWindow_0', 'SpectralWindow_27', '...\n",
            "    ASDM_startValidTime:          [4860026976.564501, 4860026976.564501, 4860...\n",
            "    ASDM_stationId:               ['Station_0', 'Station_1', 'Station_2', 'St...\n",
            "    ASDM_time:                    [4860026863.941999, 4860026863.941999, 4860...\n",
            "    ASDM_timeInterval:            [[[4860026863.941999], [4363345172.912776]]...\n",
            "    ASDM_type:                    ['ANTENNA_PAD', 'ANTENNA_PAD', 'ANTENNA_PAD...\n",
            "    ASDM_water:                   [0.00043721461364834303, 0.0004537176442467...\n",
            "    ASDM_wetPath:                 [[[0.003352516097947955]], [[0.003476256737...\n",
            "    ASDM_wvrMethod:               ['ATM_MODEL', 'ATM_MODEL', 'ATM_MODEL', 'AT...\n",
            "    CALD_ANTENNA_ID:              [0, 1, 2, 3, 4, 5, 6, 7, 8, 9, 10, 11, 12, ...\n",
            "    CALD_CAL_LOAD_NAMES:          [[['AMBIENT_LOAD'], ['HOT_LOAD']], [['AMBIE...\n",
            "    CALD_FEED_ID:                 [0, 0, 0, 0, 0, 0, 0, 0, 0, 0, 0, 0, 0, 0, ...\n",
            "    CALD_INTERVAL:                [4363345170.433152, 4363345169.85944, 43633...\n",
            "    CALD_NUM_CAL_LOAD:            [2, 2, 2, 2, 2, 2, 2, 2, 2, 2, 2, 2, 2, 2, ...\n",
            "    CALD_NUM_RECEPTOR:            [2, 2, 2, 2, 2, 2, 2, 2, 2, 2, 2, 2, 2, 2, ...\n",
            "    CALD_SPECTRAL_WINDOW_ID:      [0, 0, 0, 0, 0, 0, 0, 0, 0, 0, 0, 0, 0, 0, ...\n",
            "    CALD_TEMPERATURE_LOAD:        [[[16.850000381469727], [83.25000762939453]...\n",
            "    CALD_TIME:                    [7041699451.638201, 7041699451.925056, 7041...\n",
            "    WEAT_ANTENNA_ID:              [-1, -1, -1, -1, -1, -1, -1, -1, -1, -1, -1...\n",
            "    WEAT_DEW_POINT:               [0.0, 0.0, 0.0, 0.0, 0.0, 0.0, 0.0, 0.0, 0....\n",
            "    WEAT_DEW_POINT_FLAG:          [False, False, False, False, False, False, ...\n",
            "    WEAT_INTERVAL:                [0.048, 0.048, 0.048, 0.048, 0.048, 0.048, ...\n",
            "    WEAT_NS_WX_STATION_ID:        [26, 27, 26, 27, 26, 27, 26, 27, 26, 27, 26...\n",
            "    WEAT_NS_WX_STATION_POSITION:  [[2225262.12, -5440307.3, -2480962.57], [22...\n",
            "    WEAT_PRESSURE:                [555.3649291992188, 555.3472290039062, 555....\n",
            "    WEAT_PRESSURE_FLAG:           [False, False, False, False, False, False, ...\n",
            "    WEAT_REL_HUMIDITY:            [7.26800012588501, 7.462800025939941, 7.296...\n",
            "    WEAT_REL_HUMIDITY_FLAG:       [False, False, False, False, False, False, ...\n",
            "    WEAT_TEMPERATURE:             [269.92529296875, 269.8935852050781, 269.96...\n",
            "    WEAT_TEMPERATURE_FLAG:        [False, False, False, False, False, False, ...\n",
            "    WEAT_TIME:                    [4860026989.023999, 4860026989.023999, 4860...\n",
            "    WEAT_WIND_DIRECTION:          [2.96705961227417, 1.1519173383712769, 2.44...\n",
            "    WEAT_WIND_DIRECTION_FLAG:     [False, False, False, False, False, False, ...\n",
            "    WEAT_WIND_SPEED:              [1.5, 1.899999976158142, 2.700000047683716,...\n",
            "    WEAT_WIND_SPEED_FLAG:         [False, False, False, False, False, False, ...\n"
          ],
          "name": "stdout"
        }
      ]
    },
    {
      "cell_type": "code",
      "metadata": {
        "id": "uXIigGegjLxH",
        "colab_type": "code",
        "colab": {
          "base_uri": "https://localhost:8080/",
          "height": 34
        },
        "outputId": "4775e85e-4871-4480-b0fa-27e76109a72a"
      },
      "source": [
        "print(len(global_xds.ASDM_chanFreq))"
      ],
      "execution_count": 39,
      "outputs": [
        {
          "output_type": "stream",
          "text": [
            "702\n"
          ],
          "name": "stdout"
        }
      ]
    },
    {
      "cell_type": "code",
      "metadata": {
        "id": "hXBdKTY2jZ_d",
        "colab_type": "code",
        "colab": {}
      },
      "source": [
        "from cngi.vis import visualize"
      ],
      "execution_count": 0,
      "outputs": []
    },
    {
      "cell_type": "code",
      "metadata": {
        "id": "mneE9QVlrJVl",
        "colab_type": "code",
        "outputId": "f28495f5-f75c-4023-fb41-ea83630d1913",
        "colab": {
          "base_uri": "https://localhost:8080/",
          "height": 295
        }
      },
      "source": [
        "visualize(vis_xds.field, 'scan')"
      ],
      "execution_count": 45,
      "outputs": [
        {
          "output_type": "display_data",
          "data": {
            "image/png": "[encoded data removed]",
            "text/plain": [
              "<Figure size 432x288 with 1 Axes>"
            ]
          },
          "metadata": {
            "tags": []
          }
        }
      ]
    },
    {
      "cell_type": "code",
      "metadata": {
        "id": "moZdTONvotxo",
        "colab_type": "code",
        "colab": {}
      },
      "source": [
        ""
      ],
      "execution_count": 0,
      "outputs": []
    }
  ]
}