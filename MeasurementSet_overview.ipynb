{
  "nbformat": 4,
  "nbformat_minor": 0,
  "metadata": {
    "colab": {
      "name": "MeasurementSet_overview.ipynb",
      "provenance": [],
      "collapsed_sections": []
    },
    "kernelspec": {
      "name": "python3",
      "display_name": "Python 3"
    }
  },
  "cells": [
    {
      "cell_type": "markdown",
      "metadata": {
        "id": "xr_RX4CA876u",
        "colab_type": "text"
      },
      "source": [
        "# Installation\n",
        "CNGI documentation is located here:\n",
        "[https://cngi-prototype.readthedocs.io/en/latest/index.html](https://cngi-prototype.readthedocs.io/en/latest/index.html)\n",
        "\n",
        "Google Colab requires specific older versions of some packages such as Pandas and Dask, so we will install CNGI without its normal dependencies and then manually install each dependency afterwards.\n",
        "\n",
        "Normally, you would want to leave out the --no-dependencies option\n",
        "\n",
        "For this demonstration we will use the data from the ALMA First Look at Imaging CASAguide"
      ]
    },
    {
      "cell_type": "code",
      "metadata": {
        "id": "IIr5sp0VgR2m",
        "colab_type": "code",
        "outputId": "0e42e488-5f82-48ca-be36-0f3143d46dbe",
        "colab": {
          "base_uri": "https://localhost:8080/",
          "height": 68
        }
      },
      "source": [
        "import os\n",
        "import logging\n",
        "logging.getLogger('distributed.utils_perf').setLevel(logging.ERROR) # dask is noisy\n",
        "\n",
        "print(\"installing cngi (takes a few minutes)...\")\n",
        "os.system(\"apt-get install libgfortran3\")\n",
        "os.system(\"pip install --extra-index-url https://casa-pip.nrao.edu/repository/pypi-group/simple casatools\")\n",
        "os.system(\"pip install cngi-prototype==0.0.15 --no-dependencies\")\n",
        "os.system(\"pip install --upgrade dask\")\n",
        "\n",
        "print(\"downloading MeasurementSet from CASAguide First Look at Imaging...\")\n",
        "os.system(\"wget https://bulk.cv.nrao.edu/almadata/public/working/sis14_twhya_calibrated_flagged.ms.tar\")\n",
        "os.system(\"tar -xvf sis14_twhya_calibrated_flagged.ms.tar\")\n",
        "\n",
        "print('complete')"
      ],
      "execution_count": 0,
      "outputs": [
        {
          "output_type": "stream",
          "text": [
            "installing cngi (takes a few minutes)...\n",
            "downloading MeasurementSet from CASAguide First Look at Imaging...\n",
            "complete\n"
          ],
          "name": "stdout"
        }
      ]
    },
    {
      "cell_type": "markdown",
      "metadata": {
        "id": "1GEO-8JoUqbr",
        "colab_type": "text"
      },
      "source": [
        "# Initialize the Processing Environment\n",
        "This is a bit limited with Colab and produces some warnings, but will still work\n",
        "\n",
        "InitializeFramework instantiates a client object (does not need to be returned and saved by caller). Once this object exists, all Dask objects automatically know to use it for parallel execution.\n",
        "\n",
        "Omitting this step will cause the data conversion routines to run in serial and the subsequent Dask dataframe operations to use the default built-in scheduler for parallel execution (which can actually be faster on local machines anyway)"
      ]
    },
    {
      "cell_type": "code",
      "metadata": {
        "id": "dQxr3E24L-4d",
        "colab_type": "code",
        "outputId": "4eda88e9-c679-494a-e50c-805aaa5a1ddd",
        "colab": {
          "base_uri": "https://localhost:8080/",
          "height": 262
        }
      },
      "source": [
        "from cngi.direct import InitializeFramework\n",
        "client = InitializeFramework(2,'6GB',False)\n",
        "client"
      ],
      "execution_count": 0,
      "outputs": [
        {
          "output_type": "stream",
          "text": [
            "/usr/local/lib/python3.6/dist-packages/distributed/bokeh/core.py:57: UserWarning: \n",
            "Failed to start diagnostics server on port 8787. [Errno 99] Cannot assign requested address\n",
            "  warnings.warn('\\n' + msg)\n",
            "/usr/local/lib/python3.6/dist-packages/distributed/deploy/local.py:197: UserWarning: \n",
            "Could not launch service 'bokeh' on port 8787. Got the following message:\n",
            "\n",
            "[Errno 99] Cannot assign requested address\n",
            "  self.scheduler.start(scheduler_address)\n"
          ],
          "name": "stderr"
        },
        {
          "output_type": "execute_result",
          "data": {
            "text/html": [
              "<table style=\"border: 2px solid white;\">\n",
              "<tr>\n",
              "<td style=\"vertical-align: top; border: 0px solid white\">\n",
              "<h3>Client</h3>\n",
              "<ul>\n",
              "  <li><b>Scheduler: </b>inproc://172.28.0.2/126/1\n",
              "</ul>\n",
              "</td>\n",
              "<td style=\"vertical-align: top; border: 0px solid white\">\n",
              "<h3>Cluster</h3>\n",
              "<ul>\n",
              "  <li><b>Workers: </b>2</li>\n",
              "  <li><b>Cores: </b>2</li>\n",
              "  <li><b>Memory: </b>12.00 GB</li>\n",
              "</ul>\n",
              "</td>\n",
              "</tr>\n",
              "</table>"
            ],
            "text/plain": [
              "<Client: scheduler='inproc://172.28.0.2/126/1' processes=2 cores=2>"
            ]
          },
          "metadata": {
            "tags": []
          },
          "execution_count": 3
        }
      ]
    },
    {
      "cell_type": "markdown",
      "metadata": {
        "id": "WxuECb4D8su0",
        "colab_type": "text"
      },
      "source": [
        "# Convert an MS to Apache Parquet\n",
        "Convert the current custom MS format to a new off-the-shelf Apache Parquet format. This new format can be read natively by a variety of parallel processing frameworks, including Dask\n"
      ]
    },
    {
      "cell_type": "code",
      "metadata": {
        "id": "S0B_KBb09ORJ",
        "colab_type": "code",
        "outputId": "b2b224ab-af6c-4d48-e302-1b1a5b5feac0",
        "colab": {
          "base_uri": "https://localhost:8080/",
          "height": 68
        }
      },
      "source": [
        "from cngi.conversion import ms_to_pq\n",
        "\n",
        "ms_to_pq('sis14_twhya_calibrated_flagged.ms')"
      ],
      "execution_count": 0,
      "outputs": [
        {
          "output_type": "stream",
          "text": [
            "processing ddi 0: chunks=13, size=5812\n",
            "completed ddi 0\n",
            "Complete.\n"
          ],
          "name": "stdout"
        }
      ]
    },
    {
      "cell_type": "markdown",
      "metadata": {
        "id": "edNHuvlX7OnU",
        "colab_type": "text"
      },
      "source": [
        "# Open an Apache Parquet based MS\n",
        "\n",
        "Retrieve a summary of the Parquet MS file, then create a new Dask Dataframe from it.\n",
        "\n",
        "This Dataframe is the common data structure passed around to most other CNGI functions."
      ]
    },
    {
      "cell_type": "code",
      "metadata": {
        "id": "R6KsW1NvgsQs",
        "colab_type": "code",
        "outputId": "005f4aff-e760-425b-92fb-1695474a194c",
        "colab": {
          "base_uri": "https://localhost:8080/",
          "height": 258
        }
      },
      "source": [
        "from cngi.ms import summarizeFile\n",
        "from cngi.dio import read_ms\n",
        "\n",
        "# returns summary as a pandas dataframe\n",
        "mssummary = summarizeFile('sis14_twhya_calibrated_flagged.pq')\n",
        "print(mssummary[['ddi','row_count_estimate','col_count','size_GB']])\n",
        "\n",
        "# there is only one ddi in the MS, but pretend there are more and one is chosen\n",
        "ddi = mssummary.ddi.values[0]\n",
        "\n",
        "# here we create the dask dataframe for use in other CNGI functions\n",
        "ddf = read_ms('sis14_twhya_calibrated_flagged.pq',ddi=ddi)\n",
        "\n",
        "# examine the start of the dataframe \n",
        "ddf.head()\n"
      ],
      "execution_count": 0,
      "outputs": [
        {
          "output_type": "stream",
          "text": [
            "   ddi  row_count_estimate  col_count  size_GB\n",
            "0    0            31245312         30     0.62\n"
          ],
          "name": "stdout"
        },
        {
          "output_type": "execute_result",
          "data": {
            "text/html": [
              "<div>\n",
              "<style scoped>\n",
              "    .dataframe tbody tr th:only-of-type {\n",
              "        vertical-align: middle;\n",
              "    }\n",
              "\n",
              "    .dataframe tbody tr th {\n",
              "        vertical-align: top;\n",
              "    }\n",
              "\n",
              "    .dataframe thead th {\n",
              "        text-align: right;\n",
              "    }\n",
              "</style>\n",
              "<table border=\"1\" class=\"dataframe\">\n",
              "  <thead>\n",
              "    <tr style=\"text-align: right;\">\n",
              "      <th></th>\n",
              "      <th>SAMPLE</th>\n",
              "      <th>U</th>\n",
              "      <th>V</th>\n",
              "      <th>W</th>\n",
              "      <th>CHAN</th>\n",
              "      <th>FLAG0</th>\n",
              "      <th>FLAG1</th>\n",
              "      <th>WEIGHT0</th>\n",
              "      <th>WEIGHT1</th>\n",
              "      <th>SIGMA0</th>\n",
              "      <th>SIGMA1</th>\n",
              "      <th>ANTENNA1</th>\n",
              "      <th>ANTENNA2</th>\n",
              "      <th>ARRAY_ID</th>\n",
              "      <th>EXPOSURE</th>\n",
              "      <th>FEED1</th>\n",
              "      <th>FEED2</th>\n",
              "      <th>FIELD_ID</th>\n",
              "      <th>FLAG_ROW</th>\n",
              "      <th>INTERVAL</th>\n",
              "      <th>OBSERVATION_ID</th>\n",
              "      <th>PROCESSOR_ID</th>\n",
              "      <th>SCAN_NUMBER</th>\n",
              "      <th>STATE_ID</th>\n",
              "      <th>TIME</th>\n",
              "      <th>TIME_CENTROID</th>\n",
              "      <th>RDATA0</th>\n",
              "      <th>RDATA1</th>\n",
              "      <th>IDATA0</th>\n",
              "      <th>IDATA1</th>\n",
              "    </tr>\n",
              "  </thead>\n",
              "  <tbody>\n",
              "    <tr>\n",
              "      <th>0</th>\n",
              "      <td>17436</td>\n",
              "      <td>72.554947</td>\n",
              "      <td>123.861370</td>\n",
              "      <td>80.785859</td>\n",
              "      <td>0</td>\n",
              "      <td>False</td>\n",
              "      <td>False</td>\n",
              "      <td>11.595811</td>\n",
              "      <td>21.028986</td>\n",
              "      <td>0.293663</td>\n",
              "      <td>0.218067</td>\n",
              "      <td>3</td>\n",
              "      <td>20</td>\n",
              "      <td>0</td>\n",
              "      <td>6.048</td>\n",
              "      <td>0</td>\n",
              "      <td>0</td>\n",
              "      <td>5</td>\n",
              "      <td>False</td>\n",
              "      <td>6.048</td>\n",
              "      <td>0</td>\n",
              "      <td>2</td>\n",
              "      <td>12</td>\n",
              "      <td>18</td>\n",
              "      <td>4.860029e+09</td>\n",
              "      <td>4.860029e+09</td>\n",
              "      <td>-4.244297</td>\n",
              "      <td>-5.035166</td>\n",
              "      <td>-4.653774</td>\n",
              "      <td>-0.859822</td>\n",
              "    </tr>\n",
              "    <tr>\n",
              "      <th>1</th>\n",
              "      <td>17437</td>\n",
              "      <td>113.201230</td>\n",
              "      <td>42.830820</td>\n",
              "      <td>124.777299</td>\n",
              "      <td>0</td>\n",
              "      <td>False</td>\n",
              "      <td>False</td>\n",
              "      <td>10.664979</td>\n",
              "      <td>17.576269</td>\n",
              "      <td>0.306210</td>\n",
              "      <td>0.238527</td>\n",
              "      <td>3</td>\n",
              "      <td>22</td>\n",
              "      <td>0</td>\n",
              "      <td>6.048</td>\n",
              "      <td>0</td>\n",
              "      <td>0</td>\n",
              "      <td>5</td>\n",
              "      <td>False</td>\n",
              "      <td>6.048</td>\n",
              "      <td>0</td>\n",
              "      <td>2</td>\n",
              "      <td>12</td>\n",
              "      <td>18</td>\n",
              "      <td>4.860029e+09</td>\n",
              "      <td>4.860029e+09</td>\n",
              "      <td>-5.746907</td>\n",
              "      <td>-7.581162</td>\n",
              "      <td>-0.424164</td>\n",
              "      <td>4.133389</td>\n",
              "    </tr>\n",
              "    <tr>\n",
              "      <th>2</th>\n",
              "      <td>17438</td>\n",
              "      <td>50.866897</td>\n",
              "      <td>8.626822</td>\n",
              "      <td>54.836695</td>\n",
              "      <td>0</td>\n",
              "      <td>False</td>\n",
              "      <td>False</td>\n",
              "      <td>10.246797</td>\n",
              "      <td>21.456364</td>\n",
              "      <td>0.312396</td>\n",
              "      <td>0.215885</td>\n",
              "      <td>3</td>\n",
              "      <td>24</td>\n",
              "      <td>0</td>\n",
              "      <td>6.048</td>\n",
              "      <td>0</td>\n",
              "      <td>0</td>\n",
              "      <td>5</td>\n",
              "      <td>False</td>\n",
              "      <td>6.048</td>\n",
              "      <td>0</td>\n",
              "      <td>2</td>\n",
              "      <td>12</td>\n",
              "      <td>18</td>\n",
              "      <td>4.860029e+09</td>\n",
              "      <td>4.860029e+09</td>\n",
              "      <td>6.160158</td>\n",
              "      <td>0.486019</td>\n",
              "      <td>6.502325</td>\n",
              "      <td>3.045249</td>\n",
              "    </tr>\n",
              "    <tr>\n",
              "      <th>3</th>\n",
              "      <td>17439</td>\n",
              "      <td>51.611428</td>\n",
              "      <td>112.809274</td>\n",
              "      <td>57.904984</td>\n",
              "      <td>0</td>\n",
              "      <td>False</td>\n",
              "      <td>False</td>\n",
              "      <td>12.562062</td>\n",
              "      <td>24.207361</td>\n",
              "      <td>0.282143</td>\n",
              "      <td>0.203248</td>\n",
              "      <td>4</td>\n",
              "      <td>5</td>\n",
              "      <td>0</td>\n",
              "      <td>6.048</td>\n",
              "      <td>0</td>\n",
              "      <td>0</td>\n",
              "      <td>5</td>\n",
              "      <td>False</td>\n",
              "      <td>6.048</td>\n",
              "      <td>0</td>\n",
              "      <td>2</td>\n",
              "      <td>12</td>\n",
              "      <td>18</td>\n",
              "      <td>4.860029e+09</td>\n",
              "      <td>4.860029e+09</td>\n",
              "      <td>15.389114</td>\n",
              "      <td>-5.577965</td>\n",
              "      <td>-2.725766</td>\n",
              "      <td>6.142738</td>\n",
              "    </tr>\n",
              "    <tr>\n",
              "      <th>4</th>\n",
              "      <td>17440</td>\n",
              "      <td>105.619718</td>\n",
              "      <td>34.460985</td>\n",
              "      <td>116.495976</td>\n",
              "      <td>0</td>\n",
              "      <td>False</td>\n",
              "      <td>False</td>\n",
              "      <td>10.014101</td>\n",
              "      <td>22.142685</td>\n",
              "      <td>0.316005</td>\n",
              "      <td>0.212513</td>\n",
              "      <td>4</td>\n",
              "      <td>6</td>\n",
              "      <td>0</td>\n",
              "      <td>6.048</td>\n",
              "      <td>0</td>\n",
              "      <td>0</td>\n",
              "      <td>5</td>\n",
              "      <td>False</td>\n",
              "      <td>6.048</td>\n",
              "      <td>0</td>\n",
              "      <td>2</td>\n",
              "      <td>12</td>\n",
              "      <td>18</td>\n",
              "      <td>4.860029e+09</td>\n",
              "      <td>4.860029e+09</td>\n",
              "      <td>-3.638794</td>\n",
              "      <td>3.095149</td>\n",
              "      <td>-14.711627</td>\n",
              "      <td>2.282497</td>\n",
              "    </tr>\n",
              "  </tbody>\n",
              "</table>\n",
              "</div>"
            ],
            "text/plain": [
              "   SAMPLE           U           V  ...    RDATA1     IDATA0    IDATA1\n",
              "0   17436   72.554947  123.861370  ... -5.035166  -4.653774 -0.859822\n",
              "1   17437  113.201230   42.830820  ... -7.581162  -0.424164  4.133389\n",
              "2   17438   50.866897    8.626822  ...  0.486019   6.502325  3.045249\n",
              "3   17439   51.611428  112.809274  ... -5.577965  -2.725766  6.142738\n",
              "4   17440  105.619718   34.460985  ...  3.095149 -14.711627  2.282497\n",
              "\n",
              "[5 rows x 30 columns]"
            ]
          },
          "metadata": {
            "tags": []
          },
          "execution_count": 5
        }
      ]
    },
    {
      "cell_type": "markdown",
      "metadata": {
        "id": "aqgU0LYyG2BI",
        "colab_type": "text"
      },
      "source": [
        "# Now we have a Dask Dataframe (ddf) MeasurementSet object\n",
        "\n",
        "We can pass around the ddf object to the various CNGI MS functions.  These functions all return new Dataframe objects and build up an execution graph without actually processing any data.  \n",
        "\n",
        "We can also use any of the standard Dataframe operations from Dask, or slice it to Dask arrays and use any of those operations.  See [https://docs.dask.org/en/latest/dataframe-api.html](https://docs.dask.org/en/latest/dataframe-api.html)\n",
        "\n",
        "Processing does not begin until explicitly called for (ie ddf.compute()) or an operation than needs to know the results of the previous operations first (ie ddf.shape())."
      ]
    },
    {
      "cell_type": "code",
      "metadata": {
        "id": "2Q_4VAisyEPt",
        "colab_type": "code",
        "colab": {}
      },
      "source": [
        "# todo: need new sorted/indexed parquet conversion first\n",
        "\n",
        "# example: time average each antenna baseline\n",
        "#ddf['DATA0'] = ddf.RDATA0 + ddf.IDATA0  # create complex vis from real and imaginary parts\n",
        "#newdf = ddf[['ANTENNA1','ANTENNA2','DATA0']].set_index('ANTENNA1', sorted=True)  # drop stuff we don't need and index\n",
        "#timeGroups = newdf.groupby(['ANTENNA1','ANTENNA2'])['DATA0'].mean()  # group rows by baselines\n",
        "#time_averages = timeGroups.compute() # this triggers the execution of the first three lines\n",
        "#print(time_averages)"
      ],
      "execution_count": 0,
      "outputs": []
    }
  ]
}