{
  "nbformat": 4,
  "nbformat_minor": 0,
  "metadata": {
    "colab": {
      "name": "CASA6_demo.ipynb",
      "provenance": [],
      "collapsed_sections": [],
      "toc_visible": true,
      "include_colab_link": true
    },
    "kernelspec": {
      "name": "python3",
      "display_name": "Python 3"
    }
  },
  "cells": [
    {
      "cell_type": "markdown",
      "metadata": {
        "id": "view-in-github",
        "colab_type": "text"
      },
      "source": [
        "<a href=\"https://colab.research.google.com/github/casangi/examples/blob/master/community/_template.ipynb\" target=\"_parent\"><img src=\"https://colab.research.google.com/assets/colab-badge.svg\" alt=\"Open In Colab\"/></a>"
      ]
    },
    {
      "cell_type": "markdown",
      "metadata": {
        "id": "qwUTWTuAjnLc"
      },
      "source": [
        "# Template\n",
        "\n",
        "Original Author(s): YourName@youremail.com \n",
        "\n"
      ]
    },
    {
      "cell_type": "markdown",
      "metadata": {
        "id": "_CiNZUpLkHf2"
      },
      "source": [
        "## Description\n",
        "\n",
        "A template example showing the format of community supplied scripts. Each script should run in [Google Colab](https://colab.research.google.com). Make sure you use a level 1 heading for the title and level >=2 headings for each section.  \n",
        "\n",
        "You may modify this template and save it back to the CASA community examples repository by going to File -> Save a copy in GitHub. Don't overwrite the template please!\n",
        "\n",
        "Replace this section with your description.\n"
      ]
    },
    {
      "cell_type": "markdown",
      "metadata": {
        "id": "xr_RX4CA876u"
      },
      "source": [
        "## Installation"
      ]
    },
    {
      "cell_type": "code",
      "metadata": {
        "id": "IIr5sp0VgR2m",
        "outputId": "7b4730a9-8c66-4e2b-bf47-2854c101eebe",
        "colab": {
          "base_uri": "https://localhost:8080/",
          "height": 51
        }
      },
      "source": [
        "import os\n",
        "\n",
        "print(\"installing casa...\")\n",
        "os.system(\"apt-get install libgfortran3\")\n",
        "os.system(\"pip install --index-url https://casa-pip.nrao.edu/repository/pypi-casa-release/simple casatasks==6.1.0.118\")\n",
        "print('complete')"
      ],
      "execution_count": 1,
      "outputs": [
        {
          "output_type": "stream",
          "text": [
            "installing casa...\n",
            "complete\n"
          ],
          "name": "stdout"
        }
      ]
    }
  ]
}