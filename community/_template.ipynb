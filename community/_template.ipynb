{
 "cells": [
  {
   "cell_type": "markdown",
   "metadata": {
    "colab_type": "text",
    "id": "view-in-github"
   },
   "source": [
    "<a href=\"https://colab.research.google.com/github/casangi/examples/blob/master/community/_template.ipynb\" target=\"_parent\"><img src=\"https://colab.research.google.com/assets/colab-badge.svg\" alt=\"Open In Colab\"/></a>"
   ]
  },
  {
   "cell_type": "markdown",
   "metadata": {
    "id": "qwUTWTuAjnLc"
   },
   "source": [
    "# Template\n",
    "\n",
    "Original Author(s): YourName@youremail.com \n",
    "\n"
   ]
  },
  {
   "cell_type": "markdown",
   "metadata": {
    "id": "_CiNZUpLkHf2"
   },
   "source": [
    "## Description\n",
    "\n",
    "A template example showing the format of community supplied scripts. Each script should run in [Google Colab](https://colab.research.google.com). Make sure you use a level 1 heading for the title and level >=2 headings for each section.  \n",
    "\n",
    "You may modify this template and save it back to the CASA community examples repository by going to File -> Save a copy in GitHub. Don't overwrite the template please!\n",
    "\n",
    "Replace this section with your description.\n"
   ]
  },
  {
   "cell_type": "markdown",
   "metadata": {
    "id": "xr_RX4CA876u"
   },
   "source": [
    "## Installation"
   ]
  },
  {
   "cell_type": "code",
   "execution_count": null,
   "metadata": {},
   "outputs": [],
   "source": [
    "import os\n",
    "\n",
    "print(\"installing casa...\")\n",
    "os.system('pip install casaconfig')\n",
    "os.system('pip install casatools==6.6.4.34')\n",
    "os.system('pip install casatasks==6.6.4.34')\n",
    "print(\"complete\")"
   ]
  },
  {
   "cell_type": "code",
   "execution_count": null,
   "metadata": {
    "colab": {
     "base_uri": "https://localhost:8080/",
     "height": 51
    },
    "id": "IIr5sp0VgR2m",
    "outputId": "7b4730a9-8c66-4e2b-bf47-2854c101eebe"
   },
   "outputs": [],
   "source": [
    "print(\"configuring casa...\")\n",
    "## For google colab\n",
    "mydatapath = '/content/.casa/data'\n",
    "## For a local install (choose any writeable path for upto 1GB of metadata)\n",
    "#mydatapath = '<PATHNAME>/data' \n",
    "\n",
    "import pathlib\n",
    "from casaconfig import config\n",
    "if not pathlib.Path(mydatapath).exists():\n",
    "  pathlib.Path(mydatapath).mkdir(parents=True)\n",
    "config.measurespath=mydatapath\n",
    "print('complete')"
   ]
  },
  {
   "cell_type": "code",
   "execution_count": null,
   "metadata": {},
   "outputs": [],
   "source": []
  }
 ],
 "metadata": {
  "colab": {
   "collapsed_sections": [],
   "include_colab_link": true,
   "name": "CASA6_demo.ipynb",
   "provenance": [],
   "toc_visible": true
  },
  "kernelspec": {
   "display_name": "Python 3 (ipykernel)",
   "language": "python",
   "name": "python3"
  },
  "language_info": {
   "codemirror_mode": {
    "name": "ipython",
    "version": 3
   },
   "file_extension": ".py",
   "mimetype": "text/x-python",
   "name": "python",
   "nbconvert_exporter": "python",
   "pygments_lexer": "ipython3",
   "version": "3.8.10"
  }
 },
 "nbformat": 4,
 "nbformat_minor": 4
}
