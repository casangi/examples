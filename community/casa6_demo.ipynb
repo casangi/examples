{
  "nbformat": 4,
  "nbformat_minor": 0,
  "metadata": {
    "colab": {
      "name": "casa6_demo.ipynb",
      "provenance": [],
      "toc_visible": true
    },
    "kernelspec": {
      "name": "python3",
      "display_name": "Python 3"
    }
  },
  "cells": [
    {
      "cell_type": "markdown",
      "metadata": {
        "id": "6agG0dwApruX"
      },
      "source": [
        "# Modular CASA Demo\n",
        "\n",
        "Original Author: rraba@nrao.edu\n",
        "\n"
      ]
    },
    {
      "cell_type": "markdown",
      "metadata": {
        "id": "4plpG0ksqJF7"
      },
      "source": [
        "## Description\n",
        "\n",
        "This notebook shows how to install the modular CASA 6 packages with some basic orientation:\n",
        "\n",
        "- locate the casadata folder\n",
        "- list the available tasks\n",
        "- find and print the log file\n",
        "- run a simple tclean command\n",
        "- view the output images with Astropy\n",
        "- view the output images with CARTA\n",
        "\n",
        "WARNING: when running this Notebook in Google Colab, CASA pip-wheel occasionally experience incompatibilities with recently upgraded Colab environments. Please check the Known Issues Section in CASA Docs when experiencing installation problems, or contact the CASA team at casa-feedback_*at*_nrao.edu\n"
      ]
    },
    {
      "cell_type": "markdown",
      "metadata": {
        "id": "xr_RX4CA876u"
      },
      "source": [
        "## Installation\n",
        "\n",
        "First the system must be configured with the appropriate pre-requisite libraries to create a virtual display necessary for later plots/images."
      ]
    },
    {
      "cell_type": "code",
      "metadata": {
        "id": "o0TPcJeUnydT",
        "colab": {
          "base_uri": "https://localhost:8080/"
        },
        "outputId": "8365b025-e960-4386-c487-db125c6e2d77"
      },
      "source": [
        "# prerequisite system setup\n",
        "import os\n",
        "os.system('apt-get install xvfb')\n",
        "os.system('pip install pyvirtualdisplay')\n",
        "\n",
        "from pyvirtualdisplay import Display\n",
        "display = Display(visible=0,size=(1024,768))\n",
        "display.start( )\n",
        "\n",
        "print('completed system setup')"
      ],
      "execution_count": null,
      "outputs": [
        {
          "output_type": "stream",
          "name": "stdout",
          "text": [
            "completed system setup\n"
          ]
        }
      ]
    },
    {
      "cell_type": "markdown",
      "metadata": {
        "id": "Lii5t7pToKuL"
      },
      "source": [
        "Then we can choose from the available CASA packages to install: ```casatools, casatasks, casaplotms, casaviewer, almatasks, casampi, casashell, casadata, casampi, casaplotserver```\n",
        "\n",
        "The pip installer generally handles dependencies automatically (for example casatasks needs casatools), however casadata is the exception that must be explicitly installed and updated by the user."
      ]
    },
    {
      "cell_type": "code",
      "metadata": {
        "id": "IIr5sp0VgR2m",
        "colab": {
          "base_uri": "https://localhost:8080/"
        },
        "outputId": "1d51dfc3-fce8-4de0-d6c1-d3dbc3128f2c"
      },
      "source": [
        "import os\n",
        "print(\"installing casa packages...\\n\")\n",
        "os.system(\"pip install casatasks==6.3.0.48\")\n",
        "os.system(\"pip install casaviewer==1.2.14\")\n",
        "os.system(\"pip install casadata\")\n",
        "\n",
        "print(\"downloading MeasurementSet from CASAguide First Look at Imaging...\\n\")\n",
        "os.system(\"wget https://bulk.cv.nrao.edu/almadata/public/working/sis14_twhya_calibrated_flagged.ms.tar\")\n",
        "os.system(\"tar -xvf sis14_twhya_calibrated_flagged.ms.tar\")\n",
        "\n",
        "print(\"make a config file for Google Colab...\\n\")\n",
        "!mkdir ~/.casa\n",
        "!echo \"home     = '/content/'\" > ~/.casa/config.py\n",
        "!echo \"datapath = ['`find / -type d -name casadata`']\" >> ~/.casa/config.py\n",
        "!more ~/.casa/config.py"
      ],
      "execution_count": null,
      "outputs": [
        {
          "output_type": "stream",
          "name": "stdout",
          "text": [
            "installing casa packages...\n",
            "\n",
            "downloading MeasurementSet from CASAguide First Look at Imaging...\n",
            "\n",
            "make a config file for Google Colab...\n",
            "\n",
            "home     = '/content/'\n",
            "datapath = ['/usr/local/lib/python3.7/dist-packages/casadata']\n"
          ]
        }
      ]
    },
    {
      "cell_type": "markdown",
      "metadata": {
        "id": "WxuECb4D8su0"
      },
      "source": [
        "## Getting Started\n",
        "\n",
        "We can inspect the contents of a package, or better yet, read its corresponding API section in [CASAdocs](https://casadocs.readthedocs.io/en/stable/api.html)"
      ]
    },
    {
      "cell_type": "code",
      "metadata": {
        "id": "S0B_KBb09ORJ",
        "colab": {
          "base_uri": "https://localhost:8080/"
        },
        "outputId": "9f0d0bad-5f9e-4162-c9ee-590365759b04"
      },
      "source": [
        "import casatasks\n",
        "casatasks.__all__"
      ],
      "execution_count": null,
      "outputs": [
        {
          "output_type": "execute_result",
          "data": {
            "text/plain": [
              "['casalog',\n",
              " 'version',\n",
              " 'version_string',\n",
              " 'imhead',\n",
              " 'immoments',\n",
              " 'imhistory',\n",
              " 'applycal',\n",
              " 'bandpass',\n",
              " 'blcal',\n",
              " 'calstat',\n",
              " 'concat',\n",
              " 'split',\n",
              " 'listobs',\n",
              " 'flagdata',\n",
              " 'flagcmd',\n",
              " 'setjy',\n",
              " 'cvel',\n",
              " 'cvel2',\n",
              " 'importuvfits',\n",
              " 'importfits',\n",
              " 'exportfits',\n",
              " 'exportuvfits',\n",
              " 'partition',\n",
              " 'listpartition',\n",
              " 'flagmanager',\n",
              " 'mstransform',\n",
              " 'tclean',\n",
              " 'immath',\n",
              " 'vishead',\n",
              " 'uvsub',\n",
              " 'spxfit',\n",
              " 'splattotable',\n",
              " 'specsmooth',\n",
              " 'specflux',\n",
              " 'smoothcal',\n",
              " 'specfit',\n",
              " 'imstat',\n",
              " 'slsearch',\n",
              " 'delmod',\n",
              " 'imsubimage',\n",
              " 'accor',\n",
              " 'asdmsummary',\n",
              " 'clearcal',\n",
              " 'conjugatevis',\n",
              " 'exportasdm',\n",
              " 'importasdm',\n",
              " 'clearstat',\n",
              " 'fixplanets',\n",
              " 'fixvis',\n",
              " 'phaseshift',\n",
              " 'fluxscale',\n",
              " 'ft',\n",
              " 'gaincal',\n",
              " 'gencal',\n",
              " 'uvcontsub3',\n",
              " 'testconcat',\n",
              " 'apparentsens',\n",
              " 'hanningsmooth',\n",
              " 'imcollapse',\n",
              " 'imcontsub',\n",
              " 'imdev',\n",
              " 'imfit',\n",
              " 'impbcor',\n",
              " 'importasap',\n",
              " 'importatca',\n",
              " 'importfitsidi',\n",
              " 'importgmrt',\n",
              " 'importnro',\n",
              " 'importvla',\n",
              " 'impv',\n",
              " 'imrebin',\n",
              " 'imreframe',\n",
              " 'imregrid',\n",
              " 'imsmooth',\n",
              " 'imtrans',\n",
              " 'imval',\n",
              " 'initweights',\n",
              " 'listcal',\n",
              " 'listfits',\n",
              " 'listhistory',\n",
              " 'listsdm',\n",
              " 'listvis',\n",
              " 'makemask',\n",
              " 'polcal',\n",
              " 'polfromgain',\n",
              " 'predictcomp',\n",
              " 'rerefant',\n",
              " 'rmfit',\n",
              " 'rmtables',\n",
              " 'sdatmcor',\n",
              " 'sdbaseline',\n",
              " 'sdcal',\n",
              " 'sdfit',\n",
              " 'sdfixscan',\n",
              " 'sdgaincal',\n",
              " 'sdimaging',\n",
              " 'sdsmooth',\n",
              " 'tsdimaging',\n",
              " 'nrobeamaverage',\n",
              " 'sdtimeaverage',\n",
              " 'simanalyze',\n",
              " 'simobserve',\n",
              " 'feather',\n",
              " 'simalma',\n",
              " 'statwt',\n",
              " 'virtualconcat',\n",
              " 'uvcontsub',\n",
              " 'uvmodelfit',\n",
              " 'visstat',\n",
              " 'widebandpbcor',\n",
              " 'importmiriad',\n",
              " 'plotweather',\n",
              " 'plotants',\n",
              " 'fringefit',\n",
              " 'plotbandpass',\n",
              " 'sdintimaging',\n",
              " 'sdpolaverage',\n",
              " 'sdsidebandsplit',\n",
              " 'plotprofilemap']"
            ]
          },
          "metadata": {},
          "execution_count": 3
        }
      ]
    },
    {
      "cell_type": "markdown",
      "metadata": {
        "id": "tQMP7v8VxGD0"
      },
      "source": [
        "We execute tasks just like normal Python functions. Many times they will write information to the log or a specified output file, which we then must display."
      ]
    },
    {
      "cell_type": "code",
      "metadata": {
        "id": "R6KsW1NvgsQs",
        "colab": {
          "base_uri": "https://localhost:8080/"
        },
        "outputId": "f460857b-e5e6-4bc6-aa66-84d9bd68ea46"
      },
      "source": [
        "from casatasks import listobs\n",
        "\n",
        "rc = listobs(vis='sis14_twhya_calibrated_flagged.ms', listfile='obslist.txt', verbose=False, overwrite=True)\n",
        "!cat obslist.txt"
      ],
      "execution_count": null,
      "outputs": [
        {
          "output_type": "stream",
          "name": "stdout",
          "text": [
            "================================================================================\n",
            "           MeasurementSet Name:  /content/sis14_twhya_calibrated_flagged.ms      MS Version 2\n",
            "================================================================================\n",
            "   Observer: cqi     Project: uid://A002/X327408/X6f  \n",
            "Observation: ALMA(26 antennas)\n",
            "Data records: 80563       Total elapsed time = 5647.68 seconds\n",
            "   Observed from   19-Nov-2012/07:36:57.0   to   19-Nov-2012/09:11:04.7 (UTC)\n",
            "\n",
            "Fields: 5\n",
            "  ID   Code Name                RA               Decl           Epoch   SrcId      nRows\n",
            "  0    none J0522-364           05:22:57.984648 -36.27.30.85128 J2000   0           4200\n",
            "  2    none Ceres               06:10:15.950590 +23.22.06.90668 J2000   2           3800\n",
            "  3    none J1037-295           10:37:16.079736 -29.34.02.81316 J2000   3          16000\n",
            "  5    none TW Hya              11:01:51.796000 -34.42.17.36600 J2000   4          53161\n",
            "  6    none 3c279               12:56:11.166576 -05.47.21.52464 J2000   5           3402\n",
            "Spectral Windows:  (1 unique spectral windows and 1 unique polarization setups)\n",
            "  SpwID  Name                           #Chans   Frame   Ch0(MHz)  ChanWid(kHz)  TotBW(kHz) CtrFreq(MHz) BBC Num  Corrs  \n",
            "  0      ALMA_RB_07#BB_2#SW-01#FULL_RES    384   TOPO  372533.086       610.352    234375.0 372649.9688        2  XX  YY\n",
            "Antennas: 21 'name'='station' \n",
            "   ID=   1-4: 'DA42'='A050', 'DA44'='A068', 'DA45'='A070', 'DA46'='A067', \n",
            "   ID=   5-9: 'DA48'='A046', 'DA49'='A029', 'DA50'='A045', 'DV02'='A077', \n",
            "   ID= 10-15: 'DV05'='A082', 'DV06'='A037', 'DV08'='A021', 'DV10'='A071', \n",
            "   ID= 16-19: 'DV13'='A072', 'DV15'='A074', 'DV16'='A069', 'DV17'='A138', \n",
            "   ID= 20-24: 'DV18'='A053', 'DV19'='A008', 'DV20'='A020', 'DV22'='A011', \n",
            "   ID= 25-25: 'DV23'='A007'\n"
          ]
        }
      ]
    },
    {
      "cell_type": "markdown",
      "metadata": {
        "id": "BVxAgJHyynlR"
      },
      "source": [
        "Another example, lets do channel averaging with MSTransform. Here we need to make sure we've deleted the previous output file if/when running multiple times.  Since this task doesn't return anything, we can look at the end of the log file to see what happened."
      ]
    },
    {
      "cell_type": "code",
      "metadata": {
        "colab": {
          "base_uri": "https://localhost:8080/"
        },
        "id": "Mzz2dtFtyyAj",
        "outputId": "604d0ce3-c17f-4bbc-f405-6bbb6545d415"
      },
      "source": [
        "from casatasks import mstransform\n",
        "\n",
        "os.system(\"rm -fr chanavg.ms\")\n",
        "mstransform(vis='sis14_twhya_calibrated_flagged.ms', outputvis='chanavg.ms',\n",
        "            datacolumn='DATA', chanaverage=True, chanbin=3)\n",
        "!tail casa-202*.log"
      ],
      "execution_count": null,
      "outputs": [
        {
          "output_type": "stream",
          "name": "stdout",
          "text": [
            "2021-10-14 17:43:24\tINFO\tMSTransformManager::parseMsSpecParams\tTile shape is [0]\n",
            "2021-10-14 17:43:24\tINFO\tMSTransformManager::parseChanAvgParams\tChannel average is activated\n",
            "2021-10-14 17:43:24\tINFO\tMSTransformManager::parseChanAvgParams\tChannel bin is [3]\n",
            "2021-10-14 17:43:24\tINFO\tMSTransformManager::colCheckInfo\tAdding DATA column to output MS from input DATA column\n",
            "2021-10-14 17:43:24\tINFO\tMSTransformManager::open\tSelect data\n",
            "2021-10-14 17:43:24\tINFO\tMSTransformManager::createOutputMSStructure\tCreate output MS structure\n",
            "2021-10-14 17:43:24\tINFO\tParallelDataHelper::::casa\tApply the transformations\n",
            "2021-10-14 17:43:29\tINFO\tmstransform::::casa\tTask mstransform complete. Start time: 2021-10-14 17:43:23.610120 End time: 2021-10-14 17:43:29.323998\n",
            "2021-10-14 17:43:29\tINFO\tmstransform::::casa\t##### End Task: mstransform          #####\n",
            "2021-10-14 17:43:29\tINFO\tmstransform::::casa\t##########################################\n"
          ]
        }
      ]
    },
    {
      "cell_type": "markdown",
      "metadata": {
        "id": "H0hpzf1D8zcD"
      },
      "source": [
        "## Running tclean\n",
        "\n",
        "Tclean works in non-interactive mode only (interactive=False)."
      ]
    },
    {
      "cell_type": "code",
      "metadata": {
        "id": "ucruiVYxvUJh",
        "colab": {
          "base_uri": "https://localhost:8080/"
        },
        "outputId": "f48635f8-d3fb-4bc0-97eb-d7d6e9ccc84e"
      },
      "source": [
        "from casatasks import tclean\n",
        "\n",
        "print(\"running tclean, may take a bit...\")\n",
        "\n",
        "tclean(vis='sis14_twhya_calibrated_flagged.ms', imagename='first_image',\n",
        "       field='5', spw='', specmode='mfs', deconvolver='hogbom', nterms=1,\n",
        "       gridder='standard', imsize=[250,250], cell=['0.1arcsec'],\n",
        "       weighting='natural', threshold='0mJy', niter=5000,\n",
        "       interactive=False, savemodel='modelcolumn')\n",
        "\n",
        "print(\"complete\")"
      ],
      "execution_count": null,
      "outputs": [
        {
          "output_type": "stream",
          "name": "stdout",
          "text": [
            "running tclean, may take a bit...\n",
            "complete\n"
          ]
        }
      ]
    },
    {
      "cell_type": "markdown",
      "metadata": {
        "id": "6Sh41pgSmkcE"
      },
      "source": [
        "## View Images with Viewer\n",
        "\n",
        "We can use the casaviewer package to view images, but we need to start the viewer manually as a separate process"
      ]
    },
    {
      "cell_type": "code",
      "metadata": {
        "colab": {
          "base_uri": "https://localhost:8080/"
        },
        "id": "3UwZYF_hgG9g",
        "outputId": "0505a0aa-ac12-4402-c22f-c94ea6d05fef"
      },
      "source": [
        "import subprocess as sp\n",
        "\n",
        "sp.Popen('/usr/local/lib/python3.7/dist-packages/casaviewer/__bin__/casaviewer-x86_64.AppImage',\n",
        "         shell=True, preexec_fn=os.setsid, stdin=sp.PIPE, stdout=sp.PIPE, stderr=sp.STDOUT)"
      ],
      "execution_count": null,
      "outputs": [
        {
          "output_type": "execute_result",
          "data": {
            "text/plain": [
              "<subprocess.Popen at 0x7fb797158190>"
            ]
          },
          "metadata": {},
          "execution_count": 7
        }
      ]
    },
    {
      "cell_type": "markdown",
      "metadata": {
        "id": "GvsKjHlPp99P"
      },
      "source": [
        "Now call imview and render the image to an output file where it can then be displayed"
      ]
    },
    {
      "cell_type": "code",
      "metadata": {
        "colab": {
          "base_uri": "https://localhost:8080/",
          "height": 616
        },
        "id": "tPHVK49kaT82",
        "outputId": "32390bc4-11ee-495b-8bb2-482d3db9797f"
      },
      "source": [
        "from casaviewer import imview\n",
        "from IPython.display import Image\n",
        "\n",
        "imview('first_image.image', out='test.png')\n",
        "\n",
        "Image(filename=\"test.png\")"
      ],
      "execution_count": null,
      "outputs": [
        {
          "output_type": "stream",
          "name": "stdout",
          "text": [
            "(0) waiting for viewer process...\n",
            "(1) waiting for viewer process...\n",
            "(2) waiting for viewer process...\n",
            "(3) waiting for viewer process...\n",
            "(4) waiting for viewer process...\n",
            "\t...{'id': 'casaviewer:b1fc', 'priority': 0, 'types': array(['shutdown', 'image-view', 'interactive-clean'], dtype='<U18'), 'uri': '0.0.0.0:44403'}\n"
          ]
        },
        {
          "output_type": "execute_result",
          "data": {
            "image/png": "[encoded data removed]",
            "text/plain": [
              "<IPython.core.display.Image object>"
            ]
          },
          "metadata": {},
          "execution_count": 8
        }
      ]
    },
    {
      "cell_type": "markdown",
      "metadata": {
        "id": "1U3B_5u8qfPF"
      },
      "source": [
        "## View Images with Astropy\n",
        "\n",
        "We can use the image tool from casatools to load raw image data, then feed it to another Python package like Astropy and display it using Matplotlib.\n",
        "\n",
        "Astropy is already installed in Google Colaboratory, but if running this on some other Jupyter Hub system, you'll probably need to ```pip install astropy```.  Also note that we didn't explicitly install casatools either, but it was automatically installed as a dependency of casatasks."
      ]
    },
    {
      "cell_type": "code",
      "metadata": {
        "id": "I3UhdwznVQXe",
        "colab": {
          "base_uri": "https://localhost:8080/",
          "height": 445
        },
        "outputId": "b54d35cc-1456-4ebc-b8fd-020b75189d28"
      },
      "source": [
        "from casatools import image as IA\n",
        "from astropy.wcs import WCS\n",
        "import matplotlib.pyplot as plt\n",
        "import numpy as np\n",
        "\n",
        "ia = IA()\n",
        "ia.open('first_image.image')\n",
        "pix = ia.getchunk()[:,:,0,0]\n",
        "csys = ia.coordsys()\n",
        "ia.close()\n",
        "\n",
        "rad_to_deg =  180/np.pi\n",
        "w = WCS(naxis=2)\n",
        "w.wcs.crpix = csys.referencepixel()['numeric'][0:2]\n",
        "w.wcs.cdelt = csys.increment()['numeric'][0:2]*rad_to_deg\n",
        "w.wcs.crval = csys.referencevalue()['numeric'][0:2]*rad_to_deg\n",
        "w.wcs.ctype = ['RA---SIN', 'DEC--SIN']\n",
        "\n",
        "plt.subplots(1,1, figsize=(10,7))\n",
        "ax = plt.subplot(1, 1, 1, projection=w)\n",
        "p1 = int(pix.shape[0]*0.25)\n",
        "p2 = int(pix.shape[0]*0.75)\n",
        "\n",
        "im = ax.imshow(pix[p1:p2,p1:p2].transpose(), origin='lower',  cmap=plt.cm.viridis)\n",
        "plt.colorbar(im, ax=ax)\n",
        "ax.set_xlabel('Right Ascension')\n",
        "ax.set_ylabel('Declination')"
      ],
      "execution_count": null,
      "outputs": [
        {
          "output_type": "display_data",
          "data": {
            "image/png": "[encoded data removed]",
            "text/plain": [
              "<Figure size 720x504 with 2 Axes>"
            ]
          },
          "metadata": {
            "needs_background": "light"
          }
        }
      ]
    }
  ]
}