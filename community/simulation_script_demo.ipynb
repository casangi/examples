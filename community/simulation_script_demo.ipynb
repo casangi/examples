{
  "nbformat": 4,
  "nbformat_minor": 0,
  "metadata": {
    "kernelspec": {
      "display_name": "Python 3",
      "language": "python",
      "name": "python3"
    },
    "language_info": {
      "codemirror_mode": {
        "name": "ipython",
        "version": 3
      },
      "file_extension": ".py",
      "mimetype": "text/x-python",
      "name": "python",
      "nbconvert_exporter": "python",
      "pygments_lexer": "ipython3",
      "version": "3.6.4"
    },
    "colab": {
      "name": "simulation_script_demo.ipynb",
      "provenance": [],
      "toc_visible": true
    }
  },
  "cells": [
    {
      "cell_type": "markdown",
      "metadata": {
        "id": "0mVsTnyO1zc8"
      },
      "source": [
        "# Simulation in CASA\n",
        "\n",
        "Original Author: rurvashi@aoc.nrao.edu\n",
        "\n"
      ]
    },
    {
      "cell_type": "markdown",
      "metadata": {
        "id": "-coaNx329NEM"
      },
      "source": [
        "## Description\n",
        "\n",
        "Get creative with data sets to be used for test scripts and characterization of numerical features/changes. This notebook goes beneath the simobserve task and illustrates simple ways in which developers and test writers can make full use of the flexibility offered by our tools and the imager framework. It also exercises some usage modes that our users regularly encounter and exposes some quirks of our scripting interface(s). Rudimentary image and data display routines are included below.\n",
        "\n",
        "__Topics Covered below__\n",
        "\n",
        "    - Install CASA 6 and Import required libraries\n",
        "    \n",
        "    - Make an empty MS with the desired sub-structure\n",
        "    - Make a true sky model\n",
        "    - Predict visibilities onto the DATA column of the MS\n",
        "    - Add noise and other errors\n",
        "    \n",
        "    - A few example use cases\n",
        "        - Image one channel\n",
        "        - Cube imaging with a spectral line\n",
        "        - Continuum wideband imaging with model subtraction\n",
        "        - Self-calibration and imaging\n",
        "        \n",
        "     - Ideas for CASA developers and test writers to do beyond these examples.\n"
      ]
    },
    {
      "cell_type": "markdown",
      "metadata": {
        "id": "P6Ys7vbI1zdD"
      },
      "source": [
        "## Installation\n",
        "\n",
        "__Option 1 : Install local python3__\n",
        "\n",
        "```\n",
        "export PPY=`which python3`\n",
        "virtualenv -p $PPY --setuptools ./local_python3\n",
        "./local_python3/bin/pip install --upgrade pip\n",
        "./local_python3/bin/pip install --upgrade numpy matplotlib ipython astropy\n",
        "./local_python3/bin/pip install --extra-index-url https://casa-pip.nrao.edu/repository/pypi-group/simple casatools\n",
        "./local_python3/bin/pip install --extra-index-url https://casa-pip.nrao.edu/repository/pypi-group/simple casatasks\n",
        "./local_python3/bin/pip3 install jupyter\n",
        "```\n",
        "\n",
        "__Option 2 : Install at runtime__ (for Google Colab)\n",
        "\n"
      ]
    },
    {
      "cell_type": "code",
      "metadata": {
        "colab": {
          "base_uri": "https://localhost:8080/"
        },
        "id": "dlhUJYkK2Ef0",
        "outputId": "b7faf91a-9ae1-4e88-b83e-cb737edf3e6f"
      },
      "source": [
        "import os\n",
        "\n",
        "print(\"installing pre-requisite packages...\")\n",
        "os.system(\"apt-get install libgfortran3\")\n",
        "\n",
        "print(\"installing casa...\")\n",
        "os.system(\"pip install --index-url https://casa-pip.nrao.edu:443/repository/pypi-group/simple casatasks==6.2.0.106\")\n",
        "os.system(\"pip install --index-url https://casa-pip.nrao.edu:443/repository/pypi-group/simple casadata\")\n",
        "print(\"complete\")\n"
      ],
      "execution_count": 1,
      "outputs": [
        {
          "output_type": "stream",
          "text": [
            "installing pre-requisite packages...\n",
            "installing casatasks...\n"
          ],
          "name": "stdout"
        },
        {
          "output_type": "execute_result",
          "data": {
            "text/plain": [
              "0"
            ]
          },
          "metadata": {
            "tags": []
          },
          "execution_count": 1
        }
      ]
    },
    {
      "cell_type": "markdown",
      "metadata": {
        "id": "4GHPhdbe1zdD"
      },
      "source": [
        "__Import Libraries__"
      ]
    },
    {
      "cell_type": "code",
      "metadata": {
        "id": "f7Fan73F1zdE"
      },
      "source": [
        "# Import required tools/tasks\n",
        "from casatools import simulator, image, table, coordsys, measures, componentlist, quanta, ctsys\n",
        "from casatasks import tclean, ft, imhead, listobs, exportfits, flagdata, bandpass, applycal\n",
        "from casatasks.private import simutil\n",
        "\n",
        "import os\n",
        "import pylab as pl\n",
        "import numpy as np\n",
        "from astropy.io import fits\n",
        "from astropy.wcs import WCS\n",
        "\n",
        "\n",
        "# Instantiate all the required tools\n",
        "sm = simulator()\n",
        "ia = image()\n",
        "tb = table()\n",
        "cs = coordsys()\n",
        "me = measures()\n",
        "qa = quanta()\n",
        "cl = componentlist()\n",
        "mysu = simutil.simutil()"
      ],
      "execution_count": 2,
      "outputs": []
    },
    {
      "cell_type": "markdown",
      "metadata": {
        "id": "DJApfWv61zdE"
      },
      "source": [
        "## Make an empty MS with the desired uvw/scan/field/ddid setup\n",
        "\n",
        "Construct an empty Measurement Set that has the desired observation setup. \n",
        "        This includes antenna configuration, phase center direction, spectral windows, \n",
        "        date and timerange of the observation, structure of scans/spws/obsidd/fieldids \n",
        "        (and all other MS metadata). Evaluate UVW coordinates for the entire observation \n",
        "        and initialize the DATA column to zero.\n",
        "       \n",
        "__Methods__\n",
        "\n",
        "__Make an empty MS__"
      ]
    },
    {
      "cell_type": "code",
      "metadata": {
        "id": "odG05Z5H1zdF"
      },
      "source": [
        "def makeMSFrame(msname = 'sim_data.ms'):\n",
        "    \"\"\" \n",
        "    Construct an empty Measurement Set that has the desired observation setup. \n",
        "    \"\"\"\n",
        "        \n",
        "    os.system('rm -rf '+msname)\n",
        "        \n",
        "    ## Open the simulator\n",
        "    sm.open(ms=msname);\n",
        "\n",
        "    ## Read/create an antenna configuration. \n",
        "    ## Canned antenna config text files are located here : /home/casa/data/trunk/alma/simmos/*cfg\n",
        "    antennalist = os.path.join( ctsys.resolve(\"alma/simmos\") ,\"vla.d.cfg\")   \n",
        "    \n",
        "    ## Fictitious telescopes can be simulated by specifying x, y, z, d, an, telname, antpos.\n",
        "    ##     x,y,z are locations in meters in ITRF (Earth centered) coordinates. \n",
        "    ##     d, an are lists of antenna diameter and name.\n",
        "    ##     telname and obspos are the name and coordinates of the observatory. \n",
        "    (x,y,z,d,an,an2,telname, obspos) = mysu.readantenna(antennalist)\n",
        "\n",
        "    ## Set the antenna configuration\n",
        "    sm.setconfig(telescopename=telname,\n",
        "                     x=x,\n",
        "                     y=y,\n",
        "                     z=z,\n",
        "                     dishdiameter=d,\n",
        "                     mount=['alt-az'], \n",
        "                     antname=an,\n",
        "                     coordsystem='global',\n",
        "                     referencelocation=me.observatory(telname));\n",
        "\n",
        "    ## Set the polarization mode (this goes to the FEED subtable)\n",
        "    sm.setfeed(mode='perfect R L', pol=['']);\n",
        "\n",
        "    ## Set the spectral window and polarization (one data-description-id). \n",
        "    ## Call multiple times with different names for multiple SPWs or pol setups.\n",
        "    sm.setspwindow(spwname=\"LBand\",\n",
        "                   freq='1.0GHz',\n",
        "                   deltafreq='0.1GHz',\n",
        "                   freqresolution='0.2GHz',\n",
        "                   nchannels=10,\n",
        "                   stokes='RR LL');\n",
        "\n",
        "    ## Setup source/field information (i.e. where the observation phase center is)\n",
        "    ## Call multiple times for different pointings or source locations.\n",
        "    sm.setfield( sourcename=\"fake\",\n",
        "                 sourcedirection=me.direction(rf='J2000', v0='19h59m28.5s',v1='+40d44m01.5s'));\n",
        "\n",
        "    ## Set shadow/elevation limits (if you care). These set flags.\n",
        "    sm.setlimits(shadowlimit=0.01, elevationlimit='1deg');\n",
        "\n",
        "    ## Leave autocorrelations out of the MS.\n",
        "    sm.setauto(autocorrwt=0.0);  \n",
        "\n",
        "    ## Set the integration time, and the convention to use for timerange specification\n",
        "    ## Note : It is convenient to pick the hourangle mode as all times specified in sm.observe()\n",
        "    ##        will be relative to when the source transits.\n",
        "    sm.settimes(integrationtime='2000s', \n",
        "                usehourangle=True,\n",
        "                referencetime=me.epoch('UTC','2019/10/4/00:00:00'));\n",
        "\n",
        "    ## Construct MS metadata and UVW values for one scan and ddid \n",
        "    ## Call multiple times for multiple scans.\n",
        "    ## Call this with different sourcenames (fields) and spw/pol settings as defined above.\n",
        "    ## Timesteps will be defined in intervals of 'integrationtime', between starttime and stoptime.\n",
        "    sm.observe(sourcename=\"fake\",\n",
        "               spwname='LBand', \n",
        "               starttime='-5.0h', \n",
        "               stoptime='+5.0h');\n",
        "\n",
        "    ## Close the simulator\n",
        "    sm.close()\n",
        "    \n",
        "    ## Unflag everything (unless you care about elevation/shadow flags)\n",
        "    flagdata(vis=msname,mode='unflag')"
      ],
      "execution_count": 3,
      "outputs": []
    },
    {
      "cell_type": "markdown",
      "metadata": {
        "id": "KG3iRYgc1zdG"
      },
      "source": [
        "__Plot columns of the MS__"
      ]
    },
    {
      "cell_type": "code",
      "metadata": {
        "id": "OJ0ok3Ji1zdG"
      },
      "source": [
        "def plotData(msname='sim_data.ms', myplot='uv'):\n",
        "    \"\"\"\n",
        "    Options : myplot='uv'\n",
        "              myplot='data_spectrum'\n",
        "    \"\"\"\n",
        "    from matplotlib.collections import LineCollection\n",
        "    tb.open(msname)\n",
        "\n",
        "    # UV coverage plot\n",
        "    if myplot=='uv':\n",
        "        pl.figure(figsize=(4,4))\n",
        "        pl.clf()\n",
        "        uvw = tb.getcol('UVW')\n",
        "        pl.plot( uvw[0], uvw[1], '.')\n",
        "        pl.plot( -uvw[0], -uvw[1], '.')\n",
        "        pl.title('UV Coverage')\n",
        "    \n",
        "    # Spectrum of chosen column. Make a linecollection out of each row in the MS.\n",
        "    if myplot=='data_spectrum' or myplot=='corr_spectrum' or myplot=='resdata_spectrum'  or myplot=='rescorr_spectrum' or myplot=='model_spectrum':\n",
        "        dats=None\n",
        "        if myplot=='data_spectrum':\n",
        "            dats = tb.getcol('DATA')\n",
        "        if myplot=='corr_spectrum':\n",
        "            dats = tb.getcol('CORRECTED_DATA')\n",
        "        if myplot=='resdata_spectrum':\n",
        "            dats = tb.getcol('DATA') - tb.getcol('MODEL_DATA') \n",
        "        if myplot=='rescorr_spectrum':\n",
        "            dats = tb.getcol('CORRECTED_DATA') - tb.getcol('MODEL_DATA') \n",
        "        if myplot=='model_spectrum':\n",
        "            dats = tb.getcol('MODEL_DATA')\n",
        "            \n",
        "        xs = np.zeros((dats.shape[2],dats.shape[1]),'int')\n",
        "        for chan in range(0,dats.shape[1]):\n",
        "            xs[:,chan] = chan\n",
        "    \n",
        "        npl = dats.shape[0]\n",
        "        fig, ax = pl.subplots(1,npl,figsize=(10,4))\n",
        "        \n",
        "        for pol in range(0,dats.shape[0]):\n",
        "            x = xs\n",
        "            y = np.abs(dats[pol,:,:]).T\n",
        "            data = np.stack(( x,y ), axis=2)\n",
        "            ax[pol].add_collection(LineCollection(data))\n",
        "            ax[pol].set_title(myplot + ' \\n pol '+str(pol))\n",
        "            ax[pol].set_xlim(x.min(), x.max())\n",
        "            ax[pol].set_ylim(y.min(), y.max())\n",
        "        pl.show()\n"
      ],
      "execution_count": 4,
      "outputs": []
    },
    {
      "cell_type": "markdown",
      "metadata": {
        "id": "H6NEKSrd1zdH"
      },
      "source": [
        "__Examples__\n",
        "\n",
        "Make a Measurement Set and inspect it"
      ]
    },
    {
      "cell_type": "code",
      "metadata": {
        "id": "D0RDP_qk1zdH"
      },
      "source": [
        "makeMSFrame()"
      ],
      "execution_count": 5,
      "outputs": []
    },
    {
      "cell_type": "code",
      "metadata": {
        "colab": {
          "base_uri": "https://localhost:8080/",
          "height": 281
        },
        "id": "I5KBfylE1zdI",
        "outputId": "799766b9-ed65-4fa9-9181-b55713189ebc"
      },
      "source": [
        "plotData(myplot='uv')"
      ],
      "execution_count": 6,
      "outputs": [
        {
          "output_type": "display_data",
          "data": {
            "image/png": "[encoded data removed]",
            "text/plain": [
              "<Figure size 288x288 with 1 Axes>"
            ]
          },
          "metadata": {
            "tags": [],
            "needs_background": "light"
          }
        }
      ]
    },
    {
      "cell_type": "code",
      "metadata": {
        "colab": {
          "base_uri": "https://localhost:8080/"
        },
        "id": "wVBEL6FG1zdJ",
        "outputId": "0537592a-2d21-4e26-b03d-a823b2ffe143"
      },
      "source": [
        "listobs(vis='sim_data.ms', listfile='obslist.txt', verbose=False, overwrite=True)\n",
        "## print(os.popen('obslist.txt').read()) # ?permission denied?\n",
        "fp = open('obslist.txt')\n",
        "for aline in fp.readlines():\n",
        "    print(aline.replace('\\n',''))\n",
        "fp.close()"
      ],
      "execution_count": 7,
      "outputs": [
        {
          "output_type": "stream",
          "text": [
            "================================================================================\n",
            "           MeasurementSet Name:  /content/sim_data.ms      MS Version 2\n",
            "================================================================================\n",
            "   Observer: CASA simulator     Project: CASA simulation  \n",
            "Observation: VLA(27 antennas)\n",
            "Data records: 6318       Total elapsed time = 36000 seconds\n",
            "   Observed from   03-Oct-2019/21:21:40.2   to   04-Oct-2019/07:21:40.2 (UTC)\n",
            "\n",
            "Fields: 1\n",
            "  ID   Code Name                RA               Decl           Epoch   SrcId      nRows\n",
            "  0         fake                19:59:28.500000 +40.44.01.50000 J2000   0           6318\n",
            "Spectral Windows:  (1 unique spectral windows and 1 unique polarization setups)\n",
            "  SpwID  Name   #Chans   Frame   Ch0(MHz)  ChanWid(kHz)  TotBW(kHz) CtrFreq(MHz)  Corrs  \n",
            "  0      LBand     10   TOPO    1000.000    100000.000   1000000.0   1450.0000   RR  LL\n",
            "Antennas: 27 'name'='station' \n",
            "   ID=   0-5: 'W01'='P', 'W02'='P', 'W03'='P', 'W04'='P', 'W05'='P', 'W06'='P', \n",
            "   ID=  6-11: 'W07'='P', 'W08'='P', 'W09'='P', 'E01'='P', 'E02'='P', 'E03'='P', \n",
            "   ID= 12-17: 'E04'='P', 'E05'='P', 'E06'='P', 'E07'='P', 'E08'='P', 'E09'='P', \n",
            "   ID= 18-23: 'N01'='P', 'N02'='P', 'N03'='P', 'N04'='P', 'N05'='P', 'N06'='P', \n",
            "   ID= 24-26: 'N07'='P', 'N08'='P', 'N09'='P'\n"
          ],
          "name": "stdout"
        }
      ]
    },
    {
      "cell_type": "markdown",
      "metadata": {
        "id": "HasEM5-k1zdJ"
      },
      "source": [
        "## Make a True Sky Model (component list and/or image) \n",
        "\n",
        "Construct a true sky model for which visibilities will be simulated and stored in the DATA column. This could be a component list (with real-world positions and point or gaussian component types), or a CASA image with a real-world coordinate system and pixels containing model sky values. It is possible to also evaluate component lists onto CASA images."
      ]
    },
    {
      "cell_type": "markdown",
      "metadata": {
        "id": "CE-_k_n51zdJ"
      },
      "source": [
        "__Methods__\n",
        "\n",
        "__Make a source list__\n",
        "\n",
        "Once made,it can be used either for direction evaluation of simulated visibilities, or first evaluated onto a CASA image before visibility prediction."
      ]
    },
    {
      "cell_type": "code",
      "metadata": {
        "id": "Zcz8YrHK1zdK"
      },
      "source": [
        "def makeCompList(clname_true='sim_onepoint.cl'):\n",
        "    # Make sure the cl doesn't already exist. The tool will complain otherwise.\n",
        "    os.system('rm -rf '+clname_true)\n",
        "    cl.done()\n",
        "    \n",
        "    # Add sources, one at a time. \n",
        "    # Call multiple times to add multiple sources. ( Change the 'dir', obviously )\n",
        "    cl.addcomponent(dir='J2000 19h59m28.5s +40d44m01.5s', \n",
        "                        flux=5.0,            # For a gaussian, this is the integrated area.\n",
        "                        fluxunit='Jy', \n",
        "                        freq='1.5GHz', \n",
        "                        shape='point',       ## Point source\n",
        "    #                    shape='gaussian',   ## Gaussian\n",
        "    #                    majoraxis=\"5.0arcmin\", \n",
        "    #                    minoraxis='2.0arcmin', \n",
        "                        spectrumtype=\"spectral index\",\n",
        "                        index=-1.0)\n",
        "\n",
        "    # Print out the contents of the componentlist\n",
        "    #print('Contents of the component list')\n",
        "    #print(cl.torecord())\n",
        "    \n",
        "    # Save the file\n",
        "    cl.rename(filename=clname_true)\n",
        "    cl.done()"
      ],
      "execution_count": 8,
      "outputs": []
    },
    {
      "cell_type": "markdown",
      "metadata": {
        "id": "gbXGQnjF1zdK"
      },
      "source": [
        "__Make an empty CASA image__"
      ]
    },
    {
      "cell_type": "code",
      "metadata": {
        "id": "s-Gi7rL81zdK"
      },
      "source": [
        "def makeEmptyImage(imname_true='sim_onepoint_true.im'):\n",
        "    ## Define the center of the image\n",
        "    radir = '19h59m28.5s'\n",
        "    decdir = '+40d44m01.5s'\n",
        "    \n",
        "    ## Make the image from a shape\n",
        "    ia.close()\n",
        "    ia.fromshape(imname_true,[256,256,1,10],overwrite=True)\n",
        "    \n",
        "    ## Make a coordinate system\n",
        "    cs=ia.coordsys()\n",
        "    cs.setunits(['rad','rad','','Hz'])\n",
        "    cell_rad=qa.convert(qa.quantity('8.0arcsec'),\"rad\")['value']\n",
        "    cs.setincrement([-cell_rad,cell_rad],'direction')\n",
        "    cs.setreferencevalue([qa.convert(radir,'rad')['value'],qa.convert(decdir,'rad')['value']],type=\"direction\")\n",
        "    cs.setreferencevalue('1.0GHz','spectral')\n",
        "    cs.setreferencepixel([0],'spectral')\n",
        "    cs.setincrement('0.1GHz','spectral')\n",
        "    \n",
        "    ## Set the coordinate system in the image\n",
        "    ia.setcoordsys(cs.torecord())\n",
        "    ia.setbrightnessunit(\"Jy/pixel\")\n",
        "    ia.set(0.0)\n",
        "    ia.close() \n",
        "    \n",
        "### Note : If there is an error in this step, subsequent steps will give errors of \" Invalid Table Operation : SetupNewTable.... imagename is already opened (is in the table cache)\"\n",
        "## The only way out of this is to restart the kernel (equivalent to exit and restart CASA).\n",
        "## Any other way ? "
      ],
      "execution_count": 9,
      "outputs": []
    },
    {
      "cell_type": "markdown",
      "metadata": {
        "id": "63dEWO-F1zdK"
      },
      "source": [
        "__Evaluate the component list onto the image cube__"
      ]
    },
    {
      "cell_type": "code",
      "metadata": {
        "id": "uvu7SzKj1zdL"
      },
      "source": [
        "def evalCompList(clname='sim_onepoint.cl', imname='sim_onepoint_true.im'):\n",
        "    ##  Evaluate a component list\n",
        "    cl.open(clname)\n",
        "    ia.open(imname)\n",
        "    ia.modify(cl.torecord(),subtract=False)\n",
        "    ia.close()\n",
        "    cl.done()"
      ],
      "execution_count": 10,
      "outputs": []
    },
    {
      "cell_type": "markdown",
      "metadata": {
        "id": "CVOKUOhq1zdL"
      },
      "source": [
        "__Edit pixel values directly__"
      ]
    },
    {
      "cell_type": "code",
      "metadata": {
        "id": "2CG0Uodx1zdL"
      },
      "source": [
        "def editPixels(imname='sim_onepoint_true.im'):\n",
        "    ## Edit pixel values directly\n",
        "    ia.open(imname)\n",
        "    pix = ia.getchunk()\n",
        "    shp = ia.shape()\n",
        "    #pix.fill(0.0)\n",
        "    #pix[ int(shp[0]/2), int(shp[1]/2), 0, :] = 4.0    # A flat spectrum unpolarized source of amplitude 1 Jy and located at the center of the image.\n",
        "    pix[ int(shp[0]/2), int(shp[1]/2), 0, 6] = pix[ int(shp[0]/2), int(shp[1]/2), 0, 6] + 2.0    # Add a spectral line in channel 1\n",
        "    ia.putchunk( pix )\n",
        "    ia.close()"
      ],
      "execution_count": 11,
      "outputs": []
    },
    {
      "cell_type": "markdown",
      "metadata": {
        "id": "EI1gzscC1zdL"
      },
      "source": [
        "__View an Image Cube__\n",
        "\n",
        "Use some image viewer, or just pull the pixels out and use matplotlib"
      ]
    },
    {
      "cell_type": "code",
      "metadata": {
        "id": "4cT7n3OJ1zdM"
      },
      "source": [
        "# Display an image using AstroPy, with coordinate system rendering.\n",
        "def dispAstropy(imname='sim_onepoint_true.im'):\n",
        "        exportfits(imagename=imname, fitsimage=imname+'.fits', overwrite=True)\n",
        "        hdu = fits.open(imname+'.fits')[0]\n",
        "        wcs = WCS(hdu.header,naxis=2)\n",
        "        fig = pl.figure()\n",
        "        fig.add_subplot(121, projection=wcs)\n",
        "        pl.imshow(hdu.data[0,0,:,:], origin='lower', cmap=pl.cm.viridis)\n",
        "        pl.xlabel('RA')\n",
        "        pl.ylabel('Dec')\n",
        "\n",
        "\n",
        "# Display an image cube or a single plane image.\n",
        "# For a Cube, show the image at chan 0 and a spectrum at the location of the peak in chan0.\n",
        "# For a Single plane image, show the image.\n",
        "def dispImage(imname='sim_onepoint_true.im', useAstropy=False):\n",
        "    ia.open(imname)\n",
        "    pix = ia.getchunk()\n",
        "    shp = ia.shape()\n",
        "    ia.close()\n",
        "    pl.figure(figsize=(10,4))\n",
        "    pl.clf()\n",
        "    if shp[3]>1:\n",
        "        pl.subplot(121)\n",
        "    if useAstropy==False:\n",
        "        pl.imshow(pix[:,:,0,0]) \n",
        "        pl.title('Image from channel 0')\n",
        "    else:\n",
        "        dispAstropy(imname)\n",
        "    if shp[3]>1:\n",
        "        pl.subplot(122)\n",
        "        ploc = np.where( pix == pix.max() )\n",
        "        pl.plot(pix[ploc[0][0], ploc[1][0],0,:])\n",
        "        pl.title('Spectrum at source peak')\n",
        "        pl.xlabel('Channel')\n",
        "        "
      ],
      "execution_count": 12,
      "outputs": []
    },
    {
      "cell_type": "markdown",
      "metadata": {
        "id": "M6oblp4u1zdM"
      },
      "source": [
        "__Examples__\n",
        "\n",
        "Make a component list and evaluate it onto a CASA image"
      ]
    },
    {
      "cell_type": "code",
      "metadata": {
        "colab": {
          "base_uri": "https://localhost:8080/",
          "height": 295
        },
        "id": "FB8Qsuwx1zdM",
        "outputId": "c9e1b9b2-9dcf-439c-a7ac-3d9c13a4f7f4"
      },
      "source": [
        "## Make the component list\n",
        "makeCompList()\n",
        "\n",
        "## Make an empty CASA image\n",
        "makeEmptyImage()\n",
        "## Evaluate the component list onto the CASA image\n",
        "evalCompList()\n",
        "\n",
        "## Display\n",
        "dispImage()"
      ],
      "execution_count": 13,
      "outputs": [
        {
          "output_type": "display_data",
          "data": {
            "image/png": "[encoded data removed]",
            "text/plain": [
              "<Figure size 720x288 with 2 Axes>"
            ]
          },
          "metadata": {
            "tags": [],
            "needs_background": "light"
          }
        }
      ]
    },
    {
      "cell_type": "code",
      "metadata": {
        "colab": {
          "base_uri": "https://localhost:8080/",
          "height": 295
        },
        "id": "8Nfl5dY61zdN",
        "outputId": "69f8a33f-dbc3-42c3-8ac3-e2dc08563176"
      },
      "source": [
        "## Edit the pixels of the CASA image directly (e.g. add a spectral line)\n",
        "editPixels()\n",
        "\n",
        "## Display\n",
        "dispImage()"
      ],
      "execution_count": 14,
      "outputs": [
        {
          "output_type": "display_data",
          "data": {
            "image/png": "[encoded data removed]",
            "text/plain": [
              "<Figure size 720x288 with 2 Axes>"
            ]
          },
          "metadata": {
            "tags": [],
            "needs_background": "light"
          }
        }
      ]
    },
    {
      "cell_type": "markdown",
      "metadata": {
        "id": "70f-Qbr61zdN"
      },
      "source": [
        "## Simulate visibilities from the sky model into the DATA column of the MS\n",
        "\n",
        "Simulate visibilities for the true sky model, applying a variety of instrumental effects. This step either evaluates the DFT of a component model, or uses an imaging (de)gridder.  Instrumental effects can be applied either by pre-processing the sky model before 'standard' degridding, or by invoking one of the wide-field imaging gridders to apply W-term, A-term and mosaicing effects. Noise, extra spectral lines or RFI may be added at this point, as well as gain errors via the application of carefully constructed calibration tables. "
      ]
    },
    {
      "cell_type": "markdown",
      "metadata": {
        "id": "MVkQtEQc1zdN"
      },
      "source": [
        "__Methods__\n",
        "\n",
        "__Use the simulator tool__\n",
        "\n",
        "Visibilities are predicted and saved in the DATA column of the MS.\n",
        "It is preferable to use the simulator only when the standard gridder is desired. \n",
        "Prediction can be done from an input model image or a component list"
      ]
    },
    {
      "cell_type": "code",
      "metadata": {
        "id": "JWTf3-bb1zdN"
      },
      "source": [
        "def predictSim(msname='sim_data.ms',\n",
        "                imname='sim_onepoint_true.im', \n",
        "                clname='sim_onepoint.cl',\n",
        "                usemod='im',\n",
        "                usepb=False):\n",
        "    \"\"\"\n",
        "    usemod = 'im' : use the imname image\n",
        "    usemod = 'cl' : use the clname component list\n",
        "    usepb = True : to include static primary beams in the simulation.\n",
        "    \"\"\"\n",
        "    ## Open an existing MS Frame\n",
        "    sm.openfromms(msname)\n",
        "\n",
        "    # Include primary Beams\n",
        "    if usepb==True:\n",
        "        sm.setvp( dovp = True, usedefaultvp = True )\n",
        "\n",
        "    if usemod=='im':\n",
        "        # Predict from a model image\n",
        "        sm.predict( imagename = imname, incremental=False)\n",
        "    else:\n",
        "        # Predict from a component list\n",
        "        sm.predict( complist = clname ,incremental=False)\n",
        "\n",
        "    # Close the tool\n",
        "    sm.close()"
      ],
      "execution_count": 15,
      "outputs": []
    },
    {
      "cell_type": "markdown",
      "metadata": {
        "id": "HCGLmV6B1zdO"
      },
      "source": [
        "__Use imager (or ft)__\n",
        "\n",
        "Visibilities are predicted and saved in the MODEL_DATA column of the MS. The values must then be copied to the DATA column. Use this approach when non-standard gridders are required, typically when instrument-dependent effects are included, or when Taylor-coefficient wideband image models are to be used for visibility prediction.\n",
        "\n",
        "__Step 1__ : Simulate visibilities into the MODEL column using tclean\n",
        "\n",
        "tclean can be used for model prediction with all gridders ('standard', 'wproject', 'mosaic', 'awproject'). Wide-field and full-beam effects along with parallactic angle rotation may be included with appropriate settings. tclean can predict model visibilities only from input images and not component lists."
      ]
    },
    {
      "cell_type": "code",
      "metadata": {
        "id": "US1TN7ha1zdO"
      },
      "source": [
        "## Use an input model sky image - widefield gridders\n",
        "def predictImager(msname='sim_data.ms',\n",
        "                  imname_true='sim_onepoint_true.im',\n",
        "                  gridder='standard'):\n",
        "    \n",
        "    os.system('rm -rf sim_predict.*')\n",
        "    \n",
        "    # Run tclean in predictModel mode. \n",
        "    tclean(vis=msname,\n",
        "       startmodel=imname_true,\n",
        "       imagename='sim_predict',\n",
        "       savemodel='modelcolumn',\n",
        "       imsize=256,\n",
        "       cell='8.0arcsec',\n",
        "       specmode='cube',\n",
        "       interpolation='nearest',\n",
        "       start='1.0GHz',\n",
        "       width='0.1GHz',\n",
        "       nchan=10,\n",
        "       reffreq='1.5Hz',\n",
        "       gridder=gridder,\n",
        "       normtype='flatsky',  # sky model is flat-sky\n",
        "       cfcache='sim_predict.cfcache',\n",
        "       wbawp=True,      # ensure that gridders='mosaic' and 'awproject' do freq-dep PBs\n",
        "       pblimit=0.05,    \n",
        "       conjbeams=False, \n",
        "       calcres=False, \n",
        "       calcpsf=True, \n",
        "       niter=0, \n",
        "       wprojplanes=1)"
      ],
      "execution_count": 32,
      "outputs": []
    },
    {
      "cell_type": "markdown",
      "metadata": {
        "id": "mjXIV3DQ1zdO"
      },
      "source": [
        "__Step 1__ : Simulate visibilities into the MODEL column using ft \n",
        "\n",
        "The 'ft' task implements the equivalent of gridder='standard' in tclean. Wide-field effects cannot be simulated. \n",
        "\n",
        "In addition, it offers the ability to predict visibilities from component lists (which tclean does not). "
      ]
    },
    {
      "cell_type": "code",
      "metadata": {
        "id": "EuFvbH3c1zdO"
      },
      "source": [
        "def predictFt(msname='sim_data.ms',\n",
        "    imname='sim_onepoint_true.im', \n",
        "    clname='sim_onepoint.cl',\n",
        "    usemod='im'):\n",
        "    \n",
        "    if usemod=='im':\n",
        "        ## Use an image name and the ft task\n",
        "        ft(vis = msname, model = imname,  incremental = False, usescratch=True) \n",
        "    else:\n",
        "        ## Use a component list and the ft task \n",
        "        ft(vis = msname,  complist = clname, incremental = False, usescratch=True)\n",
        "\n"
      ],
      "execution_count": 17,
      "outputs": []
    },
    {
      "cell_type": "markdown",
      "metadata": {
        "id": "u4ZR4V7M1zdO"
      },
      "source": [
        "__Step 2__ : Copy contents of the MODEL column to the DATA column"
      ]
    },
    {
      "cell_type": "code",
      "metadata": {
        "id": "JNu3wniI1zdO"
      },
      "source": [
        "### Copy visibilities from the MODEL column to the data columns\n",
        "### This is required when predicting using tclean or ft as they will only write to the MODEL column\n",
        "def copyModelToData(msname='sim_data.ms'):\n",
        "    tb.open(msname,nomodify=False);\n",
        "    moddata = tb.getcol(columnname='MODEL_DATA');\n",
        "    tb.putcol(columnname='DATA',value=moddata);\n",
        "    #tb.putcol(columnname='CORRECTED_DATA',value=moddata);\n",
        "    moddata.fill(0.0);\n",
        "    tb.putcol(columnname='MODEL_DATA',value=moddata);\n",
        "    tb.close();"
      ],
      "execution_count": 18,
      "outputs": []
    },
    {
      "cell_type": "markdown",
      "metadata": {
        "id": "yRZR0E5b1zdP"
      },
      "source": [
        "__Examples__\n",
        "\n",
        "If the above commands were run in order, the component list contains only a steep-spectrum continuum source, but the model image cube contains an additional spectral line in it. \n",
        "\n",
        "__Option 1__ : Predict using the simulator and a componentlist"
      ]
    },
    {
      "cell_type": "code",
      "metadata": {
        "scrolled": true,
        "colab": {
          "base_uri": "https://localhost:8080/",
          "height": 296
        },
        "id": "aU8n5EME1zdP",
        "outputId": "24bee75c-26ea-4537-bf24-68d97e2ce572"
      },
      "source": [
        "# Predict Visibilities\n",
        "predictSim(usemod='cl')\n",
        "\n",
        "# Plot\n",
        "plotData(myplot='data_spectrum')"
      ],
      "execution_count": 19,
      "outputs": [
        {
          "output_type": "display_data",
          "data": {
            "image/png": "[encoded data removed]",
            "text/plain": [
              "<Figure size 720x288 with 2 Axes>"
            ]
          },
          "metadata": {
            "tags": [],
            "needs_background": "light"
          }
        }
      ]
    },
    {
      "cell_type": "markdown",
      "metadata": {
        "id": "0PnukRFt1zdP"
      },
      "source": [
        "__Option 2__ : Predict using the simulator and an input image"
      ]
    },
    {
      "cell_type": "code",
      "metadata": {
        "colab": {
          "base_uri": "https://localhost:8080/",
          "height": 296
        },
        "id": "RL8yY1bF1zdP",
        "outputId": "eaa88e34-7951-405d-c03a-fa5e56211eb4"
      },
      "source": [
        "# Predict visibilities\n",
        "predictSim(usemod='im')\n",
        "\n",
        "# Plot\n",
        "plotData(myplot='data_spectrum')"
      ],
      "execution_count": 20,
      "outputs": [
        {
          "output_type": "display_data",
          "data": {
            "image/png": "[encoded data removed]",
            "text/plain": [
              "<Figure size 720x288 with 2 Axes>"
            ]
          },
          "metadata": {
            "tags": [],
            "needs_background": "light"
          }
        }
      ]
    },
    {
      "cell_type": "markdown",
      "metadata": {
        "id": "wvudzVA51zdP"
      },
      "source": [
        "__Option 3__ : Predict using tclean and a model image with gridder='standard'"
      ]
    },
    {
      "cell_type": "code",
      "metadata": {
        "colab": {
          "base_uri": "https://localhost:8080/",
          "height": 357
        },
        "id": "f7CejiPO1zdQ",
        "outputId": "bad92b35-6fb0-4b34-a123-812229f57ab3"
      },
      "source": [
        "predictImager()\n",
        "copyModelToData()\n",
        "plotData(myplot='data_spectrum')"
      ],
      "execution_count": 31,
      "outputs": [
        {
          "output_type": "error",
          "ename": "RuntimeError",
          "evalue": "ignored",
          "traceback": [
            "\u001b[0;31m---------------------------------------------------------------------------\u001b[0m",
            "\u001b[0;31mRuntimeError\u001b[0m                              Traceback (most recent call last)",
            "\u001b[0;32m<ipython-input-31-c9a592174953>\u001b[0m in \u001b[0;36m<module>\u001b[0;34m()\u001b[0m\n\u001b[0;32m----> 1\u001b[0;31m \u001b[0mpredictImager\u001b[0m\u001b[0;34m(\u001b[0m\u001b[0;34m)\u001b[0m\u001b[0;34m\u001b[0m\u001b[0;34m\u001b[0m\u001b[0m\n\u001b[0m\u001b[1;32m      2\u001b[0m \u001b[0mcopyModelToData\u001b[0m\u001b[0;34m(\u001b[0m\u001b[0;34m)\u001b[0m\u001b[0;34m\u001b[0m\u001b[0;34m\u001b[0m\u001b[0m\n\u001b[1;32m      3\u001b[0m \u001b[0mplotData\u001b[0m\u001b[0;34m(\u001b[0m\u001b[0mmyplot\u001b[0m\u001b[0;34m=\u001b[0m\u001b[0;34m'data_spectrum'\u001b[0m\u001b[0;34m)\u001b[0m\u001b[0;34m\u001b[0m\u001b[0;34m\u001b[0m\u001b[0m\n",
            "\u001b[0;32m<ipython-input-30-70c3e6bab2fa>\u001b[0m in \u001b[0;36mpredictImager\u001b[0;34m(msname, imname_true, gridder)\u001b[0m\n\u001b[1;32m     30\u001b[0m        \u001b[0mwprojplanes\u001b[0m\u001b[0;34m=\u001b[0m\u001b[0;36m1\u001b[0m\u001b[0;34m,\u001b[0m\u001b[0;34m\u001b[0m\u001b[0;34m\u001b[0m\u001b[0m\n\u001b[1;32m     31\u001b[0m        \u001b[0minteractive\u001b[0m\u001b[0;34m=\u001b[0m\u001b[0;32mFalse\u001b[0m\u001b[0;34m,\u001b[0m\u001b[0;34m\u001b[0m\u001b[0;34m\u001b[0m\u001b[0m\n\u001b[0;32m---> 32\u001b[0;31m        usemask='auto-multithresh')\n\u001b[0m",
            "\u001b[0;32m/usr/local/lib/python3.7/dist-packages/casatasks/tclean.py\u001b[0m in \u001b[0;36m__call__\u001b[0;34m(self, vis, selectdata, field, spw, timerange, uvrange, antenna, scan, observation, intent, datacolumn, imagename, imsize, cell, phasecenter, stokes, projection, startmodel, specmode, reffreq, nchan, start, width, outframe, veltype, restfreq, interpolation, perchanweightdensity, gridder, facets, psfphasecenter, chanchunks, wprojplanes, vptable, mosweight, aterm, psterm, wbawp, conjbeams, cfcache, usepointing, computepastep, rotatepastep, pointingoffsetsigdev, pblimit, normtype, deconvolver, scales, nterms, smallscalebias, restoration, restoringbeam, pbcor, outlierfile, weighting, robust, noise, npixels, uvtaper, niter, gain, threshold, nsigma, cycleniter, cyclefactor, minpsffraction, maxpsffraction, interactive, usemask, mask, pbmask, sidelobethreshold, noisethreshold, lownoisethreshold, negativethreshold, smoothfactor, minbeamfrac, cutthreshold, growiterations, dogrowprune, minpercentchange, verbose, fastnoise, restart, savemodel, calcres, calcpsf, psfcutoff, parallel)\u001b[0m\n\u001b[1;32m   1673\u001b[0m         \u001b[0mtask_result\u001b[0m \u001b[0;34m=\u001b[0m \u001b[0;32mNone\u001b[0m\u001b[0;34m\u001b[0m\u001b[0;34m\u001b[0m\u001b[0m\n\u001b[1;32m   1674\u001b[0m         \u001b[0;32mtry\u001b[0m\u001b[0;34m:\u001b[0m\u001b[0;34m\u001b[0m\u001b[0;34m\u001b[0m\u001b[0m\n\u001b[0;32m-> 1675\u001b[0;31m             \u001b[0mtask_result\u001b[0m \u001b[0;34m=\u001b[0m \u001b[0m_tclean_t\u001b[0m\u001b[0;34m(\u001b[0m \u001b[0m_pc\u001b[0m\u001b[0;34m.\u001b[0m\u001b[0mdocument\u001b[0m\u001b[0;34m[\u001b[0m\u001b[0;34m'vis'\u001b[0m\u001b[0;34m]\u001b[0m\u001b[0;34m,\u001b[0m \u001b[0m_pc\u001b[0m\u001b[0;34m.\u001b[0m\u001b[0mdocument\u001b[0m\u001b[0;34m[\u001b[0m\u001b[0;34m'selectdata'\u001b[0m\u001b[0;34m]\u001b[0m\u001b[0;34m,\u001b[0m \u001b[0m_pc\u001b[0m\u001b[0;34m.\u001b[0m\u001b[0mdocument\u001b[0m\u001b[0;34m[\u001b[0m\u001b[0;34m'field'\u001b[0m\u001b[0;34m]\u001b[0m\u001b[0;34m,\u001b[0m \u001b[0m_pc\u001b[0m\u001b[0;34m.\u001b[0m\u001b[0mdocument\u001b[0m\u001b[0;34m[\u001b[0m\u001b[0;34m'spw'\u001b[0m\u001b[0;34m]\u001b[0m\u001b[0;34m,\u001b[0m \u001b[0m_pc\u001b[0m\u001b[0;34m.\u001b[0m\u001b[0mdocument\u001b[0m\u001b[0;34m[\u001b[0m\u001b[0;34m'timerange'\u001b[0m\u001b[0;34m]\u001b[0m\u001b[0;34m,\u001b[0m \u001b[0m_pc\u001b[0m\u001b[0;34m.\u001b[0m\u001b[0mdocument\u001b[0m\u001b[0;34m[\u001b[0m\u001b[0;34m'uvrange'\u001b[0m\u001b[0;34m]\u001b[0m\u001b[0;34m,\u001b[0m \u001b[0m_pc\u001b[0m\u001b[0;34m.\u001b[0m\u001b[0mdocument\u001b[0m\u001b[0;34m[\u001b[0m\u001b[0;34m'antenna'\u001b[0m\u001b[0;34m]\u001b[0m\u001b[0;34m,\u001b[0m \u001b[0m_pc\u001b[0m\u001b[0;34m.\u001b[0m\u001b[0mdocument\u001b[0m\u001b[0;34m[\u001b[0m\u001b[0;34m'scan'\u001b[0m\u001b[0;34m]\u001b[0m\u001b[0;34m,\u001b[0m \u001b[0m_pc\u001b[0m\u001b[0;34m.\u001b[0m\u001b[0mdocument\u001b[0m\u001b[0;34m[\u001b[0m\u001b[0;34m'observation'\u001b[0m\u001b[0;34m]\u001b[0m\u001b[0;34m,\u001b[0m \u001b[0m_pc\u001b[0m\u001b[0;34m.\u001b[0m\u001b[0mdocument\u001b[0m\u001b[0;34m[\u001b[0m\u001b[0;34m'intent'\u001b[0m\u001b[0;34m]\u001b[0m\u001b[0;34m,\u001b[0m \u001b[0m_pc\u001b[0m\u001b[0;34m.\u001b[0m\u001b[0mdocument\u001b[0m\u001b[0;34m[\u001b[0m\u001b[0;34m'datacolumn'\u001b[0m\u001b[0;34m]\u001b[0m\u001b[0;34m,\u001b[0m \u001b[0m_pc\u001b[0m\u001b[0;34m.\u001b[0m\u001b[0mdocument\u001b[0m\u001b[0;34m[\u001b[0m\u001b[0;34m'imagename'\u001b[0m\u001b[0;34m]\u001b[0m\u001b[0;34m,\u001b[0m \u001b[0m_pc\u001b[0m\u001b[0;34m.\u001b[0m\u001b[0mdocument\u001b[0m\u001b[0;34m[\u001b[0m\u001b[0;34m'imsize'\u001b[0m\u001b[0;34m]\u001b[0m\u001b[0;34m,\u001b[0m \u001b[0m_pc\u001b[0m\u001b[0;34m.\u001b[0m\u001b[0mdocument\u001b[0m\u001b[0;34m[\u001b[0m\u001b[0;34m'cell'\u001b[0m\u001b[0;34m]\u001b[0m\u001b[0;34m,\u001b[0m \u001b[0m_pc\u001b[0m\u001b[0;34m.\u001b[0m\u001b[0mdocument\u001b[0m\u001b[0;34m[\u001b[0m\u001b[0;34m'p...\n\u001b[0m\u001b[1;32m   1676\u001b[0m         \u001b[0;32mexcept\u001b[0m \u001b[0mException\u001b[0m \u001b[0;32mas\u001b[0m \u001b[0mexc\u001b[0m\u001b[0;34m:\u001b[0m\u001b[0;34m\u001b[0m\u001b[0;34m\u001b[0m\u001b[0m\n\u001b[1;32m   1677\u001b[0m             \u001b[0m_except_log\u001b[0m\u001b[0;34m(\u001b[0m\u001b[0;34m'tclean'\u001b[0m\u001b[0;34m,\u001b[0m \u001b[0mexc\u001b[0m\u001b[0;34m)\u001b[0m\u001b[0;34m\u001b[0m\u001b[0;34m\u001b[0m\u001b[0m\n",
            "\u001b[0;32m/usr/local/lib/python3.7/dist-packages/casatasks/private/task_tclean.py\u001b[0m in \u001b[0;36mtclean\u001b[0;34m(vis, selectdata, field, spw, timerange, uvrange, antenna, scan, observation, intent, datacolumn, imagename, imsize, cell, phasecenter, stokes, projection, startmodel, specmode, reffreq, nchan, start, width, outframe, veltype, restfreq, interpolation, perchanweightdensity, gridder, facets, psfphasecenter, chanchunks, wprojplanes, vptable, mosweight, aterm, psterm, wbawp, conjbeams, cfcache, usepointing, computepastep, rotatepastep, pointingoffsetsigdev, pblimit, normtype, deconvolver, scales, nterms, smallscalebias, restoration, restoringbeam, pbcor, outlierfile, weighting, robust, noise, npixels, uvtaper, niter, gain, threshold, nsigma, cycleniter, cyclefactor, minpsffraction, maxpsffraction, interactive, usemask, mask, pbmask, sidelobethreshold, noisethreshold, lownoisethreshold, negativethreshold, smoothfactor, minbeamfrac, cutthreshold, growiterations, dogrowprune, minpercentchange, verbose, fastnoise, restart, savemodel, calcres, calcpsf, psfcutoff, parallel)\u001b[0m\n\u001b[1;32m    324\u001b[0m         \u001b[0;31m## Init major cycle elements\u001b[0m\u001b[0;34m\u001b[0m\u001b[0;34m\u001b[0m\u001b[0;34m\u001b[0m\u001b[0m\n\u001b[1;32m    325\u001b[0m         \u001b[0mt0\u001b[0m\u001b[0;34m=\u001b[0m\u001b[0mtime\u001b[0m\u001b[0;34m.\u001b[0m\u001b[0mtime\u001b[0m\u001b[0;34m(\u001b[0m\u001b[0;34m)\u001b[0m\u001b[0;34m;\u001b[0m\u001b[0;34m\u001b[0m\u001b[0;34m\u001b[0m\u001b[0m\n\u001b[0;32m--> 326\u001b[0;31m         \u001b[0mimager\u001b[0m\u001b[0;34m.\u001b[0m\u001b[0minitializeImagers\u001b[0m\u001b[0;34m(\u001b[0m\u001b[0;34m)\u001b[0m\u001b[0;34m\u001b[0m\u001b[0;34m\u001b[0m\u001b[0m\n\u001b[0m\u001b[1;32m    327\u001b[0m \u001b[0;34m\u001b[0m\u001b[0m\n\u001b[1;32m    328\u001b[0m         \u001b[0;31m# Construct the CFCache for AWProject-class of FTMs.  For\u001b[0m\u001b[0;34m\u001b[0m\u001b[0;34m\u001b[0m\u001b[0;34m\u001b[0m\u001b[0m\n",
            "\u001b[0;32m/usr/local/lib/python3.7/dist-packages/casatasks/private/imagerhelpers/imager_base.py\u001b[0m in \u001b[0;36minitializeImagers\u001b[0;34m(self)\u001b[0m\n\u001b[1;32m    118\u001b[0m         \u001b[0;32mfor\u001b[0m \u001b[0mfld\u001b[0m \u001b[0;32min\u001b[0m \u001b[0mrange\u001b[0m\u001b[0;34m(\u001b[0m\u001b[0;36m0\u001b[0m\u001b[0;34m,\u001b[0m\u001b[0mself\u001b[0m\u001b[0;34m.\u001b[0m\u001b[0mNF\u001b[0m\u001b[0;34m)\u001b[0m\u001b[0;34m:\u001b[0m\u001b[0;34m\u001b[0m\u001b[0;34m\u001b[0m\u001b[0m\n\u001b[1;32m    119\u001b[0m             \u001b[0;31m# casalog.post(\"self.allimpars=\",self.allimpars,\"\\n\")\u001b[0m\u001b[0;34m\u001b[0m\u001b[0;34m\u001b[0m\u001b[0;34m\u001b[0m\u001b[0m\n\u001b[0;32m--> 120\u001b[0;31m             \u001b[0mself\u001b[0m\u001b[0;34m.\u001b[0m\u001b[0mSItool\u001b[0m\u001b[0;34m.\u001b[0m\u001b[0mdefineimage\u001b[0m\u001b[0;34m(\u001b[0m \u001b[0mself\u001b[0m\u001b[0;34m.\u001b[0m\u001b[0mallimpars\u001b[0m\u001b[0;34m[\u001b[0m\u001b[0mstr\u001b[0m\u001b[0;34m(\u001b[0m\u001b[0mfld\u001b[0m\u001b[0;34m)\u001b[0m\u001b[0;34m]\u001b[0m \u001b[0;34m,\u001b[0m \u001b[0mself\u001b[0m\u001b[0;34m.\u001b[0m\u001b[0mallgridpars\u001b[0m\u001b[0;34m[\u001b[0m\u001b[0mstr\u001b[0m\u001b[0;34m(\u001b[0m\u001b[0mfld\u001b[0m\u001b[0;34m)\u001b[0m\u001b[0;34m]\u001b[0m \u001b[0;34m)\u001b[0m\u001b[0;34m\u001b[0m\u001b[0;34m\u001b[0m\u001b[0m\n\u001b[0m\u001b[1;32m    121\u001b[0m \u001b[0;34m\u001b[0m\u001b[0m\n\u001b[1;32m    122\u001b[0m         \u001b[0;31m###for cases when synthesisnormalizer is setup in c++ send the normalizer info\u001b[0m\u001b[0;34m\u001b[0m\u001b[0;34m\u001b[0m\u001b[0;34m\u001b[0m\u001b[0m\n",
            "\u001b[0;32m/usr/local/lib/python3.7/dist-packages/casatools/synthesisimager.py\u001b[0m in \u001b[0;36mdefineimage\u001b[0;34m(self, impars, gridpars)\u001b[0m\n\u001b[1;32m     41\u001b[0m         \"\"\"\n\u001b[1;32m     42\u001b[0m         \"\"\"\n\u001b[0;32m---> 43\u001b[0;31m         \u001b[0;32mreturn\u001b[0m \u001b[0mself\u001b[0m\u001b[0;34m.\u001b[0m\u001b[0m_swigobj\u001b[0m\u001b[0;34m.\u001b[0m\u001b[0mdefineimage\u001b[0m\u001b[0;34m(\u001b[0m\u001b[0m_dict_ec\u001b[0m\u001b[0;34m(\u001b[0m\u001b[0mimpars\u001b[0m\u001b[0;34m)\u001b[0m\u001b[0;34m,\u001b[0m \u001b[0m_dict_ec\u001b[0m\u001b[0;34m(\u001b[0m\u001b[0mgridpars\u001b[0m\u001b[0;34m)\u001b[0m\u001b[0;34m)\u001b[0m\u001b[0;34m\u001b[0m\u001b[0;34m\u001b[0m\u001b[0m\n\u001b[0m\u001b[1;32m     44\u001b[0m \u001b[0;34m\u001b[0m\u001b[0m\n\u001b[1;32m     45\u001b[0m     \u001b[0;32mdef\u001b[0m \u001b[0mnormalizerinfo\u001b[0m\u001b[0;34m(\u001b[0m\u001b[0mself\u001b[0m\u001b[0;34m,\u001b[0m \u001b[0mnormpars\u001b[0m\u001b[0;34m=\u001b[0m\u001b[0;34m{\u001b[0m \u001b[0;34m}\u001b[0m\u001b[0;34m)\u001b[0m\u001b[0;34m:\u001b[0m\u001b[0;34m\u001b[0m\u001b[0;34m\u001b[0m\u001b[0m\n",
            "\u001b[0;32m/usr/local/lib/python3.7/dist-packages/casatools/__casac__/synthesisimager.py\u001b[0m in \u001b[0;36mdefineimage\u001b[0;34m(self, *args, **kwargs)\u001b[0m\n\u001b[1;32m    162\u001b[0m \u001b[0;34m\u001b[0m\u001b[0m\n\u001b[1;32m    163\u001b[0m         \"\"\"\n\u001b[0;32m--> 164\u001b[0;31m         \u001b[0;32mreturn\u001b[0m \u001b[0m_synthesisimager\u001b[0m\u001b[0;34m.\u001b[0m\u001b[0msynthesisimager_defineimage\u001b[0m\u001b[0;34m(\u001b[0m\u001b[0mself\u001b[0m\u001b[0;34m,\u001b[0m \u001b[0;34m*\u001b[0m\u001b[0margs\u001b[0m\u001b[0;34m,\u001b[0m \u001b[0;34m**\u001b[0m\u001b[0mkwargs\u001b[0m\u001b[0;34m)\u001b[0m\u001b[0;34m\u001b[0m\u001b[0;34m\u001b[0m\u001b[0m\n\u001b[0m\u001b[1;32m    165\u001b[0m \u001b[0;34m\u001b[0m\u001b[0m\n\u001b[1;32m    166\u001b[0m \u001b[0;34m\u001b[0m\u001b[0m\n",
            "\u001b[0;31mRuntimeError\u001b[0m: 2021-04-20 15:35:50\tSEVERE\tSynthesisImagerVi2::defineImage (file casa-source/code/synthesis/ImagerObjects/SynthesisImagerVi2.cc, line 594)\tError in building Coordinate System and Image Shape : ColumnSet::doLock: table /content/sim_data.ms should be locked when using UserLocking"
          ]
        }
      ]
    },
    {
      "cell_type": "markdown",
      "metadata": {
        "id": "I-hqwGqe1zdQ"
      },
      "source": [
        "__Option 4__ : Predict using ft and a component list"
      ]
    },
    {
      "cell_type": "code",
      "metadata": {
        "colab": {
          "base_uri": "https://localhost:8080/",
          "height": 296
        },
        "id": "rBLAJPus1zdQ",
        "outputId": "b3190ca4-aa98-45ed-d486-eb0bafbc5d7b"
      },
      "source": [
        "# Predict using ft\n",
        "predictFt(usemod='cl')\n",
        "copyModelToData()\n",
        "\n",
        "# Plot\n",
        "plotData(myplot='data_spectrum')"
      ],
      "execution_count": 22,
      "outputs": [
        {
          "output_type": "display_data",
          "data": {
            "image/png": "[encoded data removed]",
            "text/plain": [
              "<Figure size 720x288 with 2 Axes>"
            ]
          },
          "metadata": {
            "tags": [],
            "needs_background": "light"
          }
        }
      ]
    },
    {
      "cell_type": "markdown",
      "metadata": {
        "id": "tKWXmDYL1zdQ"
      },
      "source": [
        "__Option 5__ : Predict using ft and an input image"
      ]
    },
    {
      "cell_type": "code",
      "metadata": {
        "colab": {
          "base_uri": "https://localhost:8080/",
          "height": 296
        },
        "id": "S8Pm794g1zdR",
        "outputId": "2effc75f-2d6e-4220-d60b-38d2526f83a0"
      },
      "source": [
        "# Predict using ft\n",
        "predictFt(usemod='im')\n",
        "copyModelToData()\n",
        "\n",
        "# Plot\n",
        "plotData(myplot='data_spectrum')"
      ],
      "execution_count": 23,
      "outputs": [
        {
          "output_type": "display_data",
          "data": {
            "image/png": "[encoded data removed]",
            "text/plain": [
              "<Figure size 720x288 with 2 Axes>"
            ]
          },
          "metadata": {
            "tags": [],
            "needs_background": "light"
          }
        }
      ]
    },
    {
      "cell_type": "markdown",
      "metadata": {
        "id": "O0CnHaJE1zdR"
      },
      "source": [
        "## Add Noise and other errors to the simulated visibilities\n",
        "\n",
        "__Methods__\n",
        "\n",
        "__Add Visibility noise__"
      ]
    },
    {
      "cell_type": "code",
      "metadata": {
        "id": "BBcmgzz01zdR"
      },
      "source": [
        "## Add Gaussian random noise \n",
        "def addNoiseSim(msname='sim_data.ms'):\n",
        "    sm.openfromms(msname);\n",
        "    sm.setseed(50)\n",
        "    sm.setnoise(mode='simplenoise',simplenoise='0.05Jy');\n",
        "    sm.corrupt();   \n",
        "    sm.close();"
      ],
      "execution_count": 24,
      "outputs": []
    },
    {
      "cell_type": "markdown",
      "metadata": {
        "id": "WHF6RpFF1zdR"
      },
      "source": [
        "__Add random numbers__"
      ]
    },
    {
      "cell_type": "code",
      "metadata": {
        "id": "u2PR78ms1zdR"
      },
      "source": [
        "def addNoiseRand(msname = 'sim_data.ms'):\n",
        "    ## Add noise and other variations\n",
        "    tb.open( msname, nomodify=False )\n",
        "    dat = tb.getcol('DATA')\n",
        "    \n",
        "    ## Add noise to the first few channels only. ( Ideally, add separately to real and imag parts... )\n",
        "    from numpy import random\n",
        "    dat[:,0:4,:] = dat[:,0:4,:] + 0.5 * random.random( dat[:,0:4,:].shape )\n",
        "\n",
        "    ## Add some RFI in a few rows and channels.... \n",
        "    #dat[ :, :, 1 ] = dat[ :, :, 1] + 2.0\n",
        "    \n",
        "    tb.putcol( 'DATA', dat )\n",
        "    tb.close()"
      ],
      "execution_count": 25,
      "outputs": []
    },
    {
      "cell_type": "markdown",
      "metadata": {
        "id": "zfPZuaU51zdS"
      },
      "source": [
        "__Add antenna gain errors__"
      ]
    },
    {
      "cell_type": "code",
      "metadata": {
        "id": "nOzNAc571zdS"
      },
      "source": [
        "## Add antenna gain errors.\n",
        "def addGainErrors(msname='sim_data.ms'):\n",
        "    sm.openfromms(msname);\n",
        "    sm.setseed(50)\n",
        "    sm.setgain(mode='fbm',amplitude=0.1)\n",
        "    sm.corrupt()\n",
        "    sm.close();\n",
        "\n",
        "## Note : This step sometimes produces NaN/Inf in the visibilities and plotData() will complain ! If so, just run it again. I thought that setting the seed will control this, but apparently not. "
      ],
      "execution_count": 26,
      "outputs": []
    },
    {
      "cell_type": "markdown",
      "metadata": {
        "id": "4v9RE0tT1zdS"
      },
      "source": [
        "__Examples__\n",
        "\n",
        "Use the simulator to add Gaussian random noise (1 Jy rms noise)"
      ]
    },
    {
      "cell_type": "code",
      "metadata": {
        "colab": {
          "base_uri": "https://localhost:8080/",
          "height": 296
        },
        "id": "s0olTHcm1zdS",
        "outputId": "b0510a9c-20ad-453b-faf1-bd6ff437e7f5"
      },
      "source": [
        "addNoiseSim()\n",
        "plotData(myplot='data_spectrum')"
      ],
      "execution_count": 27,
      "outputs": [
        {
          "output_type": "display_data",
          "data": {
            "image/png": "[encoded data removed]",
            "text/plain": [
              "<Figure size 720x288 with 2 Axes>"
            ]
          },
          "metadata": {
            "tags": [],
            "needs_background": "light"
          }
        }
      ]
    },
    {
      "cell_type": "markdown",
      "metadata": {
        "id": "c4-dMvRo1zdS"
      },
      "source": [
        "## A few Imaging and Calibration examples\n",
        "\n",
        "### Image one channel"
      ]
    },
    {
      "cell_type": "code",
      "metadata": {
        "colab": {
          "base_uri": "https://localhost:8080/",
          "height": 357
        },
        "id": "Vzj2ZQV61zdT",
        "outputId": "463e6ca4-b038-486b-f064-28d576623ba1"
      },
      "source": [
        "# Call tclean\n",
        "os.system('rm -rf try0.*')\n",
        "\n",
        "tclean(vis='sim_data.ms', \n",
        "       imagename='try0',\n",
        "       datacolumn='data',\n",
        "       spw='0:5',          # pick channel 5 and image it\n",
        "       imsize=300,\n",
        "       cell='8.0arcsec',\n",
        "       specmode='mfs',\n",
        "       gridder='standard',\n",
        "       niter=200,\n",
        "       gain=0.3,\n",
        "       interactive=False,\n",
        "       usemask='auto-multithresh')\n"
      ],
      "execution_count": 36,
      "outputs": [
        {
          "output_type": "error",
          "ename": "RuntimeError",
          "evalue": "ignored",
          "traceback": [
            "\u001b[0;31m---------------------------------------------------------------------------\u001b[0m",
            "\u001b[0;31mRuntimeError\u001b[0m                              Traceback (most recent call last)",
            "\u001b[0;32m<ipython-input-36-7ea2f2247a3a>\u001b[0m in \u001b[0;36m<module>\u001b[0;34m()\u001b[0m\n\u001b[1;32m     13\u001b[0m        \u001b[0mgain\u001b[0m\u001b[0;34m=\u001b[0m\u001b[0;36m0.3\u001b[0m\u001b[0;34m,\u001b[0m\u001b[0;34m\u001b[0m\u001b[0;34m\u001b[0m\u001b[0m\n\u001b[1;32m     14\u001b[0m        \u001b[0minteractive\u001b[0m\u001b[0;34m=\u001b[0m\u001b[0;32mFalse\u001b[0m\u001b[0;34m,\u001b[0m\u001b[0;34m\u001b[0m\u001b[0;34m\u001b[0m\u001b[0m\n\u001b[0;32m---> 15\u001b[0;31m        usemask='auto-multithresh')\n\u001b[0m",
            "\u001b[0;32m/usr/local/lib/python3.7/dist-packages/casatasks/tclean.py\u001b[0m in \u001b[0;36m__call__\u001b[0;34m(self, vis, selectdata, field, spw, timerange, uvrange, antenna, scan, observation, intent, datacolumn, imagename, imsize, cell, phasecenter, stokes, projection, startmodel, specmode, reffreq, nchan, start, width, outframe, veltype, restfreq, interpolation, perchanweightdensity, gridder, facets, psfphasecenter, chanchunks, wprojplanes, vptable, mosweight, aterm, psterm, wbawp, conjbeams, cfcache, usepointing, computepastep, rotatepastep, pointingoffsetsigdev, pblimit, normtype, deconvolver, scales, nterms, smallscalebias, restoration, restoringbeam, pbcor, outlierfile, weighting, robust, noise, npixels, uvtaper, niter, gain, threshold, nsigma, cycleniter, cyclefactor, minpsffraction, maxpsffraction, interactive, usemask, mask, pbmask, sidelobethreshold, noisethreshold, lownoisethreshold, negativethreshold, smoothfactor, minbeamfrac, cutthreshold, growiterations, dogrowprune, minpercentchange, verbose, fastnoise, restart, savemodel, calcres, calcpsf, psfcutoff, parallel)\u001b[0m\n\u001b[1;32m   1673\u001b[0m         \u001b[0mtask_result\u001b[0m \u001b[0;34m=\u001b[0m \u001b[0;32mNone\u001b[0m\u001b[0;34m\u001b[0m\u001b[0;34m\u001b[0m\u001b[0m\n\u001b[1;32m   1674\u001b[0m         \u001b[0;32mtry\u001b[0m\u001b[0;34m:\u001b[0m\u001b[0;34m\u001b[0m\u001b[0;34m\u001b[0m\u001b[0m\n\u001b[0;32m-> 1675\u001b[0;31m             \u001b[0mtask_result\u001b[0m \u001b[0;34m=\u001b[0m \u001b[0m_tclean_t\u001b[0m\u001b[0;34m(\u001b[0m \u001b[0m_pc\u001b[0m\u001b[0;34m.\u001b[0m\u001b[0mdocument\u001b[0m\u001b[0;34m[\u001b[0m\u001b[0;34m'vis'\u001b[0m\u001b[0;34m]\u001b[0m\u001b[0;34m,\u001b[0m \u001b[0m_pc\u001b[0m\u001b[0;34m.\u001b[0m\u001b[0mdocument\u001b[0m\u001b[0;34m[\u001b[0m\u001b[0;34m'selectdata'\u001b[0m\u001b[0;34m]\u001b[0m\u001b[0;34m,\u001b[0m \u001b[0m_pc\u001b[0m\u001b[0;34m.\u001b[0m\u001b[0mdocument\u001b[0m\u001b[0;34m[\u001b[0m\u001b[0;34m'field'\u001b[0m\u001b[0;34m]\u001b[0m\u001b[0;34m,\u001b[0m \u001b[0m_pc\u001b[0m\u001b[0;34m.\u001b[0m\u001b[0mdocument\u001b[0m\u001b[0;34m[\u001b[0m\u001b[0;34m'spw'\u001b[0m\u001b[0;34m]\u001b[0m\u001b[0;34m,\u001b[0m \u001b[0m_pc\u001b[0m\u001b[0;34m.\u001b[0m\u001b[0mdocument\u001b[0m\u001b[0;34m[\u001b[0m\u001b[0;34m'timerange'\u001b[0m\u001b[0;34m]\u001b[0m\u001b[0;34m,\u001b[0m \u001b[0m_pc\u001b[0m\u001b[0;34m.\u001b[0m\u001b[0mdocument\u001b[0m\u001b[0;34m[\u001b[0m\u001b[0;34m'uvrange'\u001b[0m\u001b[0;34m]\u001b[0m\u001b[0;34m,\u001b[0m \u001b[0m_pc\u001b[0m\u001b[0;34m.\u001b[0m\u001b[0mdocument\u001b[0m\u001b[0;34m[\u001b[0m\u001b[0;34m'antenna'\u001b[0m\u001b[0;34m]\u001b[0m\u001b[0;34m,\u001b[0m \u001b[0m_pc\u001b[0m\u001b[0;34m.\u001b[0m\u001b[0mdocument\u001b[0m\u001b[0;34m[\u001b[0m\u001b[0;34m'scan'\u001b[0m\u001b[0;34m]\u001b[0m\u001b[0;34m,\u001b[0m \u001b[0m_pc\u001b[0m\u001b[0;34m.\u001b[0m\u001b[0mdocument\u001b[0m\u001b[0;34m[\u001b[0m\u001b[0;34m'observation'\u001b[0m\u001b[0;34m]\u001b[0m\u001b[0;34m,\u001b[0m \u001b[0m_pc\u001b[0m\u001b[0;34m.\u001b[0m\u001b[0mdocument\u001b[0m\u001b[0;34m[\u001b[0m\u001b[0;34m'intent'\u001b[0m\u001b[0;34m]\u001b[0m\u001b[0;34m,\u001b[0m \u001b[0m_pc\u001b[0m\u001b[0;34m.\u001b[0m\u001b[0mdocument\u001b[0m\u001b[0;34m[\u001b[0m\u001b[0;34m'datacolumn'\u001b[0m\u001b[0;34m]\u001b[0m\u001b[0;34m,\u001b[0m \u001b[0m_pc\u001b[0m\u001b[0;34m.\u001b[0m\u001b[0mdocument\u001b[0m\u001b[0;34m[\u001b[0m\u001b[0;34m'imagename'\u001b[0m\u001b[0;34m]\u001b[0m\u001b[0;34m,\u001b[0m \u001b[0m_pc\u001b[0m\u001b[0;34m.\u001b[0m\u001b[0mdocument\u001b[0m\u001b[0;34m[\u001b[0m\u001b[0;34m'imsize'\u001b[0m\u001b[0;34m]\u001b[0m\u001b[0;34m,\u001b[0m \u001b[0m_pc\u001b[0m\u001b[0;34m.\u001b[0m\u001b[0mdocument\u001b[0m\u001b[0;34m[\u001b[0m\u001b[0;34m'cell'\u001b[0m\u001b[0;34m]\u001b[0m\u001b[0;34m,\u001b[0m \u001b[0m_pc\u001b[0m\u001b[0;34m.\u001b[0m\u001b[0mdocument\u001b[0m\u001b[0;34m[\u001b[0m\u001b[0;34m'p...\n\u001b[0m\u001b[1;32m   1676\u001b[0m         \u001b[0;32mexcept\u001b[0m \u001b[0mException\u001b[0m \u001b[0;32mas\u001b[0m \u001b[0mexc\u001b[0m\u001b[0;34m:\u001b[0m\u001b[0;34m\u001b[0m\u001b[0;34m\u001b[0m\u001b[0m\n\u001b[1;32m   1677\u001b[0m             \u001b[0m_except_log\u001b[0m\u001b[0;34m(\u001b[0m\u001b[0;34m'tclean'\u001b[0m\u001b[0;34m,\u001b[0m \u001b[0mexc\u001b[0m\u001b[0;34m)\u001b[0m\u001b[0;34m\u001b[0m\u001b[0;34m\u001b[0m\u001b[0m\n",
            "\u001b[0;32m/usr/local/lib/python3.7/dist-packages/casatasks/private/task_tclean.py\u001b[0m in \u001b[0;36mtclean\u001b[0;34m(vis, selectdata, field, spw, timerange, uvrange, antenna, scan, observation, intent, datacolumn, imagename, imsize, cell, phasecenter, stokes, projection, startmodel, specmode, reffreq, nchan, start, width, outframe, veltype, restfreq, interpolation, perchanweightdensity, gridder, facets, psfphasecenter, chanchunks, wprojplanes, vptable, mosweight, aterm, psterm, wbawp, conjbeams, cfcache, usepointing, computepastep, rotatepastep, pointingoffsetsigdev, pblimit, normtype, deconvolver, scales, nterms, smallscalebias, restoration, restoringbeam, pbcor, outlierfile, weighting, robust, noise, npixels, uvtaper, niter, gain, threshold, nsigma, cycleniter, cyclefactor, minpsffraction, maxpsffraction, interactive, usemask, mask, pbmask, sidelobethreshold, noisethreshold, lownoisethreshold, negativethreshold, smoothfactor, minbeamfrac, cutthreshold, growiterations, dogrowprune, minpercentchange, verbose, fastnoise, restart, savemodel, calcres, calcpsf, psfcutoff, parallel)\u001b[0m\n\u001b[1;32m    324\u001b[0m         \u001b[0;31m## Init major cycle elements\u001b[0m\u001b[0;34m\u001b[0m\u001b[0;34m\u001b[0m\u001b[0;34m\u001b[0m\u001b[0m\n\u001b[1;32m    325\u001b[0m         \u001b[0mt0\u001b[0m\u001b[0;34m=\u001b[0m\u001b[0mtime\u001b[0m\u001b[0;34m.\u001b[0m\u001b[0mtime\u001b[0m\u001b[0;34m(\u001b[0m\u001b[0;34m)\u001b[0m\u001b[0;34m;\u001b[0m\u001b[0;34m\u001b[0m\u001b[0;34m\u001b[0m\u001b[0m\n\u001b[0;32m--> 326\u001b[0;31m         \u001b[0mimager\u001b[0m\u001b[0;34m.\u001b[0m\u001b[0minitializeImagers\u001b[0m\u001b[0;34m(\u001b[0m\u001b[0;34m)\u001b[0m\u001b[0;34m\u001b[0m\u001b[0;34m\u001b[0m\u001b[0m\n\u001b[0m\u001b[1;32m    327\u001b[0m \u001b[0;34m\u001b[0m\u001b[0m\n\u001b[1;32m    328\u001b[0m         \u001b[0;31m# Construct the CFCache for AWProject-class of FTMs.  For\u001b[0m\u001b[0;34m\u001b[0m\u001b[0;34m\u001b[0m\u001b[0;34m\u001b[0m\u001b[0m\n",
            "\u001b[0;32m/usr/local/lib/python3.7/dist-packages/casatasks/private/imagerhelpers/imager_base.py\u001b[0m in \u001b[0;36minitializeImagers\u001b[0;34m(self)\u001b[0m\n\u001b[1;32m    118\u001b[0m         \u001b[0;32mfor\u001b[0m \u001b[0mfld\u001b[0m \u001b[0;32min\u001b[0m \u001b[0mrange\u001b[0m\u001b[0;34m(\u001b[0m\u001b[0;36m0\u001b[0m\u001b[0;34m,\u001b[0m\u001b[0mself\u001b[0m\u001b[0;34m.\u001b[0m\u001b[0mNF\u001b[0m\u001b[0;34m)\u001b[0m\u001b[0;34m:\u001b[0m\u001b[0;34m\u001b[0m\u001b[0;34m\u001b[0m\u001b[0m\n\u001b[1;32m    119\u001b[0m             \u001b[0;31m# casalog.post(\"self.allimpars=\",self.allimpars,\"\\n\")\u001b[0m\u001b[0;34m\u001b[0m\u001b[0;34m\u001b[0m\u001b[0;34m\u001b[0m\u001b[0m\n\u001b[0;32m--> 120\u001b[0;31m             \u001b[0mself\u001b[0m\u001b[0;34m.\u001b[0m\u001b[0mSItool\u001b[0m\u001b[0;34m.\u001b[0m\u001b[0mdefineimage\u001b[0m\u001b[0;34m(\u001b[0m \u001b[0mself\u001b[0m\u001b[0;34m.\u001b[0m\u001b[0mallimpars\u001b[0m\u001b[0;34m[\u001b[0m\u001b[0mstr\u001b[0m\u001b[0;34m(\u001b[0m\u001b[0mfld\u001b[0m\u001b[0;34m)\u001b[0m\u001b[0;34m]\u001b[0m \u001b[0;34m,\u001b[0m \u001b[0mself\u001b[0m\u001b[0;34m.\u001b[0m\u001b[0mallgridpars\u001b[0m\u001b[0;34m[\u001b[0m\u001b[0mstr\u001b[0m\u001b[0;34m(\u001b[0m\u001b[0mfld\u001b[0m\u001b[0;34m)\u001b[0m\u001b[0;34m]\u001b[0m \u001b[0;34m)\u001b[0m\u001b[0;34m\u001b[0m\u001b[0;34m\u001b[0m\u001b[0m\n\u001b[0m\u001b[1;32m    121\u001b[0m \u001b[0;34m\u001b[0m\u001b[0m\n\u001b[1;32m    122\u001b[0m         \u001b[0;31m###for cases when synthesisnormalizer is setup in c++ send the normalizer info\u001b[0m\u001b[0;34m\u001b[0m\u001b[0;34m\u001b[0m\u001b[0;34m\u001b[0m\u001b[0m\n",
            "\u001b[0;32m/usr/local/lib/python3.7/dist-packages/casatools/synthesisimager.py\u001b[0m in \u001b[0;36mdefineimage\u001b[0;34m(self, impars, gridpars)\u001b[0m\n\u001b[1;32m     41\u001b[0m         \"\"\"\n\u001b[1;32m     42\u001b[0m         \"\"\"\n\u001b[0;32m---> 43\u001b[0;31m         \u001b[0;32mreturn\u001b[0m \u001b[0mself\u001b[0m\u001b[0;34m.\u001b[0m\u001b[0m_swigobj\u001b[0m\u001b[0;34m.\u001b[0m\u001b[0mdefineimage\u001b[0m\u001b[0;34m(\u001b[0m\u001b[0m_dict_ec\u001b[0m\u001b[0;34m(\u001b[0m\u001b[0mimpars\u001b[0m\u001b[0;34m)\u001b[0m\u001b[0;34m,\u001b[0m \u001b[0m_dict_ec\u001b[0m\u001b[0;34m(\u001b[0m\u001b[0mgridpars\u001b[0m\u001b[0;34m)\u001b[0m\u001b[0;34m)\u001b[0m\u001b[0;34m\u001b[0m\u001b[0;34m\u001b[0m\u001b[0m\n\u001b[0m\u001b[1;32m     44\u001b[0m \u001b[0;34m\u001b[0m\u001b[0m\n\u001b[1;32m     45\u001b[0m     \u001b[0;32mdef\u001b[0m \u001b[0mnormalizerinfo\u001b[0m\u001b[0;34m(\u001b[0m\u001b[0mself\u001b[0m\u001b[0;34m,\u001b[0m \u001b[0mnormpars\u001b[0m\u001b[0;34m=\u001b[0m\u001b[0;34m{\u001b[0m \u001b[0;34m}\u001b[0m\u001b[0;34m)\u001b[0m\u001b[0;34m:\u001b[0m\u001b[0;34m\u001b[0m\u001b[0;34m\u001b[0m\u001b[0m\n",
            "\u001b[0;32m/usr/local/lib/python3.7/dist-packages/casatools/__casac__/synthesisimager.py\u001b[0m in \u001b[0;36mdefineimage\u001b[0;34m(self, *args, **kwargs)\u001b[0m\n\u001b[1;32m    162\u001b[0m \u001b[0;34m\u001b[0m\u001b[0m\n\u001b[1;32m    163\u001b[0m         \"\"\"\n\u001b[0;32m--> 164\u001b[0;31m         \u001b[0;32mreturn\u001b[0m \u001b[0m_synthesisimager\u001b[0m\u001b[0;34m.\u001b[0m\u001b[0msynthesisimager_defineimage\u001b[0m\u001b[0;34m(\u001b[0m\u001b[0mself\u001b[0m\u001b[0;34m,\u001b[0m \u001b[0;34m*\u001b[0m\u001b[0margs\u001b[0m\u001b[0;34m,\u001b[0m \u001b[0;34m**\u001b[0m\u001b[0mkwargs\u001b[0m\u001b[0;34m)\u001b[0m\u001b[0;34m\u001b[0m\u001b[0;34m\u001b[0m\u001b[0m\n\u001b[0m\u001b[1;32m    165\u001b[0m \u001b[0;34m\u001b[0m\u001b[0m\n\u001b[1;32m    166\u001b[0m \u001b[0;34m\u001b[0m\u001b[0m\n",
            "\u001b[0;31mRuntimeError\u001b[0m: 2021-04-20 15:41:09\tSEVERE\tSynthesisImagerVi2::defineImage (file casa-source/code/synthesis/ImagerObjects/SynthesisImagerVi2.cc, line 594)\tError in building Coordinate System and Image Shape : ColumnSet::doLock: table /content/sim_data.ms should be locked when using UserLocking"
          ]
        }
      ]
    },
    {
      "cell_type": "code",
      "metadata": {
        "colab": {
          "base_uri": "https://localhost:8080/",
          "height": 340
        },
        "id": "7Z3yUaiT1zdT",
        "outputId": "1e5c94f0-4a97-4f37-c819-71451e69dc2c"
      },
      "source": [
        "# Display the output restored image\n",
        "dispImage('try0.image')"
      ],
      "execution_count": 29,
      "outputs": [
        {
          "output_type": "error",
          "ename": "RuntimeError",
          "evalue": "ignored",
          "traceback": [
            "\u001b[0;31m---------------------------------------------------------------------------\u001b[0m",
            "\u001b[0;31mRuntimeError\u001b[0m                              Traceback (most recent call last)",
            "\u001b[0;32m<ipython-input-29-f445cfbd1d15>\u001b[0m in \u001b[0;36m<module>\u001b[0;34m()\u001b[0m\n\u001b[1;32m      1\u001b[0m \u001b[0;31m# Display the output restored image\u001b[0m\u001b[0;34m\u001b[0m\u001b[0;34m\u001b[0m\u001b[0;34m\u001b[0m\u001b[0m\n\u001b[0;32m----> 2\u001b[0;31m \u001b[0mdispImage\u001b[0m\u001b[0;34m(\u001b[0m\u001b[0;34m'try0.image'\u001b[0m\u001b[0;34m)\u001b[0m\u001b[0;34m\u001b[0m\u001b[0;34m\u001b[0m\u001b[0m\n\u001b[0m",
            "\u001b[0;32m<ipython-input-12-1afcb41cd73e>\u001b[0m in \u001b[0;36mdispImage\u001b[0;34m(imname, useAstropy)\u001b[0m\n\u001b[1;32m     15\u001b[0m \u001b[0;31m# For a Single plane image, show the image.\u001b[0m\u001b[0;34m\u001b[0m\u001b[0;34m\u001b[0m\u001b[0;34m\u001b[0m\u001b[0m\n\u001b[1;32m     16\u001b[0m \u001b[0;32mdef\u001b[0m \u001b[0mdispImage\u001b[0m\u001b[0;34m(\u001b[0m\u001b[0mimname\u001b[0m\u001b[0;34m=\u001b[0m\u001b[0;34m'sim_onepoint_true.im'\u001b[0m\u001b[0;34m,\u001b[0m \u001b[0museAstropy\u001b[0m\u001b[0;34m=\u001b[0m\u001b[0;32mFalse\u001b[0m\u001b[0;34m)\u001b[0m\u001b[0;34m:\u001b[0m\u001b[0;34m\u001b[0m\u001b[0;34m\u001b[0m\u001b[0m\n\u001b[0;32m---> 17\u001b[0;31m     \u001b[0mia\u001b[0m\u001b[0;34m.\u001b[0m\u001b[0mopen\u001b[0m\u001b[0;34m(\u001b[0m\u001b[0mimname\u001b[0m\u001b[0;34m)\u001b[0m\u001b[0;34m\u001b[0m\u001b[0;34m\u001b[0m\u001b[0m\n\u001b[0m\u001b[1;32m     18\u001b[0m     \u001b[0mpix\u001b[0m \u001b[0;34m=\u001b[0m \u001b[0mia\u001b[0m\u001b[0;34m.\u001b[0m\u001b[0mgetchunk\u001b[0m\u001b[0;34m(\u001b[0m\u001b[0;34m)\u001b[0m\u001b[0;34m\u001b[0m\u001b[0;34m\u001b[0m\u001b[0m\n\u001b[1;32m     19\u001b[0m     \u001b[0mshp\u001b[0m \u001b[0;34m=\u001b[0m \u001b[0mia\u001b[0m\u001b[0;34m.\u001b[0m\u001b[0mshape\u001b[0m\u001b[0;34m(\u001b[0m\u001b[0;34m)\u001b[0m\u001b[0;34m\u001b[0m\u001b[0;34m\u001b[0m\u001b[0m\n",
            "\u001b[0;32m/usr/local/lib/python3.7/dist-packages/casatools/image.py\u001b[0m in \u001b[0;36mopen\u001b[0;34m(self, infile, cache)\u001b[0m\n\u001b[1;32m   2598\u001b[0m         \u001b[0mused\u001b[0m \u001b[0;32mfor\u001b[0m \u001b[0mother\u001b[0m \u001b[0mimage\u001b[0m \u001b[0mtypes\u001b[0m\u001b[0;34m.\u001b[0m\u001b[0;34m\u001b[0m\u001b[0;34m\u001b[0m\u001b[0m\n\u001b[1;32m   2599\u001b[0m         \"\"\"\n\u001b[0;32m-> 2600\u001b[0;31m         \u001b[0;32mreturn\u001b[0m \u001b[0mself\u001b[0m\u001b[0;34m.\u001b[0m\u001b[0m_swigobj\u001b[0m\u001b[0;34m.\u001b[0m\u001b[0mopen\u001b[0m\u001b[0;34m(\u001b[0m\u001b[0m_str_ec\u001b[0m\u001b[0;34m(\u001b[0m\u001b[0minfile\u001b[0m\u001b[0;34m)\u001b[0m\u001b[0;34m,\u001b[0m \u001b[0mcache\u001b[0m\u001b[0;34m)\u001b[0m\u001b[0;34m\u001b[0m\u001b[0;34m\u001b[0m\u001b[0m\n\u001b[0m\u001b[1;32m   2601\u001b[0m \u001b[0;34m\u001b[0m\u001b[0m\n\u001b[1;32m   2602\u001b[0m     \u001b[0;32mdef\u001b[0m \u001b[0mpad\u001b[0m\u001b[0;34m(\u001b[0m\u001b[0mself\u001b[0m\u001b[0;34m,\u001b[0m \u001b[0moutfile\u001b[0m\u001b[0;34m=\u001b[0m\u001b[0;34m''\u001b[0m\u001b[0;34m,\u001b[0m \u001b[0mnpixels\u001b[0m\u001b[0;34m=\u001b[0m\u001b[0mint\u001b[0m\u001b[0;34m(\u001b[0m\u001b[0;36m1\u001b[0m\u001b[0;34m)\u001b[0m\u001b[0;34m,\u001b[0m \u001b[0mvalue\u001b[0m\u001b[0;34m=\u001b[0m\u001b[0mfloat\u001b[0m\u001b[0;34m(\u001b[0m\u001b[0;36m0\u001b[0m\u001b[0;34m)\u001b[0m\u001b[0;34m,\u001b[0m \u001b[0mpadmask\u001b[0m\u001b[0;34m=\u001b[0m\u001b[0;32mFalse\u001b[0m\u001b[0;34m,\u001b[0m \u001b[0moverwrite\u001b[0m\u001b[0;34m=\u001b[0m\u001b[0;32mFalse\u001b[0m\u001b[0;34m,\u001b[0m \u001b[0mregion\u001b[0m\u001b[0;34m=\u001b[0m\u001b[0;34m{\u001b[0m \u001b[0;34m}\u001b[0m\u001b[0;34m,\u001b[0m \u001b[0mbox\u001b[0m\u001b[0;34m=\u001b[0m\u001b[0;34m''\u001b[0m\u001b[0;34m,\u001b[0m \u001b[0mchans\u001b[0m\u001b[0;34m=\u001b[0m\u001b[0;34m''\u001b[0m\u001b[0;34m,\u001b[0m \u001b[0mstokes\u001b[0m\u001b[0;34m=\u001b[0m\u001b[0;34m''\u001b[0m\u001b[0;34m,\u001b[0m \u001b[0mmask\u001b[0m\u001b[0;34m=\u001b[0m\u001b[0;34m''\u001b[0m\u001b[0;34m,\u001b[0m \u001b[0mstretch\u001b[0m\u001b[0;34m=\u001b[0m\u001b[0;32mFalse\u001b[0m\u001b[0;34m,\u001b[0m \u001b[0mwantreturn\u001b[0m\u001b[0;34m=\u001b[0m\u001b[0;32mTrue\u001b[0m\u001b[0;34m)\u001b[0m\u001b[0;34m:\u001b[0m\u001b[0;34m\u001b[0m\u001b[0;34m\u001b[0m\u001b[0m\n",
            "\u001b[0;32m/usr/local/lib/python3.7/dist-packages/casatools/__casac__/image.py\u001b[0m in \u001b[0;36mopen\u001b[0;34m(self, *args, **kwargs)\u001b[0m\n\u001b[1;32m   5394\u001b[0m \u001b[0;34m\u001b[0m\u001b[0m\n\u001b[1;32m   5395\u001b[0m         \"\"\"\n\u001b[0;32m-> 5396\u001b[0;31m         \u001b[0;32mreturn\u001b[0m \u001b[0m_image\u001b[0m\u001b[0;34m.\u001b[0m\u001b[0mimage_open\u001b[0m\u001b[0;34m(\u001b[0m\u001b[0mself\u001b[0m\u001b[0;34m,\u001b[0m \u001b[0;34m*\u001b[0m\u001b[0margs\u001b[0m\u001b[0;34m,\u001b[0m \u001b[0;34m**\u001b[0m\u001b[0mkwargs\u001b[0m\u001b[0;34m)\u001b[0m\u001b[0;34m\u001b[0m\u001b[0;34m\u001b[0m\u001b[0m\n\u001b[0m\u001b[1;32m   5397\u001b[0m \u001b[0;34m\u001b[0m\u001b[0m\n\u001b[1;32m   5398\u001b[0m \u001b[0;34m\u001b[0m\u001b[0m\n",
            "\u001b[0;31mRuntimeError\u001b[0m: Exception: File try0.image does not exist..\n... thrown by static void casa::ImageFactory::_checkInfile(const casa6core::String&) at File: casa-source/code/imageanalysis/ImageAnalysis/ImageFactory2.cc, line: 378"
          ]
        }
      ]
    },
    {
      "cell_type": "code",
      "metadata": {
        "id": "ETUpAxYd1zdT"
      },
      "source": [
        "# Display the point spread function\n",
        "dispImage('try0.psf')"
      ],
      "execution_count": null,
      "outputs": []
    },
    {
      "cell_type": "markdown",
      "metadata": {
        "id": "RhRuXd181zdT"
      },
      "source": [
        "### Cube Imaging of a spectral-line dataset\n",
        "\n",
        "This is a spectral line dataset with noise"
      ]
    },
    {
      "cell_type": "code",
      "metadata": {
        "id": "xeWR84lW1zdU"
      },
      "source": [
        "# Call tclean\n",
        "os.system('rm -rf try1.*')\n",
        "\n",
        "tclean(vis='sim_data.ms', \n",
        "       imagename='try1',\n",
        "       datacolumn='data',\n",
        "       imsize=300,\n",
        "       cell='8.0arcsec',\n",
        "       specmode='cube',\n",
        "       interpolation='nearest',\n",
        "       gridder='standard',\n",
        "       niter=200,\n",
        "       gain=0.3,\n",
        "       savemodel='modelcolumn')"
      ],
      "execution_count": null,
      "outputs": []
    },
    {
      "cell_type": "code",
      "metadata": {
        "id": "UMyJeVQ81zdU"
      },
      "source": [
        "# Display the output restored image\n",
        "dispImage('try1.image')"
      ],
      "execution_count": null,
      "outputs": []
    },
    {
      "cell_type": "code",
      "metadata": {
        "id": "q3dCO_6A1zdU"
      },
      "source": [
        "# Display the residual image\n",
        "dispImage('try1.residual')"
      ],
      "execution_count": null,
      "outputs": []
    },
    {
      "cell_type": "markdown",
      "metadata": {
        "id": "dhH2vs-61zdU"
      },
      "source": [
        "### Continuum imaging with model subtraction\n",
        "\n",
        "Pick the line-free channels (all but chan 6) and fit a 2nd order polynomial to the spectrum."
      ]
    },
    {
      "cell_type": "code",
      "metadata": {
        "id": "Vbl1cnto1zdU"
      },
      "source": [
        "# Call tclean\n",
        "os.system('rm -rf try2.*')\n",
        "\n",
        "tclean(vis='sim_data.ms', \n",
        "       imagename='try2',\n",
        "       datacolumn='data',\n",
        "       spw='0:0~5,0:7~9', # Select line-free channels\n",
        "       imsize=300,\n",
        "       cell='8.0arcsec',\n",
        "       specmode='mfs',\n",
        "       deconvolver='mtmfs',\n",
        "       nterms=3,\n",
        "       gridder='standard',\n",
        "       niter=150,\n",
        "       gain=0.3)"
      ],
      "execution_count": null,
      "outputs": []
    },
    {
      "cell_type": "code",
      "metadata": {
        "id": "iHoSs84I1zdV"
      },
      "source": [
        "# Display the output restored image\n",
        "dispImage('try2.image.tt0')"
      ],
      "execution_count": null,
      "outputs": []
    },
    {
      "cell_type": "code",
      "metadata": {
        "id": "DohPDI8M1zdV"
      },
      "source": [
        "# Predict the tclean mtmfs model onto all channels.\n",
        "tclean(vis='sim_data.ms', \n",
        "       imagename='try2',\n",
        "       datacolumn='data',\n",
        "       spw='',    # Select all channels to predict onto.\n",
        "       imsize=300,\n",
        "       cell='8.0arcsec',\n",
        "       specmode='mfs',\n",
        "       deconvolver='mtmfs',\n",
        "       nterms=3,\n",
        "       gridder='standard',\n",
        "       niter=0,\n",
        "       calcres=False,\n",
        "       calcpsf=False,\n",
        "       savemodel='modelcolumn')"
      ],
      "execution_count": null,
      "outputs": []
    },
    {
      "cell_type": "code",
      "metadata": {
        "id": "e-lRmz9I1zdW"
      },
      "source": [
        "# Plot residual data. \n",
        "plotData(myplot='resdata_spectrum')"
      ],
      "execution_count": null,
      "outputs": []
    },
    {
      "cell_type": "markdown",
      "metadata": {
        "id": "zTHCej-L1zdW"
      },
      "source": [
        "This shows the continuum power law emission subtracted out and only the spectral line remaining in the data (if the model is subtracted).\n",
        "\n",
        "If the 'uvsub' task is run, this is what would get saved in corrected_data. It is also a form of continuum modeling and subtraction."
      ]
    },
    {
      "cell_type": "markdown",
      "metadata": {
        "id": "mS1qF7Ry1zdW"
      },
      "source": [
        "### Imaging with Gain Errors and Self Calibration\n",
        "\n",
        "First, re-simulate by starting from ideal visibilities, and adding gain errors and noise. "
      ]
    },
    {
      "cell_type": "code",
      "metadata": {
        "id": "M7wwIg0o1zdW"
      },
      "source": [
        "# Predict visibilities\n",
        "predictSim(usemod='im')"
      ],
      "execution_count": null,
      "outputs": []
    },
    {
      "cell_type": "code",
      "metadata": {
        "id": "VPL6D2cR1zdW"
      },
      "source": [
        "# Simulate antenna gain errors\n",
        "addGainErrors()\n",
        "# Add noise on top of the gain-corrupted data\n",
        "addNoiseSim()\n",
        "# Display\n",
        "plotData(myplot='data_spectrum')"
      ],
      "execution_count": null,
      "outputs": []
    },
    {
      "cell_type": "markdown",
      "metadata": {
        "id": "K5gvmS761zdX"
      },
      "source": [
        "Image the corrupted data"
      ]
    },
    {
      "cell_type": "code",
      "metadata": {
        "id": "VBBi51kC1zdX"
      },
      "source": [
        "# Call tclean\n",
        "os.system('rm -rf try3.*')\n",
        "\n",
        "tclean(vis='sim_data.ms', \n",
        "       imagename='try3',\n",
        "       datacolumn='data',\n",
        "       imsize=300,\n",
        "       cell='8.0arcsec',\n",
        "       specmode='cube',\n",
        "       interpolation='nearest',\n",
        "       gridder='standard',\n",
        "       niter=150,         # Don't go too deep since the data are corrupted\n",
        "       gain=0.3,\n",
        "       mask='circle[[150pix,150pix],3pix]',    # Give it a mask to help. Without this, the self-cal isn't as good.\n",
        "       savemodel='modelcolumn')"
      ],
      "execution_count": null,
      "outputs": []
    },
    {
      "cell_type": "code",
      "metadata": {
        "id": "5DwWqmXn1zdX"
      },
      "source": [
        "# Display the output restored image\n",
        "dispImage('try3.image')"
      ],
      "execution_count": null,
      "outputs": []
    },
    {
      "cell_type": "code",
      "metadata": {
        "id": "slz9_PVh1zdX"
      },
      "source": [
        "# Display the new residual image\n",
        "dispImage('try3.residual')"
      ],
      "execution_count": null,
      "outputs": []
    },
    {
      "cell_type": "markdown",
      "metadata": {
        "id": "RXnkE1CX1zdX"
      },
      "source": [
        "This image shows artifacts from gain errors (different from the pure noise-like errors in the previous simulation)\n",
        "\n",
        "Calculate gain solutions (since we have already saved the model)"
      ]
    },
    {
      "cell_type": "code",
      "metadata": {
        "id": "US5eVUSQ1zdY"
      },
      "source": [
        "bandpass(vis='sim_data.ms',\n",
        "        caltable='sc.tab',solint='int')"
      ],
      "execution_count": null,
      "outputs": []
    },
    {
      "cell_type": "markdown",
      "metadata": {
        "id": "ujuF_xmE1zdY"
      },
      "source": [
        "Apply gain solutions"
      ]
    },
    {
      "cell_type": "code",
      "metadata": {
        "id": "TgzISixt1zdY"
      },
      "source": [
        "applycal(vis='sim_data.ms',\n",
        "        gaintable='sc.tab')"
      ],
      "execution_count": null,
      "outputs": []
    },
    {
      "cell_type": "code",
      "metadata": {
        "id": "JzpEY7b-1zdY"
      },
      "source": [
        "## Plot Calibrated data\n",
        "plotData(myplot='corr_spectrum')"
      ],
      "execution_count": null,
      "outputs": []
    },
    {
      "cell_type": "markdown",
      "metadata": {
        "id": "pbvRdYKv1zdY"
      },
      "source": [
        "Compare with the above uncalibrated data. Also, compare with visibilities simulated just with noise. Subsequent imaging should use the corrected_data column."
      ]
    },
    {
      "cell_type": "code",
      "metadata": {
        "id": "0qxz4uVy1zdY"
      },
      "source": [
        "# Call tclean to image the corrected data\n",
        "os.system('rm -rf try4.*')\n",
        "\n",
        "tclean(vis='sim_data.ms', \n",
        "       imagename='try4',\n",
        "       datacolumn='corrected',\n",
        "       imsize=300,\n",
        "       cell='8.0arcsec',\n",
        "       specmode='cube',\n",
        "       interpolation='nearest',\n",
        "       gridder='standard',\n",
        "       niter=200,       # Go deeper now. Also, no mask needed\n",
        "       gain=0.3,\n",
        "       savemodel='modelcolumn')"
      ],
      "execution_count": null,
      "outputs": []
    },
    {
      "cell_type": "code",
      "metadata": {
        "id": "YqxTmIOo1zdZ"
      },
      "source": [
        "# Display the output restored image\n",
        "dispImage('try4.image')"
      ],
      "execution_count": null,
      "outputs": []
    },
    {
      "cell_type": "code",
      "metadata": {
        "id": "wSixWSjX1zdZ"
      },
      "source": [
        "# Display the residual image\n",
        "dispImage('try4.residual')"
      ],
      "execution_count": null,
      "outputs": []
    },
    {
      "cell_type": "markdown",
      "metadata": {
        "id": "quliXdzL1zdZ"
      },
      "source": [
        "A better-looking residual image, compared to before self-calibration. "
      ]
    }
  ]
}