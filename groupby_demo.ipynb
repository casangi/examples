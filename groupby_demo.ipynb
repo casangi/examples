{
  "nbformat": 4,
  "nbformat_minor": 0,
  "metadata": {
    "colab": {
      "name": "groupby_demo.ipynb",
      "provenance": [],
      "collapsed_sections": []
    },
    "kernelspec": {
      "name": "python3",
      "display_name": "Python 3"
    }
  },
  "cells": [
    {
      "cell_type": "markdown",
      "metadata": {
        "id": "xr_RX4CA876u",
        "colab_type": "text"
      },
      "source": [
        "# Installation\n",
        "CNGI documentation is located here:\n",
        "[https://cngi-prototype.readthedocs.io/en/latest/index.html](https://cngi-prototype.readthedocs.io/en/latest/index.html)\n",
        "\n",
        "Google Colab requires specific older versions of some packages such as Pandas and Dask, so we will install CNGI without its normal dependencies and then manually install each dependency afterwards.\n",
        "\n",
        "Normally, you would want to leave out the --no-dependencies option"
      ]
    },
    {
      "cell_type": "code",
      "metadata": {
        "id": "IIr5sp0VgR2m",
        "colab_type": "code",
        "outputId": "914a69ba-9bb0-431c-e2f8-cac61b19398e",
        "colab": {
          "base_uri": "https://localhost:8080/",
          "height": 104
        }
      },
      "source": [
        "import os, time\n",
        "\n",
        "start = time.time()\n",
        "print(\"installing cngi (takes a few minutes)...\")\n",
        "os.system(\"apt-get install libgfortran3\")\n",
        "os.system(\"pip install --extra-index-url https://casa-pip.nrao.edu/repository/pypi-group/simple casatools\")\n",
        "os.system(\"pip install cngi-prototype==0.0.8 --no-dependencies\")\n",
        "os.system(\"pip install --upgrade dask\")\n",
        "os.system(\"pip install --upgrade xarray\")\n",
        "\n",
        "elapsed = round(time.time()-start)\n",
        "print(f'Finished installing after {elapsed} seconds')\n",
        "\n",
        "print(\"downloading MeasurementSet from CASAguide First Look at Imaging...\")\n",
        "os.system(\"wget https://bulk.cv.nrao.edu/almadata/public/working/sis14_twhya_calibrated_flagged.ms.tar\")\n",
        "os.system(\"tar -xvf sis14_twhya_calibrated_flagged.ms.tar\")\n",
        "elapsed = round(time.time()-start)\n",
        "print(f'Finished downloading after {elapsed} seconds')\n",
        "print('complete')"
      ],
      "execution_count": 2,
      "outputs": [
        {
          "output_type": "stream",
          "text": [
            "installing cngi (takes a few minutes)...\n",
            "Finished installing after 10 seconds\n",
            "downloading MeasurementSet from CASAguide First Look at Imaging...\n",
            "Finished downloading after 69 seconds\n",
            "complete\n"
          ],
          "name": "stdout"
        }
      ]
    },
    {
      "cell_type": "markdown",
      "metadata": {
        "id": "1GEO-8JoUqbr",
        "colab_type": "text"
      },
      "source": [
        "# Initialize the Processing Environment\n",
        "Colab [does not support](https://github.com/googlecolab/colabtools/issues/569) websocket connections between client and kernel, so scheduler status dashboard is inaccessible.\n",
        "Possible to work around using ngrok?"
      ]
    },
    {
      "cell_type": "code",
      "metadata": {
        "id": "dQxr3E24L-4d",
        "colab_type": "code",
        "outputId": "812a5137-e3fd-4aa5-9bfe-30281da876c9",
        "colab": {
          "base_uri": "https://localhost:8080/",
          "height": 267
        }
      },
      "source": [
        "from cngi.direct import InitializeFramework\n",
        "client = InitializeFramework(workers=2,memory='6GB',processes=False)\n",
        "client"
      ],
      "execution_count": 3,
      "outputs": [
        {
          "output_type": "stream",
          "text": [
            "/usr/local/lib/python3.6/dist-packages/distributed/bokeh/core.py:57: UserWarning: \n",
            "Failed to start diagnostics server on port 8787. [Errno 99] Cannot assign requested address\n",
            "  warnings.warn('\\n' + msg)\n",
            "/usr/local/lib/python3.6/dist-packages/distributed/deploy/local.py:197: UserWarning: \n",
            "Could not launch service 'bokeh' on port 8787. Got the following message:\n",
            "\n",
            "[Errno 99] Cannot assign requested address\n",
            "  self.scheduler.start(scheduler_address)\n"
          ],
          "name": "stderr"
        },
        {
          "output_type": "execute_result",
          "data": {
            "text/html": [
              "<table style=\"border: 2px solid white;\">\n",
              "<tr>\n",
              "<td style=\"vertical-align: top; border: 0px solid white\">\n",
              "<h3>Client</h3>\n",
              "<ul>\n",
              "  <li><b>Scheduler: </b>inproc://172.28.0.2/655/1\n",
              "</ul>\n",
              "</td>\n",
              "<td style=\"vertical-align: top; border: 0px solid white\">\n",
              "<h3>Cluster</h3>\n",
              "<ul>\n",
              "  <li><b>Workers: </b>2</li>\n",
              "  <li><b>Cores: </b>2</li>\n",
              "  <li><b>Memory: </b>12.00 GB</li>\n",
              "</ul>\n",
              "</td>\n",
              "</tr>\n",
              "</table>"
            ],
            "text/plain": [
              "<Client: scheduler='inproc://172.28.0.2/655/1' processes=2 cores=2>"
            ]
          },
          "metadata": {
            "tags": []
          },
          "execution_count": 3
        }
      ]
    },
    {
      "cell_type": "markdown",
      "metadata": {
        "id": "WxuECb4D8su0",
        "colab_type": "text"
      },
      "source": [
        "# Convert an MS to xarray NetCDF"
      ]
    },
    {
      "cell_type": "code",
      "metadata": {
        "id": "S0B_KBb09ORJ",
        "colab_type": "code",
        "outputId": "28c1b6c8-81c9-4718-a089-a3a7e0d146cb",
        "colab": {
          "base_uri": "https://localhost:8080/",
          "height": 86
        }
      },
      "source": [
        "from cngi.conversion import ms_to_ncdf\n",
        "\n",
        "start = time.time()\n",
        "ms_to_ncdf('sis14_twhya_calibrated_flagged.ms')\n",
        "elapsed = round(time.time() - start)\n",
        "print(f'Finished conversion in {elapsed} seconds')"
      ],
      "execution_count": 4,
      "outputs": [
        {
          "output_type": "stream",
          "text": [
            "processing ddi 0: chunks=1, size=53717\n",
            "completed ddi 0\n",
            "Complete.\n",
            "Finished conversion in 12 seconds\n"
          ],
          "name": "stdout"
        }
      ]
    },
    {
      "cell_type": "markdown",
      "metadata": {
        "id": "edNHuvlX7OnU",
        "colab_type": "text"
      },
      "source": [
        "# Open an xarray NetCDF based MS\n",
        "\n",
        "(todo) Retrieve a summary of the xarray NetCDF MS file. \n",
        "\n",
        "Then create a new xarray Dataset from it.\n",
        "\n",
        "This Dataset is the common data structure passed around to most other CNGI functions."
      ]
    },
    {
      "cell_type": "code",
      "metadata": {
        "id": "R6KsW1NvgsQs",
        "colab_type": "code",
        "outputId": "ffe5399a-6310-4630-ba2f-d6003d33a996",
        "colab": {
          "base_uri": "https://localhost:8080/",
          "height": 538
        }
      },
      "source": [
        "from cngi.ms import summarizeFile\n",
        "from cngi.dio import read_ncdf\n",
        "\n",
        "# returns summary as a pandas dataframe\n",
        "#mssummary = summarizeFile('sis14_twhya_calibrated_flagged.pq')\n",
        "#print(mssummary[['ddi','row_count_estimate','col_count','size_GB']])\n",
        "\n",
        "# there is only one ddi in the MS, but pretend there are more and one is chosen\n",
        "ddi = 0 #mssummary.ddi.values[0]\n",
        "\n",
        "# here we create the dask dataframe for use in other CNGI functions\n",
        "xds = read_ncdf('sis14_twhya_calibrated_flagged.ncdf',ddi=ddi)\n",
        "\n",
        "# examine the start of the dataframe \n",
        "# note that the column selection should be made in to a convenience function\n",
        "#cols = [col for col in ddf.columns.values if col not in list(ddf.columns.values[ddf.columns.str.match('(FLAG\\d)|(R|IDATA\\d)')])]\n",
        "#ddf[cols].head()\n",
        "xds"
      ],
      "execution_count": 5,
      "outputs": [
        {
          "output_type": "execute_result",
          "data": {
            "text/plain": [
              "<xarray.Dataset>\n",
              "Dimensions:         (chans: 384, pols: 2, rows: 80563, uvw: 3)\n",
              "Coordinates:\n",
              "  * chans           (chans) int32 0 1 2 3 4 5 6 ... 377 378 379 380 381 382 383\n",
              "  * pols            (pols) int32 0 1\n",
              "  * uvw             (uvw) int32 0 1 2\n",
              "  * rows            (rows) int64 0 1 2 3 4 5 ... 80558 80559 80560 80561 80562\n",
              "Data variables:\n",
              "    ANTENNA1        (rows) int32 dask.array<chunksize=(53717,), meta=np.ndarray>\n",
              "    ANTENNA2        (rows) int32 dask.array<chunksize=(53717,), meta=np.ndarray>\n",
              "    ARRAY_ID        (rows) int32 dask.array<chunksize=(53717,), meta=np.ndarray>\n",
              "    DATA_DESC_ID    (rows) int32 dask.array<chunksize=(53717,), meta=np.ndarray>\n",
              "    EXPOSURE        (rows) float64 dask.array<chunksize=(53717,), meta=np.ndarray>\n",
              "    FEED1           (rows) int32 dask.array<chunksize=(53717,), meta=np.ndarray>\n",
              "    FEED2           (rows) int32 dask.array<chunksize=(53717,), meta=np.ndarray>\n",
              "    FIELD_ID        (rows) int32 dask.array<chunksize=(53717,), meta=np.ndarray>\n",
              "    FLAG_ROW        (rows) bool dask.array<chunksize=(53717,), meta=np.ndarray>\n",
              "    INTERVAL        (rows) float64 dask.array<chunksize=(53717,), meta=np.ndarray>\n",
              "    OBSERVATION_ID  (rows) int32 dask.array<chunksize=(53717,), meta=np.ndarray>\n",
              "    PROCESSOR_ID    (rows) int32 dask.array<chunksize=(53717,), meta=np.ndarray>\n",
              "    SCAN_NUMBER     (rows) int32 dask.array<chunksize=(53717,), meta=np.ndarray>\n",
              "    STATE_ID        (rows) int32 dask.array<chunksize=(53717,), meta=np.ndarray>\n",
              "    TIME            (rows) float64 dask.array<chunksize=(53717,), meta=np.ndarray>\n",
              "    TIME_CENTROID   (rows) float64 dask.array<chunksize=(53717,), meta=np.ndarray>\n",
              "    UVW             (uvw, rows) float64 dask.array<chunksize=(3, 53717), meta=np.ndarray>\n",
              "    WEIGHT          (pols, rows) float64 dask.array<chunksize=(2, 53717), meta=np.ndarray>\n",
              "    SIGMA           (pols, rows) float64 dask.array<chunksize=(2, 53717), meta=np.ndarray>\n",
              "    FLAG            (pols, chans, rows) bool dask.array<chunksize=(2, 384, 53717), meta=np.ndarray>\n",
              "    RDATA           (pols, chans, rows) float64 dask.array<chunksize=(2, 384, 53717), meta=np.ndarray>\n",
              "    IDATA           (pols, chans, rows) float64 dask.array<chunksize=(2, 384, 53717), meta=np.ndarray>"
            ]
          },
          "metadata": {
            "tags": []
          },
          "execution_count": 5
        }
      ]
    },
    {
      "cell_type": "markdown",
      "metadata": {
        "id": "qAz2L3G2CNpr",
        "colab_type": "text"
      },
      "source": [
        "Perform a sequence of calculations defined by the original [dask demo notebook](https://colab.research.google.com/github/ryanraba/casa6/blob/master/casa7experiments.ipynb)\n",
        "1. apply flags (sets flagged data cells to nan)\n",
        "2. average magnitude of cross products\n",
        "3. subtract mean magnitude of each baseline from visibilities\n",
        "4. filter out baselines with outlier mean noise\n",
        "5. take the mean accross channels to get a continuum\n",
        "6. plot the UV space\n"
      ]
    },
    {
      "cell_type": "code",
      "metadata": {
        "id": "27t-JCgP_syM",
        "colab_type": "code",
        "colab": {}
      },
      "source": [
        "original_real = xds.RDATA\n",
        "original_imag = xds.IDATA"
      ],
      "execution_count": 0,
      "outputs": []
    },
    {
      "cell_type": "code",
      "metadata": {
        "id": "JZ68ulJfCpXx",
        "colab_type": "code",
        "colab": {
          "base_uri": "https://localhost:8080/",
          "height": 280
        },
        "outputId": "2c32d9f5-3513-43b0-81da-3ea2aafc96d3"
      },
      "source": [
        "# 1. apply flags (sets flagged data cells to nan)\n",
        "xds['RDATA'] = xds.RDATA.where(xds.FLAG.isin([True]), drop=False)\n",
        "xds['IDATA'] = xds.IDATA.where(xds.FLAG.isin([True]), drop=False)"
      ],
      "execution_count": 98,
      "outputs": [
        {
          "output_type": "stream",
          "text": [
            "distributed.worker - WARNING - Memory use is high but worker has no data to store to disk.  Perhaps some other process is leaking memory?  Process memory: 4.41 GB -- Worker memory limit: 6.00 GB\n",
            "distributed.worker - WARNING - Memory use is high but worker has no data to store to disk.  Perhaps some other process is leaking memory?  Process memory: 4.41 GB -- Worker memory limit: 6.00 GB\n",
            "distributed.worker - WARNING - Memory use is high but worker has no data to store to disk.  Perhaps some other process is leaking memory?  Process memory: 4.41 GB -- Worker memory limit: 6.00 GB\n",
            "distributed.worker - WARNING - Memory use is high but worker has no data to store to disk.  Perhaps some other process is leaking memory?  Process memory: 4.41 GB -- Worker memory limit: 6.00 GB\n",
            "distributed.worker - WARNING - Memory use is high but worker has no data to store to disk.  Perhaps some other process is leaking memory?  Process memory: 4.41 GB -- Worker memory limit: 6.00 GB\n",
            "distributed.worker - WARNING - Memory use is high but worker has no data to store to disk.  Perhaps some other process is leaking memory?  Process memory: 4.41 GB -- Worker memory limit: 6.00 GB\n",
            "distributed.worker - WARNING - Memory use is high but worker has no data to store to disk.  Perhaps some other process is leaking memory?  Process memory: 4.41 GB -- Worker memory limit: 6.00 GB\n",
            "distributed.worker - WARNING - Memory use is high but worker has no data to store to disk.  Perhaps some other process is leaking memory?  Process memory: 4.41 GB -- Worker memory limit: 6.00 GB\n",
            "distributed.worker - WARNING - Memory use is high but worker has no data to store to disk.  Perhaps some other process is leaking memory?  Process memory: 4.41 GB -- Worker memory limit: 6.00 GB\n",
            "distributed.worker - WARNING - Memory use is high but worker has no data to store to disk.  Perhaps some other process is leaking memory?  Process memory: 4.41 GB -- Worker memory limit: 6.00 GB\n",
            "distributed.worker - WARNING - Memory use is high but worker has no data to store to disk.  Perhaps some other process is leaking memory?  Process memory: 4.41 GB -- Worker memory limit: 6.00 GB\n",
            "distributed.worker - WARNING - Memory use is high but worker has no data to store to disk.  Perhaps some other process is leaking memory?  Process memory: 4.41 GB -- Worker memory limit: 6.00 GB\n",
            "distributed.worker - WARNING - Memory use is high but worker has no data to store to disk.  Perhaps some other process is leaking memory?  Process memory: 4.41 GB -- Worker memory limit: 6.00 GB\n",
            "distributed.worker - WARNING - Memory use is high but worker has no data to store to disk.  Perhaps some other process is leaking memory?  Process memory: 4.41 GB -- Worker memory limit: 6.00 GB\n"
          ],
          "name": "stderr"
        }
      ]
    },
    {
      "cell_type": "code",
      "metadata": {
        "id": "ZFUnCgV2RZnC",
        "colab_type": "code",
        "colab": {
          "base_uri": "https://localhost:8080/",
          "height": 54
        },
        "outputId": "4132ea30-a955-413d-96eb-428df91ff963"
      },
      "source": [
        "# calculate mean values for each component of the complex visibilities\n",
        "xds.RDATA.mean(skipna=True).values\n",
        "type(xds.IDATA.mean(skipna=True).values)\n"
      ],
      "execution_count": 0,
      "outputs": [
        {
          "output_type": "stream",
          "text": [
            "distributed.worker - WARNING - Memory use is high but worker has no data to store to disk.  Perhaps some other process is leaking memory?  Process memory: 4.41 GB -- Worker memory limit: 6.00 GB\n"
          ],
          "name": "stderr"
        }
      ]
    },
    {
      "cell_type": "code",
      "metadata": {
        "id": "F3jccWRhGIij",
        "colab_type": "code",
        "colab": {
          "base_uri": "https://localhost:8080/",
          "height": 104
        },
        "outputId": "01806f45-26db-4298-809e-857561dd255a"
      },
      "source": [
        "# determine channel average\n",
        "xds['RDATA'].mean(dim='chans')\n",
        "xds['IDATA'].mean(dim='chans')"
      ],
      "execution_count": 45,
      "outputs": [
        {
          "output_type": "execute_result",
          "data": {
            "text/plain": [
              "<xarray.DataArray 'RDATA' (pols: 2, rows: 80563)>\n",
              "dask.array<mean_agg-aggregate, shape=(2, 80563), dtype=float64, chunksize=(2, 53717), chunktype=numpy.ndarray>\n",
              "Coordinates:\n",
              "  * pols     (pols) int32 0 1\n",
              "  * rows     (rows) int64 0 1 2 3 4 5 6 ... 80557 80558 80559 80560 80561 80562"
            ]
          },
          "metadata": {
            "tags": []
          },
          "execution_count": 45
        }
      ]
    },
    {
      "cell_type": "code",
      "metadata": {
        "id": "IPEsYfBZIyLH",
        "colab_type": "code",
        "colab": {
          "base_uri": "https://localhost:8080/",
          "height": 165
        },
        "outputId": "aa2aa536-0601-479b-978f-3921d6e8b9e8"
      },
      "source": [
        ""
      ],
      "execution_count": 32,
      "outputs": [
        {
          "output_type": "error",
          "ename": "AttributeError",
          "evalue": "ignored",
          "traceback": [
            "\u001b[0;31m---------------------------------------------------------------------------\u001b[0m",
            "\u001b[0;31mAttributeError\u001b[0m                            Traceback (most recent call last)",
            "\u001b[0;32m<ipython-input-32-5462ec807f96>\u001b[0m in \u001b[0;36m<module>\u001b[0;34m()\u001b[0m\n\u001b[0;32m----> 1\u001b[0;31m \u001b[0mbaselines\u001b[0m\u001b[0;34m.\u001b[0m\u001b[0mgroups\u001b[0m\u001b[0;34m.\u001b[0m\u001b[0mshape\u001b[0m\u001b[0;34m\u001b[0m\u001b[0;34m\u001b[0m\u001b[0m\n\u001b[0m",
            "\u001b[0;31mAttributeError\u001b[0m: 'dict' object has no attribute 'shape'"
          ]
        }
      ]
    },
    {
      "cell_type": "code",
      "metadata": {
        "id": "Wdi29iZPK6y3",
        "colab_type": "code",
        "colab": {}
      },
      "source": [
        ""
      ],
      "execution_count": 0,
      "outputs": []
    }
  ]
}