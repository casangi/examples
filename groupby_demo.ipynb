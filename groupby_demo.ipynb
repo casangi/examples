{
  "nbformat": 4,
  "nbformat_minor": 0,
  "metadata": {
    "colab": {
      "name": "groupby_demo.ipynb",
      "provenance": [],
      "collapsed_sections": []
    },
    "kernelspec": {
      "name": "python3",
      "display_name": "Python 3"
    }
  },
  "cells": [
    {
      "cell_type": "markdown",
      "metadata": {
        "id": "xr_RX4CA876u",
        "colab_type": "text"
      },
      "source": [
        "# Installation\n",
        "CNGI documentation is located here:\n",
        "[https://cngi-prototype.readthedocs.io/en/latest/index.html](https://cngi-prototype.readthedocs.io/en/latest/index.html)\n",
        "\n",
        "Google Colab requires specific older versions of some packages such as Pandas and Dask, so we will install CNGI without its normal dependencies and then manually install each dependency afterwards.\n",
        "\n",
        "Normally, you would want to leave out the --no-dependencies option"
      ]
    },
    {
      "cell_type": "code",
      "metadata": {
        "id": "IIr5sp0VgR2m",
        "colab_type": "code",
        "outputId": "d08818dd-9c77-48b0-efa2-c8672a16cbd6",
        "colab": {
          "base_uri": "https://localhost:8080/",
          "height": 104
        }
      },
      "source": [
        "import os, time\n",
        "import numpy as np\n",
        "\n",
        "start = time.time()\n",
        "print(\"installing cngi (takes a few minutes)...\")\n",
        "os.system(\"apt-get install libgfortran3\")\n",
        "os.system(\"pip install --extra-index-url https://casa-pip.nrao.edu/repository/pypi-group/simple casatools\")\n",
        "os.system(\"pip install cngi-prototype==0.0.8 --no-dependencies\")\n",
        "os.system(\"pip install --upgrade dask\")\n",
        "os.system(\"pip install --upgrade xarray\")\n",
        "os.system(\"pip install --upgrade zarr\")\n",
        "\n",
        "elapsed = round(time.time()-start)\n",
        "print(f'Finished installing after {elapsed} seconds')\n",
        "\n",
        "print(\"downloading MeasurementSet from CASAguide First Look at Imaging...\")\n",
        "os.system(\"wget https://bulk.cv.nrao.edu/almadata/public/working/sis14_twhya_calibrated_flagged.ms.tar\")\n",
        "os.system(\"tar -xvf sis14_twhya_calibrated_flagged.ms.tar\")\n",
        "elapsed = round(time.time()-start)\n",
        "print(f'Finished downloading after {elapsed} seconds')\n",
        "print('complete')"
      ],
      "execution_count": 1,
      "outputs": [
        {
          "output_type": "stream",
          "text": [
            "installing cngi (takes a few minutes)...\n",
            "Finished installing after 121 seconds\n",
            "downloading MeasurementSet from CASAguide First Look at Imaging...\n",
            "Finished downloading after 144 seconds\n",
            "complete\n"
          ],
          "name": "stdout"
        }
      ]
    },
    {
      "cell_type": "markdown",
      "metadata": {
        "id": "1GEO-8JoUqbr",
        "colab_type": "text"
      },
      "source": [
        "# Initialize the Processing Environment\n",
        "Colab [does not support](https://github.com/googlecolab/colabtools/issues/569) websocket connections between client and kernel, so scheduler status dashboard is inaccessible.\n",
        "Possible to work around using ngrok?"
      ]
    },
    {
      "cell_type": "code",
      "metadata": {
        "id": "dQxr3E24L-4d",
        "colab_type": "code",
        "outputId": "84a919bb-720c-4054-b09f-d79c47598eb0",
        "colab": {
          "base_uri": "https://localhost:8080/",
          "height": 267
        }
      },
      "source": [
        "from cngi.direct import InitializeFramework\n",
        "client = InitializeFramework(workers=2,memory='6GB',processes=False)\n",
        "client"
      ],
      "execution_count": 2,
      "outputs": [
        {
          "output_type": "stream",
          "text": [
            "/usr/local/lib/python3.6/dist-packages/distributed/bokeh/core.py:57: UserWarning: \n",
            "Failed to start diagnostics server on port 8787. [Errno 99] Cannot assign requested address\n",
            "  warnings.warn('\\n' + msg)\n",
            "/usr/local/lib/python3.6/dist-packages/distributed/deploy/local.py:197: UserWarning: \n",
            "Could not launch service 'bokeh' on port 8787. Got the following message:\n",
            "\n",
            "[Errno 99] Cannot assign requested address\n",
            "  self.scheduler.start(scheduler_address)\n"
          ],
          "name": "stderr"
        },
        {
          "output_type": "execute_result",
          "data": {
            "text/html": [
              "<table style=\"border: 2px solid white;\">\n",
              "<tr>\n",
              "<td style=\"vertical-align: top; border: 0px solid white\">\n",
              "<h3>Client</h3>\n",
              "<ul>\n",
              "  <li><b>Scheduler: </b>inproc://172.28.0.2/145/1\n",
              "</ul>\n",
              "</td>\n",
              "<td style=\"vertical-align: top; border: 0px solid white\">\n",
              "<h3>Cluster</h3>\n",
              "<ul>\n",
              "  <li><b>Workers: </b>2</li>\n",
              "  <li><b>Cores: </b>2</li>\n",
              "  <li><b>Memory: </b>12.00 GB</li>\n",
              "</ul>\n",
              "</td>\n",
              "</tr>\n",
              "</table>"
            ],
            "text/plain": [
              "<Client: scheduler='inproc://172.28.0.2/145/1' processes=2 cores=2>"
            ]
          },
          "metadata": {
            "tags": []
          },
          "execution_count": 2
        }
      ]
    },
    {
      "cell_type": "markdown",
      "metadata": {
        "id": "WxuECb4D8su0",
        "colab_type": "text"
      },
      "source": [
        "# Convert an MS to xarray NetCDF"
      ]
    },
    {
      "cell_type": "code",
      "metadata": {
        "id": "S0B_KBb09ORJ",
        "colab_type": "code",
        "outputId": "8461bcba-40be-4d11-a1df-f9e254013086",
        "colab": {
          "base_uri": "https://localhost:8080/",
          "height": 86
        }
      },
      "source": [
        "from cngi.conversion import ms_to_ncdf\n",
        "\n",
        "start = time.time()\n",
        "ms_to_ncdf('sis14_twhya_calibrated_flagged.ms')\n",
        "elapsed = round(time.time() - start)\n",
        "print(f'Finished conversion in {elapsed} seconds')"
      ],
      "execution_count": 3,
      "outputs": [
        {
          "output_type": "stream",
          "text": [
            "processing ddi 0: chunks=1, size=53717\n",
            "completed ddi 0\n",
            "Complete.\n",
            "Finished conversion in 25 seconds\n"
          ],
          "name": "stdout"
        }
      ]
    },
    {
      "cell_type": "markdown",
      "metadata": {
        "id": "edNHuvlX7OnU",
        "colab_type": "text"
      },
      "source": [
        "# Open an xarray NetCDF based MS\n",
        "\n",
        "(todo) Retrieve a summary of the xarray NetCDF MS file. \n",
        "\n",
        "Then create a new xarray Dataset from it.\n",
        "\n",
        "This Dataset is the common data structure passed around to most other CNGI functions."
      ]
    },
    {
      "cell_type": "code",
      "metadata": {
        "id": "R6KsW1NvgsQs",
        "colab_type": "code",
        "outputId": "515f9a80-028c-4222-ec56-4c2bbc1e7650",
        "colab": {
          "base_uri": "https://localhost:8080/",
          "height": 538
        }
      },
      "source": [
        "from cngi.ms import summarizeFile\n",
        "from cngi.dio import read_ncdf\n",
        "\n",
        "# returns summary as a pandas dataframe\n",
        "#mssummary = summarizeFile('sis14_twhya_calibrated_flagged.pq')\n",
        "#print(mssummary[['ddi','row_count_estimate','col_count','size_GB']])\n",
        "\n",
        "# there is only one ddi in the MS, but pretend there are more and one is chosen\n",
        "ddi = 0 #mssummary.ddi.values[0]\n",
        "\n",
        "# here we create the dask dataframe for use in other CNGI functions\n",
        "xds = read_ncdf('sis14_twhya_calibrated_flagged.ncdf',ddi=ddi)\n",
        "\n",
        "# examine the start of the dataframe \n",
        "# note that the column selection should be made in to a convenience function\n",
        "#cols = [col for col in ddf.columns.values if col not in list(ddf.columns.values[ddf.columns.str.match('(FLAG\\d)|(R|IDATA\\d)')])]\n",
        "#ddf[cols].head()\n",
        "xds"
      ],
      "execution_count": 4,
      "outputs": [
        {
          "output_type": "execute_result",
          "data": {
            "text/plain": [
              "<xarray.Dataset>\n",
              "Dimensions:         (chans: 384, pols: 2, rows: 80563, uvw: 3)\n",
              "Coordinates:\n",
              "  * pols            (pols) int32 0 1\n",
              "  * chans           (chans) int32 0 1 2 3 4 5 6 ... 377 378 379 380 381 382 383\n",
              "  * uvw             (uvw) int32 0 1 2\n",
              "  * rows            (rows) int64 0 1 2 3 4 5 ... 80558 80559 80560 80561 80562\n",
              "Data variables:\n",
              "    ANTENNA1        (rows) int32 dask.array<chunksize=(53717,), meta=np.ndarray>\n",
              "    ANTENNA2        (rows) int32 dask.array<chunksize=(53717,), meta=np.ndarray>\n",
              "    ARRAY_ID        (rows) int32 dask.array<chunksize=(53717,), meta=np.ndarray>\n",
              "    DATA_DESC_ID    (rows) int32 dask.array<chunksize=(53717,), meta=np.ndarray>\n",
              "    EXPOSURE        (rows) float64 dask.array<chunksize=(53717,), meta=np.ndarray>\n",
              "    FEED1           (rows) int32 dask.array<chunksize=(53717,), meta=np.ndarray>\n",
              "    FEED2           (rows) int32 dask.array<chunksize=(53717,), meta=np.ndarray>\n",
              "    FIELD_ID        (rows) int32 dask.array<chunksize=(53717,), meta=np.ndarray>\n",
              "    FLAG_ROW        (rows) bool dask.array<chunksize=(53717,), meta=np.ndarray>\n",
              "    INTERVAL        (rows) float64 dask.array<chunksize=(53717,), meta=np.ndarray>\n",
              "    OBSERVATION_ID  (rows) int32 dask.array<chunksize=(53717,), meta=np.ndarray>\n",
              "    PROCESSOR_ID    (rows) int32 dask.array<chunksize=(53717,), meta=np.ndarray>\n",
              "    SCAN_NUMBER     (rows) int32 dask.array<chunksize=(53717,), meta=np.ndarray>\n",
              "    STATE_ID        (rows) int32 dask.array<chunksize=(53717,), meta=np.ndarray>\n",
              "    TIME            (rows) float64 dask.array<chunksize=(53717,), meta=np.ndarray>\n",
              "    TIME_CENTROID   (rows) float64 dask.array<chunksize=(53717,), meta=np.ndarray>\n",
              "    UVW             (uvw, rows) float64 dask.array<chunksize=(3, 53717), meta=np.ndarray>\n",
              "    WEIGHT          (pols, rows) float64 dask.array<chunksize=(2, 53717), meta=np.ndarray>\n",
              "    SIGMA           (pols, rows) float64 dask.array<chunksize=(2, 53717), meta=np.ndarray>\n",
              "    FLAG            (pols, chans, rows) bool dask.array<chunksize=(2, 384, 53717), meta=np.ndarray>\n",
              "    RDATA           (pols, chans, rows) float64 dask.array<chunksize=(2, 384, 53717), meta=np.ndarray>\n",
              "    IDATA           (pols, chans, rows) float64 dask.array<chunksize=(2, 384, 53717), meta=np.ndarray>"
            ]
          },
          "metadata": {
            "tags": []
          },
          "execution_count": 4
        }
      ]
    },
    {
      "cell_type": "code",
      "metadata": {
        "id": "W054OCjqpnk7",
        "colab_type": "code",
        "colab": {
          "base_uri": "https://localhost:8080/",
          "height": 328
        },
        "outputId": "1d76d703-c30d-4fa6-b5c1-9fb3f2afd79e"
      },
      "source": [
        "import xarray, zarr\n",
        "xds.to_zarr('./measurement_set.zarr')"
      ],
      "execution_count": 26,
      "outputs": [
        {
          "output_type": "error",
          "ename": "ValueError",
          "evalue": "ignored",
          "traceback": [
            "\u001b[0;31m---------------------------------------------------------------------------\u001b[0m",
            "\u001b[0;31mValueError\u001b[0m                                Traceback (most recent call last)",
            "\u001b[0;32m<ipython-input-26-51f15fd4d7ab>\u001b[0m in \u001b[0;36m<module>\u001b[0;34m()\u001b[0m\n\u001b[1;32m      1\u001b[0m \u001b[0;32mimport\u001b[0m \u001b[0mxarray\u001b[0m\u001b[0;34m,\u001b[0m \u001b[0mzarr\u001b[0m\u001b[0;34m\u001b[0m\u001b[0;34m\u001b[0m\u001b[0m\n\u001b[0;32m----> 2\u001b[0;31m \u001b[0mxds\u001b[0m\u001b[0;34m.\u001b[0m\u001b[0mto_zarr\u001b[0m\u001b[0;34m(\u001b[0m\u001b[0;34m'./measurement_set.zarr'\u001b[0m\u001b[0;34m)\u001b[0m\u001b[0;34m\u001b[0m\u001b[0;34m\u001b[0m\u001b[0m\n\u001b[0m",
            "\u001b[0;32m/usr/local/lib/python3.6/dist-packages/xarray/core/dataset.py\u001b[0m in \u001b[0;36mto_zarr\u001b[0;34m(self, store, mode, synchronizer, group, encoding, compute, consolidated, append_dim)\u001b[0m\n\u001b[1;32m   1614\u001b[0m             \u001b[0mcompute\u001b[0m\u001b[0;34m=\u001b[0m\u001b[0mcompute\u001b[0m\u001b[0;34m,\u001b[0m\u001b[0;34m\u001b[0m\u001b[0;34m\u001b[0m\u001b[0m\n\u001b[1;32m   1615\u001b[0m             \u001b[0mconsolidated\u001b[0m\u001b[0;34m=\u001b[0m\u001b[0mconsolidated\u001b[0m\u001b[0;34m,\u001b[0m\u001b[0;34m\u001b[0m\u001b[0;34m\u001b[0m\u001b[0m\n\u001b[0;32m-> 1616\u001b[0;31m             \u001b[0mappend_dim\u001b[0m\u001b[0;34m=\u001b[0m\u001b[0mappend_dim\u001b[0m\u001b[0;34m,\u001b[0m\u001b[0;34m\u001b[0m\u001b[0;34m\u001b[0m\u001b[0m\n\u001b[0m\u001b[1;32m   1617\u001b[0m         )\n\u001b[1;32m   1618\u001b[0m \u001b[0;34m\u001b[0m\u001b[0m\n",
            "\u001b[0;32m/usr/local/lib/python3.6/dist-packages/xarray/backends/api.py\u001b[0m in \u001b[0;36mto_zarr\u001b[0;34m(dataset, store, mode, synchronizer, group, encoding, compute, consolidated, append_dim)\u001b[0m\n\u001b[1;32m   1317\u001b[0m         \u001b[0msynchronizer\u001b[0m\u001b[0;34m=\u001b[0m\u001b[0msynchronizer\u001b[0m\u001b[0;34m,\u001b[0m\u001b[0;34m\u001b[0m\u001b[0;34m\u001b[0m\u001b[0m\n\u001b[1;32m   1318\u001b[0m         \u001b[0mgroup\u001b[0m\u001b[0;34m=\u001b[0m\u001b[0mgroup\u001b[0m\u001b[0;34m,\u001b[0m\u001b[0;34m\u001b[0m\u001b[0;34m\u001b[0m\u001b[0m\n\u001b[0;32m-> 1319\u001b[0;31m         \u001b[0mconsolidate_on_close\u001b[0m\u001b[0;34m=\u001b[0m\u001b[0mconsolidated\u001b[0m\u001b[0;34m,\u001b[0m\u001b[0;34m\u001b[0m\u001b[0;34m\u001b[0m\u001b[0m\n\u001b[0m\u001b[1;32m   1320\u001b[0m     )\n\u001b[1;32m   1321\u001b[0m     \u001b[0mzstore\u001b[0m\u001b[0;34m.\u001b[0m\u001b[0mappend_dim\u001b[0m \u001b[0;34m=\u001b[0m \u001b[0mappend_dim\u001b[0m\u001b[0;34m\u001b[0m\u001b[0;34m\u001b[0m\u001b[0m\n",
            "\u001b[0;32m/usr/local/lib/python3.6/dist-packages/xarray/backends/zarr.py\u001b[0m in \u001b[0;36mopen_group\u001b[0;34m(cls, store, mode, synchronizer, group, consolidated, consolidate_on_close)\u001b[0m\n\u001b[1;32m    258\u001b[0m             \u001b[0mzarr_group\u001b[0m \u001b[0;34m=\u001b[0m \u001b[0mzarr\u001b[0m\u001b[0;34m.\u001b[0m\u001b[0mopen_consolidated\u001b[0m\u001b[0;34m(\u001b[0m\u001b[0mstore\u001b[0m\u001b[0;34m,\u001b[0m \u001b[0;34m**\u001b[0m\u001b[0mopen_kwargs\u001b[0m\u001b[0;34m)\u001b[0m\u001b[0;34m\u001b[0m\u001b[0;34m\u001b[0m\u001b[0m\n\u001b[1;32m    259\u001b[0m         \u001b[0;32melse\u001b[0m\u001b[0;34m:\u001b[0m\u001b[0;34m\u001b[0m\u001b[0;34m\u001b[0m\u001b[0m\n\u001b[0;32m--> 260\u001b[0;31m             \u001b[0mzarr_group\u001b[0m \u001b[0;34m=\u001b[0m \u001b[0mzarr\u001b[0m\u001b[0;34m.\u001b[0m\u001b[0mopen_group\u001b[0m\u001b[0;34m(\u001b[0m\u001b[0mstore\u001b[0m\u001b[0;34m,\u001b[0m \u001b[0;34m**\u001b[0m\u001b[0mopen_kwargs\u001b[0m\u001b[0;34m)\u001b[0m\u001b[0;34m\u001b[0m\u001b[0;34m\u001b[0m\u001b[0m\n\u001b[0m\u001b[1;32m    261\u001b[0m         \u001b[0;32mreturn\u001b[0m \u001b[0mcls\u001b[0m\u001b[0;34m(\u001b[0m\u001b[0mzarr_group\u001b[0m\u001b[0;34m,\u001b[0m \u001b[0mconsolidate_on_close\u001b[0m\u001b[0;34m)\u001b[0m\u001b[0;34m\u001b[0m\u001b[0;34m\u001b[0m\u001b[0m\n\u001b[1;32m    262\u001b[0m \u001b[0;34m\u001b[0m\u001b[0m\n",
            "\u001b[0;32m/usr/local/lib/python3.6/dist-packages/zarr/hierarchy.py\u001b[0m in \u001b[0;36mopen_group\u001b[0;34m(store, mode, cache_attrs, synchronizer, path, chunk_store)\u001b[0m\n\u001b[1;32m   1129\u001b[0m             \u001b[0merr_contains_array\u001b[0m\u001b[0;34m(\u001b[0m\u001b[0mpath\u001b[0m\u001b[0;34m)\u001b[0m\u001b[0;34m\u001b[0m\u001b[0;34m\u001b[0m\u001b[0m\n\u001b[1;32m   1130\u001b[0m         \u001b[0;32melif\u001b[0m \u001b[0mcontains_group\u001b[0m\u001b[0;34m(\u001b[0m\u001b[0mstore\u001b[0m\u001b[0;34m,\u001b[0m \u001b[0mpath\u001b[0m\u001b[0;34m=\u001b[0m\u001b[0mpath\u001b[0m\u001b[0;34m)\u001b[0m\u001b[0;34m:\u001b[0m\u001b[0;34m\u001b[0m\u001b[0;34m\u001b[0m\u001b[0m\n\u001b[0;32m-> 1131\u001b[0;31m             \u001b[0merr_contains_group\u001b[0m\u001b[0;34m(\u001b[0m\u001b[0mpath\u001b[0m\u001b[0;34m)\u001b[0m\u001b[0;34m\u001b[0m\u001b[0;34m\u001b[0m\u001b[0m\n\u001b[0m\u001b[1;32m   1132\u001b[0m         \u001b[0;32melse\u001b[0m\u001b[0;34m:\u001b[0m\u001b[0;34m\u001b[0m\u001b[0;34m\u001b[0m\u001b[0m\n\u001b[1;32m   1133\u001b[0m             \u001b[0minit_group\u001b[0m\u001b[0;34m(\u001b[0m\u001b[0mstore\u001b[0m\u001b[0;34m,\u001b[0m \u001b[0mpath\u001b[0m\u001b[0;34m=\u001b[0m\u001b[0mpath\u001b[0m\u001b[0;34m,\u001b[0m \u001b[0mchunk_store\u001b[0m\u001b[0;34m=\u001b[0m\u001b[0mchunk_store\u001b[0m\u001b[0;34m)\u001b[0m\u001b[0;34m\u001b[0m\u001b[0;34m\u001b[0m\u001b[0m\n",
            "\u001b[0;32m/usr/local/lib/python3.6/dist-packages/zarr/errors.py\u001b[0m in \u001b[0;36merr_contains_group\u001b[0;34m(path)\u001b[0m\n\u001b[1;32m     15\u001b[0m \u001b[0;34m\u001b[0m\u001b[0m\n\u001b[1;32m     16\u001b[0m \u001b[0;32mdef\u001b[0m \u001b[0merr_contains_group\u001b[0m\u001b[0;34m(\u001b[0m\u001b[0mpath\u001b[0m\u001b[0;34m)\u001b[0m\u001b[0;34m:\u001b[0m\u001b[0;34m\u001b[0m\u001b[0;34m\u001b[0m\u001b[0m\n\u001b[0;32m---> 17\u001b[0;31m     \u001b[0;32mraise\u001b[0m \u001b[0mValueError\u001b[0m\u001b[0;34m(\u001b[0m\u001b[0;34m'path %r contains a group'\u001b[0m \u001b[0;34m%\u001b[0m \u001b[0mpath\u001b[0m\u001b[0;34m)\u001b[0m\u001b[0;34m\u001b[0m\u001b[0;34m\u001b[0m\u001b[0m\n\u001b[0m\u001b[1;32m     18\u001b[0m \u001b[0;34m\u001b[0m\u001b[0m\n\u001b[1;32m     19\u001b[0m \u001b[0;34m\u001b[0m\u001b[0m\n",
            "\u001b[0;31mValueError\u001b[0m: path '' contains a group"
          ]
        }
      ]
    },
    {
      "cell_type": "code",
      "metadata": {
        "id": "xfBrwfZZp0y5",
        "colab_type": "code",
        "colab": {}
      },
      "source": [
        "xds = xarray.open_zarr('./measurement_set.zarr')"
      ],
      "execution_count": 0,
      "outputs": []
    },
    {
      "cell_type": "markdown",
      "metadata": {
        "id": "qAz2L3G2CNpr",
        "colab_type": "text"
      },
      "source": [
        "Perform a sequence of calculations defined by the original [dask demo notebook](https://colab.research.google.com/github/ryanraba/casa6/blob/master/casa7experiments.ipynb)\n",
        "1. apply flags (sets flagged data cells to nan)\n",
        "2. average magnitude of cross products\n",
        "3. subtract mean magnitude of each baseline from visibilities\n",
        "4. filter out baselines with outlier mean noise\n",
        "5. take the mean accross channels to get a continuum\n",
        "6. plot the UV space\n"
      ]
    },
    {
      "cell_type": "code",
      "metadata": {
        "id": "27t-JCgP_syM",
        "colab_type": "code",
        "colab": {}
      },
      "source": [
        "original_real = xds.RDATA\n",
        "original_imag = xds.IDATA"
      ],
      "execution_count": 0,
      "outputs": []
    },
    {
      "cell_type": "code",
      "metadata": {
        "id": "JZ68ulJfCpXx",
        "colab_type": "code",
        "colab": {}
      },
      "source": [
        "# 1. apply flags (sets flagged data cells to nan)\n",
        "xds['RDATA'] = xds.RDATA.where(xds.FLAG.isin([True]), drop=False)\n",
        "xds['IDATA'] = xds.IDATA.where(xds.FLAG.isin([True]), drop=False)"
      ],
      "execution_count": 0,
      "outputs": []
    },
    {
      "cell_type": "code",
      "metadata": {
        "id": "ZFUnCgV2RZnC",
        "colab_type": "code",
        "colab": {}
      },
      "source": [
        "# 2. calculate mean values for each component of the complex visibilities\n",
        "real_mean = xds.RDATA.mean(dim='chans', skipna=True)\n",
        "imag_mean = xds.IDATA.mean(dim='chans', skipna=True)"
      ],
      "execution_count": 0,
      "outputs": []
    },
    {
      "cell_type": "markdown",
      "metadata": {
        "id": "nuZQ_GRer9qS",
        "colab_type": "text"
      },
      "source": [
        "Unfortunately, xarray hasn't implemented groupby operations with multiple arguments along the same axis - see this [stackoverflow post](https://stackoverflow.com/questions/37008103/python-xarray-grouping-by-multiple-parameters)."
      ]
    },
    {
      "cell_type": "code",
      "metadata": {
        "id": "rSmDYBLur3bq",
        "colab_type": "code",
        "colab": {
          "base_uri": "https://localhost:8080/",
          "height": 34
        },
        "outputId": "6386cd86-66e5-41e8-d4dd-6bc336b05c3f"
      },
      "source": [
        "antennas = xds.groupby('ANTENNA1')\n",
        "antennas.groups.keys()"
      ],
      "execution_count": 54,
      "outputs": [
        {
          "output_type": "execute_result",
          "data": {
            "text/plain": [
              "dict_keys([1, 2, 3, 4, 5, 6, 7, 9, 11, 12, 14, 15, 16, 17, 18, 19, 20, 21, 22, 24])"
            ]
          },
          "metadata": {
            "tags": []
          },
          "execution_count": 54
        }
      ]
    },
    {
      "cell_type": "code",
      "metadata": {
        "id": "V6YJQbx1r6oe",
        "colab_type": "code",
        "colab": {
          "base_uri": "https://localhost:8080/",
          "height": 310
        },
        "outputId": "bcd07c46-f4b0-49fd-e081-a0f1a82d6de6"
      },
      "source": [
        "baselines = xds.groupby(['ANTENNA1', 'ANTENNA2'])"
      ],
      "execution_count": 37,
      "outputs": [
        {
          "output_type": "error",
          "ename": "TypeError",
          "evalue": "ignored",
          "traceback": [
            "\u001b[0;31m---------------------------------------------------------------------------\u001b[0m",
            "\u001b[0;31mTypeError\u001b[0m                                 Traceback (most recent call last)",
            "\u001b[0;32m<ipython-input-37-59f8117975fe>\u001b[0m in \u001b[0;36m<module>\u001b[0;34m()\u001b[0m\n\u001b[0;32m----> 1\u001b[0;31m \u001b[0mbaselines\u001b[0m \u001b[0;34m=\u001b[0m \u001b[0mxds\u001b[0m\u001b[0;34m.\u001b[0m\u001b[0mgroupby\u001b[0m\u001b[0;34m(\u001b[0m\u001b[0;34m[\u001b[0m\u001b[0;34m'ANTENNA1'\u001b[0m\u001b[0;34m,\u001b[0m \u001b[0;34m'ANTENNA2'\u001b[0m\u001b[0;34m]\u001b[0m\u001b[0;34m)\u001b[0m\u001b[0;34m\u001b[0m\u001b[0;34m\u001b[0m\u001b[0m\n\u001b[0m",
            "\u001b[0;32m/usr/local/lib/python3.6/dist-packages/xarray/core/common.py\u001b[0m in \u001b[0;36mgroupby\u001b[0;34m(self, group, squeeze, restore_coord_dims)\u001b[0m\n\u001b[1;32m    655\u001b[0m         \"\"\"\n\u001b[1;32m    656\u001b[0m         return self._groupby_cls(\n\u001b[0;32m--> 657\u001b[0;31m             \u001b[0mself\u001b[0m\u001b[0;34m,\u001b[0m \u001b[0mgroup\u001b[0m\u001b[0;34m,\u001b[0m \u001b[0msqueeze\u001b[0m\u001b[0;34m=\u001b[0m\u001b[0msqueeze\u001b[0m\u001b[0;34m,\u001b[0m \u001b[0mrestore_coord_dims\u001b[0m\u001b[0;34m=\u001b[0m\u001b[0mrestore_coord_dims\u001b[0m\u001b[0;34m\u001b[0m\u001b[0;34m\u001b[0m\u001b[0m\n\u001b[0m\u001b[1;32m    658\u001b[0m         )\n\u001b[1;32m    659\u001b[0m \u001b[0;34m\u001b[0m\u001b[0m\n",
            "\u001b[0;32m/usr/local/lib/python3.6/dist-packages/xarray/core/groupby.py\u001b[0m in \u001b[0;36m__init__\u001b[0;34m(self, obj, group, squeeze, grouper, bins, restore_coord_dims, cut_kwargs)\u001b[0m\n\u001b[1;32m    294\u001b[0m             \u001b[0;32mif\u001b[0m \u001b[0;32mnot\u001b[0m \u001b[0mhashable\u001b[0m\u001b[0;34m(\u001b[0m\u001b[0mgroup\u001b[0m\u001b[0;34m)\u001b[0m\u001b[0;34m:\u001b[0m\u001b[0;34m\u001b[0m\u001b[0;34m\u001b[0m\u001b[0m\n\u001b[1;32m    295\u001b[0m                 raise TypeError(\n\u001b[0;32m--> 296\u001b[0;31m                     \u001b[0;34m\"`group` must be an xarray.DataArray or the \"\u001b[0m\u001b[0;34m\u001b[0m\u001b[0;34m\u001b[0m\u001b[0m\n\u001b[0m\u001b[1;32m    297\u001b[0m                     \u001b[0;34m\"name of an xarray variable or dimension\"\u001b[0m\u001b[0;34m\u001b[0m\u001b[0;34m\u001b[0m\u001b[0m\n\u001b[1;32m    298\u001b[0m                 )\n",
            "\u001b[0;31mTypeError\u001b[0m: `group` must be an xarray.DataArray or the name of an xarray variable or dimension"
          ]
        }
      ]
    },
    {
      "cell_type": "markdown",
      "metadata": {
        "id": "KG-BK_JsrXH3",
        "colab_type": "text"
      },
      "source": [
        "[MultiIndexing](https://github.com/pydata/xarray/issues/1603) could be a viable option...."
      ]
    },
    {
      "cell_type": "code",
      "metadata": {
        "id": "GWkUduHSmB-F",
        "colab_type": "code",
        "colab": {
          "base_uri": "https://localhost:8080/",
          "height": 225
        },
        "outputId": "a6abe6eb-2f16-412a-faa0-71f2f8c7a50f"
      },
      "source": [
        "print(xds.coords)\n",
        "test = xds.assign_coords({'antenna1':np.asarray(list(xds.groupby('ANTENNA1').groups.keys())),\n",
        "                          'antenna2':np.asarray(list(xds.groupby('ANTENNA2').groups.keys()))})\n",
        "test.coords"
      ],
      "execution_count": 58,
      "outputs": [
        {
          "output_type": "stream",
          "text": [
            "Coordinates:\n",
            "  * chans    (chans) int32 0 1 2 3 4 5 6 7 8 ... 376 377 378 379 380 381 382 383\n",
            "  * pols     (pols) int32 0 1\n",
            "  * rows     (rows) int64 0 1 2 3 4 5 6 ... 80557 80558 80559 80560 80561 80562\n",
            "  * uvw      (uvw) int32 0 1 2\n"
          ],
          "name": "stdout"
        },
        {
          "output_type": "execute_result",
          "data": {
            "text/plain": [
              "Coordinates:\n",
              "  * chans     (chans) int32 0 1 2 3 4 5 6 7 ... 376 377 378 379 380 381 382 383\n",
              "  * pols      (pols) int32 0 1\n",
              "  * rows      (rows) int64 0 1 2 3 4 5 6 ... 80557 80558 80559 80560 80561 80562\n",
              "  * uvw       (uvw) int32 0 1 2\n",
              "  * antenna1  (antenna1) int64 1 2 3 4 5 6 7 9 11 ... 15 16 17 18 19 20 21 22 24\n",
              "  * antenna2  (antenna2) int64 2 3 4 5 6 7 9 11 12 ... 17 18 19 20 21 22 24 25"
            ]
          },
          "metadata": {
            "tags": []
          },
          "execution_count": 58
        }
      ]
    },
    {
      "cell_type": "code",
      "metadata": {
        "id": "5B1Vq2I5ysJB",
        "colab_type": "code",
        "colab": {
          "base_uri": "https://localhost:8080/",
          "height": 590
        },
        "outputId": "e95719b8-a426-47f4-a9e6-f3617a29af1f"
      },
      "source": [
        "test.set_index(baseline=['antenna1', 'antenna2'])"
      ],
      "execution_count": 69,
      "outputs": [
        {
          "output_type": "execute_result",
          "data": {
            "text/plain": [
              "<xarray.Dataset>\n",
              "Dimensions:         (baseline: 20, chans: 384, pols: 2, rows: 80563, uvw: 3)\n",
              "Coordinates:\n",
              "  * chans           (chans) int32 0 1 2 3 4 5 6 ... 377 378 379 380 381 382 383\n",
              "  * pols            (pols) int32 0 1\n",
              "  * rows            (rows) int64 0 1 2 3 4 5 ... 80558 80559 80560 80561 80562\n",
              "  * uvw             (uvw) int32 0 1 2\n",
              "  * baseline        (baseline) MultiIndex\n",
              "  - antenna1        (baseline) int64 1 2 3 4 5 6 7 9 ... 16 17 18 19 20 21 22 24\n",
              "  - antenna2        (baseline) int64 2 3 4 5 6 7 9 11 ... 18 19 20 21 22 24 25\n",
              "Data variables:\n",
              "    ANTENNA1        (rows) int32 dask.array<chunksize=(53717,), meta=np.ndarray>\n",
              "    ANTENNA2        (rows) int32 dask.array<chunksize=(53717,), meta=np.ndarray>\n",
              "    ARRAY_ID        (rows) int32 dask.array<chunksize=(53717,), meta=np.ndarray>\n",
              "    DATA_DESC_ID    (rows) int32 dask.array<chunksize=(53717,), meta=np.ndarray>\n",
              "    EXPOSURE        (rows) float64 dask.array<chunksize=(53717,), meta=np.ndarray>\n",
              "    FEED1           (rows) int32 dask.array<chunksize=(53717,), meta=np.ndarray>\n",
              "    FEED2           (rows) int32 dask.array<chunksize=(53717,), meta=np.ndarray>\n",
              "    FIELD_ID        (rows) int32 dask.array<chunksize=(53717,), meta=np.ndarray>\n",
              "    FLAG            (pols, chans, rows) int8 dask.array<chunksize=(2, 384, 53717), meta=np.ndarray>\n",
              "    FLAG_ROW        (rows) int8 dask.array<chunksize=(53717,), meta=np.ndarray>\n",
              "    IDATA           (pols, chans, rows) float64 dask.array<chunksize=(2, 384, 53717), meta=np.ndarray>\n",
              "    INTERVAL        (rows) float64 dask.array<chunksize=(53717,), meta=np.ndarray>\n",
              "    OBSERVATION_ID  (rows) int32 dask.array<chunksize=(53717,), meta=np.ndarray>\n",
              "    PROCESSOR_ID    (rows) int32 dask.array<chunksize=(53717,), meta=np.ndarray>\n",
              "    RDATA           (pols, chans, rows) float64 dask.array<chunksize=(2, 384, 53717), meta=np.ndarray>\n",
              "    SCAN_NUMBER     (rows) int32 dask.array<chunksize=(53717,), meta=np.ndarray>\n",
              "    SIGMA           (pols, rows) float64 dask.array<chunksize=(2, 53717), meta=np.ndarray>\n",
              "    STATE_ID        (rows) int32 dask.array<chunksize=(53717,), meta=np.ndarray>\n",
              "    TIME            (rows) float64 dask.array<chunksize=(53717,), meta=np.ndarray>\n",
              "    TIME_CENTROID   (rows) float64 dask.array<chunksize=(53717,), meta=np.ndarray>\n",
              "    UVW             (uvw, rows) float64 dask.array<chunksize=(3, 53717), meta=np.ndarray>\n",
              "    WEIGHT          (pols, rows) float64 dask.array<chunksize=(2, 53717), meta=np.ndarray>"
            ]
          },
          "metadata": {
            "tags": []
          },
          "execution_count": 69
        }
      ]
    },
    {
      "cell_type": "code",
      "metadata": {
        "id": "r8-fLi1IzG6_",
        "colab_type": "code",
        "colab": {
          "base_uri": "https://localhost:8080/",
          "height": 310
        },
        "outputId": "72a2139a-fef7-4213-c2cb-7328593834ea"
      },
      "source": [
        "test.groupby(['baseline'])"
      ],
      "execution_count": 67,
      "outputs": [
        {
          "output_type": "error",
          "ename": "TypeError",
          "evalue": "ignored",
          "traceback": [
            "\u001b[0;31m---------------------------------------------------------------------------\u001b[0m",
            "\u001b[0;31mTypeError\u001b[0m                                 Traceback (most recent call last)",
            "\u001b[0;32m<ipython-input-67-857b1e71afd5>\u001b[0m in \u001b[0;36m<module>\u001b[0;34m()\u001b[0m\n\u001b[0;32m----> 1\u001b[0;31m \u001b[0mtest\u001b[0m\u001b[0;34m.\u001b[0m\u001b[0mgroupby\u001b[0m\u001b[0;34m(\u001b[0m\u001b[0;34m[\u001b[0m\u001b[0;34m'baseline'\u001b[0m\u001b[0;34m]\u001b[0m\u001b[0;34m)\u001b[0m\u001b[0;34m\u001b[0m\u001b[0;34m\u001b[0m\u001b[0m\n\u001b[0m",
            "\u001b[0;32m/usr/local/lib/python3.6/dist-packages/xarray/core/common.py\u001b[0m in \u001b[0;36mgroupby\u001b[0;34m(self, group, squeeze, restore_coord_dims)\u001b[0m\n\u001b[1;32m    655\u001b[0m         \"\"\"\n\u001b[1;32m    656\u001b[0m         return self._groupby_cls(\n\u001b[0;32m--> 657\u001b[0;31m             \u001b[0mself\u001b[0m\u001b[0;34m,\u001b[0m \u001b[0mgroup\u001b[0m\u001b[0;34m,\u001b[0m \u001b[0msqueeze\u001b[0m\u001b[0;34m=\u001b[0m\u001b[0msqueeze\u001b[0m\u001b[0;34m,\u001b[0m \u001b[0mrestore_coord_dims\u001b[0m\u001b[0;34m=\u001b[0m\u001b[0mrestore_coord_dims\u001b[0m\u001b[0;34m\u001b[0m\u001b[0;34m\u001b[0m\u001b[0m\n\u001b[0m\u001b[1;32m    658\u001b[0m         )\n\u001b[1;32m    659\u001b[0m \u001b[0;34m\u001b[0m\u001b[0m\n",
            "\u001b[0;32m/usr/local/lib/python3.6/dist-packages/xarray/core/groupby.py\u001b[0m in \u001b[0;36m__init__\u001b[0;34m(self, obj, group, squeeze, grouper, bins, restore_coord_dims, cut_kwargs)\u001b[0m\n\u001b[1;32m    294\u001b[0m             \u001b[0;32mif\u001b[0m \u001b[0;32mnot\u001b[0m \u001b[0mhashable\u001b[0m\u001b[0;34m(\u001b[0m\u001b[0mgroup\u001b[0m\u001b[0;34m)\u001b[0m\u001b[0;34m:\u001b[0m\u001b[0;34m\u001b[0m\u001b[0;34m\u001b[0m\u001b[0m\n\u001b[1;32m    295\u001b[0m                 raise TypeError(\n\u001b[0;32m--> 296\u001b[0;31m                     \u001b[0;34m\"`group` must be an xarray.DataArray or the \"\u001b[0m\u001b[0;34m\u001b[0m\u001b[0;34m\u001b[0m\u001b[0m\n\u001b[0m\u001b[1;32m    297\u001b[0m                     \u001b[0;34m\"name of an xarray variable or dimension\"\u001b[0m\u001b[0;34m\u001b[0m\u001b[0;34m\u001b[0m\u001b[0m\n\u001b[1;32m    298\u001b[0m                 )\n",
            "\u001b[0;31mTypeError\u001b[0m: `group` must be an xarray.DataArray or the name of an xarray variable or dimension"
          ]
        }
      ]
    },
    {
      "cell_type": "markdown",
      "metadata": {
        "id": "t8JdaonV0vUI",
        "colab_type": "text"
      },
      "source": [
        "Okay, so that didn't work. Perhaps it is possible to create a new DataArray that represents \"baseline\" (with same dimensions as other data variables) and group along that."
      ]
    },
    {
      "cell_type": "code",
      "metadata": {
        "id": "ifUj9hT5qeig",
        "colab_type": "code",
        "colab": {
          "base_uri": "https://localhost:8080/",
          "height": 34
        },
        "outputId": "6d6a7c89-d83a-4345-902f-10b69ecd96be"
      },
      "source": [
        "antennas = xds.groupby('ANTENNA1')\n",
        "antennaz = xds.groupby('ANTENNA2')\n",
        "antennas.dims"
      ],
      "execution_count": 75,
      "outputs": [
        {
          "output_type": "execute_result",
          "data": {
            "text/plain": [
              "Frozen(SortedKeysDict({'rows': 7504, 'pols': 2, 'chans': 384, 'uvw': 3}))"
            ]
          },
          "metadata": {
            "tags": []
          },
          "execution_count": 75
        }
      ]
    },
    {
      "cell_type": "code",
      "metadata": {
        "id": "1uQ5Q1tuw1TH",
        "colab_type": "code",
        "colab": {
          "base_uri": "https://localhost:8080/",
          "height": 225
        },
        "outputId": "193eef7a-fc6a-44e8-c548-5439bd64cc1e"
      },
      "source": [
        ""
      ],
      "execution_count": 55,
      "outputs": [
        {
          "output_type": "stream",
          "text": [
            "Coordinates:\n",
            "  * chans    (chans) int32 0 1 2 3 4 5 6 7 8 ... 376 377 378 379 380 381 382 383\n",
            "  * pols     (pols) int32 0 1\n",
            "  * rows     (rows) int64 0 1 2 3 4 5 6 ... 80557 80558 80559 80560 80561 80562\n",
            "  * uvw      (uvw) int32 0 1 2\n"
          ],
          "name": "stdout"
        },
        {
          "output_type": "execute_result",
          "data": {
            "text/plain": [
              "Coordinates:\n",
              "  * chans     (chans) int32 0 1 2 3 4 5 6 7 ... 376 377 378 379 380 381 382 383\n",
              "  * pols      (pols) int32 0 1\n",
              "  * rows      (rows) int64 0 1 2 3 4 5 6 ... 80557 80558 80559 80560 80561 80562\n",
              "  * uvw       (uvw) int32 0 1 2\n",
              "  * antenna1  (antenna1) int64 1 2 3 4 5 6 7 9 11 ... 15 16 17 18 19 20 21 22 24\n",
              "  * antenna2  (antenna2) int64 2 3 4 5 6 7 9 11 12 ... 17 18 19 20 21 22 24 25"
            ]
          },
          "metadata": {
            "tags": []
          },
          "execution_count": 55
        }
      ]
    },
    {
      "cell_type": "code",
      "metadata": {
        "id": "2gZF5OyQszBD",
        "colab_type": "code",
        "colab": {
          "base_uri": "https://localhost:8080/",
          "height": 34
        },
        "outputId": "da9ad63f-ae6b-420f-97f4-c8c99d40fd22"
      },
      "source": [
        "da = xds.RDATA.set_index(exp_time=['experiment', 'time'])"
      ],
      "execution_count": 41,
      "outputs": [
        {
          "output_type": "execute_result",
          "data": {
            "text/plain": [
              "Frozen(SortedKeysDict({'rows': 80563, 'pols': 2, 'chans': 384, 'uvw': 3}))"
            ]
          },
          "metadata": {
            "tags": []
          },
          "execution_count": 41
        }
      ]
    },
    {
      "cell_type": "code",
      "metadata": {
        "id": "GoVCiTOLvloO",
        "colab_type": "code",
        "colab": {}
      },
      "source": [
        "# 3. subtract mean magnitude of each baseline from visibilities\n"
      ],
      "execution_count": 0,
      "outputs": []
    }
  ]
}